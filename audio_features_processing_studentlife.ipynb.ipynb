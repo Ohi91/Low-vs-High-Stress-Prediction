{
 "cells": [
  {
   "cell_type": "code",
   "execution_count": 1,
   "id": "66e182dc",
   "metadata": {},
   "outputs": [],
   "source": [
    "import pymongo\n",
    "import json\n",
    "import pandas as pd\n",
    "from datetime import datetime, timedelta\n",
    "from pandas import DataFrame\n",
    "import matplotlib.pyplot as plt\n",
    "from datetime import time\n",
    "from tqdm import tqdm\n",
    "\n",
    "myclient = pymongo.MongoClient(\"mongodb://localhost:27017/\")\n",
    "mydb = myclient[\"studentlife\"]\n",
    "collection = mydb[\"audio\"]"
   ]
  },
  {
   "cell_type": "code",
   "execution_count": 2,
   "id": "7c3d7aec",
   "metadata": {},
   "outputs": [],
   "source": [
    "df_audio = pd.read_csv('/Users/ohidabinteamin/Documents/Stress Prediction Project Three Datasets/StudentLife/week 01/Audio/audio_data_studentlife.csv')"
   ]
  },
  {
   "cell_type": "code",
   "execution_count": 3,
   "id": "0e027d44",
   "metadata": {},
   "outputs": [
    {
     "data": {
      "text/html": [
       "<div>\n",
       "<style scoped>\n",
       "    .dataframe tbody tr th:only-of-type {\n",
       "        vertical-align: middle;\n",
       "    }\n",
       "\n",
       "    .dataframe tbody tr th {\n",
       "        vertical-align: top;\n",
       "    }\n",
       "\n",
       "    .dataframe thead th {\n",
       "        text-align: right;\n",
       "    }\n",
       "</style>\n",
       "<table border=\"1\" class=\"dataframe\">\n",
       "  <thead>\n",
       "    <tr style=\"text-align: right;\">\n",
       "      <th></th>\n",
       "      <th>Unnamed: 0</th>\n",
       "      <th>timestamp</th>\n",
       "      <th>audio inference</th>\n",
       "      <th>uid</th>\n",
       "      <th>date</th>\n",
       "    </tr>\n",
       "  </thead>\n",
       "  <tbody>\n",
       "    <tr>\n",
       "      <th>0</th>\n",
       "      <td>0</td>\n",
       "      <td>2013-03-27 04:00:00</td>\n",
       "      <td>0</td>\n",
       "      <td>u59</td>\n",
       "      <td>2013-03-27</td>\n",
       "    </tr>\n",
       "    <tr>\n",
       "      <th>1</th>\n",
       "      <td>1</td>\n",
       "      <td>2013-03-27 04:00:01</td>\n",
       "      <td>0</td>\n",
       "      <td>u59</td>\n",
       "      <td>2013-03-27</td>\n",
       "    </tr>\n",
       "    <tr>\n",
       "      <th>2</th>\n",
       "      <td>2</td>\n",
       "      <td>2013-03-27 04:00:02</td>\n",
       "      <td>0</td>\n",
       "      <td>u59</td>\n",
       "      <td>2013-03-27</td>\n",
       "    </tr>\n",
       "  </tbody>\n",
       "</table>\n",
       "</div>"
      ],
      "text/plain": [
       "   Unnamed: 0            timestamp  audio inference  uid        date\n",
       "0           0  2013-03-27 04:00:00                0  u59  2013-03-27\n",
       "1           1  2013-03-27 04:00:01                0  u59  2013-03-27\n",
       "2           2  2013-03-27 04:00:02                0  u59  2013-03-27"
      ]
     },
     "execution_count": 3,
     "metadata": {},
     "output_type": "execute_result"
    }
   ],
   "source": [
    "df_audio.head(3)"
   ]
  },
  {
   "cell_type": "code",
   "execution_count": 4,
   "id": "c9e94a48-090b-47fa-83c0-9caa01f8ca46",
   "metadata": {},
   "outputs": [],
   "source": [
    "del df_audio['Unnamed: 0']"
   ]
  },
  {
   "cell_type": "code",
   "execution_count": 5,
   "id": "a163691b-d80e-4452-be98-4ac6dcf986ae",
   "metadata": {},
   "outputs": [],
   "source": [
    "morning_start_time = time(6, 0, 0)     # 6:00 AM\n",
    "afternoon_start_time = time(12, 0, 0)  # 12:00 PM\n",
    "evening_start_time = time(18, 0, 0)    # 6:00 PM\n",
    "night_start_time = time(0, 0, 0)       # 12:00 AM (midnight)"
   ]
  },
  {
   "cell_type": "code",
   "execution_count": 6,
   "id": "d39c9039-8a10-426b-ac4c-dbda823b8f41",
   "metadata": {},
   "outputs": [],
   "source": [
    "def categorize_time_interval(timestamp):\n",
    "    current_time = timestamp.time()\n",
    "    \n",
    "    if morning_start_time <= current_time < afternoon_start_time:\n",
    "        return \"morning\"\n",
    "    elif afternoon_start_time <= current_time < evening_start_time:\n",
    "        return \"afternoon\"\n",
    "    elif evening_start_time <= current_time <= time(23, 59, 59):\n",
    "        return \"evening\"\n",
    "    else:\n",
    "        return \"night\""
   ]
  },
  {
   "cell_type": "code",
   "execution_count": 7,
   "id": "8501ba80-022f-4f45-bc29-41339cfdf162",
   "metadata": {},
   "outputs": [
    {
     "data": {
      "text/html": [
       "<div>\n",
       "<style scoped>\n",
       "    .dataframe tbody tr th:only-of-type {\n",
       "        vertical-align: middle;\n",
       "    }\n",
       "\n",
       "    .dataframe tbody tr th {\n",
       "        vertical-align: top;\n",
       "    }\n",
       "\n",
       "    .dataframe thead th {\n",
       "        text-align: right;\n",
       "    }\n",
       "</style>\n",
       "<table border=\"1\" class=\"dataframe\">\n",
       "  <thead>\n",
       "    <tr style=\"text-align: right;\">\n",
       "      <th></th>\n",
       "      <th>timestamp</th>\n",
       "      <th>audio inference</th>\n",
       "      <th>uid</th>\n",
       "      <th>date</th>\n",
       "    </tr>\n",
       "  </thead>\n",
       "  <tbody>\n",
       "    <tr>\n",
       "      <th>0</th>\n",
       "      <td>2013-03-27 04:00:00</td>\n",
       "      <td>0</td>\n",
       "      <td>u59</td>\n",
       "      <td>2013-03-27</td>\n",
       "    </tr>\n",
       "    <tr>\n",
       "      <th>1</th>\n",
       "      <td>2013-03-27 04:00:01</td>\n",
       "      <td>0</td>\n",
       "      <td>u59</td>\n",
       "      <td>2013-03-27</td>\n",
       "    </tr>\n",
       "    <tr>\n",
       "      <th>2</th>\n",
       "      <td>2013-03-27 04:00:02</td>\n",
       "      <td>0</td>\n",
       "      <td>u59</td>\n",
       "      <td>2013-03-27</td>\n",
       "    </tr>\n",
       "    <tr>\n",
       "      <th>3</th>\n",
       "      <td>2013-03-27 04:00:03</td>\n",
       "      <td>0</td>\n",
       "      <td>u59</td>\n",
       "      <td>2013-03-27</td>\n",
       "    </tr>\n",
       "    <tr>\n",
       "      <th>4</th>\n",
       "      <td>2013-03-27 04:00:04</td>\n",
       "      <td>0</td>\n",
       "      <td>u59</td>\n",
       "      <td>2013-03-27</td>\n",
       "    </tr>\n",
       "    <tr>\n",
       "      <th>...</th>\n",
       "      <td>...</td>\n",
       "      <td>...</td>\n",
       "      <td>...</td>\n",
       "      <td>...</td>\n",
       "    </tr>\n",
       "    <tr>\n",
       "      <th>93690396</th>\n",
       "      <td>2013-05-30 19:59:47</td>\n",
       "      <td>0</td>\n",
       "      <td>u54</td>\n",
       "      <td>2013-05-30</td>\n",
       "    </tr>\n",
       "    <tr>\n",
       "      <th>93690397</th>\n",
       "      <td>2013-05-30 19:59:48</td>\n",
       "      <td>0</td>\n",
       "      <td>u54</td>\n",
       "      <td>2013-05-30</td>\n",
       "    </tr>\n",
       "    <tr>\n",
       "      <th>93690398</th>\n",
       "      <td>2013-05-30 19:59:49</td>\n",
       "      <td>0</td>\n",
       "      <td>u54</td>\n",
       "      <td>2013-05-30</td>\n",
       "    </tr>\n",
       "    <tr>\n",
       "      <th>93690399</th>\n",
       "      <td>2013-05-30 19:59:50</td>\n",
       "      <td>0</td>\n",
       "      <td>u54</td>\n",
       "      <td>2013-05-30</td>\n",
       "    </tr>\n",
       "    <tr>\n",
       "      <th>93690400</th>\n",
       "      <td>2013-05-30 19:59:51</td>\n",
       "      <td>0</td>\n",
       "      <td>u54</td>\n",
       "      <td>2013-05-30</td>\n",
       "    </tr>\n",
       "  </tbody>\n",
       "</table>\n",
       "<p>93690401 rows × 4 columns</p>\n",
       "</div>"
      ],
      "text/plain": [
       "                    timestamp  audio inference  uid        date\n",
       "0         2013-03-27 04:00:00                0  u59  2013-03-27\n",
       "1         2013-03-27 04:00:01                0  u59  2013-03-27\n",
       "2         2013-03-27 04:00:02                0  u59  2013-03-27\n",
       "3         2013-03-27 04:00:03                0  u59  2013-03-27\n",
       "4         2013-03-27 04:00:04                0  u59  2013-03-27\n",
       "...                       ...              ...  ...         ...\n",
       "93690396  2013-05-30 19:59:47                0  u54  2013-05-30\n",
       "93690397  2013-05-30 19:59:48                0  u54  2013-05-30\n",
       "93690398  2013-05-30 19:59:49                0  u54  2013-05-30\n",
       "93690399  2013-05-30 19:59:50                0  u54  2013-05-30\n",
       "93690400  2013-05-30 19:59:51                0  u54  2013-05-30\n",
       "\n",
       "[93690401 rows x 4 columns]"
      ]
     },
     "execution_count": 7,
     "metadata": {},
     "output_type": "execute_result"
    }
   ],
   "source": [
    "df_audio"
   ]
  },
  {
   "cell_type": "code",
   "execution_count": 8,
   "id": "eb0283ef",
   "metadata": {},
   "outputs": [],
   "source": [
    "df_audio['timestamp'] = pd.to_datetime(df_audio['timestamp'])\n",
    "df_audio['time_interval'] = df_audio['timestamp'].apply(categorize_time_interval)\n",
    "df_audio = df_audio.sort_values(by=['uid', 'timestamp'])"
   ]
  },
  {
   "cell_type": "code",
   "execution_count": 9,
   "id": "af377feb",
   "metadata": {},
   "outputs": [
    {
     "data": {
      "text/html": [
       "<div>\n",
       "<style scoped>\n",
       "    .dataframe tbody tr th:only-of-type {\n",
       "        vertical-align: middle;\n",
       "    }\n",
       "\n",
       "    .dataframe tbody tr th {\n",
       "        vertical-align: top;\n",
       "    }\n",
       "\n",
       "    .dataframe thead th {\n",
       "        text-align: right;\n",
       "    }\n",
       "</style>\n",
       "<table border=\"1\" class=\"dataframe\">\n",
       "  <thead>\n",
       "    <tr style=\"text-align: right;\">\n",
       "      <th></th>\n",
       "      <th>timestamp</th>\n",
       "      <th>audio inference</th>\n",
       "      <th>uid</th>\n",
       "      <th>date</th>\n",
       "      <th>time_interval</th>\n",
       "    </tr>\n",
       "  </thead>\n",
       "  <tbody>\n",
       "    <tr>\n",
       "      <th>21603692</th>\n",
       "      <td>2013-03-27 04:02:21</td>\n",
       "      <td>0</td>\n",
       "      <td>u00</td>\n",
       "      <td>2013-03-27</td>\n",
       "      <td>night</td>\n",
       "    </tr>\n",
       "    <tr>\n",
       "      <th>21603693</th>\n",
       "      <td>2013-03-27 04:02:22</td>\n",
       "      <td>0</td>\n",
       "      <td>u00</td>\n",
       "      <td>2013-03-27</td>\n",
       "      <td>night</td>\n",
       "    </tr>\n",
       "    <tr>\n",
       "      <th>21603694</th>\n",
       "      <td>2013-03-27 04:02:23</td>\n",
       "      <td>0</td>\n",
       "      <td>u00</td>\n",
       "      <td>2013-03-27</td>\n",
       "      <td>night</td>\n",
       "    </tr>\n",
       "  </tbody>\n",
       "</table>\n",
       "</div>"
      ],
      "text/plain": [
       "                   timestamp  audio inference  uid        date time_interval\n",
       "21603692 2013-03-27 04:02:21                0  u00  2013-03-27         night\n",
       "21603693 2013-03-27 04:02:22                0  u00  2013-03-27         night\n",
       "21603694 2013-03-27 04:02:23                0  u00  2013-03-27         night"
      ]
     },
     "execution_count": 9,
     "metadata": {},
     "output_type": "execute_result"
    }
   ],
   "source": [
    "df_audio.head(3)"
   ]
  },
  {
   "cell_type": "code",
   "execution_count": 10,
   "id": "6071e11a-cc4b-4bd4-b86e-8f2ccb2efe42",
   "metadata": {},
   "outputs": [
    {
     "data": {
      "text/plain": [
       "audio inference\n",
       "0    50344148\n",
       "1    25595732\n",
       "2    17750521\n",
       "Name: count, dtype: int64"
      ]
     },
     "execution_count": 10,
     "metadata": {},
     "output_type": "execute_result"
    }
   ],
   "source": [
    "df_audio['audio inference'].value_counts()"
   ]
  },
  {
   "cell_type": "code",
   "execution_count": 11,
   "id": "2d1e8243",
   "metadata": {},
   "outputs": [],
   "source": [
    "df_data = DataFrame()"
   ]
  },
  {
   "cell_type": "code",
   "execution_count": 12,
   "id": "091f6cfc",
   "metadata": {},
   "outputs": [],
   "source": [
    "audio_uid = ['u00', 'u01', 'u02', 'u03', 'u04', 'u05', 'u07', 'u08', 'u09', 'u10', 'u12', 'u13', 'u14', 'u15', 'u16',\n",
    "                'u17', 'u18', 'u19', 'u20', 'u22', 'u23', 'u24', 'u25', 'u27', 'u30', 'u31', 'u32', 'u33', 'u34', 'u35',\n",
    "                'u36', 'u39', 'u41', 'u42', 'u43', 'u44', 'u45', 'u46', 'u47', 'u49', 'u50', 'u51', 'u52', 'u53', 'u54',\n",
    "                'u56', 'u57', 'u58', 'u59']"
   ]
  },
  {
   "cell_type": "code",
   "execution_count": 13,
   "id": "97dd0157",
   "metadata": {},
   "outputs": [],
   "source": [
    "def classify_audio(audio_inference):\n",
    "    if audio_inference == 0:\n",
    "        return \"silent\"\n",
    "    elif audio_inference == 1:\n",
    "        return \"voice\"\n",
    "    elif audio_inference == 2:\n",
    "        return \"noise\"\n",
    "    else:\n",
    "        return \"unknown\""
   ]
  },
  {
   "cell_type": "code",
   "execution_count": 14,
   "id": "20858041",
   "metadata": {},
   "outputs": [
    {
     "data": {
      "text/html": [
       "<div>\n",
       "<style scoped>\n",
       "    .dataframe tbody tr th:only-of-type {\n",
       "        vertical-align: middle;\n",
       "    }\n",
       "\n",
       "    .dataframe tbody tr th {\n",
       "        vertical-align: top;\n",
       "    }\n",
       "\n",
       "    .dataframe thead th {\n",
       "        text-align: right;\n",
       "    }\n",
       "</style>\n",
       "<table border=\"1\" class=\"dataframe\">\n",
       "  <thead>\n",
       "    <tr style=\"text-align: right;\">\n",
       "      <th></th>\n",
       "      <th>timestamp</th>\n",
       "      <th>uid</th>\n",
       "      <th>date</th>\n",
       "      <th>time_interval</th>\n",
       "      <th>audio</th>\n",
       "    </tr>\n",
       "  </thead>\n",
       "  <tbody>\n",
       "    <tr>\n",
       "      <th>21603692</th>\n",
       "      <td>2013-03-27 04:02:21</td>\n",
       "      <td>u00</td>\n",
       "      <td>2013-03-27</td>\n",
       "      <td>night</td>\n",
       "      <td>silent</td>\n",
       "    </tr>\n",
       "    <tr>\n",
       "      <th>21603693</th>\n",
       "      <td>2013-03-27 04:02:22</td>\n",
       "      <td>u00</td>\n",
       "      <td>2013-03-27</td>\n",
       "      <td>night</td>\n",
       "      <td>silent</td>\n",
       "    </tr>\n",
       "    <tr>\n",
       "      <th>21603694</th>\n",
       "      <td>2013-03-27 04:02:23</td>\n",
       "      <td>u00</td>\n",
       "      <td>2013-03-27</td>\n",
       "      <td>night</td>\n",
       "      <td>silent</td>\n",
       "    </tr>\n",
       "  </tbody>\n",
       "</table>\n",
       "</div>"
      ],
      "text/plain": [
       "                   timestamp  uid        date time_interval   audio\n",
       "21603692 2013-03-27 04:02:21  u00  2013-03-27         night  silent\n",
       "21603693 2013-03-27 04:02:22  u00  2013-03-27         night  silent\n",
       "21603694 2013-03-27 04:02:23  u00  2013-03-27         night  silent"
      ]
     },
     "execution_count": 14,
     "metadata": {},
     "output_type": "execute_result"
    }
   ],
   "source": [
    "df_audio['audio'] = df_audio['audio inference'].apply(classify_audio)\n",
    "df_audio = df_audio.drop(\"audio inference\", axis=1)\n",
    "df_audio.head(3)"
   ]
  },
  {
   "cell_type": "code",
   "execution_count": 15,
   "id": "33ae7ad6",
   "metadata": {},
   "outputs": [
    {
     "data": {
      "text/plain": [
       "audio\n",
       "silent    50344148\n",
       "voice     25595732\n",
       "noise     17750521\n",
       "Name: count, dtype: int64"
      ]
     },
     "execution_count": 15,
     "metadata": {},
     "output_type": "execute_result"
    }
   ],
   "source": [
    "df_audio['audio'].value_counts()"
   ]
  },
  {
   "cell_type": "code",
   "execution_count": 16,
   "id": "638640d1",
   "metadata": {},
   "outputs": [
    {
     "data": {
      "text/html": [
       "<div>\n",
       "<style scoped>\n",
       "    .dataframe tbody tr th:only-of-type {\n",
       "        vertical-align: middle;\n",
       "    }\n",
       "\n",
       "    .dataframe tbody tr th {\n",
       "        vertical-align: top;\n",
       "    }\n",
       "\n",
       "    .dataframe thead th {\n",
       "        text-align: right;\n",
       "    }\n",
       "</style>\n",
       "<table border=\"1\" class=\"dataframe\">\n",
       "  <thead>\n",
       "    <tr style=\"text-align: right;\">\n",
       "      <th></th>\n",
       "      <th>timestamp</th>\n",
       "      <th>uid</th>\n",
       "      <th>date</th>\n",
       "      <th>time_interval</th>\n",
       "      <th>audio</th>\n",
       "    </tr>\n",
       "  </thead>\n",
       "  <tbody>\n",
       "    <tr>\n",
       "      <th>21603692</th>\n",
       "      <td>2013-03-27 04:02:21</td>\n",
       "      <td>u00</td>\n",
       "      <td>2013-03-27</td>\n",
       "      <td>night</td>\n",
       "      <td>silent</td>\n",
       "    </tr>\n",
       "    <tr>\n",
       "      <th>21603693</th>\n",
       "      <td>2013-03-27 04:02:22</td>\n",
       "      <td>u00</td>\n",
       "      <td>2013-03-27</td>\n",
       "      <td>night</td>\n",
       "      <td>silent</td>\n",
       "    </tr>\n",
       "    <tr>\n",
       "      <th>21603694</th>\n",
       "      <td>2013-03-27 04:02:23</td>\n",
       "      <td>u00</td>\n",
       "      <td>2013-03-27</td>\n",
       "      <td>night</td>\n",
       "      <td>silent</td>\n",
       "    </tr>\n",
       "    <tr>\n",
       "      <th>21603695</th>\n",
       "      <td>2013-03-27 04:02:24</td>\n",
       "      <td>u00</td>\n",
       "      <td>2013-03-27</td>\n",
       "      <td>night</td>\n",
       "      <td>silent</td>\n",
       "    </tr>\n",
       "    <tr>\n",
       "      <th>21603696</th>\n",
       "      <td>2013-03-27 04:02:25</td>\n",
       "      <td>u00</td>\n",
       "      <td>2013-03-27</td>\n",
       "      <td>night</td>\n",
       "      <td>silent</td>\n",
       "    </tr>\n",
       "  </tbody>\n",
       "</table>\n",
       "</div>"
      ],
      "text/plain": [
       "                   timestamp  uid        date time_interval   audio\n",
       "21603692 2013-03-27 04:02:21  u00  2013-03-27         night  silent\n",
       "21603693 2013-03-27 04:02:22  u00  2013-03-27         night  silent\n",
       "21603694 2013-03-27 04:02:23  u00  2013-03-27         night  silent\n",
       "21603695 2013-03-27 04:02:24  u00  2013-03-27         night  silent\n",
       "21603696 2013-03-27 04:02:25  u00  2013-03-27         night  silent"
      ]
     },
     "execution_count": 16,
     "metadata": {},
     "output_type": "execute_result"
    }
   ],
   "source": [
    "df_audio.head(5)"
   ]
  },
  {
   "cell_type": "code",
   "execution_count": 17,
   "id": "ac050afc",
   "metadata": {},
   "outputs": [],
   "source": [
    "def process_audio_data_for_uid(uid, df_audio):\n",
    "    columns = ['uid', 'date',\n",
    "               'morning_noise_duration', 'morning_silent_duration', 'morning_voice_duration',\n",
    "               'afternoon_noise_duration', 'afternoon_silent_duration', 'afternoon_voice_duration',\n",
    "               'evening_noise_duration', 'evening_silent_duration', 'evening_voice_duration',\n",
    "               'night_noise_duration', 'night_silent_duration', 'night_voice_duration']\n",
    "    result_df = pd.DataFrame(columns=columns)\n",
    "    user_df = df_audio[df_audio['uid'] == uid]\n",
    "\n",
    "    for date in user_df['date'].unique():\n",
    "        date_df = user_df[user_df['date'] == date]\n",
    "\n",
    "        audios = {\n",
    "            'noise_morning': 0, 'silent_morning': 0, 'voice_morning': 0,\n",
    "            'noise_afternoon': 0, 'silent_afternoon': 0, 'voice_afternoon': 0,\n",
    "            'noise_evening': 0, 'silent_evening': 0, 'voice_evening': 0,\n",
    "            'noise_night': 0, 'silent_night': 0, 'voice_night': 0,\n",
    "        }\n",
    "\n",
    "        grouped_by_interval = date_df.groupby('time_interval')\n",
    "\n",
    "        for interval, interval_df in grouped_by_interval:\n",
    "            start_time = None\n",
    "            previous_audio = None\n",
    "\n",
    "            first_record = pd.to_datetime(interval_df.iloc[0]['timestamp'])\n",
    "            init_missing_duration = None\n",
    "\n",
    "            if interval == \"morning\":\n",
    "                manual_start_morning = pd.to_datetime(f\"{date} 06:00:00\")\n",
    "                init_missing_duration = (first_record - manual_start_morning).total_seconds()\n",
    "            elif interval == \"afternoon\":\n",
    "                manual_start_afternoon = pd.to_datetime(f\"{date} 12:00:00\")\n",
    "                init_missing_duration = (first_record - manual_start_afternoon).total_seconds()\n",
    "            elif interval == \"evening\":\n",
    "                manual_start_evening = pd.to_datetime(f\"{date} 18:00:00\")\n",
    "                init_missing_duration = (first_record - manual_start_evening).total_seconds()\n",
    "            elif interval == \"night\":\n",
    "                manual_start_night = pd.to_datetime(f\"{date} 00:00:00\")\n",
    "                init_missing_duration = (first_record - manual_start_night).total_seconds()\n",
    "\n",
    "            duration_hours = init_missing_duration / 3600\n",
    "\n",
    "            for index, row in interval_df.iterrows():\n",
    "                current_audio = row['audio']\n",
    "                current_time = pd.to_datetime(row['timestamp'])\n",
    "\n",
    "                if current_audio in ['noise', 'silent', 'voice']:\n",
    "                    if current_audio == previous_audio:\n",
    "                        if start_time is not None:\n",
    "                            duration_seconds = (current_time - start_time).seconds\n",
    "                            duration_hours = duration_seconds / 3600.0\n",
    "\n",
    "                            update_variable = f\"{previous_audio}_{interval}\"\n",
    "                            audios[update_variable] += duration_hours\n",
    "                        start_time = current_time\n",
    "                    else:\n",
    "                        if start_time is not None:\n",
    "                            duration_seconds = (current_time - start_time).seconds\n",
    "                            duration_hours = duration_seconds / 3600.0\n",
    "                        start_time = current_time\n",
    "\n",
    "                    previous_audio = current_audio\n",
    "\n",
    "            last_record = pd.to_datetime(interval_df.iloc[-1]['timestamp'])\n",
    "            init_missing_duration = None\n",
    "\n",
    "            if interval == \"morning\":\n",
    "                manual_end_morning = pd.to_datetime(f\"{date} 12:00:00\")\n",
    "                init_missing_duration = (manual_end_morning - last_record).total_seconds()\n",
    "            elif interval == \"afternoon\":\n",
    "                manual_end_afternoon = pd.to_datetime(f\"{date} 18:00:00\")\n",
    "                init_missing_duration = (manual_end_afternoon - last_record).total_seconds()\n",
    "            elif interval == \"evening\":\n",
    "                manual_end_evening = pd.to_datetime(f\"{date} 23:59:59\")\n",
    "                init_missing_duration = (manual_end_evening - last_record).total_seconds()\n",
    "            elif interval == \"night\":\n",
    "                manual_end_night = pd.to_datetime(f\"{date} 06:00:00\")\n",
    "                init_missing_duration = (manual_end_night - last_record).total_seconds()\n",
    "\n",
    "            duration_hours = init_missing_duration / 3600\n",
    "\n",
    "        new_row = pd.DataFrame([{\n",
    "            'uid': uid,\n",
    "            'date': date,\n",
    "            'morning_noise_duration': audios['noise_morning'],\n",
    "            'morning_silent_duration': audios['silent_morning'],\n",
    "            'morning_voice_duration': audios['voice_morning'],\n",
    "            'afternoon_noise_duration': audios['noise_afternoon'],\n",
    "            'afternoon_silent_duration': audios['silent_afternoon'],\n",
    "            'afternoon_voice_duration': audios['voice_afternoon'],\n",
    "            'evening_noise_duration': audios['noise_evening'],\n",
    "            'evening_silent_duration': audios['silent_evening'],\n",
    "            'evening_voice_duration': audios['voice_evening'],\n",
    "            'night_noise_duration': audios['noise_night'],\n",
    "            'night_silent_duration': audios['silent_night'],\n",
    "            'night_voice_duration': audios['voice_night'],\n",
    "        }])\n",
    "\n",
    "        result_df = pd.concat([result_df, new_row], ignore_index=True)\n",
    "\n",
    "    return result_df"
   ]
  },
  {
   "cell_type": "code",
   "execution_count": 18,
   "id": "c9179ebd",
   "metadata": {},
   "outputs": [
    {
     "name": "stderr",
     "output_type": "stream",
     "text": [
      "  0%|                                                    | 0/49 [00:00<?, ?it/s]"
     ]
    },
    {
     "name": "stdout",
     "output_type": "stream",
     "text": [
      "u00\n"
     ]
    },
    {
     "name": "stderr",
     "output_type": "stream",
     "text": [
      "/var/folders/k8/745_jm4x0n35zzr1p5chpdfh0000gn/T/ipykernel_81702/3033597953.py:100: FutureWarning: The behavior of DataFrame concatenation with empty or all-NA entries is deprecated. In a future version, this will no longer exclude empty or all-NA columns when determining the result dtypes. To retain the old behavior, exclude the relevant entries before the concat operation.\n",
      "  result_df = pd.concat([result_df, new_row], ignore_index=True)\n",
      "  2%|▉                                           | 1/49 [00:49<39:53, 49.87s/it]"
     ]
    },
    {
     "name": "stdout",
     "output_type": "stream",
     "text": [
      "u01\n"
     ]
    },
    {
     "name": "stderr",
     "output_type": "stream",
     "text": [
      "/var/folders/k8/745_jm4x0n35zzr1p5chpdfh0000gn/T/ipykernel_81702/3033597953.py:100: FutureWarning: The behavior of DataFrame concatenation with empty or all-NA entries is deprecated. In a future version, this will no longer exclude empty or all-NA columns when determining the result dtypes. To retain the old behavior, exclude the relevant entries before the concat operation.\n",
      "  result_df = pd.concat([result_df, new_row], ignore_index=True)\n",
      "  4%|█▊                                          | 2/49 [01:40<39:27, 50.38s/it]"
     ]
    },
    {
     "name": "stdout",
     "output_type": "stream",
     "text": [
      "u02\n"
     ]
    },
    {
     "name": "stderr",
     "output_type": "stream",
     "text": [
      "/var/folders/k8/745_jm4x0n35zzr1p5chpdfh0000gn/T/ipykernel_81702/3033597953.py:100: FutureWarning: The behavior of DataFrame concatenation with empty or all-NA entries is deprecated. In a future version, this will no longer exclude empty or all-NA columns when determining the result dtypes. To retain the old behavior, exclude the relevant entries before the concat operation.\n",
      "  result_df = pd.concat([result_df, new_row], ignore_index=True)\n",
      "  6%|██▋                                         | 3/49 [02:28<37:48, 49.32s/it]"
     ]
    },
    {
     "name": "stdout",
     "output_type": "stream",
     "text": [
      "u03\n"
     ]
    },
    {
     "name": "stderr",
     "output_type": "stream",
     "text": [
      "/var/folders/k8/745_jm4x0n35zzr1p5chpdfh0000gn/T/ipykernel_81702/3033597953.py:100: FutureWarning: The behavior of DataFrame concatenation with empty or all-NA entries is deprecated. In a future version, this will no longer exclude empty or all-NA columns when determining the result dtypes. To retain the old behavior, exclude the relevant entries before the concat operation.\n",
      "  result_df = pd.concat([result_df, new_row], ignore_index=True)\n",
      "  8%|███▌                                        | 4/49 [02:55<30:21, 40.47s/it]"
     ]
    },
    {
     "name": "stdout",
     "output_type": "stream",
     "text": [
      "u04\n"
     ]
    },
    {
     "name": "stderr",
     "output_type": "stream",
     "text": [
      "/var/folders/k8/745_jm4x0n35zzr1p5chpdfh0000gn/T/ipykernel_81702/3033597953.py:100: FutureWarning: The behavior of DataFrame concatenation with empty or all-NA entries is deprecated. In a future version, this will no longer exclude empty or all-NA columns when determining the result dtypes. To retain the old behavior, exclude the relevant entries before the concat operation.\n",
      "  result_df = pd.concat([result_df, new_row], ignore_index=True)\n",
      " 10%|████▍                                       | 5/49 [03:43<31:41, 43.22s/it]"
     ]
    },
    {
     "name": "stdout",
     "output_type": "stream",
     "text": [
      "u05\n"
     ]
    },
    {
     "name": "stderr",
     "output_type": "stream",
     "text": [
      "/var/folders/k8/745_jm4x0n35zzr1p5chpdfh0000gn/T/ipykernel_81702/3033597953.py:100: FutureWarning: The behavior of DataFrame concatenation with empty or all-NA entries is deprecated. In a future version, this will no longer exclude empty or all-NA columns when determining the result dtypes. To retain the old behavior, exclude the relevant entries before the concat operation.\n",
      "  result_df = pd.concat([result_df, new_row], ignore_index=True)\n",
      " 12%|█████▍                                      | 6/49 [04:25<30:42, 42.85s/it]"
     ]
    },
    {
     "name": "stdout",
     "output_type": "stream",
     "text": [
      "u07\n"
     ]
    },
    {
     "name": "stderr",
     "output_type": "stream",
     "text": [
      "/var/folders/k8/745_jm4x0n35zzr1p5chpdfh0000gn/T/ipykernel_81702/3033597953.py:100: FutureWarning: The behavior of DataFrame concatenation with empty or all-NA entries is deprecated. In a future version, this will no longer exclude empty or all-NA columns when determining the result dtypes. To retain the old behavior, exclude the relevant entries before the concat operation.\n",
      "  result_df = pd.concat([result_df, new_row], ignore_index=True)\n",
      " 14%|██████▎                                     | 7/49 [04:59<27:56, 39.93s/it]"
     ]
    },
    {
     "name": "stdout",
     "output_type": "stream",
     "text": [
      "u08\n"
     ]
    },
    {
     "name": "stderr",
     "output_type": "stream",
     "text": [
      "/var/folders/k8/745_jm4x0n35zzr1p5chpdfh0000gn/T/ipykernel_81702/3033597953.py:100: FutureWarning: The behavior of DataFrame concatenation with empty or all-NA entries is deprecated. In a future version, this will no longer exclude empty or all-NA columns when determining the result dtypes. To retain the old behavior, exclude the relevant entries before the concat operation.\n",
      "  result_df = pd.concat([result_df, new_row], ignore_index=True)\n",
      " 16%|███████▏                                    | 8/49 [05:50<29:40, 43.42s/it]"
     ]
    },
    {
     "name": "stdout",
     "output_type": "stream",
     "text": [
      "u09\n"
     ]
    },
    {
     "name": "stderr",
     "output_type": "stream",
     "text": [
      "/var/folders/k8/745_jm4x0n35zzr1p5chpdfh0000gn/T/ipykernel_81702/3033597953.py:100: FutureWarning: The behavior of DataFrame concatenation with empty or all-NA entries is deprecated. In a future version, this will no longer exclude empty or all-NA columns when determining the result dtypes. To retain the old behavior, exclude the relevant entries before the concat operation.\n",
      "  result_df = pd.concat([result_df, new_row], ignore_index=True)\n",
      " 18%|████████                                    | 9/49 [06:44<31:08, 46.71s/it]"
     ]
    },
    {
     "name": "stdout",
     "output_type": "stream",
     "text": [
      "u10\n"
     ]
    },
    {
     "name": "stderr",
     "output_type": "stream",
     "text": [
      "/var/folders/k8/745_jm4x0n35zzr1p5chpdfh0000gn/T/ipykernel_81702/3033597953.py:100: FutureWarning: The behavior of DataFrame concatenation with empty or all-NA entries is deprecated. In a future version, this will no longer exclude empty or all-NA columns when determining the result dtypes. To retain the old behavior, exclude the relevant entries before the concat operation.\n",
      "  result_df = pd.concat([result_df, new_row], ignore_index=True)\n",
      " 20%|████████▊                                  | 10/49 [07:32<30:37, 47.12s/it]"
     ]
    },
    {
     "name": "stdout",
     "output_type": "stream",
     "text": [
      "u12\n"
     ]
    },
    {
     "name": "stderr",
     "output_type": "stream",
     "text": [
      "/var/folders/k8/745_jm4x0n35zzr1p5chpdfh0000gn/T/ipykernel_81702/3033597953.py:100: FutureWarning: The behavior of DataFrame concatenation with empty or all-NA entries is deprecated. In a future version, this will no longer exclude empty or all-NA columns when determining the result dtypes. To retain the old behavior, exclude the relevant entries before the concat operation.\n",
      "  result_df = pd.concat([result_df, new_row], ignore_index=True)\n",
      " 22%|█████████▋                                 | 11/49 [08:21<30:17, 47.82s/it]"
     ]
    },
    {
     "name": "stdout",
     "output_type": "stream",
     "text": [
      "u13\n"
     ]
    },
    {
     "name": "stderr",
     "output_type": "stream",
     "text": [
      "/var/folders/k8/745_jm4x0n35zzr1p5chpdfh0000gn/T/ipykernel_81702/3033597953.py:100: FutureWarning: The behavior of DataFrame concatenation with empty or all-NA entries is deprecated. In a future version, this will no longer exclude empty or all-NA columns when determining the result dtypes. To retain the old behavior, exclude the relevant entries before the concat operation.\n",
      "  result_df = pd.concat([result_df, new_row], ignore_index=True)\n",
      " 24%|██████████▌                                | 12/49 [08:59<27:28, 44.54s/it]"
     ]
    },
    {
     "name": "stdout",
     "output_type": "stream",
     "text": [
      "u14\n"
     ]
    },
    {
     "name": "stderr",
     "output_type": "stream",
     "text": [
      "/var/folders/k8/745_jm4x0n35zzr1p5chpdfh0000gn/T/ipykernel_81702/3033597953.py:100: FutureWarning: The behavior of DataFrame concatenation with empty or all-NA entries is deprecated. In a future version, this will no longer exclude empty or all-NA columns when determining the result dtypes. To retain the old behavior, exclude the relevant entries before the concat operation.\n",
      "  result_df = pd.concat([result_df, new_row], ignore_index=True)\n",
      " 27%|███████████▍                               | 13/49 [09:49<27:49, 46.38s/it]"
     ]
    },
    {
     "name": "stdout",
     "output_type": "stream",
     "text": [
      "u15\n"
     ]
    },
    {
     "name": "stderr",
     "output_type": "stream",
     "text": [
      "/var/folders/k8/745_jm4x0n35zzr1p5chpdfh0000gn/T/ipykernel_81702/3033597953.py:100: FutureWarning: The behavior of DataFrame concatenation with empty or all-NA entries is deprecated. In a future version, this will no longer exclude empty or all-NA columns when determining the result dtypes. To retain the old behavior, exclude the relevant entries before the concat operation.\n",
      "  result_df = pd.concat([result_df, new_row], ignore_index=True)\n",
      " 29%|████████████▎                              | 14/49 [10:16<23:36, 40.46s/it]"
     ]
    },
    {
     "name": "stdout",
     "output_type": "stream",
     "text": [
      "u16\n"
     ]
    },
    {
     "name": "stderr",
     "output_type": "stream",
     "text": [
      "/var/folders/k8/745_jm4x0n35zzr1p5chpdfh0000gn/T/ipykernel_81702/3033597953.py:100: FutureWarning: The behavior of DataFrame concatenation with empty or all-NA entries is deprecated. In a future version, this will no longer exclude empty or all-NA columns when determining the result dtypes. To retain the old behavior, exclude the relevant entries before the concat operation.\n",
      "  result_df = pd.concat([result_df, new_row], ignore_index=True)\n",
      " 31%|█████████████▏                             | 15/49 [10:59<23:22, 41.24s/it]"
     ]
    },
    {
     "name": "stdout",
     "output_type": "stream",
     "text": [
      "u17\n"
     ]
    },
    {
     "name": "stderr",
     "output_type": "stream",
     "text": [
      "/var/folders/k8/745_jm4x0n35zzr1p5chpdfh0000gn/T/ipykernel_81702/3033597953.py:100: FutureWarning: The behavior of DataFrame concatenation with empty or all-NA entries is deprecated. In a future version, this will no longer exclude empty or all-NA columns when determining the result dtypes. To retain the old behavior, exclude the relevant entries before the concat operation.\n",
      "  result_df = pd.concat([result_df, new_row], ignore_index=True)\n",
      " 33%|██████████████                             | 16/49 [11:44<23:14, 42.26s/it]"
     ]
    },
    {
     "name": "stdout",
     "output_type": "stream",
     "text": [
      "u18\n"
     ]
    },
    {
     "name": "stderr",
     "output_type": "stream",
     "text": [
      "/var/folders/k8/745_jm4x0n35zzr1p5chpdfh0000gn/T/ipykernel_81702/3033597953.py:100: FutureWarning: The behavior of DataFrame concatenation with empty or all-NA entries is deprecated. In a future version, this will no longer exclude empty or all-NA columns when determining the result dtypes. To retain the old behavior, exclude the relevant entries before the concat operation.\n",
      "  result_df = pd.concat([result_df, new_row], ignore_index=True)\n",
      " 35%|██████████████▉                            | 17/49 [12:21<21:45, 40.80s/it]"
     ]
    },
    {
     "name": "stdout",
     "output_type": "stream",
     "text": [
      "u19\n"
     ]
    },
    {
     "name": "stderr",
     "output_type": "stream",
     "text": [
      "/var/folders/k8/745_jm4x0n35zzr1p5chpdfh0000gn/T/ipykernel_81702/3033597953.py:100: FutureWarning: The behavior of DataFrame concatenation with empty or all-NA entries is deprecated. In a future version, this will no longer exclude empty or all-NA columns when determining the result dtypes. To retain the old behavior, exclude the relevant entries before the concat operation.\n",
      "  result_df = pd.concat([result_df, new_row], ignore_index=True)\n",
      " 37%|███████████████▊                           | 18/49 [13:08<22:03, 42.69s/it]"
     ]
    },
    {
     "name": "stdout",
     "output_type": "stream",
     "text": [
      "u20\n"
     ]
    },
    {
     "name": "stderr",
     "output_type": "stream",
     "text": [
      "/var/folders/k8/745_jm4x0n35zzr1p5chpdfh0000gn/T/ipykernel_81702/3033597953.py:100: FutureWarning: The behavior of DataFrame concatenation with empty or all-NA entries is deprecated. In a future version, this will no longer exclude empty or all-NA columns when determining the result dtypes. To retain the old behavior, exclude the relevant entries before the concat operation.\n",
      "  result_df = pd.concat([result_df, new_row], ignore_index=True)\n",
      " 39%|████████████████▋                          | 19/49 [13:37<19:14, 38.48s/it]"
     ]
    },
    {
     "name": "stdout",
     "output_type": "stream",
     "text": [
      "u22\n"
     ]
    },
    {
     "name": "stderr",
     "output_type": "stream",
     "text": [
      "/var/folders/k8/745_jm4x0n35zzr1p5chpdfh0000gn/T/ipykernel_81702/3033597953.py:100: FutureWarning: The behavior of DataFrame concatenation with empty or all-NA entries is deprecated. In a future version, this will no longer exclude empty or all-NA columns when determining the result dtypes. To retain the old behavior, exclude the relevant entries before the concat operation.\n",
      "  result_df = pd.concat([result_df, new_row], ignore_index=True)\n",
      " 41%|█████████████████▌                         | 20/49 [14:11<18:00, 37.26s/it]"
     ]
    },
    {
     "name": "stdout",
     "output_type": "stream",
     "text": [
      "u23\n"
     ]
    },
    {
     "name": "stderr",
     "output_type": "stream",
     "text": [
      "/var/folders/k8/745_jm4x0n35zzr1p5chpdfh0000gn/T/ipykernel_81702/3033597953.py:100: FutureWarning: The behavior of DataFrame concatenation with empty or all-NA entries is deprecated. In a future version, this will no longer exclude empty or all-NA columns when determining the result dtypes. To retain the old behavior, exclude the relevant entries before the concat operation.\n",
      "  result_df = pd.concat([result_df, new_row], ignore_index=True)\n",
      " 43%|██████████████████▍                        | 21/49 [14:47<17:12, 36.86s/it]"
     ]
    },
    {
     "name": "stdout",
     "output_type": "stream",
     "text": [
      "u24\n"
     ]
    },
    {
     "name": "stderr",
     "output_type": "stream",
     "text": [
      "/var/folders/k8/745_jm4x0n35zzr1p5chpdfh0000gn/T/ipykernel_81702/3033597953.py:100: FutureWarning: The behavior of DataFrame concatenation with empty or all-NA entries is deprecated. In a future version, this will no longer exclude empty or all-NA columns when determining the result dtypes. To retain the old behavior, exclude the relevant entries before the concat operation.\n",
      "  result_df = pd.concat([result_df, new_row], ignore_index=True)\n",
      " 45%|███████████████████▎                       | 22/49 [15:13<15:07, 33.63s/it]"
     ]
    },
    {
     "name": "stdout",
     "output_type": "stream",
     "text": [
      "u25\n"
     ]
    },
    {
     "name": "stderr",
     "output_type": "stream",
     "text": [
      "/var/folders/k8/745_jm4x0n35zzr1p5chpdfh0000gn/T/ipykernel_81702/3033597953.py:100: FutureWarning: The behavior of DataFrame concatenation with empty or all-NA entries is deprecated. In a future version, this will no longer exclude empty or all-NA columns when determining the result dtypes. To retain the old behavior, exclude the relevant entries before the concat operation.\n",
      "  result_df = pd.concat([result_df, new_row], ignore_index=True)\n",
      " 47%|████████████████████▏                      | 23/49 [15:43<14:04, 32.50s/it]"
     ]
    },
    {
     "name": "stdout",
     "output_type": "stream",
     "text": [
      "u27\n"
     ]
    },
    {
     "name": "stderr",
     "output_type": "stream",
     "text": [
      "/var/folders/k8/745_jm4x0n35zzr1p5chpdfh0000gn/T/ipykernel_81702/3033597953.py:100: FutureWarning: The behavior of DataFrame concatenation with empty or all-NA entries is deprecated. In a future version, this will no longer exclude empty or all-NA columns when determining the result dtypes. To retain the old behavior, exclude the relevant entries before the concat operation.\n",
      "  result_df = pd.concat([result_df, new_row], ignore_index=True)\n",
      " 49%|█████████████████████                      | 24/49 [16:28<15:04, 36.18s/it]"
     ]
    },
    {
     "name": "stdout",
     "output_type": "stream",
     "text": [
      "u30\n"
     ]
    },
    {
     "name": "stderr",
     "output_type": "stream",
     "text": [
      "/var/folders/k8/745_jm4x0n35zzr1p5chpdfh0000gn/T/ipykernel_81702/3033597953.py:100: FutureWarning: The behavior of DataFrame concatenation with empty or all-NA entries is deprecated. In a future version, this will no longer exclude empty or all-NA columns when determining the result dtypes. To retain the old behavior, exclude the relevant entries before the concat operation.\n",
      "  result_df = pd.concat([result_df, new_row], ignore_index=True)\n",
      " 51%|█████████████████████▉                     | 25/49 [17:26<17:03, 42.65s/it]"
     ]
    },
    {
     "name": "stdout",
     "output_type": "stream",
     "text": [
      "u31\n"
     ]
    },
    {
     "name": "stderr",
     "output_type": "stream",
     "text": [
      "/var/folders/k8/745_jm4x0n35zzr1p5chpdfh0000gn/T/ipykernel_81702/3033597953.py:100: FutureWarning: The behavior of DataFrame concatenation with empty or all-NA entries is deprecated. In a future version, this will no longer exclude empty or all-NA columns when determining the result dtypes. To retain the old behavior, exclude the relevant entries before the concat operation.\n",
      "  result_df = pd.concat([result_df, new_row], ignore_index=True)\n",
      " 53%|██████████████████████▊                    | 26/49 [18:14<17:03, 44.52s/it]"
     ]
    },
    {
     "name": "stdout",
     "output_type": "stream",
     "text": [
      "u32\n"
     ]
    },
    {
     "name": "stderr",
     "output_type": "stream",
     "text": [
      "/var/folders/k8/745_jm4x0n35zzr1p5chpdfh0000gn/T/ipykernel_81702/3033597953.py:100: FutureWarning: The behavior of DataFrame concatenation with empty or all-NA entries is deprecated. In a future version, this will no longer exclude empty or all-NA columns when determining the result dtypes. To retain the old behavior, exclude the relevant entries before the concat operation.\n",
      "  result_df = pd.concat([result_df, new_row], ignore_index=True)\n",
      " 55%|███████████████████████▋                   | 27/49 [19:07<17:09, 46.80s/it]"
     ]
    },
    {
     "name": "stdout",
     "output_type": "stream",
     "text": [
      "u33\n"
     ]
    },
    {
     "name": "stderr",
     "output_type": "stream",
     "text": [
      "/var/folders/k8/745_jm4x0n35zzr1p5chpdfh0000gn/T/ipykernel_81702/3033597953.py:100: FutureWarning: The behavior of DataFrame concatenation with empty or all-NA entries is deprecated. In a future version, this will no longer exclude empty or all-NA columns when determining the result dtypes. To retain the old behavior, exclude the relevant entries before the concat operation.\n",
      "  result_df = pd.concat([result_df, new_row], ignore_index=True)\n",
      " 57%|████████████████████████▌                  | 28/49 [19:45<15:32, 44.40s/it]"
     ]
    },
    {
     "name": "stdout",
     "output_type": "stream",
     "text": [
      "u34\n"
     ]
    },
    {
     "name": "stderr",
     "output_type": "stream",
     "text": [
      "/var/folders/k8/745_jm4x0n35zzr1p5chpdfh0000gn/T/ipykernel_81702/3033597953.py:100: FutureWarning: The behavior of DataFrame concatenation with empty or all-NA entries is deprecated. In a future version, this will no longer exclude empty or all-NA columns when determining the result dtypes. To retain the old behavior, exclude the relevant entries before the concat operation.\n",
      "  result_df = pd.concat([result_df, new_row], ignore_index=True)\n",
      " 59%|█████████████████████████▍                 | 29/49 [20:14<13:16, 39.80s/it]"
     ]
    },
    {
     "name": "stdout",
     "output_type": "stream",
     "text": [
      "u35\n"
     ]
    },
    {
     "name": "stderr",
     "output_type": "stream",
     "text": [
      "/var/folders/k8/745_jm4x0n35zzr1p5chpdfh0000gn/T/ipykernel_81702/3033597953.py:100: FutureWarning: The behavior of DataFrame concatenation with empty or all-NA entries is deprecated. In a future version, this will no longer exclude empty or all-NA columns when determining the result dtypes. To retain the old behavior, exclude the relevant entries before the concat operation.\n",
      "  result_df = pd.concat([result_df, new_row], ignore_index=True)\n",
      " 61%|██████████████████████████▎                | 30/49 [20:57<12:50, 40.55s/it]"
     ]
    },
    {
     "name": "stdout",
     "output_type": "stream",
     "text": [
      "u36\n"
     ]
    },
    {
     "name": "stderr",
     "output_type": "stream",
     "text": [
      "/var/folders/k8/745_jm4x0n35zzr1p5chpdfh0000gn/T/ipykernel_81702/3033597953.py:100: FutureWarning: The behavior of DataFrame concatenation with empty or all-NA entries is deprecated. In a future version, this will no longer exclude empty or all-NA columns when determining the result dtypes. To retain the old behavior, exclude the relevant entries before the concat operation.\n",
      "  result_df = pd.concat([result_df, new_row], ignore_index=True)\n",
      " 63%|███████████████████████████▏               | 31/49 [21:40<12:26, 41.49s/it]"
     ]
    },
    {
     "name": "stdout",
     "output_type": "stream",
     "text": [
      "u39\n"
     ]
    },
    {
     "name": "stderr",
     "output_type": "stream",
     "text": [
      "/var/folders/k8/745_jm4x0n35zzr1p5chpdfh0000gn/T/ipykernel_81702/3033597953.py:100: FutureWarning: The behavior of DataFrame concatenation with empty or all-NA entries is deprecated. In a future version, this will no longer exclude empty or all-NA columns when determining the result dtypes. To retain the old behavior, exclude the relevant entries before the concat operation.\n",
      "  result_df = pd.concat([result_df, new_row], ignore_index=True)\n",
      " 65%|████████████████████████████               | 32/49 [21:53<09:16, 32.75s/it]"
     ]
    },
    {
     "name": "stdout",
     "output_type": "stream",
     "text": [
      "u41\n"
     ]
    },
    {
     "name": "stderr",
     "output_type": "stream",
     "text": [
      "/var/folders/k8/745_jm4x0n35zzr1p5chpdfh0000gn/T/ipykernel_81702/3033597953.py:100: FutureWarning: The behavior of DataFrame concatenation with empty or all-NA entries is deprecated. In a future version, this will no longer exclude empty or all-NA columns when determining the result dtypes. To retain the old behavior, exclude the relevant entries before the concat operation.\n",
      "  result_df = pd.concat([result_df, new_row], ignore_index=True)\n",
      " 67%|████████████████████████████▉              | 33/49 [22:25<08:41, 32.58s/it]"
     ]
    },
    {
     "name": "stdout",
     "output_type": "stream",
     "text": [
      "u42\n"
     ]
    },
    {
     "name": "stderr",
     "output_type": "stream",
     "text": [
      "/var/folders/k8/745_jm4x0n35zzr1p5chpdfh0000gn/T/ipykernel_81702/3033597953.py:100: FutureWarning: The behavior of DataFrame concatenation with empty or all-NA entries is deprecated. In a future version, this will no longer exclude empty or all-NA columns when determining the result dtypes. To retain the old behavior, exclude the relevant entries before the concat operation.\n",
      "  result_df = pd.concat([result_df, new_row], ignore_index=True)\n",
      " 69%|█████████████████████████████▊             | 34/49 [22:56<08:02, 32.14s/it]"
     ]
    },
    {
     "name": "stdout",
     "output_type": "stream",
     "text": [
      "u43\n"
     ]
    },
    {
     "name": "stderr",
     "output_type": "stream",
     "text": [
      "/var/folders/k8/745_jm4x0n35zzr1p5chpdfh0000gn/T/ipykernel_81702/3033597953.py:100: FutureWarning: The behavior of DataFrame concatenation with empty or all-NA entries is deprecated. In a future version, this will no longer exclude empty or all-NA columns when determining the result dtypes. To retain the old behavior, exclude the relevant entries before the concat operation.\n",
      "  result_df = pd.concat([result_df, new_row], ignore_index=True)\n",
      " 71%|██████████████████████████████▋            | 35/49 [23:35<07:58, 34.17s/it]"
     ]
    },
    {
     "name": "stdout",
     "output_type": "stream",
     "text": [
      "u44\n"
     ]
    },
    {
     "name": "stderr",
     "output_type": "stream",
     "text": [
      "/var/folders/k8/745_jm4x0n35zzr1p5chpdfh0000gn/T/ipykernel_81702/3033597953.py:100: FutureWarning: The behavior of DataFrame concatenation with empty or all-NA entries is deprecated. In a future version, this will no longer exclude empty or all-NA columns when determining the result dtypes. To retain the old behavior, exclude the relevant entries before the concat operation.\n",
      "  result_df = pd.concat([result_df, new_row], ignore_index=True)\n",
      " 73%|███████████████████████████████▌           | 36/49 [24:12<07:33, 34.90s/it]"
     ]
    },
    {
     "name": "stdout",
     "output_type": "stream",
     "text": [
      "u45\n"
     ]
    },
    {
     "name": "stderr",
     "output_type": "stream",
     "text": [
      "/var/folders/k8/745_jm4x0n35zzr1p5chpdfh0000gn/T/ipykernel_81702/3033597953.py:100: FutureWarning: The behavior of DataFrame concatenation with empty or all-NA entries is deprecated. In a future version, this will no longer exclude empty or all-NA columns when determining the result dtypes. To retain the old behavior, exclude the relevant entries before the concat operation.\n",
      "  result_df = pd.concat([result_df, new_row], ignore_index=True)\n",
      " 76%|████████████████████████████████▍          | 37/49 [24:41<06:39, 33.30s/it]"
     ]
    },
    {
     "name": "stdout",
     "output_type": "stream",
     "text": [
      "u46\n"
     ]
    },
    {
     "name": "stderr",
     "output_type": "stream",
     "text": [
      "/var/folders/k8/745_jm4x0n35zzr1p5chpdfh0000gn/T/ipykernel_81702/3033597953.py:100: FutureWarning: The behavior of DataFrame concatenation with empty or all-NA entries is deprecated. In a future version, this will no longer exclude empty or all-NA columns when determining the result dtypes. To retain the old behavior, exclude the relevant entries before the concat operation.\n",
      "  result_df = pd.concat([result_df, new_row], ignore_index=True)\n",
      " 78%|█████████████████████████████████▎         | 38/49 [25:29<06:54, 37.72s/it]"
     ]
    },
    {
     "name": "stdout",
     "output_type": "stream",
     "text": [
      "u47\n"
     ]
    },
    {
     "name": "stderr",
     "output_type": "stream",
     "text": [
      "/var/folders/k8/745_jm4x0n35zzr1p5chpdfh0000gn/T/ipykernel_81702/3033597953.py:100: FutureWarning: The behavior of DataFrame concatenation with empty or all-NA entries is deprecated. In a future version, this will no longer exclude empty or all-NA columns when determining the result dtypes. To retain the old behavior, exclude the relevant entries before the concat operation.\n",
      "  result_df = pd.concat([result_df, new_row], ignore_index=True)\n",
      " 80%|██████████████████████████████████▏        | 39/49 [25:55<05:40, 34.09s/it]"
     ]
    },
    {
     "name": "stdout",
     "output_type": "stream",
     "text": [
      "u49\n"
     ]
    },
    {
     "name": "stderr",
     "output_type": "stream",
     "text": [
      "/var/folders/k8/745_jm4x0n35zzr1p5chpdfh0000gn/T/ipykernel_81702/3033597953.py:100: FutureWarning: The behavior of DataFrame concatenation with empty or all-NA entries is deprecated. In a future version, this will no longer exclude empty or all-NA columns when determining the result dtypes. To retain the old behavior, exclude the relevant entries before the concat operation.\n",
      "  result_df = pd.concat([result_df, new_row], ignore_index=True)\n",
      " 82%|███████████████████████████████████        | 40/49 [26:44<05:47, 38.56s/it]"
     ]
    },
    {
     "name": "stdout",
     "output_type": "stream",
     "text": [
      "u50\n"
     ]
    },
    {
     "name": "stderr",
     "output_type": "stream",
     "text": [
      "/var/folders/k8/745_jm4x0n35zzr1p5chpdfh0000gn/T/ipykernel_81702/3033597953.py:100: FutureWarning: The behavior of DataFrame concatenation with empty or all-NA entries is deprecated. In a future version, this will no longer exclude empty or all-NA columns when determining the result dtypes. To retain the old behavior, exclude the relevant entries before the concat operation.\n",
      "  result_df = pd.concat([result_df, new_row], ignore_index=True)\n",
      " 84%|███████████████████████████████████▉       | 41/49 [27:07<04:32, 34.04s/it]"
     ]
    },
    {
     "name": "stdout",
     "output_type": "stream",
     "text": [
      "u51\n"
     ]
    },
    {
     "name": "stderr",
     "output_type": "stream",
     "text": [
      "/var/folders/k8/745_jm4x0n35zzr1p5chpdfh0000gn/T/ipykernel_81702/3033597953.py:100: FutureWarning: The behavior of DataFrame concatenation with empty or all-NA entries is deprecated. In a future version, this will no longer exclude empty or all-NA columns when determining the result dtypes. To retain the old behavior, exclude the relevant entries before the concat operation.\n",
      "  result_df = pd.concat([result_df, new_row], ignore_index=True)\n",
      " 86%|████████████████████████████████████▊      | 42/49 [27:51<04:19, 37.07s/it]"
     ]
    },
    {
     "name": "stdout",
     "output_type": "stream",
     "text": [
      "u52\n"
     ]
    },
    {
     "name": "stderr",
     "output_type": "stream",
     "text": [
      "/var/folders/k8/745_jm4x0n35zzr1p5chpdfh0000gn/T/ipykernel_81702/3033597953.py:100: FutureWarning: The behavior of DataFrame concatenation with empty or all-NA entries is deprecated. In a future version, this will no longer exclude empty or all-NA columns when determining the result dtypes. To retain the old behavior, exclude the relevant entries before the concat operation.\n",
      "  result_df = pd.concat([result_df, new_row], ignore_index=True)\n",
      " 88%|█████████████████████████████████████▋     | 43/49 [28:25<03:36, 36.03s/it]"
     ]
    },
    {
     "name": "stdout",
     "output_type": "stream",
     "text": [
      "u53\n"
     ]
    },
    {
     "name": "stderr",
     "output_type": "stream",
     "text": [
      "/var/folders/k8/745_jm4x0n35zzr1p5chpdfh0000gn/T/ipykernel_81702/3033597953.py:100: FutureWarning: The behavior of DataFrame concatenation with empty or all-NA entries is deprecated. In a future version, this will no longer exclude empty or all-NA columns when determining the result dtypes. To retain the old behavior, exclude the relevant entries before the concat operation.\n",
      "  result_df = pd.concat([result_df, new_row], ignore_index=True)\n",
      " 90%|██████████████████████████████████████▌    | 44/49 [29:09<03:11, 38.39s/it]"
     ]
    },
    {
     "name": "stdout",
     "output_type": "stream",
     "text": [
      "u54\n"
     ]
    },
    {
     "name": "stderr",
     "output_type": "stream",
     "text": [
      "/var/folders/k8/745_jm4x0n35zzr1p5chpdfh0000gn/T/ipykernel_81702/3033597953.py:100: FutureWarning: The behavior of DataFrame concatenation with empty or all-NA entries is deprecated. In a future version, this will no longer exclude empty or all-NA columns when determining the result dtypes. To retain the old behavior, exclude the relevant entries before the concat operation.\n",
      "  result_df = pd.concat([result_df, new_row], ignore_index=True)\n",
      " 92%|███████████████████████████████████████▍   | 45/49 [29:44<02:29, 37.35s/it]"
     ]
    },
    {
     "name": "stdout",
     "output_type": "stream",
     "text": [
      "u56\n"
     ]
    },
    {
     "name": "stderr",
     "output_type": "stream",
     "text": [
      "/var/folders/k8/745_jm4x0n35zzr1p5chpdfh0000gn/T/ipykernel_81702/3033597953.py:100: FutureWarning: The behavior of DataFrame concatenation with empty or all-NA entries is deprecated. In a future version, this will no longer exclude empty or all-NA columns when determining the result dtypes. To retain the old behavior, exclude the relevant entries before the concat operation.\n",
      "  result_df = pd.concat([result_df, new_row], ignore_index=True)\n",
      " 94%|████████████████████████████████████████▎  | 46/49 [30:21<01:52, 37.44s/it]"
     ]
    },
    {
     "name": "stdout",
     "output_type": "stream",
     "text": [
      "u57\n"
     ]
    },
    {
     "name": "stderr",
     "output_type": "stream",
     "text": [
      "/var/folders/k8/745_jm4x0n35zzr1p5chpdfh0000gn/T/ipykernel_81702/3033597953.py:100: FutureWarning: The behavior of DataFrame concatenation with empty or all-NA entries is deprecated. In a future version, this will no longer exclude empty or all-NA columns when determining the result dtypes. To retain the old behavior, exclude the relevant entries before the concat operation.\n",
      "  result_df = pd.concat([result_df, new_row], ignore_index=True)\n",
      " 96%|█████████████████████████████████████████▏ | 47/49 [31:15<01:24, 42.31s/it]"
     ]
    },
    {
     "name": "stdout",
     "output_type": "stream",
     "text": [
      "u58\n"
     ]
    },
    {
     "name": "stderr",
     "output_type": "stream",
     "text": [
      "/var/folders/k8/745_jm4x0n35zzr1p5chpdfh0000gn/T/ipykernel_81702/3033597953.py:100: FutureWarning: The behavior of DataFrame concatenation with empty or all-NA entries is deprecated. In a future version, this will no longer exclude empty or all-NA columns when determining the result dtypes. To retain the old behavior, exclude the relevant entries before the concat operation.\n",
      "  result_df = pd.concat([result_df, new_row], ignore_index=True)\n",
      " 98%|██████████████████████████████████████████ | 48/49 [32:04<00:44, 44.24s/it]"
     ]
    },
    {
     "name": "stdout",
     "output_type": "stream",
     "text": [
      "u59\n"
     ]
    },
    {
     "name": "stderr",
     "output_type": "stream",
     "text": [
      "/var/folders/k8/745_jm4x0n35zzr1p5chpdfh0000gn/T/ipykernel_81702/3033597953.py:100: FutureWarning: The behavior of DataFrame concatenation with empty or all-NA entries is deprecated. In a future version, this will no longer exclude empty or all-NA columns when determining the result dtypes. To retain the old behavior, exclude the relevant entries before the concat operation.\n",
      "  result_df = pd.concat([result_df, new_row], ignore_index=True)\n",
      "100%|███████████████████████████████████████████| 49/49 [33:38<00:00, 41.19s/it]\n"
     ]
    }
   ],
   "source": [
    "for uid in tqdm(audio_uid):\n",
    "    print(uid)\n",
    "    df = process_audio_data_for_uid(str(uid), df_audio)\n",
    "    frames = [df_data, df]\n",
    "    df_data = pd.concat(frames, ignore_index=True)"
   ]
  },
  {
   "cell_type": "code",
   "execution_count": 19,
   "id": "b0b23e00",
   "metadata": {},
   "outputs": [
    {
     "data": {
      "text/plain": [
       "Index(['uid', 'date', 'morning_noise_duration', 'morning_silent_duration',\n",
       "       'morning_voice_duration', 'afternoon_noise_duration',\n",
       "       'afternoon_silent_duration', 'afternoon_voice_duration',\n",
       "       'evening_noise_duration', 'evening_silent_duration',\n",
       "       'evening_voice_duration', 'night_noise_duration',\n",
       "       'night_silent_duration', 'night_voice_duration'],\n",
       "      dtype='object')"
      ]
     },
     "execution_count": 19,
     "metadata": {},
     "output_type": "execute_result"
    }
   ],
   "source": [
    "df_data.columns"
   ]
  },
  {
   "cell_type": "code",
   "execution_count": 20,
   "id": "6181f341",
   "metadata": {},
   "outputs": [
    {
     "data": {
      "text/plain": [
       "uid                          0\n",
       "date                         0\n",
       "morning_noise_duration       0\n",
       "morning_silent_duration      0\n",
       "morning_voice_duration       0\n",
       "afternoon_noise_duration     0\n",
       "afternoon_silent_duration    0\n",
       "afternoon_voice_duration     0\n",
       "evening_noise_duration       0\n",
       "evening_silent_duration      0\n",
       "evening_voice_duration       0\n",
       "night_noise_duration         0\n",
       "night_silent_duration        0\n",
       "night_voice_duration         0\n",
       "dtype: int64"
      ]
     },
     "execution_count": 20,
     "metadata": {},
     "output_type": "execute_result"
    }
   ],
   "source": [
    "df_data.isnull().sum()"
   ]
  },
  {
   "cell_type": "code",
   "execution_count": 21,
   "id": "afac4787",
   "metadata": {},
   "outputs": [
    {
     "data": {
      "text/plain": [
       "2883"
      ]
     },
     "execution_count": 21,
     "metadata": {},
     "output_type": "execute_result"
    }
   ],
   "source": [
    "len(df_data)"
   ]
  },
  {
   "cell_type": "code",
   "execution_count": 22,
   "id": "6c8e1520",
   "metadata": {},
   "outputs": [
    {
     "data": {
      "text/html": [
       "<div>\n",
       "<style scoped>\n",
       "    .dataframe tbody tr th:only-of-type {\n",
       "        vertical-align: middle;\n",
       "    }\n",
       "\n",
       "    .dataframe tbody tr th {\n",
       "        vertical-align: top;\n",
       "    }\n",
       "\n",
       "    .dataframe thead th {\n",
       "        text-align: right;\n",
       "    }\n",
       "</style>\n",
       "<table border=\"1\" class=\"dataframe\">\n",
       "  <thead>\n",
       "    <tr style=\"text-align: right;\">\n",
       "      <th></th>\n",
       "      <th>uid</th>\n",
       "      <th>date</th>\n",
       "      <th>morning_noise_duration</th>\n",
       "      <th>morning_silent_duration</th>\n",
       "      <th>morning_voice_duration</th>\n",
       "      <th>afternoon_noise_duration</th>\n",
       "      <th>afternoon_silent_duration</th>\n",
       "      <th>afternoon_voice_duration</th>\n",
       "      <th>evening_noise_duration</th>\n",
       "      <th>evening_silent_duration</th>\n",
       "      <th>evening_voice_duration</th>\n",
       "      <th>night_noise_duration</th>\n",
       "      <th>night_silent_duration</th>\n",
       "      <th>night_voice_duration</th>\n",
       "    </tr>\n",
       "  </thead>\n",
       "  <tbody>\n",
       "    <tr>\n",
       "      <th>0</th>\n",
       "      <td>u00</td>\n",
       "      <td>2013-03-27</td>\n",
       "      <td>0.209444</td>\n",
       "      <td>5.2475</td>\n",
       "      <td>0.178333</td>\n",
       "      <td>0.778333</td>\n",
       "      <td>2.723333</td>\n",
       "      <td>0.941944</td>\n",
       "      <td>1.540278</td>\n",
       "      <td>0.882778</td>\n",
       "      <td>2.009444</td>\n",
       "      <td>0.058611</td>\n",
       "      <td>1.567222</td>\n",
       "      <td>0.018056</td>\n",
       "    </tr>\n",
       "    <tr>\n",
       "      <th>1</th>\n",
       "      <td>u00</td>\n",
       "      <td>2013-03-28</td>\n",
       "      <td>0.202778</td>\n",
       "      <td>4.129722</td>\n",
       "      <td>0.114167</td>\n",
       "      <td>0.581389</td>\n",
       "      <td>3.404444</td>\n",
       "      <td>0.843889</td>\n",
       "      <td>0.634444</td>\n",
       "      <td>2.196944</td>\n",
       "      <td>2.015833</td>\n",
       "      <td>0.275833</td>\n",
       "      <td>4.764167</td>\n",
       "      <td>0.299722</td>\n",
       "    </tr>\n",
       "    <tr>\n",
       "      <th>2</th>\n",
       "      <td>u00</td>\n",
       "      <td>2013-03-29</td>\n",
       "      <td>0.481389</td>\n",
       "      <td>4.647778</td>\n",
       "      <td>0.190556</td>\n",
       "      <td>1.462778</td>\n",
       "      <td>1.797778</td>\n",
       "      <td>1.082778</td>\n",
       "      <td>0.885</td>\n",
       "      <td>1.690556</td>\n",
       "      <td>1.776389</td>\n",
       "      <td>1.125</td>\n",
       "      <td>2.342778</td>\n",
       "      <td>0.849444</td>\n",
       "    </tr>\n",
       "  </tbody>\n",
       "</table>\n",
       "</div>"
      ],
      "text/plain": [
       "   uid        date morning_noise_duration morning_silent_duration  \\\n",
       "0  u00  2013-03-27               0.209444                  5.2475   \n",
       "1  u00  2013-03-28               0.202778                4.129722   \n",
       "2  u00  2013-03-29               0.481389                4.647778   \n",
       "\n",
       "  morning_voice_duration afternoon_noise_duration afternoon_silent_duration  \\\n",
       "0               0.178333                 0.778333                  2.723333   \n",
       "1               0.114167                 0.581389                  3.404444   \n",
       "2               0.190556                 1.462778                  1.797778   \n",
       "\n",
       "  afternoon_voice_duration evening_noise_duration  evening_silent_duration  \\\n",
       "0                 0.941944               1.540278                 0.882778   \n",
       "1                 0.843889               0.634444                 2.196944   \n",
       "2                 1.082778                  0.885                 1.690556   \n",
       "\n",
       "   evening_voice_duration night_noise_duration night_silent_duration  \\\n",
       "0                2.009444             0.058611              1.567222   \n",
       "1                2.015833             0.275833              4.764167   \n",
       "2                1.776389                1.125              2.342778   \n",
       "\n",
       "  night_voice_duration  \n",
       "0             0.018056  \n",
       "1             0.299722  \n",
       "2             0.849444  "
      ]
     },
     "execution_count": 22,
     "metadata": {},
     "output_type": "execute_result"
    }
   ],
   "source": [
    "df_data.head(3)"
   ]
  },
  {
   "cell_type": "code",
   "execution_count": 23,
   "id": "afb64958",
   "metadata": {},
   "outputs": [],
   "source": [
    "df_data.to_csv('raw_audio_features_studentlife.csv')"
   ]
  },
  {
   "cell_type": "code",
   "execution_count": 24,
   "id": "15ef66fb",
   "metadata": {},
   "outputs": [
    {
     "data": {
      "text/plain": [
       "49"
      ]
     },
     "execution_count": 24,
     "metadata": {},
     "output_type": "execute_result"
    }
   ],
   "source": [
    "len(df_data['uid'].unique())"
   ]
  },
  {
   "cell_type": "code",
   "execution_count": null,
   "id": "c1588456",
   "metadata": {},
   "outputs": [],
   "source": []
  },
  {
   "cell_type": "code",
   "execution_count": null,
   "id": "c1fa70e8-f1c9-43f8-b45a-fff5262c77c8",
   "metadata": {},
   "outputs": [],
   "source": []
  }
 ],
 "metadata": {
  "kernelspec": {
   "display_name": "Python 3 (ipykernel)",
   "language": "python",
   "name": "python3"
  },
  "language_info": {
   "codemirror_mode": {
    "name": "ipython",
    "version": 3
   },
   "file_extension": ".py",
   "mimetype": "text/x-python",
   "name": "python",
   "nbconvert_exporter": "python",
   "pygments_lexer": "ipython3",
   "version": "3.10.8"
  }
 },
 "nbformat": 4,
 "nbformat_minor": 5
}
