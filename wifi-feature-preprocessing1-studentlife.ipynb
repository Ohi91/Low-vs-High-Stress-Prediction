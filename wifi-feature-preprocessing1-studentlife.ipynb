{
 "cells": [
  {
   "cell_type": "code",
   "execution_count": 1,
   "id": "4d6dcc8a",
   "metadata": {
    "execution": {
     "iopub.execute_input": "2024-09-23T15:47:18.392124Z",
     "iopub.status.busy": "2024-09-23T15:47:18.391687Z",
     "iopub.status.idle": "2024-09-23T15:47:35.989870Z",
     "shell.execute_reply": "2024-09-23T15:47:35.988503Z"
    },
    "papermill": {
     "duration": 17.610588,
     "end_time": "2024-09-23T15:47:35.992954",
     "exception": false,
     "start_time": "2024-09-23T15:47:18.382366",
     "status": "completed"
    },
    "tags": []
   },
   "outputs": [
    {
     "name": "stdout",
     "output_type": "stream",
     "text": [
      "Collecting kneed\r\n",
      "  Downloading kneed-0.8.5-py3-none-any.whl.metadata (5.5 kB)\r\n",
      "Requirement already satisfied: numpy>=1.14.2 in /opt/conda/lib/python3.10/site-packages (from kneed) (1.26.4)\r\n",
      "Requirement already satisfied: scipy>=1.0.0 in /opt/conda/lib/python3.10/site-packages (from kneed) (1.14.0)\r\n",
      "Downloading kneed-0.8.5-py3-none-any.whl (10 kB)\r\n",
      "Installing collected packages: kneed\r\n",
      "Successfully installed kneed-0.8.5\r\n"
     ]
    }
   ],
   "source": [
    "! pip install kneed"
   ]
  },
  {
   "cell_type": "code",
   "execution_count": 2,
   "id": "bd22f67a",
   "metadata": {
    "execution": {
     "iopub.execute_input": "2024-09-23T15:47:36.011439Z",
     "iopub.status.busy": "2024-09-23T15:47:36.010396Z",
     "iopub.status.idle": "2024-09-23T15:47:39.049371Z",
     "shell.execute_reply": "2024-09-23T15:47:39.047999Z"
    },
    "papermill": {
     "duration": 3.051042,
     "end_time": "2024-09-23T15:47:39.051958",
     "exception": false,
     "start_time": "2024-09-23T15:47:36.000916",
     "status": "completed"
    },
    "tags": []
   },
   "outputs": [
    {
     "name": "stdout",
     "output_type": "stream",
     "text": [
      "['/kaggle/lib/kagglegym', '/kaggle/lib', '/opt/conda/lib/python310.zip', '/opt/conda/lib/python3.10', '/opt/conda/lib/python3.10/lib-dynload', '', '/root/.local/lib/python3.10/site-packages', '/opt/conda/lib/python3.10/site-packages', '/root/src/BigQuery_Helper']\n",
      "['/kaggle/lib/kagglegym', '/kaggle/lib', '/opt/conda/lib/python310.zip', '/opt/conda/lib/python3.10', '/opt/conda/lib/python3.10/lib-dynload', '', '/root/.local/lib/python3.10/site-packages', '/opt/conda/lib/python3.10/site-packages', '/root/src/BigQuery_Helper']\n"
     ]
    }
   ],
   "source": [
    "import pandas as pd\n",
    "from sklearn.neighbors import NearestNeighbors\n",
    "import numpy as np\n",
    "from math import *\n",
    "from shapely.geometry import Point, Polygon\n",
    "import geopandas as gpd\n",
    "import sys\n",
    "print(sys.path)\n",
    "import math\n",
    "from tqdm import tqdm\n",
    "from pandas import DataFrame\n",
    "import matplotlib.pyplot as plt\n",
    "from scipy.signal import find_peaks\n",
    "from kneed import KneeLocator\n",
    "from sklearn.neighbors import NearestNeighbors, KDTree\n",
    "from sklearn.cluster import DBSCAN\n",
    "import matplotlib.pyplot as plt\n",
    "from threadpoolctl import threadpool_limits\n",
    "from sklearn.preprocessing import StandardScaler\n",
    "\n",
    "import pymongo\n",
    "import json\n",
    "import pandas as pd\n",
    "from datetime import datetime, timedelta\n",
    "from pandas import DataFrame\n",
    "import matplotlib.pyplot as plt\n",
    "from datetime import time\n",
    "from tqdm import tqdm\n",
    "\n",
    "from math import *\n",
    "from shapely.geometry import Point, Polygon\n",
    "import geopandas as gpd\n",
    "import sys\n",
    "print(sys.path)\n",
    "import math\n",
    "from pandas import DataFrame\n",
    "import matplotlib.pyplot as plt\n",
    "from scipy.signal import find_peaks\n",
    "from kneed import KneeLocator\n",
    "from sklearn.neighbors import KDTree\n",
    "from sklearn.cluster import DBSCAN"
   ]
  },
  {
   "cell_type": "code",
   "execution_count": 3,
   "id": "f33f6db7",
   "metadata": {
    "execution": {
     "iopub.execute_input": "2024-09-23T15:47:39.069283Z",
     "iopub.status.busy": "2024-09-23T15:47:39.068679Z",
     "iopub.status.idle": "2024-09-23T15:47:39.076909Z",
     "shell.execute_reply": "2024-09-23T15:47:39.075697Z"
    },
    "papermill": {
     "duration": 0.020077,
     "end_time": "2024-09-23T15:47:39.079822",
     "exception": false,
     "start_time": "2024-09-23T15:47:39.059745",
     "status": "completed"
    },
    "tags": []
   },
   "outputs": [
    {
     "name": "stdout",
     "output_type": "stream",
     "text": [
      "49\n"
     ]
    }
   ],
   "source": [
    "student_uids = ['u00', 'u01', 'u02', 'u03', 'u04', 'u05', 'u07', 'u08', 'u09', 'u10', 'u12', 'u13', 'u14', 'u15', 'u16',\n",
    "                'u17', 'u18', 'u19', 'u20', 'u22', 'u23', 'u24', 'u25', 'u27', 'u30', 'u31', 'u32', 'u33', 'u34', 'u35',\n",
    "                'u36', 'u39', 'u41', 'u42', 'u43', 'u44', 'u45', 'u46', 'u47', 'u49', 'u50', 'u51', 'u52', 'u53', 'u54',\n",
    "                'u56', 'u57', 'u58', 'u59']\n",
    "print(len(student_uids))"
   ]
  },
  {
   "cell_type": "code",
   "execution_count": 4,
   "id": "95285a4e",
   "metadata": {
    "execution": {
     "iopub.execute_input": "2024-09-23T15:47:39.097862Z",
     "iopub.status.busy": "2024-09-23T15:47:39.096643Z",
     "iopub.status.idle": "2024-09-23T15:47:40.370400Z",
     "shell.execute_reply": "2024-09-23T15:47:40.369248Z"
    },
    "papermill": {
     "duration": 1.28606,
     "end_time": "2024-09-23T15:47:40.373583",
     "exception": false,
     "start_time": "2024-09-23T15:47:39.087523",
     "status": "completed"
    },
    "tags": []
   },
   "outputs": [
    {
     "data": {
      "text/html": [
       "<div>\n",
       "<style scoped>\n",
       "    .dataframe tbody tr th:only-of-type {\n",
       "        vertical-align: middle;\n",
       "    }\n",
       "\n",
       "    .dataframe tbody tr th {\n",
       "        vertical-align: top;\n",
       "    }\n",
       "\n",
       "    .dataframe thead th {\n",
       "        text-align: right;\n",
       "    }\n",
       "</style>\n",
       "<table border=\"1\" class=\"dataframe\">\n",
       "  <thead>\n",
       "    <tr style=\"text-align: right;\">\n",
       "      <th></th>\n",
       "      <th>uid</th>\n",
       "      <th>timestamp</th>\n",
       "      <th>latitude</th>\n",
       "      <th>longitude</th>\n",
       "      <th>date</th>\n",
       "      <th>time_interval</th>\n",
       "    </tr>\n",
       "  </thead>\n",
       "  <tbody>\n",
       "    <tr>\n",
       "      <th>156575</th>\n",
       "      <td>u00</td>\n",
       "      <td>2013-03-27 04:02:43</td>\n",
       "      <td>43.759135</td>\n",
       "      <td>-72.329240</td>\n",
       "      <td>2013-03-27</td>\n",
       "      <td>night</td>\n",
       "    </tr>\n",
       "    <tr>\n",
       "      <th>156576</th>\n",
       "      <td>u00</td>\n",
       "      <td>2013-03-27 04:22:24</td>\n",
       "      <td>43.759503</td>\n",
       "      <td>-72.329018</td>\n",
       "      <td>2013-03-27</td>\n",
       "      <td>night</td>\n",
       "    </tr>\n",
       "    <tr>\n",
       "      <th>156577</th>\n",
       "      <td>u00</td>\n",
       "      <td>2013-03-27 04:42:44</td>\n",
       "      <td>43.759134</td>\n",
       "      <td>-72.329238</td>\n",
       "      <td>2013-03-27</td>\n",
       "      <td>night</td>\n",
       "    </tr>\n",
       "    <tr>\n",
       "      <th>156578</th>\n",
       "      <td>u00</td>\n",
       "      <td>2013-03-27 05:02:43</td>\n",
       "      <td>43.759135</td>\n",
       "      <td>-72.329240</td>\n",
       "      <td>2013-03-27</td>\n",
       "      <td>night</td>\n",
       "    </tr>\n",
       "    <tr>\n",
       "      <th>156579</th>\n",
       "      <td>u00</td>\n",
       "      <td>2013-03-27 05:22:43</td>\n",
       "      <td>43.759135</td>\n",
       "      <td>-72.329240</td>\n",
       "      <td>2013-03-27</td>\n",
       "      <td>night</td>\n",
       "    </tr>\n",
       "    <tr>\n",
       "      <th>156580</th>\n",
       "      <td>u00</td>\n",
       "      <td>2013-03-27 05:42:43</td>\n",
       "      <td>43.759135</td>\n",
       "      <td>-72.329239</td>\n",
       "      <td>2013-03-27</td>\n",
       "      <td>night</td>\n",
       "    </tr>\n",
       "    <tr>\n",
       "      <th>156581</th>\n",
       "      <td>u00</td>\n",
       "      <td>2013-03-27 06:02:43</td>\n",
       "      <td>43.759134</td>\n",
       "      <td>-72.329241</td>\n",
       "      <td>2013-03-27</td>\n",
       "      <td>morning</td>\n",
       "    </tr>\n",
       "    <tr>\n",
       "      <th>156582</th>\n",
       "      <td>u00</td>\n",
       "      <td>2013-03-27 06:22:44</td>\n",
       "      <td>43.608052</td>\n",
       "      <td>-72.162171</td>\n",
       "      <td>2013-03-27</td>\n",
       "      <td>morning</td>\n",
       "    </tr>\n",
       "    <tr>\n",
       "      <th>156583</th>\n",
       "      <td>u00</td>\n",
       "      <td>2013-03-27 06:22:48</td>\n",
       "      <td>43.608052</td>\n",
       "      <td>-72.162171</td>\n",
       "      <td>2013-03-27</td>\n",
       "      <td>morning</td>\n",
       "    </tr>\n",
       "    <tr>\n",
       "      <th>156584</th>\n",
       "      <td>u00</td>\n",
       "      <td>2013-03-27 07:02:43</td>\n",
       "      <td>43.696293</td>\n",
       "      <td>-72.283302</td>\n",
       "      <td>2013-03-27</td>\n",
       "      <td>morning</td>\n",
       "    </tr>\n",
       "  </tbody>\n",
       "</table>\n",
       "</div>"
      ],
      "text/plain": [
       "        uid           timestamp   latitude  longitude        date  \\\n",
       "156575  u00 2013-03-27 04:02:43  43.759135 -72.329240  2013-03-27   \n",
       "156576  u00 2013-03-27 04:22:24  43.759503 -72.329018  2013-03-27   \n",
       "156577  u00 2013-03-27 04:42:44  43.759134 -72.329238  2013-03-27   \n",
       "156578  u00 2013-03-27 05:02:43  43.759135 -72.329240  2013-03-27   \n",
       "156579  u00 2013-03-27 05:22:43  43.759135 -72.329240  2013-03-27   \n",
       "156580  u00 2013-03-27 05:42:43  43.759135 -72.329239  2013-03-27   \n",
       "156581  u00 2013-03-27 06:02:43  43.759134 -72.329241  2013-03-27   \n",
       "156582  u00 2013-03-27 06:22:44  43.608052 -72.162171  2013-03-27   \n",
       "156583  u00 2013-03-27 06:22:48  43.608052 -72.162171  2013-03-27   \n",
       "156584  u00 2013-03-27 07:02:43  43.696293 -72.283302  2013-03-27   \n",
       "\n",
       "       time_interval  \n",
       "156575         night  \n",
       "156576         night  \n",
       "156577         night  \n",
       "156578         night  \n",
       "156579         night  \n",
       "156580         night  \n",
       "156581       morning  \n",
       "156582       morning  \n",
       "156583       morning  \n",
       "156584       morning  "
      ]
     },
     "execution_count": 4,
     "metadata": {},
     "output_type": "execute_result"
    }
   ],
   "source": [
    "df_gps = pd.read_csv('/kaggle/input/studentlife-location-four-intervals/StudentLife_location_data.csv')\n",
    "df_gps = df_gps.sort_values(by=['uid', 'timestamp'])\n",
    "df_gps['timestamp'] = pd.to_datetime(df_gps['timestamp'])\n",
    "del df_gps['Unnamed: 0']\n",
    "df_gps.head(10)"
   ]
  },
  {
   "cell_type": "code",
   "execution_count": 5,
   "id": "cc940793",
   "metadata": {
    "execution": {
     "iopub.execute_input": "2024-09-23T15:47:40.392153Z",
     "iopub.status.busy": "2024-09-23T15:47:40.391698Z",
     "iopub.status.idle": "2024-09-23T15:47:44.718915Z",
     "shell.execute_reply": "2024-09-23T15:47:44.717616Z"
    },
    "papermill": {
     "duration": 4.339617,
     "end_time": "2024-09-23T15:47:44.721802",
     "exception": false,
     "start_time": "2024-09-23T15:47:40.382185",
     "status": "completed"
    },
    "tags": []
   },
   "outputs": [
    {
     "name": "stderr",
     "output_type": "stream",
     "text": [
      "/tmp/ipykernel_17/587325574.py:16: RuntimeWarning: invalid value encountered in scalar divide\n",
      "  return np.arccos(np.dot(v1, v2) / (np.linalg.norm(v1) * np.linalg.norm(v2)))\n"
     ]
    },
    {
     "name": "stdout",
     "output_type": "stream",
     "text": [
      "Optimal eps value: 0.0\n"
     ]
    }
   ],
   "source": [
    "features = df_gps[['latitude', 'longitude']].values\n",
    "\n",
    "scaler = StandardScaler()\n",
    "features_normalized = scaler.fit_transform(features)\n",
    "\n",
    "k = 3  \n",
    "neigh = NearestNeighbors(n_neighbors=k)\n",
    "neigh.fit(features_normalized)\n",
    "distances, _ = neigh.kneighbors(features_normalized)\n",
    "\n",
    "distances = np.sort(distances[:, k-1])\n",
    "\n",
    "def angle(p1, p2, p3):\n",
    "    v1 = p1 - p2\n",
    "    v2 = p3 - p2\n",
    "    return np.arccos(np.dot(v1, v2) / (np.linalg.norm(v1) * np.linalg.norm(v2)))\n",
    "\n",
    "x = np.arange(len(distances))\n",
    "coords = np.column_stack((x, distances))\n",
    "start, end = coords[0], coords[-1]\n",
    "angles = [angle(start, p, end) for p in coords]\n",
    "elbow_index = np.argmax(angles)\n",
    "optimal_eps = distances[elbow_index]\n",
    "\n",
    "print(f\"Optimal eps value: {optimal_eps}\")"
   ]
  },
  {
   "cell_type": "code",
   "execution_count": 6,
   "id": "d97d623c",
   "metadata": {
    "execution": {
     "iopub.execute_input": "2024-09-23T15:47:44.740751Z",
     "iopub.status.busy": "2024-09-23T15:47:44.740265Z",
     "iopub.status.idle": "2024-09-23T15:47:44.745446Z",
     "shell.execute_reply": "2024-09-23T15:47:44.744196Z"
    },
    "papermill": {
     "duration": 0.017476,
     "end_time": "2024-09-23T15:47:44.747885",
     "exception": false,
     "start_time": "2024-09-23T15:47:44.730409",
     "status": "completed"
    },
    "tags": []
   },
   "outputs": [],
   "source": [
    "# number of different locations visited\n",
    "# variance in time spent at different locations "
   ]
  },
  {
   "cell_type": "code",
   "execution_count": 7,
   "id": "f54f8d76",
   "metadata": {
    "execution": {
     "iopub.execute_input": "2024-09-23T15:47:44.766294Z",
     "iopub.status.busy": "2024-09-23T15:47:44.765827Z",
     "iopub.status.idle": "2024-09-23T15:47:44.785740Z",
     "shell.execute_reply": "2024-09-23T15:47:44.784545Z"
    },
    "papermill": {
     "duration": 0.032244,
     "end_time": "2024-09-23T15:47:44.788340",
     "exception": false,
     "start_time": "2024-09-23T15:47:44.756096",
     "status": "completed"
    },
    "tags": []
   },
   "outputs": [],
   "source": [
    "def count_places_visited(df, eps=0.001, min_samples=3):\n",
    "    results = []\n",
    "    unique_dates = df['date'].unique()\n",
    "\n",
    "    for date in unique_dates:\n",
    "        places_count = {\n",
    "            'number_places_morning': 0,\n",
    "            'number_places_afternoon': 0,\n",
    "            'number_places_evening': 0,\n",
    "            'number_places_night': 0,\n",
    "            'time_spent_morning': [],\n",
    "            'time_spent_afternoon': [],\n",
    "            'time_spent_evening': [],\n",
    "            'time_spent_night': [],\n",
    "            'variance_time_spent_morning': 0,\n",
    "            'variance_time_spent_afternoon': 0,\n",
    "            'variance_time_spent_evening': 0,\n",
    "            'variance_time_spent_night': 0\n",
    "        }\n",
    "        \n",
    "        for time_interval in ['morning', 'afternoon', 'evening', 'night']:\n",
    "            subset = df[(df['date'] == date) & \n",
    "                        (df['time_interval'] == time_interval)].copy()\n",
    "            \n",
    "            if not subset.empty:\n",
    "                coords = subset[['latitude', 'longitude']].values\n",
    "                db = DBSCAN(eps=eps, min_samples=min_samples).fit(coords)\n",
    "                labels = db.labels_\n",
    "                unique_labels = set(labels)\n",
    "                \n",
    "                num_places = len(unique_labels) - (1 if -1 in unique_labels else 0)\n",
    "                places_count[f'number_places_{time_interval}'] = num_places\n",
    "\n",
    "                # time spent at each location\n",
    "                for label in unique_labels:\n",
    "                    if label != -1:\n",
    "                        location_subset = subset[labels == label].sort_values(by='timestamp')\n",
    "                        time_spent = 0\n",
    "                        \n",
    "                        for i in range(len(location_subset) - 1):\n",
    "                            if labels[i] == labels[i + 1]:\n",
    "                                time_spent += (location_subset['timestamp'].iloc[i + 1] - \n",
    "                                               location_subset['timestamp'].iloc[i]).total_seconds()\n",
    "                            else:\n",
    "                                time_spent += 1\n",
    "\n",
    "                        time_spent /= 3600  # convert to hours\n",
    "                        places_count[f'time_spent_{time_interval}'].append(time_spent)\n",
    "\n",
    "                # variance in time spent at different locations\n",
    "                if places_count[f'time_spent_{time_interval}']:\n",
    "                    places_count[f'variance_time_spent_{time_interval}'] = np.var(places_count[f'time_spent_{time_interval}'])\n",
    "            else:\n",
    "                places_count[f'number_places_{time_interval}'] = 0\n",
    "                places_count[f'variance_time_spent_{time_interval}'] = 0\n",
    "        \n",
    "        results.append({\n",
    "            'uid': df['uid'].iloc[0],\n",
    "            'date': date,\n",
    "            **places_count\n",
    "        })\n",
    "        \n",
    "    results_df = pd.DataFrame(results)\n",
    "    del results_df['time_spent_morning']\n",
    "    del results_df['time_spent_afternoon']\n",
    "    del results_df['time_spent_evening']\n",
    "    del results_df['time_spent_night']\n",
    "    \n",
    "    return results_df"
   ]
  },
  {
   "cell_type": "code",
   "execution_count": 8,
   "id": "877aab3e",
   "metadata": {
    "execution": {
     "iopub.execute_input": "2024-09-23T15:47:44.807285Z",
     "iopub.status.busy": "2024-09-23T15:47:44.806865Z",
     "iopub.status.idle": "2024-09-23T15:49:02.362160Z",
     "shell.execute_reply": "2024-09-23T15:49:02.360980Z"
    },
    "papermill": {
     "duration": 77.567693,
     "end_time": "2024-09-23T15:49:02.364748",
     "exception": false,
     "start_time": "2024-09-23T15:47:44.797055",
     "status": "completed"
    },
    "tags": []
   },
   "outputs": [
    {
     "name": "stderr",
     "output_type": "stream",
     "text": [
      "  0%|          | 0/49 [00:00<?, ?it/s]"
     ]
    },
    {
     "name": "stdout",
     "output_type": "stream",
     "text": [
      "u00\n"
     ]
    },
    {
     "name": "stderr",
     "output_type": "stream",
     "text": [
      "  2%|▏         | 1/49 [00:01<01:30,  1.88s/it]"
     ]
    },
    {
     "name": "stdout",
     "output_type": "stream",
     "text": [
      "u01\n"
     ]
    },
    {
     "name": "stderr",
     "output_type": "stream",
     "text": [
      "  4%|▍         | 2/49 [00:03<01:29,  1.90s/it]"
     ]
    },
    {
     "name": "stdout",
     "output_type": "stream",
     "text": [
      "u02\n"
     ]
    },
    {
     "name": "stderr",
     "output_type": "stream",
     "text": [
      "  6%|▌         | 3/49 [00:06<01:34,  2.06s/it]"
     ]
    },
    {
     "name": "stdout",
     "output_type": "stream",
     "text": [
      "u03\n"
     ]
    },
    {
     "name": "stderr",
     "output_type": "stream",
     "text": [
      "  8%|▊         | 4/49 [00:07<01:19,  1.77s/it]"
     ]
    },
    {
     "name": "stdout",
     "output_type": "stream",
     "text": [
      "u04\n"
     ]
    },
    {
     "name": "stderr",
     "output_type": "stream",
     "text": [
      " 10%|█         | 5/49 [00:08<01:12,  1.65s/it]"
     ]
    },
    {
     "name": "stdout",
     "output_type": "stream",
     "text": [
      "u05\n"
     ]
    },
    {
     "name": "stderr",
     "output_type": "stream",
     "text": [
      " 12%|█▏        | 6/49 [00:10<01:14,  1.74s/it]"
     ]
    },
    {
     "name": "stdout",
     "output_type": "stream",
     "text": [
      "u07\n"
     ]
    },
    {
     "name": "stderr",
     "output_type": "stream",
     "text": [
      " 14%|█▍        | 7/49 [00:11<01:05,  1.56s/it]"
     ]
    },
    {
     "name": "stdout",
     "output_type": "stream",
     "text": [
      "u08\n"
     ]
    },
    {
     "name": "stderr",
     "output_type": "stream",
     "text": [
      " 16%|█▋        | 8/49 [00:14<01:11,  1.73s/it]"
     ]
    },
    {
     "name": "stdout",
     "output_type": "stream",
     "text": [
      "u09\n"
     ]
    },
    {
     "name": "stderr",
     "output_type": "stream",
     "text": [
      " 18%|█▊        | 9/49 [00:15<01:10,  1.76s/it]"
     ]
    },
    {
     "name": "stdout",
     "output_type": "stream",
     "text": [
      "u10\n"
     ]
    },
    {
     "name": "stderr",
     "output_type": "stream",
     "text": [
      " 20%|██        | 10/49 [00:17<01:12,  1.85s/it]"
     ]
    },
    {
     "name": "stdout",
     "output_type": "stream",
     "text": [
      "u12\n"
     ]
    },
    {
     "name": "stderr",
     "output_type": "stream",
     "text": [
      " 22%|██▏       | 11/49 [00:20<01:17,  2.05s/it]"
     ]
    },
    {
     "name": "stdout",
     "output_type": "stream",
     "text": [
      "u13\n"
     ]
    },
    {
     "name": "stderr",
     "output_type": "stream",
     "text": [
      " 24%|██▍       | 12/49 [00:22<01:15,  2.03s/it]"
     ]
    },
    {
     "name": "stdout",
     "output_type": "stream",
     "text": [
      "u14\n"
     ]
    },
    {
     "name": "stderr",
     "output_type": "stream",
     "text": [
      " 27%|██▋       | 13/49 [00:23<01:08,  1.90s/it]"
     ]
    },
    {
     "name": "stdout",
     "output_type": "stream",
     "text": [
      "u15\n"
     ]
    },
    {
     "name": "stderr",
     "output_type": "stream",
     "text": [
      " 29%|██▊       | 14/49 [00:24<00:55,  1.58s/it]"
     ]
    },
    {
     "name": "stdout",
     "output_type": "stream",
     "text": [
      "u16\n"
     ]
    },
    {
     "name": "stderr",
     "output_type": "stream",
     "text": [
      " 31%|███       | 15/49 [00:26<00:59,  1.74s/it]"
     ]
    },
    {
     "name": "stdout",
     "output_type": "stream",
     "text": [
      "u17\n"
     ]
    },
    {
     "name": "stderr",
     "output_type": "stream",
     "text": [
      " 33%|███▎      | 16/49 [00:29<01:01,  1.87s/it]"
     ]
    },
    {
     "name": "stdout",
     "output_type": "stream",
     "text": [
      "u18\n"
     ]
    },
    {
     "name": "stderr",
     "output_type": "stream",
     "text": [
      " 35%|███▍      | 17/49 [00:30<00:56,  1.75s/it]"
     ]
    },
    {
     "name": "stdout",
     "output_type": "stream",
     "text": [
      "u19\n"
     ]
    },
    {
     "name": "stderr",
     "output_type": "stream",
     "text": [
      " 37%|███▋      | 18/49 [00:32<00:54,  1.77s/it]"
     ]
    },
    {
     "name": "stdout",
     "output_type": "stream",
     "text": [
      "u20\n"
     ]
    },
    {
     "name": "stderr",
     "output_type": "stream",
     "text": [
      " 39%|███▉      | 19/49 [00:33<00:46,  1.56s/it]"
     ]
    },
    {
     "name": "stdout",
     "output_type": "stream",
     "text": [
      "u22\n"
     ]
    },
    {
     "name": "stderr",
     "output_type": "stream",
     "text": [
      " 41%|████      | 20/49 [00:35<00:45,  1.55s/it]"
     ]
    },
    {
     "name": "stdout",
     "output_type": "stream",
     "text": [
      "u23\n"
     ]
    },
    {
     "name": "stderr",
     "output_type": "stream",
     "text": [
      " 43%|████▎     | 21/49 [00:36<00:41,  1.49s/it]"
     ]
    },
    {
     "name": "stdout",
     "output_type": "stream",
     "text": [
      "u24\n"
     ]
    },
    {
     "name": "stderr",
     "output_type": "stream",
     "text": [
      " 45%|████▍     | 22/49 [00:37<00:34,  1.27s/it]"
     ]
    },
    {
     "name": "stdout",
     "output_type": "stream",
     "text": [
      "u25\n"
     ]
    },
    {
     "name": "stderr",
     "output_type": "stream",
     "text": [
      " 47%|████▋     | 23/49 [00:37<00:29,  1.15s/it]"
     ]
    },
    {
     "name": "stdout",
     "output_type": "stream",
     "text": [
      "u27\n"
     ]
    },
    {
     "name": "stderr",
     "output_type": "stream",
     "text": [
      " 49%|████▉     | 24/49 [00:39<00:33,  1.34s/it]"
     ]
    },
    {
     "name": "stdout",
     "output_type": "stream",
     "text": [
      "u30\n"
     ]
    },
    {
     "name": "stderr",
     "output_type": "stream",
     "text": [
      " 51%|█████     | 25/49 [00:41<00:34,  1.46s/it]"
     ]
    },
    {
     "name": "stdout",
     "output_type": "stream",
     "text": [
      "u31\n"
     ]
    },
    {
     "name": "stderr",
     "output_type": "stream",
     "text": [
      " 53%|█████▎    | 26/49 [00:43<00:34,  1.51s/it]"
     ]
    },
    {
     "name": "stdout",
     "output_type": "stream",
     "text": [
      "u32\n"
     ]
    },
    {
     "name": "stderr",
     "output_type": "stream",
     "text": [
      " 55%|█████▌    | 27/49 [00:44<00:32,  1.46s/it]"
     ]
    },
    {
     "name": "stdout",
     "output_type": "stream",
     "text": [
      "u33\n"
     ]
    },
    {
     "name": "stderr",
     "output_type": "stream",
     "text": [
      " 57%|█████▋    | 28/49 [00:45<00:28,  1.35s/it]"
     ]
    },
    {
     "name": "stdout",
     "output_type": "stream",
     "text": [
      "u34\n"
     ]
    },
    {
     "name": "stderr",
     "output_type": "stream",
     "text": [
      " 59%|█████▉    | 29/49 [00:46<00:24,  1.23s/it]"
     ]
    },
    {
     "name": "stdout",
     "output_type": "stream",
     "text": [
      "u35\n"
     ]
    },
    {
     "name": "stderr",
     "output_type": "stream",
     "text": [
      " 61%|██████    | 30/49 [00:48<00:26,  1.38s/it]"
     ]
    },
    {
     "name": "stdout",
     "output_type": "stream",
     "text": [
      "u36\n"
     ]
    },
    {
     "name": "stderr",
     "output_type": "stream",
     "text": [
      " 63%|██████▎   | 31/49 [00:50<00:29,  1.63s/it]"
     ]
    },
    {
     "name": "stdout",
     "output_type": "stream",
     "text": [
      "u39\n"
     ]
    },
    {
     "name": "stderr",
     "output_type": "stream",
     "text": [
      " 65%|██████▌   | 32/49 [00:51<00:23,  1.39s/it]"
     ]
    },
    {
     "name": "stdout",
     "output_type": "stream",
     "text": [
      "u41\n"
     ]
    },
    {
     "name": "stderr",
     "output_type": "stream",
     "text": [
      " 67%|██████▋   | 33/49 [00:52<00:21,  1.35s/it]"
     ]
    },
    {
     "name": "stdout",
     "output_type": "stream",
     "text": [
      "u42\n"
     ]
    },
    {
     "name": "stderr",
     "output_type": "stream",
     "text": [
      " 69%|██████▉   | 34/49 [00:53<00:19,  1.31s/it]"
     ]
    },
    {
     "name": "stdout",
     "output_type": "stream",
     "text": [
      "u43\n"
     ]
    },
    {
     "name": "stderr",
     "output_type": "stream",
     "text": [
      " 71%|███████▏  | 35/49 [00:55<00:19,  1.38s/it]"
     ]
    },
    {
     "name": "stdout",
     "output_type": "stream",
     "text": [
      "u44\n"
     ]
    },
    {
     "name": "stderr",
     "output_type": "stream",
     "text": [
      " 73%|███████▎  | 36/49 [00:56<00:18,  1.45s/it]"
     ]
    },
    {
     "name": "stdout",
     "output_type": "stream",
     "text": [
      "u45\n"
     ]
    },
    {
     "name": "stderr",
     "output_type": "stream",
     "text": [
      " 76%|███████▌  | 37/49 [00:57<00:15,  1.33s/it]"
     ]
    },
    {
     "name": "stdout",
     "output_type": "stream",
     "text": [
      "u46\n"
     ]
    },
    {
     "name": "stderr",
     "output_type": "stream",
     "text": [
      " 78%|███████▊  | 38/49 [00:59<00:14,  1.36s/it]"
     ]
    },
    {
     "name": "stdout",
     "output_type": "stream",
     "text": [
      "u47\n"
     ]
    },
    {
     "name": "stderr",
     "output_type": "stream",
     "text": [
      " 80%|███████▉  | 39/49 [01:00<00:13,  1.34s/it]"
     ]
    },
    {
     "name": "stdout",
     "output_type": "stream",
     "text": [
      "u49\n"
     ]
    },
    {
     "name": "stderr",
     "output_type": "stream",
     "text": [
      " 82%|████████▏ | 40/49 [01:02<00:12,  1.38s/it]"
     ]
    },
    {
     "name": "stdout",
     "output_type": "stream",
     "text": [
      "u50\n"
     ]
    },
    {
     "name": "stderr",
     "output_type": "stream",
     "text": [
      " 84%|████████▎ | 41/49 [01:03<00:10,  1.25s/it]"
     ]
    },
    {
     "name": "stdout",
     "output_type": "stream",
     "text": [
      "u51\n"
     ]
    },
    {
     "name": "stderr",
     "output_type": "stream",
     "text": [
      " 86%|████████▌ | 42/49 [01:05<00:10,  1.53s/it]"
     ]
    },
    {
     "name": "stdout",
     "output_type": "stream",
     "text": [
      "u52\n"
     ]
    },
    {
     "name": "stderr",
     "output_type": "stream",
     "text": [
      " 88%|████████▊ | 43/49 [01:07<00:09,  1.64s/it]"
     ]
    },
    {
     "name": "stdout",
     "output_type": "stream",
     "text": [
      "u53\n"
     ]
    },
    {
     "name": "stderr",
     "output_type": "stream",
     "text": [
      " 90%|████████▉ | 44/49 [01:08<00:08,  1.63s/it]"
     ]
    },
    {
     "name": "stdout",
     "output_type": "stream",
     "text": [
      "u54\n"
     ]
    },
    {
     "name": "stderr",
     "output_type": "stream",
     "text": [
      " 92%|█████████▏| 45/49 [01:09<00:05,  1.47s/it]"
     ]
    },
    {
     "name": "stdout",
     "output_type": "stream",
     "text": [
      "u56\n"
     ]
    },
    {
     "name": "stderr",
     "output_type": "stream",
     "text": [
      " 94%|█████████▍| 46/49 [01:11<00:04,  1.50s/it]"
     ]
    },
    {
     "name": "stdout",
     "output_type": "stream",
     "text": [
      "u57\n"
     ]
    },
    {
     "name": "stderr",
     "output_type": "stream",
     "text": [
      " 96%|█████████▌| 47/49 [01:13<00:03,  1.67s/it]"
     ]
    },
    {
     "name": "stdout",
     "output_type": "stream",
     "text": [
      "u58\n"
     ]
    },
    {
     "name": "stderr",
     "output_type": "stream",
     "text": [
      " 98%|█████████▊| 48/49 [01:15<00:01,  1.76s/it]"
     ]
    },
    {
     "name": "stdout",
     "output_type": "stream",
     "text": [
      "u59\n"
     ]
    },
    {
     "name": "stderr",
     "output_type": "stream",
     "text": [
      "100%|██████████| 49/49 [01:17<00:00,  1.58s/it]\n"
     ]
    }
   ],
   "source": [
    "result_1 = DataFrame()\n",
    "\n",
    "for uid in tqdm(student_uids):\n",
    "    print(uid)\n",
    "    df_ = df_gps[df_gps['uid'] == uid]\n",
    "    df__ = count_places_visited(df_)\n",
    "    frames = [result_1, df__]\n",
    "    result_1 = pd.concat(frames, ignore_index=True)"
   ]
  },
  {
   "cell_type": "code",
   "execution_count": 9,
   "id": "ae894470",
   "metadata": {
    "execution": {
     "iopub.execute_input": "2024-09-23T15:49:02.401628Z",
     "iopub.status.busy": "2024-09-23T15:49:02.401132Z",
     "iopub.status.idle": "2024-09-23T15:49:02.417120Z",
     "shell.execute_reply": "2024-09-23T15:49:02.416055Z"
    },
    "papermill": {
     "duration": 0.037247,
     "end_time": "2024-09-23T15:49:02.419440",
     "exception": false,
     "start_time": "2024-09-23T15:49:02.382193",
     "status": "completed"
    },
    "tags": []
   },
   "outputs": [
    {
     "data": {
      "text/html": [
       "<div>\n",
       "<style scoped>\n",
       "    .dataframe tbody tr th:only-of-type {\n",
       "        vertical-align: middle;\n",
       "    }\n",
       "\n",
       "    .dataframe tbody tr th {\n",
       "        vertical-align: top;\n",
       "    }\n",
       "\n",
       "    .dataframe thead th {\n",
       "        text-align: right;\n",
       "    }\n",
       "</style>\n",
       "<table border=\"1\" class=\"dataframe\">\n",
       "  <thead>\n",
       "    <tr style=\"text-align: right;\">\n",
       "      <th></th>\n",
       "      <th>uid</th>\n",
       "      <th>date</th>\n",
       "      <th>number_places_morning</th>\n",
       "      <th>number_places_afternoon</th>\n",
       "      <th>number_places_evening</th>\n",
       "      <th>number_places_night</th>\n",
       "      <th>variance_time_spent_morning</th>\n",
       "      <th>variance_time_spent_afternoon</th>\n",
       "      <th>variance_time_spent_evening</th>\n",
       "      <th>variance_time_spent_night</th>\n",
       "    </tr>\n",
       "  </thead>\n",
       "  <tbody>\n",
       "    <tr>\n",
       "      <th>0</th>\n",
       "      <td>u00</td>\n",
       "      <td>2013-03-27</td>\n",
       "      <td>1</td>\n",
       "      <td>2</td>\n",
       "      <td>2</td>\n",
       "      <td>1</td>\n",
       "      <td>0.000000</td>\n",
       "      <td>3.362130</td>\n",
       "      <td>0.251252</td>\n",
       "      <td>0.000000</td>\n",
       "    </tr>\n",
       "    <tr>\n",
       "      <th>1</th>\n",
       "      <td>u00</td>\n",
       "      <td>2013-03-28</td>\n",
       "      <td>2</td>\n",
       "      <td>2</td>\n",
       "      <td>1</td>\n",
       "      <td>3</td>\n",
       "      <td>0.027870</td>\n",
       "      <td>2.250417</td>\n",
       "      <td>0.000000</td>\n",
       "      <td>0.024733</td>\n",
       "    </tr>\n",
       "    <tr>\n",
       "      <th>2</th>\n",
       "      <td>u00</td>\n",
       "      <td>2013-03-29</td>\n",
       "      <td>2</td>\n",
       "      <td>3</td>\n",
       "      <td>2</td>\n",
       "      <td>4</td>\n",
       "      <td>0.759319</td>\n",
       "      <td>1.506152</td>\n",
       "      <td>0.111482</td>\n",
       "      <td>0.020811</td>\n",
       "    </tr>\n",
       "  </tbody>\n",
       "</table>\n",
       "</div>"
      ],
      "text/plain": [
       "   uid        date  number_places_morning  number_places_afternoon  \\\n",
       "0  u00  2013-03-27                      1                        2   \n",
       "1  u00  2013-03-28                      2                        2   \n",
       "2  u00  2013-03-29                      2                        3   \n",
       "\n",
       "   number_places_evening  number_places_night  variance_time_spent_morning  \\\n",
       "0                      2                    1                     0.000000   \n",
       "1                      1                    3                     0.027870   \n",
       "2                      2                    4                     0.759319   \n",
       "\n",
       "   variance_time_spent_afternoon  variance_time_spent_evening  \\\n",
       "0                       3.362130                     0.251252   \n",
       "1                       2.250417                     0.000000   \n",
       "2                       1.506152                     0.111482   \n",
       "\n",
       "   variance_time_spent_night  \n",
       "0                   0.000000  \n",
       "1                   0.024733  \n",
       "2                   0.020811  "
      ]
     },
     "execution_count": 9,
     "metadata": {},
     "output_type": "execute_result"
    }
   ],
   "source": [
    "result_1.head(3)"
   ]
  },
  {
   "cell_type": "code",
   "execution_count": 10,
   "id": "f75b4b44",
   "metadata": {
    "execution": {
     "iopub.execute_input": "2024-09-23T15:49:02.457273Z",
     "iopub.status.busy": "2024-09-23T15:49:02.456401Z",
     "iopub.status.idle": "2024-09-23T15:49:02.464903Z",
     "shell.execute_reply": "2024-09-23T15:49:02.463435Z"
    },
    "papermill": {
     "duration": 0.029933,
     "end_time": "2024-09-23T15:49:02.467252",
     "exception": false,
     "start_time": "2024-09-23T15:49:02.437319",
     "status": "completed"
    },
    "tags": []
   },
   "outputs": [
    {
     "name": "stdout",
     "output_type": "stream",
     "text": [
      "4\n",
      "6\n",
      "5\n",
      "6\n"
     ]
    }
   ],
   "source": [
    "print(result_1['number_places_morning'].max())\n",
    "print(result_1['number_places_afternoon'].max())\n",
    "print(result_1['number_places_evening'].max())\n",
    "print(result_1['number_places_night'].max())"
   ]
  },
  {
   "cell_type": "code",
   "execution_count": 11,
   "id": "4ebbc6cc",
   "metadata": {
    "execution": {
     "iopub.execute_input": "2024-09-23T15:49:02.504597Z",
     "iopub.status.busy": "2024-09-23T15:49:02.504117Z",
     "iopub.status.idle": "2024-09-23T15:49:02.512859Z",
     "shell.execute_reply": "2024-09-23T15:49:02.511693Z"
    },
    "papermill": {
     "duration": 0.030369,
     "end_time": "2024-09-23T15:49:02.515355",
     "exception": false,
     "start_time": "2024-09-23T15:49:02.484986",
     "status": "completed"
    },
    "tags": []
   },
   "outputs": [
    {
     "name": "stdout",
     "output_type": "stream",
     "text": [
      "5.4444444444444455\n",
      "6.249999999999999\n",
      "5.880625\n",
      "5.840949093364198\n"
     ]
    }
   ],
   "source": [
    "print(result_1['variance_time_spent_morning'].max())\n",
    "print(result_1['variance_time_spent_afternoon'].max())\n",
    "print(result_1['variance_time_spent_evening'].max())\n",
    "print(result_1['variance_time_spent_night'].max())"
   ]
  },
  {
   "cell_type": "code",
   "execution_count": 12,
   "id": "afa4bbc8",
   "metadata": {
    "execution": {
     "iopub.execute_input": "2024-09-23T15:49:02.553268Z",
     "iopub.status.busy": "2024-09-23T15:49:02.552831Z",
     "iopub.status.idle": "2024-09-23T15:49:02.565310Z",
     "shell.execute_reply": "2024-09-23T15:49:02.564170Z"
    },
    "papermill": {
     "duration": 0.03403,
     "end_time": "2024-09-23T15:49:02.567538",
     "exception": false,
     "start_time": "2024-09-23T15:49:02.533508",
     "status": "completed"
    },
    "tags": []
   },
   "outputs": [
    {
     "data": {
      "text/plain": [
       "number_places_morning\n",
       "1    2347\n",
       "0     308\n",
       "2     149\n",
       "3      16\n",
       "4       4\n",
       "Name: count, dtype: int64"
      ]
     },
     "execution_count": 12,
     "metadata": {},
     "output_type": "execute_result"
    }
   ],
   "source": [
    "result_1['number_places_morning'].value_counts()"
   ]
  },
  {
   "cell_type": "code",
   "execution_count": 13,
   "id": "1aeb781c",
   "metadata": {
    "execution": {
     "iopub.execute_input": "2024-09-23T15:49:02.605414Z",
     "iopub.status.busy": "2024-09-23T15:49:02.604962Z",
     "iopub.status.idle": "2024-09-23T15:49:02.609892Z",
     "shell.execute_reply": "2024-09-23T15:49:02.608813Z"
    },
    "papermill": {
     "duration": 0.026881,
     "end_time": "2024-09-23T15:49:02.612467",
     "exception": false,
     "start_time": "2024-09-23T15:49:02.585586",
     "status": "completed"
    },
    "tags": []
   },
   "outputs": [],
   "source": [
    "# time spent in mostly visited location\n",
    "# time spent in second most visited location\n",
    "# time spent in third most visited location"
   ]
  },
  {
   "cell_type": "code",
   "execution_count": 14,
   "id": "e1c8548d",
   "metadata": {
    "execution": {
     "iopub.execute_input": "2024-09-23T15:49:02.652405Z",
     "iopub.status.busy": "2024-09-23T15:49:02.651979Z",
     "iopub.status.idle": "2024-09-23T15:49:02.669667Z",
     "shell.execute_reply": "2024-09-23T15:49:02.668491Z"
    },
    "papermill": {
     "duration": 0.039764,
     "end_time": "2024-09-23T15:49:02.671953",
     "exception": false,
     "start_time": "2024-09-23T15:49:02.632189",
     "status": "completed"
    },
    "tags": []
   },
   "outputs": [],
   "source": [
    "def count_time_spent_places_visited(df, eps=0.001, min_samples=3):\n",
    "    results = []\n",
    "    unique_dates = df['date'].unique()\n",
    "\n",
    "    for date in unique_dates:\n",
    "        places_count = {\n",
    "            'time_spent_morning_firstplace': 0,\n",
    "            'time_spent_afternoon_firstplace': 0,\n",
    "            'time_spent_evening_firstplace': 0,\n",
    "            'time_spent_night_firstplace': 0,\n",
    "            'time_spent_morning_secondplace': 0,\n",
    "            'time_spent_afternoon_secondplace': 0,\n",
    "            'time_spent_evening_secondplace': 0,\n",
    "            'time_spent_night_secondplace': 0,\n",
    "            'time_spent_morning_thirdplace': 0,\n",
    "            'time_spent_afternoon_thirdplace': 0,\n",
    "            'time_spent_evening_thirdplace': 0,\n",
    "            'time_spent_night_thirdplace': 0,\n",
    "        }\n",
    "        \n",
    "        for time_interval in ['morning', 'afternoon', 'evening', 'night']:\n",
    "            subset = df[(df['date'] == date) & \n",
    "                        (df['time_interval'] == time_interval)].copy()\n",
    "            \n",
    "            if not subset.empty:\n",
    "                coords = subset[['latitude', 'longitude']].values\n",
    "                db = DBSCAN(eps=eps, min_samples=min_samples).fit(coords)\n",
    "                labels = db.labels_\n",
    "                \n",
    "                label_counts = pd.Series(labels).value_counts()\n",
    "                sorted_labels = label_counts.index[label_counts.index != -1][:3]  # first 3 labels\n",
    "                \n",
    "                # time spent calculation function\n",
    "                def calculate_time_spent(location_subset):\n",
    "                    time_spent = 0\n",
    "                    location_subset = location_subset.sort_values(by='timestamp')\n",
    "                    for i in range(len(location_subset) - 1):\n",
    "                        time_spent += (location_subset['timestamp'].iloc[i + 1] - \n",
    "                                       location_subset['timestamp'].iloc[i]).total_seconds()\n",
    "                    time_spent /= 3600  # convert to hours\n",
    "                    return time_spent\n",
    "                \n",
    "                # first place\n",
    "                if len(sorted_labels) > 0:\n",
    "                    location_subset = subset[labels == sorted_labels[0]]\n",
    "                    places_count[f'time_spent_{time_interval}_firstplace'] = calculate_time_spent(location_subset)\n",
    "                \n",
    "                # second place\n",
    "                if len(sorted_labels) > 1:\n",
    "                    location_subset = subset[labels == sorted_labels[1]]\n",
    "                    places_count[f'time_spent_{time_interval}_secondplace'] = calculate_time_spent(location_subset)\n",
    "                \n",
    "                # third place\n",
    "                if len(sorted_labels) > 2:\n",
    "                    location_subset = subset[labels == sorted_labels[2]]\n",
    "                    places_count[f'time_spent_{time_interval}_thirdplace'] = calculate_time_spent(location_subset)\n",
    "        \n",
    "        results.append({\n",
    "            'uid': df['uid'].iloc[0],\n",
    "            'date': date,\n",
    "            **places_count\n",
    "        })\n",
    "        \n",
    "    results_df = pd.DataFrame(results)\n",
    "    \n",
    "    return results_df"
   ]
  },
  {
   "cell_type": "code",
   "execution_count": 15,
   "id": "d2d0249b",
   "metadata": {
    "execution": {
     "iopub.execute_input": "2024-09-23T15:49:02.711660Z",
     "iopub.status.busy": "2024-09-23T15:49:02.710550Z",
     "iopub.status.idle": "2024-09-23T15:50:23.799315Z",
     "shell.execute_reply": "2024-09-23T15:50:23.798118Z"
    },
    "papermill": {
     "duration": 81.111973,
     "end_time": "2024-09-23T15:50:23.802139",
     "exception": false,
     "start_time": "2024-09-23T15:49:02.690166",
     "status": "completed"
    },
    "tags": []
   },
   "outputs": [
    {
     "name": "stderr",
     "output_type": "stream",
     "text": [
      "  0%|          | 0/49 [00:00<?, ?it/s]"
     ]
    },
    {
     "name": "stdout",
     "output_type": "stream",
     "text": [
      "u00\n"
     ]
    },
    {
     "name": "stderr",
     "output_type": "stream",
     "text": [
      "  2%|▏         | 1/49 [00:01<01:24,  1.77s/it]"
     ]
    },
    {
     "name": "stdout",
     "output_type": "stream",
     "text": [
      "u01\n"
     ]
    },
    {
     "name": "stderr",
     "output_type": "stream",
     "text": [
      "  4%|▍         | 2/49 [00:03<01:30,  1.93s/it]"
     ]
    },
    {
     "name": "stdout",
     "output_type": "stream",
     "text": [
      "u02\n"
     ]
    },
    {
     "name": "stderr",
     "output_type": "stream",
     "text": [
      "  6%|▌         | 3/49 [00:06<01:37,  2.13s/it]"
     ]
    },
    {
     "name": "stdout",
     "output_type": "stream",
     "text": [
      "u03\n"
     ]
    },
    {
     "name": "stderr",
     "output_type": "stream",
     "text": [
      "  8%|▊         | 4/49 [00:07<01:22,  1.83s/it]"
     ]
    },
    {
     "name": "stdout",
     "output_type": "stream",
     "text": [
      "u04\n"
     ]
    },
    {
     "name": "stderr",
     "output_type": "stream",
     "text": [
      " 10%|█         | 5/49 [00:09<01:15,  1.72s/it]"
     ]
    },
    {
     "name": "stdout",
     "output_type": "stream",
     "text": [
      "u05\n"
     ]
    },
    {
     "name": "stderr",
     "output_type": "stream",
     "text": [
      " 12%|█▏        | 6/49 [00:11<01:17,  1.81s/it]"
     ]
    },
    {
     "name": "stdout",
     "output_type": "stream",
     "text": [
      "u07\n"
     ]
    },
    {
     "name": "stderr",
     "output_type": "stream",
     "text": [
      " 14%|█▍        | 7/49 [00:12<01:08,  1.63s/it]"
     ]
    },
    {
     "name": "stdout",
     "output_type": "stream",
     "text": [
      "u08\n"
     ]
    },
    {
     "name": "stderr",
     "output_type": "stream",
     "text": [
      " 16%|█▋        | 8/49 [00:14<01:14,  1.82s/it]"
     ]
    },
    {
     "name": "stdout",
     "output_type": "stream",
     "text": [
      "u09\n"
     ]
    },
    {
     "name": "stderr",
     "output_type": "stream",
     "text": [
      " 18%|█▊        | 9/49 [00:16<01:14,  1.85s/it]"
     ]
    },
    {
     "name": "stdout",
     "output_type": "stream",
     "text": [
      "u10\n"
     ]
    },
    {
     "name": "stderr",
     "output_type": "stream",
     "text": [
      " 20%|██        | 10/49 [00:18<01:12,  1.85s/it]"
     ]
    },
    {
     "name": "stdout",
     "output_type": "stream",
     "text": [
      "u12\n"
     ]
    },
    {
     "name": "stderr",
     "output_type": "stream",
     "text": [
      " 22%|██▏       | 11/49 [00:20<01:15,  1.97s/it]"
     ]
    },
    {
     "name": "stdout",
     "output_type": "stream",
     "text": [
      "u13\n"
     ]
    },
    {
     "name": "stderr",
     "output_type": "stream",
     "text": [
      " 24%|██▍       | 12/49 [00:22<01:14,  2.00s/it]"
     ]
    },
    {
     "name": "stdout",
     "output_type": "stream",
     "text": [
      "u14\n"
     ]
    },
    {
     "name": "stderr",
     "output_type": "stream",
     "text": [
      " 27%|██▋       | 13/49 [00:24<01:08,  1.90s/it]"
     ]
    },
    {
     "name": "stdout",
     "output_type": "stream",
     "text": [
      "u15\n"
     ]
    },
    {
     "name": "stderr",
     "output_type": "stream",
     "text": [
      " 29%|██▊       | 14/49 [00:25<00:55,  1.60s/it]"
     ]
    },
    {
     "name": "stdout",
     "output_type": "stream",
     "text": [
      "u16\n"
     ]
    },
    {
     "name": "stderr",
     "output_type": "stream",
     "text": [
      " 31%|███       | 15/49 [00:27<00:59,  1.75s/it]"
     ]
    },
    {
     "name": "stdout",
     "output_type": "stream",
     "text": [
      "u17\n"
     ]
    },
    {
     "name": "stderr",
     "output_type": "stream",
     "text": [
      " 33%|███▎      | 16/49 [00:29<01:01,  1.88s/it]"
     ]
    },
    {
     "name": "stdout",
     "output_type": "stream",
     "text": [
      "u18\n"
     ]
    },
    {
     "name": "stderr",
     "output_type": "stream",
     "text": [
      " 35%|███▍      | 17/49 [00:30<00:55,  1.75s/it]"
     ]
    },
    {
     "name": "stdout",
     "output_type": "stream",
     "text": [
      "u19\n"
     ]
    },
    {
     "name": "stderr",
     "output_type": "stream",
     "text": [
      " 37%|███▋      | 18/49 [00:32<00:55,  1.79s/it]"
     ]
    },
    {
     "name": "stdout",
     "output_type": "stream",
     "text": [
      "u20\n"
     ]
    },
    {
     "name": "stderr",
     "output_type": "stream",
     "text": [
      " 39%|███▉      | 19/49 [00:33<00:47,  1.58s/it]"
     ]
    },
    {
     "name": "stdout",
     "output_type": "stream",
     "text": [
      "u22\n"
     ]
    },
    {
     "name": "stderr",
     "output_type": "stream",
     "text": [
      " 41%|████      | 20/49 [00:35<00:48,  1.66s/it]"
     ]
    },
    {
     "name": "stdout",
     "output_type": "stream",
     "text": [
      "u23\n"
     ]
    },
    {
     "name": "stderr",
     "output_type": "stream",
     "text": [
      " 43%|████▎     | 21/49 [00:38<00:51,  1.85s/it]"
     ]
    },
    {
     "name": "stdout",
     "output_type": "stream",
     "text": [
      "u24\n"
     ]
    },
    {
     "name": "stderr",
     "output_type": "stream",
     "text": [
      " 45%|████▍     | 22/49 [00:38<00:41,  1.54s/it]"
     ]
    },
    {
     "name": "stdout",
     "output_type": "stream",
     "text": [
      "u25\n"
     ]
    },
    {
     "name": "stderr",
     "output_type": "stream",
     "text": [
      " 47%|████▋     | 23/49 [00:39<00:35,  1.35s/it]"
     ]
    },
    {
     "name": "stdout",
     "output_type": "stream",
     "text": [
      "u27\n"
     ]
    },
    {
     "name": "stderr",
     "output_type": "stream",
     "text": [
      " 49%|████▉     | 24/49 [00:41<00:37,  1.50s/it]"
     ]
    },
    {
     "name": "stdout",
     "output_type": "stream",
     "text": [
      "u30\n"
     ]
    },
    {
     "name": "stderr",
     "output_type": "stream",
     "text": [
      " 51%|█████     | 25/49 [00:43<00:38,  1.58s/it]"
     ]
    },
    {
     "name": "stdout",
     "output_type": "stream",
     "text": [
      "u31\n"
     ]
    },
    {
     "name": "stderr",
     "output_type": "stream",
     "text": [
      " 53%|█████▎    | 26/49 [00:45<00:37,  1.62s/it]"
     ]
    },
    {
     "name": "stdout",
     "output_type": "stream",
     "text": [
      "u32\n"
     ]
    },
    {
     "name": "stderr",
     "output_type": "stream",
     "text": [
      " 55%|█████▌    | 27/49 [00:46<00:34,  1.56s/it]"
     ]
    },
    {
     "name": "stdout",
     "output_type": "stream",
     "text": [
      "u33\n"
     ]
    },
    {
     "name": "stderr",
     "output_type": "stream",
     "text": [
      " 57%|█████▋    | 28/49 [00:47<00:30,  1.44s/it]"
     ]
    },
    {
     "name": "stdout",
     "output_type": "stream",
     "text": [
      "u34\n"
     ]
    },
    {
     "name": "stderr",
     "output_type": "stream",
     "text": [
      " 59%|█████▉    | 29/49 [00:48<00:25,  1.30s/it]"
     ]
    },
    {
     "name": "stdout",
     "output_type": "stream",
     "text": [
      "u35\n"
     ]
    },
    {
     "name": "stderr",
     "output_type": "stream",
     "text": [
      " 61%|██████    | 30/49 [00:50<00:27,  1.46s/it]"
     ]
    },
    {
     "name": "stdout",
     "output_type": "stream",
     "text": [
      "u36\n"
     ]
    },
    {
     "name": "stderr",
     "output_type": "stream",
     "text": [
      " 63%|██████▎   | 31/49 [00:52<00:29,  1.64s/it]"
     ]
    },
    {
     "name": "stdout",
     "output_type": "stream",
     "text": [
      "u39\n"
     ]
    },
    {
     "name": "stderr",
     "output_type": "stream",
     "text": [
      " 65%|██████▌   | 32/49 [00:53<00:22,  1.32s/it]"
     ]
    },
    {
     "name": "stdout",
     "output_type": "stream",
     "text": [
      "u41\n"
     ]
    },
    {
     "name": "stderr",
     "output_type": "stream",
     "text": [
      " 67%|██████▋   | 33/49 [00:54<00:20,  1.31s/it]"
     ]
    },
    {
     "name": "stdout",
     "output_type": "stream",
     "text": [
      "u42\n"
     ]
    },
    {
     "name": "stderr",
     "output_type": "stream",
     "text": [
      " 69%|██████▉   | 34/49 [00:55<00:19,  1.29s/it]"
     ]
    },
    {
     "name": "stdout",
     "output_type": "stream",
     "text": [
      "u43\n"
     ]
    },
    {
     "name": "stderr",
     "output_type": "stream",
     "text": [
      " 71%|███████▏  | 35/49 [00:57<00:19,  1.38s/it]"
     ]
    },
    {
     "name": "stdout",
     "output_type": "stream",
     "text": [
      "u44\n"
     ]
    },
    {
     "name": "stderr",
     "output_type": "stream",
     "text": [
      " 73%|███████▎  | 36/49 [00:58<00:19,  1.47s/it]"
     ]
    },
    {
     "name": "stdout",
     "output_type": "stream",
     "text": [
      "u45\n"
     ]
    },
    {
     "name": "stderr",
     "output_type": "stream",
     "text": [
      " 76%|███████▌  | 37/49 [01:00<00:16,  1.36s/it]"
     ]
    },
    {
     "name": "stdout",
     "output_type": "stream",
     "text": [
      "u46\n"
     ]
    },
    {
     "name": "stderr",
     "output_type": "stream",
     "text": [
      " 78%|███████▊  | 38/49 [01:01<00:15,  1.41s/it]"
     ]
    },
    {
     "name": "stdout",
     "output_type": "stream",
     "text": [
      "u47\n"
     ]
    },
    {
     "name": "stderr",
     "output_type": "stream",
     "text": [
      " 80%|███████▉  | 39/49 [01:02<00:13,  1.39s/it]"
     ]
    },
    {
     "name": "stdout",
     "output_type": "stream",
     "text": [
      "u49\n"
     ]
    },
    {
     "name": "stderr",
     "output_type": "stream",
     "text": [
      " 82%|████████▏ | 40/49 [01:04<00:12,  1.44s/it]"
     ]
    },
    {
     "name": "stdout",
     "output_type": "stream",
     "text": [
      "u50\n"
     ]
    },
    {
     "name": "stderr",
     "output_type": "stream",
     "text": [
      " 84%|████████▎ | 41/49 [01:05<00:10,  1.30s/it]"
     ]
    },
    {
     "name": "stdout",
     "output_type": "stream",
     "text": [
      "u51\n"
     ]
    },
    {
     "name": "stderr",
     "output_type": "stream",
     "text": [
      " 86%|████████▌ | 42/49 [01:07<00:11,  1.58s/it]"
     ]
    },
    {
     "name": "stdout",
     "output_type": "stream",
     "text": [
      "u52\n"
     ]
    },
    {
     "name": "stderr",
     "output_type": "stream",
     "text": [
      " 88%|████████▊ | 43/49 [01:10<00:11,  1.86s/it]"
     ]
    },
    {
     "name": "stdout",
     "output_type": "stream",
     "text": [
      "u53\n"
     ]
    },
    {
     "name": "stderr",
     "output_type": "stream",
     "text": [
      " 90%|████████▉ | 44/49 [01:11<00:09,  1.81s/it]"
     ]
    },
    {
     "name": "stdout",
     "output_type": "stream",
     "text": [
      "u54\n"
     ]
    },
    {
     "name": "stderr",
     "output_type": "stream",
     "text": [
      " 92%|█████████▏| 45/49 [01:13<00:06,  1.63s/it]"
     ]
    },
    {
     "name": "stdout",
     "output_type": "stream",
     "text": [
      "u56\n"
     ]
    },
    {
     "name": "stderr",
     "output_type": "stream",
     "text": [
      " 94%|█████████▍| 46/49 [01:14<00:04,  1.62s/it]"
     ]
    },
    {
     "name": "stdout",
     "output_type": "stream",
     "text": [
      "u57\n"
     ]
    },
    {
     "name": "stderr",
     "output_type": "stream",
     "text": [
      " 96%|█████████▌| 47/49 [01:16<00:03,  1.79s/it]"
     ]
    },
    {
     "name": "stdout",
     "output_type": "stream",
     "text": [
      "u58\n"
     ]
    },
    {
     "name": "stderr",
     "output_type": "stream",
     "text": [
      " 98%|█████████▊| 48/49 [01:18<00:01,  1.87s/it]"
     ]
    },
    {
     "name": "stdout",
     "output_type": "stream",
     "text": [
      "u59\n"
     ]
    },
    {
     "name": "stderr",
     "output_type": "stream",
     "text": [
      "100%|██████████| 49/49 [01:21<00:00,  1.65s/it]\n"
     ]
    }
   ],
   "source": [
    "result_2 = DataFrame()\n",
    "\n",
    "for uid in tqdm(student_uids):\n",
    "    print(uid)\n",
    "    df_ = df_gps[df_gps['uid'] == uid]\n",
    "    df__ = count_time_spent_places_visited(df_)\n",
    "    frames = [result_2, df__]\n",
    "    result_2 = pd.concat(frames, ignore_index=True)"
   ]
  },
  {
   "cell_type": "code",
   "execution_count": 16,
   "id": "939e9f0e",
   "metadata": {
    "execution": {
     "iopub.execute_input": "2024-09-23T15:50:23.858492Z",
     "iopub.status.busy": "2024-09-23T15:50:23.858019Z",
     "iopub.status.idle": "2024-09-23T15:50:23.878801Z",
     "shell.execute_reply": "2024-09-23T15:50:23.877634Z"
    },
    "papermill": {
     "duration": 0.051993,
     "end_time": "2024-09-23T15:50:23.881166",
     "exception": false,
     "start_time": "2024-09-23T15:50:23.829173",
     "status": "completed"
    },
    "tags": []
   },
   "outputs": [
    {
     "data": {
      "text/html": [
       "<div>\n",
       "<style scoped>\n",
       "    .dataframe tbody tr th:only-of-type {\n",
       "        vertical-align: middle;\n",
       "    }\n",
       "\n",
       "    .dataframe tbody tr th {\n",
       "        vertical-align: top;\n",
       "    }\n",
       "\n",
       "    .dataframe thead th {\n",
       "        text-align: right;\n",
       "    }\n",
       "</style>\n",
       "<table border=\"1\" class=\"dataframe\">\n",
       "  <thead>\n",
       "    <tr style=\"text-align: right;\">\n",
       "      <th></th>\n",
       "      <th>uid</th>\n",
       "      <th>date</th>\n",
       "      <th>time_spent_morning_firstplace</th>\n",
       "      <th>time_spent_afternoon_firstplace</th>\n",
       "      <th>time_spent_evening_firstplace</th>\n",
       "      <th>time_spent_night_firstplace</th>\n",
       "      <th>time_spent_morning_secondplace</th>\n",
       "      <th>time_spent_afternoon_secondplace</th>\n",
       "      <th>time_spent_evening_secondplace</th>\n",
       "      <th>time_spent_night_secondplace</th>\n",
       "      <th>time_spent_morning_thirdplace</th>\n",
       "      <th>time_spent_afternoon_thirdplace</th>\n",
       "      <th>time_spent_evening_thirdplace</th>\n",
       "      <th>time_spent_night_thirdplace</th>\n",
       "    </tr>\n",
       "  </thead>\n",
       "  <tbody>\n",
       "    <tr>\n",
       "      <th>0</th>\n",
       "      <td>u00</td>\n",
       "      <td>2013-03-27</td>\n",
       "      <td>4.000000</td>\n",
       "      <td>5.333333</td>\n",
       "      <td>2.668611</td>\n",
       "      <td>1.666667</td>\n",
       "      <td>0.000000</td>\n",
       "      <td>1.000000</td>\n",
       "      <td>1.000000</td>\n",
       "      <td>0.000000</td>\n",
       "      <td>0.0</td>\n",
       "      <td>0.000000</td>\n",
       "      <td>0.0</td>\n",
       "      <td>0.000000</td>\n",
       "    </tr>\n",
       "    <tr>\n",
       "      <th>1</th>\n",
       "      <td>u00</td>\n",
       "      <td>2013-03-28</td>\n",
       "      <td>3.666667</td>\n",
       "      <td>5.334722</td>\n",
       "      <td>5.000000</td>\n",
       "      <td>3.332778</td>\n",
       "      <td>4.434444</td>\n",
       "      <td>0.666667</td>\n",
       "      <td>0.000000</td>\n",
       "      <td>1.333333</td>\n",
       "      <td>0.0</td>\n",
       "      <td>0.000000</td>\n",
       "      <td>0.0</td>\n",
       "      <td>3.332778</td>\n",
       "    </tr>\n",
       "    <tr>\n",
       "      <th>2</th>\n",
       "      <td>u00</td>\n",
       "      <td>2013-03-29</td>\n",
       "      <td>4.666667</td>\n",
       "      <td>5.333333</td>\n",
       "      <td>4.333333</td>\n",
       "      <td>1.333611</td>\n",
       "      <td>2.494444</td>\n",
       "      <td>3.666667</td>\n",
       "      <td>0.666667</td>\n",
       "      <td>1.000000</td>\n",
       "      <td>0.0</td>\n",
       "      <td>0.666667</td>\n",
       "      <td>0.0</td>\n",
       "      <td>1.001389</td>\n",
       "    </tr>\n",
       "  </tbody>\n",
       "</table>\n",
       "</div>"
      ],
      "text/plain": [
       "   uid        date  time_spent_morning_firstplace  \\\n",
       "0  u00  2013-03-27                       4.000000   \n",
       "1  u00  2013-03-28                       3.666667   \n",
       "2  u00  2013-03-29                       4.666667   \n",
       "\n",
       "   time_spent_afternoon_firstplace  time_spent_evening_firstplace  \\\n",
       "0                         5.333333                       2.668611   \n",
       "1                         5.334722                       5.000000   \n",
       "2                         5.333333                       4.333333   \n",
       "\n",
       "   time_spent_night_firstplace  time_spent_morning_secondplace  \\\n",
       "0                     1.666667                        0.000000   \n",
       "1                     3.332778                        4.434444   \n",
       "2                     1.333611                        2.494444   \n",
       "\n",
       "   time_spent_afternoon_secondplace  time_spent_evening_secondplace  \\\n",
       "0                          1.000000                        1.000000   \n",
       "1                          0.666667                        0.000000   \n",
       "2                          3.666667                        0.666667   \n",
       "\n",
       "   time_spent_night_secondplace  time_spent_morning_thirdplace  \\\n",
       "0                      0.000000                            0.0   \n",
       "1                      1.333333                            0.0   \n",
       "2                      1.000000                            0.0   \n",
       "\n",
       "   time_spent_afternoon_thirdplace  time_spent_evening_thirdplace  \\\n",
       "0                         0.000000                            0.0   \n",
       "1                         0.000000                            0.0   \n",
       "2                         0.666667                            0.0   \n",
       "\n",
       "   time_spent_night_thirdplace  \n",
       "0                     0.000000  \n",
       "1                     3.332778  \n",
       "2                     1.001389  "
      ]
     },
     "execution_count": 16,
     "metadata": {},
     "output_type": "execute_result"
    }
   ],
   "source": [
    "result_2.head(3)"
   ]
  },
  {
   "cell_type": "code",
   "execution_count": 17,
   "id": "f8b79a33",
   "metadata": {
    "execution": {
     "iopub.execute_input": "2024-09-23T15:50:23.938465Z",
     "iopub.status.busy": "2024-09-23T15:50:23.937655Z",
     "iopub.status.idle": "2024-09-23T15:50:23.952285Z",
     "shell.execute_reply": "2024-09-23T15:50:23.951016Z"
    },
    "papermill": {
     "duration": 0.045913,
     "end_time": "2024-09-23T15:50:23.954892",
     "exception": false,
     "start_time": "2024-09-23T15:50:23.908979",
     "status": "completed"
    },
    "tags": []
   },
   "outputs": [
    {
     "name": "stdout",
     "output_type": "stream",
     "text": [
      "5.980833333333333\n",
      "5.990833333333334\n",
      "5.99\n",
      "5.9927777777777775\n",
      "5.666944444444445\n",
      "5.833333333333333\n",
      "5.863888888888889\n",
      "5.970277777777778\n",
      "4.666111111111111\n",
      "5.681388888888889\n",
      "5.833333333333333\n",
      "5.833333333333333\n"
     ]
    }
   ],
   "source": [
    "print(result_2['time_spent_morning_firstplace'].max())\n",
    "print(result_2['time_spent_afternoon_firstplace'].max())\n",
    "print(result_2['time_spent_evening_firstplace'].max())\n",
    "print(result_2['time_spent_night_firstplace'].max())\n",
    "\n",
    "print(result_2['time_spent_morning_secondplace'].max())\n",
    "print(result_2['time_spent_afternoon_secondplace'].max())\n",
    "print(result_2['time_spent_evening_secondplace'].max())\n",
    "print(result_2['time_spent_night_secondplace'].max())\n",
    "\n",
    "print(result_2['time_spent_morning_thirdplace'].max())\n",
    "print(result_2['time_spent_afternoon_thirdplace'].max())\n",
    "print(result_2['time_spent_evening_thirdplace'].max())\n",
    "print(result_2['time_spent_night_thirdplace'].max())"
   ]
  },
  {
   "cell_type": "code",
   "execution_count": 18,
   "id": "1a30cea5",
   "metadata": {
    "execution": {
     "iopub.execute_input": "2024-09-23T15:50:24.012303Z",
     "iopub.status.busy": "2024-09-23T15:50:24.011845Z",
     "iopub.status.idle": "2024-09-23T15:50:24.107402Z",
     "shell.execute_reply": "2024-09-23T15:50:24.106349Z"
    },
    "papermill": {
     "duration": 0.127535,
     "end_time": "2024-09-23T15:50:24.110202",
     "exception": false,
     "start_time": "2024-09-23T15:50:23.982667",
     "status": "completed"
    },
    "tags": []
   },
   "outputs": [],
   "source": [
    "df = pd.merge(result_1, result_2, on=['uid', 'date'])\n",
    "df.to_csv('location_features_studentlife_first_half.csv')"
   ]
  }
 ],
 "metadata": {
  "kaggle": {
   "accelerator": "none",
   "dataSources": [
    {
     "datasetId": 5754228,
     "sourceId": 9463927,
     "sourceType": "datasetVersion"
    }
   ],
   "dockerImageVersionId": 30761,
   "isGpuEnabled": false,
   "isInternetEnabled": true,
   "language": "python",
   "sourceType": "notebook"
  },
  "kernelspec": {
   "display_name": "Python 3 (ipykernel)",
   "language": "python",
   "name": "python3"
  },
  "language_info": {
   "codemirror_mode": {
    "name": "ipython",
    "version": 3
   },
   "file_extension": ".py",
   "mimetype": "text/x-python",
   "name": "python",
   "nbconvert_exporter": "python",
   "pygments_lexer": "ipython3",
   "version": "3.9.17"
  },
  "papermill": {
   "default_parameters": {},
   "duration": 189.48375,
   "end_time": "2024-09-23T15:50:24.960329",
   "environment_variables": {},
   "exception": null,
   "input_path": "__notebook__.ipynb",
   "output_path": "__notebook__.ipynb",
   "parameters": {},
   "start_time": "2024-09-23T15:47:15.476579",
   "version": "2.6.0"
  }
 },
 "nbformat": 4,
 "nbformat_minor": 5
}
