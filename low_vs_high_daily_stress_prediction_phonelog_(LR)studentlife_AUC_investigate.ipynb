{
 "cells": [
  {
   "cell_type": "code",
   "execution_count": 1,
   "id": "f688cb8c-ed93-46db-8ac9-e5bf57c4df74",
   "metadata": {},
   "outputs": [],
   "source": [
    "import numpy as np\n",
    "import pandas as pd\n",
    "from tqdm import tqdm\n",
    "from io import StringIO\n",
    "import tensorflow as tf\n",
    "from sklearn.model_selection import train_test_split\n",
    "from sklearn.preprocessing import LabelEncoder\n",
    "from sklearn.preprocessing import StandardScaler\n",
    "from sklearn.preprocessing import MinMaxScaler\n",
    "from sklearn.linear_model import LogisticRegression\n",
    "from sklearn.metrics import roc_auc_score, accuracy_score\n",
    "from sklearn.feature_selection import RFE\n",
    "\n",
    "from sklearn.metrics import confusion_matrix\n",
    "from keras.layers import Dense, Activation, Dropout\n",
    "from sklearn.metrics import classification_report\n",
    "from keras.models import Sequential\n",
    "from keras.utils import to_categorical\n",
    "from sklearn.metrics import f1_score\n",
    "import matplotlib.pyplot as plt\n",
    "import seaborn as sns\n",
    "import random\n",
    "import openpyxl\n",
    "\n",
    "\n",
    "from imblearn.under_sampling import RandomUnderSampler\n",
    "from sklearn.utils.class_weight import compute_class_weight\n",
    "from sklearn.ensemble import RandomForestClassifier\n",
    "from sklearn.metrics import balanced_accuracy_score, roc_auc_score\n",
    "from imblearn.over_sampling import RandomOverSampler\n",
    "from sklearn.model_selection import GridSearchCV\n",
    "\n",
    "from tensorflow.keras import backend as K\n",
    "from tensorflow.keras.layers import Dense, Dropout\n",
    "from tensorflow.keras.optimizers import Adam\n",
    "from sklearn.metrics import balanced_accuracy_score, roc_auc_score\n",
    "from sklearn.model_selection import LeaveOneGroupOut\n",
    "from sklearn.utils.class_weight import compute_class_weight\n",
    "from itertools import combinations\n",
    "import joblib"
   ]
  },
  {
   "cell_type": "code",
   "execution_count": 2,
   "id": "a13de8f6",
   "metadata": {},
   "outputs": [],
   "source": [
    "df1 = pd.read_csv('/Users/ohidabinteamin/Documents/Stress Prediction Project Three Datasets/StudentLife/week 01/PhoneLog/raw_phonelog_features_studentlife.csv')\n",
    "df1 = df1.rename(columns={'Date': 'date'})\n",
    "df1 = df1.drop('Unnamed: 0', axis=1)\n",
    "df2 = pd.read_csv('/Users/ohidabinteamin/Documents/Stress Prediction Project Three Datasets/StudentLife/week 01/Stress/recreating_dailystress_features.csv')\n",
    "df2 = df2.drop('Unnamed: 0', axis=1)"
   ]
  },
  {
   "cell_type": "code",
   "execution_count": 3,
   "id": "8790dc02",
   "metadata": {},
   "outputs": [
    {
     "name": "stdout",
     "output_type": "stream",
     "text": [
      "Index(['date', 'uid', 'morning_phonecharge_duration',\n",
      "       'morning_phonecharge_frequency', 'morning_phonelock_duration',\n",
      "       'morning_phonelock_frequency', 'morning_dark_duration',\n",
      "       'afternoon_phonecharge_duration', 'afternoon_phonecharge_frequency',\n",
      "       'afternoon_phonelock_duration', 'afternoon_phonelock_frequency',\n",
      "       'afternoon_dark_duration', 'evening_phonecharge_duration',\n",
      "       'evening_phonecharge_frequency', 'evening_phonelock_duration',\n",
      "       'evening_phonelock_frequency', 'evening_dark_duration',\n",
      "       'night_phonecharge_duration', 'night_phonecharge_frequency',\n",
      "       'night_phonelock_duration', 'night_phonelock_frequency',\n",
      "       'night_dark_duration', 'stress_ratings'],\n",
      "      dtype='object')\n"
     ]
    }
   ],
   "source": [
    "df = pd.merge(df1, df2, on=['uid', 'date'])\n",
    "print(df.columns)\n",
    "\n",
    "df = df.sort_values(by='date')"
   ]
  },
  {
   "cell_type": "code",
   "execution_count": 4,
   "id": "88641721-82da-42c7-b187-a673a82f011c",
   "metadata": {},
   "outputs": [
    {
     "data": {
      "text/plain": [
       "date                                 0\n",
       "uid                                  0\n",
       "morning_phonecharge_duration       205\n",
       "morning_phonecharge_frequency      205\n",
       "morning_phonelock_duration           5\n",
       "morning_phonelock_frequency          5\n",
       "morning_dark_duration               47\n",
       "afternoon_phonecharge_duration       0\n",
       "afternoon_phonecharge_frequency      0\n",
       "afternoon_phonelock_duration         0\n",
       "afternoon_phonelock_frequency        0\n",
       "afternoon_dark_duration              0\n",
       "evening_phonecharge_duration         5\n",
       "evening_phonecharge_frequency        5\n",
       "evening_phonelock_duration           0\n",
       "evening_phonelock_frequency          0\n",
       "evening_dark_duration                0\n",
       "night_phonecharge_duration           5\n",
       "night_phonecharge_frequency          5\n",
       "night_phonelock_duration             0\n",
       "night_phonelock_frequency            0\n",
       "night_dark_duration                  0\n",
       "stress_ratings                       0\n",
       "dtype: int64"
      ]
     },
     "execution_count": 4,
     "metadata": {},
     "output_type": "execute_result"
    }
   ],
   "source": [
    "df.isnull().sum()"
   ]
  },
  {
   "cell_type": "code",
   "execution_count": 5,
   "id": "576bb6e1-ad0a-4d6c-9768-5a7a30b1dfa6",
   "metadata": {},
   "outputs": [
    {
     "name": "stdout",
     "output_type": "stream",
     "text": [
      "3349\n"
     ]
    }
   ],
   "source": [
    "df = df.dropna()\n",
    "print(len(df))"
   ]
  },
  {
   "cell_type": "code",
   "execution_count": 6,
   "id": "1b2f78a1-7383-4c8c-846c-06763e97ab60",
   "metadata": {},
   "outputs": [
    {
     "data": {
      "text/plain": [
       "Index(['date', 'uid', 'morning_phonecharge_duration',\n",
       "       'morning_phonecharge_frequency', 'morning_phonelock_duration',\n",
       "       'morning_phonelock_frequency', 'morning_dark_duration',\n",
       "       'afternoon_phonecharge_duration', 'afternoon_phonecharge_frequency',\n",
       "       'afternoon_phonelock_duration', 'afternoon_phonelock_frequency',\n",
       "       'afternoon_dark_duration', 'evening_phonecharge_duration',\n",
       "       'evening_phonecharge_frequency', 'evening_phonelock_duration',\n",
       "       'evening_phonelock_frequency', 'evening_dark_duration',\n",
       "       'night_phonecharge_duration', 'night_phonecharge_frequency',\n",
       "       'night_phonelock_duration', 'night_phonelock_frequency',\n",
       "       'night_dark_duration', 'stress_ratings'],\n",
       "      dtype='object')"
      ]
     },
     "execution_count": 6,
     "metadata": {},
     "output_type": "execute_result"
    }
   ],
   "source": [
    "df.columns"
   ]
  },
  {
   "cell_type": "code",
   "execution_count": 7,
   "id": "a5032380-a9b2-4dc8-b42d-3e3a5b632093",
   "metadata": {},
   "outputs": [
    {
     "data": {
      "text/plain": [
       "23"
      ]
     },
     "execution_count": 7,
     "metadata": {},
     "output_type": "execute_result"
    }
   ],
   "source": [
    "len(df.columns)"
   ]
  },
  {
   "cell_type": "code",
   "execution_count": 8,
   "id": "637f66c7-2809-40a4-abc0-702c72e594a1",
   "metadata": {},
   "outputs": [
    {
     "data": {
      "text/plain": [
       "stress_ratings\n",
       "medium stress    1328\n",
       "high stress      1043\n",
       "low stress        978\n",
       "Name: count, dtype: int64"
      ]
     },
     "execution_count": 8,
     "metadata": {},
     "output_type": "execute_result"
    }
   ],
   "source": [
    "df['stress_ratings'].value_counts()"
   ]
  },
  {
   "cell_type": "code",
   "execution_count": 9,
   "id": "05191acb-7624-4e48-9767-a3052e486aa0",
   "metadata": {},
   "outputs": [],
   "source": [
    "binary_lh_data = df[df['stress_ratings'].isin(['low stress', 'high stress'])]"
   ]
  },
  {
   "cell_type": "code",
   "execution_count": 10,
   "id": "6b6d94cc-584a-45ee-b3b8-3d3eaab2c6a5",
   "metadata": {},
   "outputs": [
    {
     "name": "stdout",
     "output_type": "stream",
     "text": [
      "43\n"
     ]
    },
    {
     "data": {
      "text/plain": [
       "uid\n",
       "u59    152\n",
       "u16    128\n",
       "u19    126\n",
       "u49    111\n",
       "u04     97\n",
       "u33     87\n",
       "u57     84\n",
       "u58     82\n",
       "u08     79\n",
       "u00     71\n",
       "u52     68\n",
       "u46     60\n",
       "u44     54\n",
       "u45     54\n",
       "u22     48\n",
       "u12     48\n",
       "u32     47\n",
       "u01     43\n",
       "u02     40\n",
       "u07     39\n",
       "u36     38\n",
       "u51     37\n",
       "u30     35\n",
       "u24     34\n",
       "u35     32\n",
       "u27     32\n",
       "u53     31\n",
       "u25     30\n",
       "u54     30\n",
       "u42     29\n",
       "u14     28\n",
       "u56     27\n",
       "u31     22\n",
       "u23     21\n",
       "u18     16\n",
       "u17     12\n",
       "u41     12\n",
       "u47     11\n",
       "u05      9\n",
       "u34      5\n",
       "u15      5\n",
       "u20      4\n",
       "u09      3\n",
       "Name: count, dtype: int64"
      ]
     },
     "execution_count": 10,
     "metadata": {},
     "output_type": "execute_result"
    }
   ],
   "source": [
    "print(len(binary_lh_data['uid'].unique()))\n",
    "binary_lh_data['uid'].value_counts()"
   ]
  },
  {
   "cell_type": "code",
   "execution_count": 11,
   "id": "373c5b85-dffb-4d9b-a342-65e2525f9b42",
   "metadata": {},
   "outputs": [],
   "source": [
    "# uid_counts = binary_lh_data['uid'].value_counts()\n",
    "# uids_to_keep = uid_counts[uid_counts >= 5].index\n",
    "# binary_lh_data = binary_lh_data[binary_lh_data['uid'].isin(uids_to_keep)]\n",
    "\n",
    "# print('Length of Data: ', len(binary_lh_data))\n",
    "# binary_lh_data = binary_lh_data.sort_values(by=['uid', 'date'])\n",
    "# print(binary_lh_data['uid'].unique())"
   ]
  },
  {
   "cell_type": "code",
   "execution_count": 12,
   "id": "9d3a31f1-a8e0-4bba-8ef1-d18f29836618",
   "metadata": {},
   "outputs": [],
   "source": [
    "X = binary_lh_data.drop(columns=['stress_ratings', 'uid', 'date'])\n",
    "y = binary_lh_data['stress_ratings']\n",
    "groups = binary_lh_data['uid']\n",
    "\n",
    "stress_map = {'low stress': 0, 'high stress': 1}\n",
    "y_encoded = y.map(stress_map).values "
   ]
  },
  {
   "cell_type": "code",
   "execution_count": 13,
   "id": "ab7a26eb-d08f-4420-ad6c-061e2e766686",
   "metadata": {},
   "outputs": [
    {
     "name": "stdout",
     "output_type": "stream",
     "text": [
      "Number of features in X: 20\n"
     ]
    }
   ],
   "source": [
    "print(f\"Number of features in X: {X.shape[1]}\")"
   ]
  },
  {
   "cell_type": "code",
   "execution_count": 14,
   "id": "d30d3ea7-b395-4fcf-ad12-0d03a5fecbba",
   "metadata": {},
   "outputs": [],
   "source": [
    "logo = LeaveOneGroupOut()\n",
    "\n",
    "best_thresholds = []\n",
    "balanced_accs = []\n",
    "auc_scores = []"
   ]
  },
  {
   "cell_type": "code",
   "execution_count": 15,
   "id": "561f903a-6aef-4e34-b406-93ca30bbd5e2",
   "metadata": {},
   "outputs": [],
   "source": [
    "seed_value = 42\n",
    "np.random.seed(seed_value)\n",
    "random.seed(seed_value)\n",
    "tf.random.set_seed(seed_value)"
   ]
  },
  {
   "cell_type": "code",
   "execution_count": 16,
   "id": "14e0b5eb-50c0-48f6-a1a7-eaa67bbfbf2d",
   "metadata": {},
   "outputs": [],
   "source": [
    "param_grid = [\n",
    "    {'C': [0.001, 0.01, 0.1, 1, 10, 100],\n",
    "     'penalty': ['l2'],\n",
    "     'solver': ['newton-cg', 'lbfgs', 'sag']},\n",
    "    {'C': [0.001, 0.01, 0.1, 1, 10, 100],\n",
    "     'penalty': ['l1', 'l2'],\n",
    "     'solver': ['liblinear']},\n",
    "    {'C': [0.001, 0.01, 0.1, 1, 10, 100],\n",
    "     'l1_ratio': [0.2, 0.5, 0.8],\n",
    "     'penalty': ['elasticnet'],\n",
    "     'solver': ['saga']}\n",
    "]"
   ]
  },
  {
   "cell_type": "code",
   "execution_count": 17,
   "id": "f2be34cb-e293-4beb-828f-71af3e289fb3",
   "metadata": {},
   "outputs": [
    {
     "name": "stdout",
     "output_type": "stream",
     "text": [
      "Selected Features: [ 2  3  5  6  7  8  9 10 11 12 13 14 15 16 18]\n",
      "43\n"
     ]
    },
    {
     "name": "stderr",
     "output_type": "stream",
     "text": [
      "LOSO CV Progress:   0%|                                    | 0/43 [00:00<?]   0%"
     ]
    },
    {
     "name": "stdout",
     "output_type": "stream",
     "text": [
      "Fitting 3 folds for each of 48 candidates, totalling 144 fits\n"
     ]
    },
    {
     "name": "stderr",
     "output_type": "stream",
     "text": [
      "LOSO CV Progress:   2%|▋                               | 1/43 [00:01<00:43]   2%"
     ]
    },
    {
     "name": "stdout",
     "output_type": "stream",
     "text": [
      "Fitting 3 folds for each of 48 candidates, totalling 144 fits\n"
     ]
    },
    {
     "name": "stderr",
     "output_type": "stream",
     "text": [
      "LOSO CV Progress:   5%|█▍                              | 2/43 [00:01<00:26]   5%"
     ]
    },
    {
     "name": "stdout",
     "output_type": "stream",
     "text": [
      "Fitting 3 folds for each of 48 candidates, totalling 144 fits\n"
     ]
    },
    {
     "name": "stderr",
     "output_type": "stream",
     "text": [
      "LOSO CV Progress:   7%|██▏                             | 3/43 [00:01<00:19]   7%"
     ]
    },
    {
     "name": "stdout",
     "output_type": "stream",
     "text": [
      "Fitting 3 folds for each of 48 candidates, totalling 144 fits\n"
     ]
    },
    {
     "name": "stderr",
     "output_type": "stream",
     "text": [
      "LOSO CV Progress:   9%|██▉                             | 4/43 [00:02<00:16]   9%"
     ]
    },
    {
     "name": "stdout",
     "output_type": "stream",
     "text": [
      "Fitting 3 folds for each of 48 candidates, totalling 144 fits\n"
     ]
    },
    {
     "name": "stderr",
     "output_type": "stream",
     "text": [
      "LOSO CV Progress:  12%|███▌                            | 5/43 [00:02<00:14]  12%"
     ]
    },
    {
     "name": "stdout",
     "output_type": "stream",
     "text": [
      "Fitting 3 folds for each of 48 candidates, totalling 144 fits\n"
     ]
    },
    {
     "name": "stderr",
     "output_type": "stream",
     "text": [
      "LOSO CV Progress:  14%|████▎                           | 6/43 [00:02<00:12]  14%"
     ]
    },
    {
     "name": "stdout",
     "output_type": "stream",
     "text": [
      "Fitting 3 folds for each of 48 candidates, totalling 144 fits\n"
     ]
    },
    {
     "name": "stderr",
     "output_type": "stream",
     "text": [
      "LOSO CV Progress:  16%|█████                           | 7/43 [00:02<00:12]  16%"
     ]
    },
    {
     "name": "stdout",
     "output_type": "stream",
     "text": [
      "Skipping this subject for having single class: y_train = [0 1], y_test = [1]\n",
      "Fitting 3 folds for each of 48 candidates, totalling 144 fits\n"
     ]
    },
    {
     "name": "stderr",
     "output_type": "stream",
     "text": [
      "LOSO CV Progress:  21%|██████▍                         | 9/43 [00:03<00:08]  21%"
     ]
    },
    {
     "name": "stdout",
     "output_type": "stream",
     "text": [
      "Fitting 3 folds for each of 48 candidates, totalling 144 fits\n"
     ]
    },
    {
     "name": "stderr",
     "output_type": "stream",
     "text": [
      "LOSO CV Progress:  23%|██████▉                        | 10/43 [00:03<00:08]  23%"
     ]
    },
    {
     "name": "stdout",
     "output_type": "stream",
     "text": [
      "Fitting 3 folds for each of 48 candidates, totalling 144 fits\n"
     ]
    },
    {
     "name": "stderr",
     "output_type": "stream",
     "text": [
      "LOSO CV Progress:  26%|███████▋                       | 11/43 [00:03<00:08]  26%"
     ]
    },
    {
     "name": "stdout",
     "output_type": "stream",
     "text": [
      "Fitting 3 folds for each of 48 candidates, totalling 144 fits\n"
     ]
    },
    {
     "name": "stderr",
     "output_type": "stream",
     "text": [
      "LOSO CV Progress:  28%|████████▎                      | 12/43 [00:04<00:09]  28%"
     ]
    },
    {
     "name": "stdout",
     "output_type": "stream",
     "text": [
      "Skipping this subject for having single class: y_train = [0 1], y_test = [0]\n",
      "Fitting 3 folds for each of 48 candidates, totalling 144 fits\n"
     ]
    },
    {
     "name": "stderr",
     "output_type": "stream",
     "text": [
      "LOSO CV Progress:  33%|█████████▊                     | 14/43 [00:04<00:06]  33%"
     ]
    },
    {
     "name": "stdout",
     "output_type": "stream",
     "text": [
      "Fitting 3 folds for each of 48 candidates, totalling 144 fits\n"
     ]
    },
    {
     "name": "stderr",
     "output_type": "stream",
     "text": [
      "LOSO CV Progress:  35%|██████████▍                    | 15/43 [00:04<00:06]  35%"
     ]
    },
    {
     "name": "stdout",
     "output_type": "stream",
     "text": [
      "Fitting 3 folds for each of 48 candidates, totalling 144 fits\n"
     ]
    },
    {
     "name": "stderr",
     "output_type": "stream",
     "text": [
      "LOSO CV Progress:  37%|███████████▏                   | 16/43 [00:05<00:06]  37%"
     ]
    },
    {
     "name": "stdout",
     "output_type": "stream",
     "text": [
      "Fitting 3 folds for each of 48 candidates, totalling 144 fits\n"
     ]
    },
    {
     "name": "stderr",
     "output_type": "stream",
     "text": [
      "LOSO CV Progress:  40%|███████████▊                   | 17/43 [00:05<00:06]  40%"
     ]
    },
    {
     "name": "stdout",
     "output_type": "stream",
     "text": [
      "Fitting 3 folds for each of 48 candidates, totalling 144 fits\n"
     ]
    },
    {
     "name": "stderr",
     "output_type": "stream",
     "text": [
      "LOSO CV Progress:  42%|████████████▌                  | 18/43 [00:05<00:06]  42%"
     ]
    },
    {
     "name": "stdout",
     "output_type": "stream",
     "text": [
      "Fitting 3 folds for each of 48 candidates, totalling 144 fits\n"
     ]
    },
    {
     "name": "stderr",
     "output_type": "stream",
     "text": [
      "LOSO CV Progress:  44%|█████████████▎                 | 19/43 [00:06<00:07]  44%"
     ]
    },
    {
     "name": "stdout",
     "output_type": "stream",
     "text": [
      "Fitting 3 folds for each of 48 candidates, totalling 144 fits\n"
     ]
    },
    {
     "name": "stderr",
     "output_type": "stream",
     "text": [
      "LOSO CV Progress:  47%|█████████████▉                 | 20/43 [00:06<00:07]  47%"
     ]
    },
    {
     "name": "stdout",
     "output_type": "stream",
     "text": [
      "Fitting 3 folds for each of 48 candidates, totalling 144 fits\n"
     ]
    },
    {
     "name": "stderr",
     "output_type": "stream",
     "text": [
      "LOSO CV Progress:  49%|██████████████▋                | 21/43 [00:06<00:06]  49%"
     ]
    },
    {
     "name": "stdout",
     "output_type": "stream",
     "text": [
      "Fitting 3 folds for each of 48 candidates, totalling 144 fits\n"
     ]
    },
    {
     "name": "stderr",
     "output_type": "stream",
     "text": [
      "LOSO CV Progress:  51%|███████████████▎               | 22/43 [00:06<00:06]  51%"
     ]
    },
    {
     "name": "stdout",
     "output_type": "stream",
     "text": [
      "Fitting 3 folds for each of 48 candidates, totalling 144 fits\n"
     ]
    },
    {
     "name": "stderr",
     "output_type": "stream",
     "text": [
      "LOSO CV Progress:  53%|████████████████               | 23/43 [00:07<00:05]  53%"
     ]
    },
    {
     "name": "stdout",
     "output_type": "stream",
     "text": [
      "Skipping this subject for having single class: y_train = [0 1], y_test = [0]\n",
      "Fitting 3 folds for each of 48 candidates, totalling 144 fits\n"
     ]
    },
    {
     "name": "stderr",
     "output_type": "stream",
     "text": [
      "LOSO CV Progress:  58%|█████████████████▍             | 25/43 [00:07<00:04]  58%"
     ]
    },
    {
     "name": "stdout",
     "output_type": "stream",
     "text": [
      "Skipping this subject for having single class: y_train = [0 1], y_test = [0]\n",
      "Fitting 3 folds for each of 48 candidates, totalling 144 fits\n"
     ]
    },
    {
     "name": "stderr",
     "output_type": "stream",
     "text": [
      "LOSO CV Progress:  63%|██████████████████▊            | 27/43 [00:07<00:03]  63%"
     ]
    },
    {
     "name": "stdout",
     "output_type": "stream",
     "text": [
      "Fitting 3 folds for each of 48 candidates, totalling 144 fits\n"
     ]
    },
    {
     "name": "stderr",
     "output_type": "stream",
     "text": [
      "LOSO CV Progress:  65%|███████████████████▌           | 28/43 [00:08<00:03]  65%"
     ]
    },
    {
     "name": "stdout",
     "output_type": "stream",
     "text": [
      "Fitting 3 folds for each of 48 candidates, totalling 144 fits\n"
     ]
    },
    {
     "name": "stderr",
     "output_type": "stream",
     "text": [
      "LOSO CV Progress:  67%|████████████████████▏          | 29/43 [00:08<00:03]  67%"
     ]
    },
    {
     "name": "stdout",
     "output_type": "stream",
     "text": [
      "Fitting 3 folds for each of 48 candidates, totalling 144 fits\n"
     ]
    },
    {
     "name": "stderr",
     "output_type": "stream",
     "text": [
      "LOSO CV Progress:  70%|████████████████████▉          | 30/43 [00:08<00:03]  70%"
     ]
    },
    {
     "name": "stdout",
     "output_type": "stream",
     "text": [
      "Fitting 3 folds for each of 48 candidates, totalling 144 fits\n"
     ]
    },
    {
     "name": "stderr",
     "output_type": "stream",
     "text": [
      "LOSO CV Progress:  72%|█████████████████████▋         | 31/43 [00:09<00:03]  72%"
     ]
    },
    {
     "name": "stdout",
     "output_type": "stream",
     "text": [
      "Fitting 3 folds for each of 48 candidates, totalling 144 fits\n"
     ]
    },
    {
     "name": "stderr",
     "output_type": "stream",
     "text": [
      "LOSO CV Progress:  74%|██████████████████████▎        | 32/43 [00:09<00:02]  74%"
     ]
    },
    {
     "name": "stdout",
     "output_type": "stream",
     "text": [
      "Fitting 3 folds for each of 48 candidates, totalling 144 fits\n"
     ]
    },
    {
     "name": "stderr",
     "output_type": "stream",
     "text": [
      "LOSO CV Progress:  77%|███████████████████████        | 33/43 [00:09<00:02]  77%"
     ]
    },
    {
     "name": "stdout",
     "output_type": "stream",
     "text": [
      "Fitting 3 folds for each of 48 candidates, totalling 144 fits\n"
     ]
    },
    {
     "name": "stderr",
     "output_type": "stream",
     "text": [
      "LOSO CV Progress:  79%|███████████████████████▋       | 34/43 [00:09<00:02]  79%"
     ]
    },
    {
     "name": "stdout",
     "output_type": "stream",
     "text": [
      "Fitting 3 folds for each of 48 candidates, totalling 144 fits\n"
     ]
    },
    {
     "name": "stderr",
     "output_type": "stream",
     "text": [
      "LOSO CV Progress:  81%|████████████████████████▍      | 35/43 [00:10<00:02]  81%"
     ]
    },
    {
     "name": "stdout",
     "output_type": "stream",
     "text": [
      "Fitting 3 folds for each of 48 candidates, totalling 144 fits\n"
     ]
    },
    {
     "name": "stderr",
     "output_type": "stream",
     "text": [
      "LOSO CV Progress:  84%|█████████████████████████      | 36/43 [00:10<00:01]  84%"
     ]
    },
    {
     "name": "stdout",
     "output_type": "stream",
     "text": [
      "Fitting 3 folds for each of 48 candidates, totalling 144 fits\n"
     ]
    },
    {
     "name": "stderr",
     "output_type": "stream",
     "text": [
      "LOSO CV Progress:  86%|█████████████████████████▊     | 37/43 [00:10<00:01]  86%"
     ]
    },
    {
     "name": "stdout",
     "output_type": "stream",
     "text": [
      "Fitting 3 folds for each of 48 candidates, totalling 144 fits\n"
     ]
    },
    {
     "name": "stderr",
     "output_type": "stream",
     "text": [
      "LOSO CV Progress:  88%|██████████████████████████▌    | 38/43 [00:11<00:01]  88%"
     ]
    },
    {
     "name": "stdout",
     "output_type": "stream",
     "text": [
      "Fitting 3 folds for each of 48 candidates, totalling 144 fits\n"
     ]
    },
    {
     "name": "stderr",
     "output_type": "stream",
     "text": [
      "LOSO CV Progress:  91%|███████████████████████████▏   | 39/43 [00:11<00:01]  91%"
     ]
    },
    {
     "name": "stdout",
     "output_type": "stream",
     "text": [
      "Fitting 3 folds for each of 48 candidates, totalling 144 fits\n"
     ]
    },
    {
     "name": "stderr",
     "output_type": "stream",
     "text": [
      "LOSO CV Progress:  93%|███████████████████████████▉   | 40/43 [00:11<00:00]  93%"
     ]
    },
    {
     "name": "stdout",
     "output_type": "stream",
     "text": [
      "Fitting 3 folds for each of 48 candidates, totalling 144 fits\n"
     ]
    },
    {
     "name": "stderr",
     "output_type": "stream",
     "text": [
      "LOSO CV Progress:  95%|████████████████████████████▌  | 41/43 [00:11<00:00]  95%"
     ]
    },
    {
     "name": "stdout",
     "output_type": "stream",
     "text": [
      "Fitting 3 folds for each of 48 candidates, totalling 144 fits\n"
     ]
    },
    {
     "name": "stderr",
     "output_type": "stream",
     "text": [
      "LOSO CV Progress:  98%|█████████████████████████████▎ | 42/43 [00:12<00:00]  98%"
     ]
    },
    {
     "name": "stdout",
     "output_type": "stream",
     "text": [
      "Fitting 3 folds for each of 48 candidates, totalling 144 fits\n"
     ]
    },
    {
     "name": "stderr",
     "output_type": "stream",
     "text": [
      "LOSO CV Progress: 100%|██████████████████████████████ | 43/43 [00:12<00:00] 100%\n"
     ]
    }
   ],
   "source": [
    "output_list = []\n",
    "scaler = StandardScaler()\n",
    "model_logistic_rfe = LogisticRegression(max_iter=5000)\n",
    "\n",
    "rfe = RFE(model_logistic_rfe, n_features_to_select=15)  \n",
    "X_ = scaler.fit_transform(X)\n",
    "rfe.fit(X_, y_encoded) \n",
    "\n",
    "best_features = np.where(rfe.support_)[0]\n",
    "print(f\"Selected Features: {best_features}\")\n",
    "\n",
    "num_splits = len(np.unique(groups))\n",
    "print(num_splits)\n",
    "\n",
    "with tqdm(total=num_splits, desc=\"LOSO CV Progress\", unit=\"fold\", bar_format=\"{l_bar}{bar} | {n_fmt}/{total_fmt} [{elapsed}<{remaining}] {percentage:3.0f}%\") as pbar:\n",
    "    for train_idx, test_idx in logo.split(X, y_encoded, groups=groups):\n",
    "        output_capture = StringIO()\n",
    "        X_train, X_test = X.iloc[train_idx, best_features], X.iloc[test_idx, best_features]\n",
    "        y_train, y_test = y_encoded[train_idx], y_encoded[test_idx]\n",
    "\n",
    "        print('X and y train shapes: ', file=output_capture)\n",
    "        print(X_train.shape, file=output_capture)\n",
    "        print(y_train.shape, file=output_capture)\n",
    "\n",
    "        print('X and y test shapes: ', file=output_capture)\n",
    "        print(X_test.shape, file=output_capture)\n",
    "        print(y_test.shape, file=output_capture)\n",
    "\n",
    "        stress_labels = {0: 'low stress', 1: 'high stress'}\n",
    "        print('y_train class distribution:', {stress_labels[k]: v for k, v in dict(zip(*np.unique(y_train, return_counts=True))).items()}, file=output_capture)\n",
    "        print('y_test class distribution:', {stress_labels[k]: v for k, v in dict(zip(*np.unique(y_test, return_counts=True))).items()}, file=output_capture)\n",
    "\n",
    "        scaler = StandardScaler()\n",
    "        X_train_normalized = scaler.fit_transform(X_train)\n",
    "        X_test_normalized = scaler.transform(X_test)\n",
    "        \n",
    "        model_logistic = GridSearchCV(LogisticRegression(max_iter=5000, class_weight='balanced'),\n",
    "                                      param_grid=param_grid, cv=3, verbose=True, n_jobs=-1, scoring='roc_auc')\n",
    "        if len(np.unique(y_train)) > 1 and len(np.unique(y_test)) > 1:\n",
    "            model_logistic.fit(X_train_normalized, y_train)\n",
    "    \n",
    "            y_test_pred_proba = model_logistic.predict_proba(X_test_normalized)[:, 1]\n",
    "            thresholds = np.arange(0.01, 1.0, 0.01)\n",
    "            best_threshold = 0.5\n",
    "            best_metric = 0.0\n",
    "    \n",
    "            for threshold in thresholds:\n",
    "                y_test_pred_binary = (y_test_pred_proba > threshold).astype(int)\n",
    "                metric_value = balanced_accuracy_score(y_test, y_test_pred_binary)\n",
    "                if metric_value > best_metric:\n",
    "                    best_metric = metric_value\n",
    "                    best_threshold = threshold\n",
    "            if len(np.unique(y_test)) > 1:\n",
    "                auc_score = roc_auc_score(y_test, y_test_pred_proba)\n",
    "                auc_scores.append(auc_score)\n",
    "                print(f\"AUC Score: {auc_score}\", file=output_capture)\n",
    "            else:\n",
    "                auc_scores.append(None)\n",
    "                print(f\"Skipping AUC computation for this fold as y_test contains only one class: {np.unique(y_test)}\")\n",
    "    \n",
    "            y_test_pred_binary = (y_test_pred_proba > best_threshold).astype(int)\n",
    "            balanced_acc = balanced_accuracy_score(y_test, y_test_pred_binary)\n",
    "            balanced_accs.append(balanced_acc)\n",
    "        \n",
    "            print(f\"Balanced Accuracy: {balanced_acc}\", file=output_capture)\n",
    "            print(f\"y_test (True): {y_test}\", file=output_capture)\n",
    "            print(f\"y_predicted (Pred): {y_test_pred_binary}\", file=output_capture)\n",
    "\n",
    "            y_train_pred_proba = model_logistic.predict_proba(X_train_normalized)[:, 1]\n",
    "            y_test_pred_proba = model_logistic.predict_proba(X_test_normalized)[:, 1]\n",
    "\n",
    "            accuracy_train = accuracy_score(y_train, (y_train_pred_proba > best_threshold).astype(int))\n",
    "            accuracy_test = accuracy_score(y_test, (y_test_pred_proba > best_threshold).astype(int))\n",
    "            \n",
    "            print(f\"Training Accuracy: {accuracy_train}\", file=output_capture)\n",
    "            print(f\"Test Accuracy: {accuracy_test}\", file=output_capture)\n",
    "\n",
    "        else:\n",
    "            print(f\"Skipping this subject for having single class: y_train = {np.unique(y_train)}, y_test = {np.unique(y_test)}\")\n",
    "        \n",
    "        pbar.update(1)\n",
    "        output_list.append(output_capture.getvalue())"
   ]
  },
  {
   "cell_type": "code",
   "execution_count": 18,
   "id": "a28e5473-2101-4496-838c-3a84d020b4f3",
   "metadata": {},
   "outputs": [
    {
     "data": {
      "text/plain": [
       "[\"X and y train shapes: \\n(1950, 15)\\n(1950,)\\nX and y test shapes: \\n(71, 15)\\n(71,)\\ny_train class distribution: {'low stress': 948, 'high stress': 1002}\\ny_test class distribution: {'low stress': 30, 'high stress': 41}\\nAUC Score: 0.5166666666666666\\nBalanced Accuracy: 0.5707317073170732\\ny_test (True): [1 1 0 0 0 0 0 0 0 0 0 0 1 1 1 1 0 1 1 1 0 0 0 1 1 1 1 1 1 1 1 1 1 1 1 1 1\\n 1 1 1 1 1 1 1 1 1 1 0 0 1 1 1 1 1 1 0 0 0 0 0 0 0 0 0 0 0 0 0 0 1 1]\\ny_predicted (Pred): [0 1 0 0 1 1 1 0 0 1 0 0 0 0 1 1 0 0 0 0 0 0 0 0 1 1 0 0 0 1 0 0 0 1 0 1 0\\n 1 1 0 0 0 0 0 1 0 0 0 0 1 0 1 0 0 0 0 1 0 0 0 1 0 0 0 0 0 0 0 0 0 1]\\nTraining Accuracy: 0.5358974358974359\\nTest Accuracy: 0.5352112676056338\\n\",\n",
       " \"X and y train shapes: \\n(1978, 15)\\n(1978,)\\nX and y test shapes: \\n(43, 15)\\n(43,)\\ny_train class distribution: {'low stress': 952, 'high stress': 1026}\\ny_test class distribution: {'low stress': 26, 'high stress': 17}\\nAUC Score: 0.5701357466063348\\nBalanced Accuracy: 0.6119909502262444\\ny_test (True): [0 0 0 0 0 0 0 0 0 1 1 1 1 0 0 0 0 0 0 0 0 0 1 1 1 1 0 0 0 0 0 0 0 0 1 1 1\\n 1 1 1 1 1 1]\\ny_predicted (Pred): [0 0 0 1 0 0 1 0 0 1 1 0 1 1 0 1 0 1 1 1 0 0 1 1 0 0 0 0 0 1 1 1 1 0 1 1 1\\n 0 1 1 0 1 0]\\nTraining Accuracy: 0.544994944388271\\nTest Accuracy: 0.6046511627906976\\n\",\n",
       " \"X and y train shapes: \\n(1981, 15)\\n(1981,)\\nX and y test shapes: \\n(40, 15)\\n(40,)\\ny_train class distribution: {'low stress': 955, 'high stress': 1026}\\ny_test class distribution: {'low stress': 23, 'high stress': 17}\\nAUC Score: 0.5831202046035805\\nBalanced Accuracy: 0.6214833759590792\\ny_test (True): [0 0 0 0 0 0 0 0 0 0 0 1 1 1 0 0 0 1 1 1 1 1 1 1 0 0 0 0 0 0 0 0 0 1 1 1 1\\n 1 1 1]\\ny_predicted (Pred): [0 1 0 1 1 0 0 1 1 0 1 0 1 1 0 1 1 1 1 1 0 1 0 1 0 1 1 0 0 0 1 0 1 1 1 0 1\\n 1 1 1]\\nTraining Accuracy: 0.5487127713276123\\nTest Accuracy: 0.6\\n\",\n",
       " \"X and y train shapes: \\n(1924, 15)\\n(1924,)\\nX and y test shapes: \\n(97, 15)\\n(97,)\\ny_train class distribution: {'low stress': 926, 'high stress': 998}\\ny_test class distribution: {'low stress': 52, 'high stress': 45}\\nAUC Score: 0.5358974358974359\\nBalanced Accuracy: 0.5587606837606838\\ny_test (True): [0 0 0 0 0 0 0 0 0 0 0 0 0 0 0 0 0 0 1 1 1 1 1 1 1 0 0 0 0 1 1 1 1 0 0 0 0\\n 0 0 0 0 0 0 0 0 0 0 0 1 1 1 1 1 1 1 1 1 0 0 0 0 0 0 0 0 0 0 0 0 1 1 1 1 1\\n 1 1 1 1 1 1 1 1 1 1 1 1 1 1 1 1 0 0 0 1 1 1 1]\\ny_predicted (Pred): [0 1 0 0 0 0 1 0 0 0 0 1 0 0 0 1 0 0 1 0 0 0 1 0 0 0 1 0 1 0 1 1 0 0 0 1 0\\n 0 1 0 1 0 1 0 1 1 0 0 1 0 0 0 1 1 1 1 1 1 0 1 0 0 1 0 0 0 1 0 1 0 1 0 0 0\\n 0 0 1 1 0 0 1 0 0 1 1 1 0 0 1 0 0 0 0 0 0 1 1]\\nTraining Accuracy: 0.5322245322245323\\nTest Accuracy: 0.5670103092783505\\n\",\n",
       " \"X and y train shapes: \\n(2012, 15)\\n(2012,)\\nX and y test shapes: \\n(9, 15)\\n(9,)\\ny_train class distribution: {'low stress': 975, 'high stress': 1037}\\ny_test class distribution: {'low stress': 3, 'high stress': 6}\\nAUC Score: 0.6111111111111112\\nBalanced Accuracy: 0.6666666666666666\\ny_test (True): [0 0 0 1 1 1 1 1 1]\\ny_predicted (Pred): [0 0 0 0 0 0 1 1 0]\\nTraining Accuracy: 0.5347912524850894\\nTest Accuracy: 0.5555555555555556\\n\",\n",
       " \"X and y train shapes: \\n(1982, 15)\\n(1982,)\\nX and y test shapes: \\n(39, 15)\\n(39,)\\ny_train class distribution: {'low stress': 960, 'high stress': 1022}\\ny_test class distribution: {'low stress': 18, 'high stress': 21}\\nAUC Score: 0.4841269841269841\\nBalanced Accuracy: 0.5476190476190476\\ny_test (True): [1 1 1 1 1 1 1 0 0 0 0 0 0 0 0 0 0 0 0 0 0 1 1 1 1 1 1 1 1 1 1 1 1 1 1 0 0\\n 0 0]\\ny_predicted (Pred): [0 1 0 0 1 0 0 0 0 0 0 0 1 1 1 0 0 1 1 0 0 0 0 1 0 0 0 1 0 1 1 1 1 0 1 1 0\\n 0 0]\\nTraining Accuracy: 0.536326942482341\\nTest Accuracy: 0.5384615384615384\\n\",\n",
       " \"X and y train shapes: \\n(1942, 15)\\n(1942,)\\nX and y test shapes: \\n(79, 15)\\n(79,)\\ny_train class distribution: {'low stress': 926, 'high stress': 1016}\\ny_test class distribution: {'low stress': 52, 'high stress': 27}\\nAUC Score: 0.5416666666666666\\nBalanced Accuracy: 0.5516381766381766\\ny_test (True): [0 0 0 0 0 0 0 0 0 0 0 0 0 0 0 0 0 0 0 0 0 0 0 0 0 0 0 0 0 0 0 0 0 0 0 0 0\\n 0 0 0 0 0 1 1 1 1 0 0 0 1 1 1 1 1 1 1 1 1 1 1 1 1 1 1 1 1 1 1 1 1 0 0 0 0\\n 0 0 0 1 1]\\ny_predicted (Pred): [1 1 0 0 1 1 0 0 1 1 1 1 1 1 0 1 1 0 1 1 1 1 1 0 0 1 1 1 1 1 1 1 0 0 1 1 0\\n 0 1 1 1 1 1 1 0 1 1 0 1 0 1 1 1 1 1 0 1 1 0 1 1 1 1 1 1 1 1 1 0 1 0 0 1 1\\n 1 1 1 1 1]\\nTraining Accuracy: 0.5478887744593203\\nTest Accuracy: 0.46835443037974683\\n\",\n",
       " \"X and y train shapes: \\n(2018, 15)\\n(2018,)\\nX and y test shapes: \\n(3, 15)\\n(3,)\\ny_train class distribution: {'low stress': 978, 'high stress': 1040}\\ny_test class distribution: {'high stress': 3}\\n\",\n",
       " \"X and y train shapes: \\n(1973, 15)\\n(1973,)\\nX and y test shapes: \\n(48, 15)\\n(48,)\\ny_train class distribution: {'low stress': 958, 'high stress': 1015}\\ny_test class distribution: {'low stress': 20, 'high stress': 28}\\nAUC Score: 0.6392857142857143\\nBalanced Accuracy: 0.6178571428571429\\ny_test (True): [0 0 0 0 1 1 1 1 1 1 1 0 0 0 0 0 0 1 1 1 0 0 0 1 1 1 1 0 0 0 0 1 1 1 0 0 0\\n 1 1 1 1 1 1 1 1 1 1 1]\\ny_predicted (Pred): [0 0 1 1 1 1 0 1 1 1 1 0 0 1 0 1 0 1 0 0 1 0 1 1 0 1 1 1 1 0 1 0 1 1 1 1 0\\n 1 1 0 1 1 1 1 1 1 1 1]\\nTraining Accuracy: 0.5240750126710593\\nTest Accuracy: 0.6458333333333334\\n\",\n",
       " \"X and y train shapes: \\n(1993, 15)\\n(1993,)\\nX and y test shapes: \\n(28, 15)\\n(28,)\\ny_train class distribution: {'low stress': 965, 'high stress': 1028}\\ny_test class distribution: {'low stress': 13, 'high stress': 15}\\nAUC Score: 0.7846153846153847\\nBalanced Accuracy: 0.7615384615384615\\ny_test (True): [0 0 0 0 0 0 0 0 0 0 0 0 0 1 1 1 1 1 1 1 1 1 1 1 1 1 1 1]\\ny_predicted (Pred): [0 0 0 0 0 0 0 0 0 0 0 0 1 1 1 1 1 1 0 0 0 0 1 1 0 1 1 0]\\nTraining Accuracy: 0.5348720521826392\\nTest Accuracy: 0.75\\n\",\n",
       " \"X and y train shapes: \\n(2016, 15)\\n(2016,)\\nX and y test shapes: \\n(5, 15)\\n(5,)\\ny_train class distribution: {'low stress': 976, 'high stress': 1040}\\ny_test class distribution: {'low stress': 2, 'high stress': 3}\\nAUC Score: 0.6666666666666666\\nBalanced Accuracy: 0.8333333333333333\\ny_test (True): [0 0 1 1 1]\\ny_predicted (Pred): [0 0 0 1 1]\\nTraining Accuracy: 0.5357142857142857\\nTest Accuracy: 0.8\\n\",\n",
       " \"X and y train shapes: \\n(1893, 15)\\n(1893,)\\nX and y test shapes: \\n(128, 15)\\n(128,)\\ny_train class distribution: {'low stress': 899, 'high stress': 994}\\ny_test class distribution: {'low stress': 79, 'high stress': 49}\\nAUC Score: 0.4528545595453371\\nBalanced Accuracy: 0.5246706277447688\\ny_test (True): [0 0 0 0 0 0 0 0 0 0 0 0 0 0 0 0 0 0 0 0 0 0 0 0 0 0 0 1 1 1 0 0 1 1 1 0 0\\n 0 0 0 0 1 1 1 0 0 0 0 0 0 0 0 1 1 1 1 1 1 1 1 0 0 0 1 1 1 1 1 1 1 1 1 1 0\\n 0 0 1 1 1 0 0 1 1 1 1 1 1 0 0 0 1 1 1 1 0 0 0 0 0 0 0 0 0 0 0 0 0 0 0 0 0\\n 0 0 1 1 1 0 0 0 1 1 1 0 0 0 1 1 1]\\ny_predicted (Pred): [0 0 0 0 0 0 0 0 0 0 0 0 0 0 0 0 0 0 0 0 0 0 0 0 0 0 1 0 0 0 0 0 0 0 0 0 0\\n 0 0 1 0 1 0 0 0 1 0 1 0 0 0 0 0 1 0 1 0 0 1 0 0 0 0 0 0 0 1 0 0 0 0 1 0 1\\n 0 0 0 0 0 0 1 0 0 0 0 0 0 0 0 0 1 0 0 1 0 0 0 0 1 0 0 0 0 0 0 0 0 0 0 0 0\\n 0 0 0 0 0 0 0 0 0 0 0 0 1 1 0 0 0]\\nTraining Accuracy: 0.502905441098785\\nTest Accuracy: 0.609375\\n\",\n",
       " \"X and y train shapes: \\n(2009, 15)\\n(2009,)\\nX and y test shapes: \\n(12, 15)\\n(12,)\\ny_train class distribution: {'low stress': 966, 'high stress': 1043}\\ny_test class distribution: {'low stress': 12}\\n\",\n",
       " \"X and y train shapes: \\n(2005, 15)\\n(2005,)\\nX and y test shapes: \\n(16, 15)\\n(16,)\\ny_train class distribution: {'low stress': 972, 'high stress': 1033}\\ny_test class distribution: {'low stress': 6, 'high stress': 10}\\nAUC Score: 0.6000000000000001\\nBalanced Accuracy: 0.6333333333333333\\ny_test (True): [0 0 0 0 0 0 1 1 1 1 1 1 1 1 1 1]\\ny_predicted (Pred): [0 1 0 0 0 1 0 1 1 0 1 0 1 1 0 1]\\nTraining Accuracy: 0.5336658354114713\\nTest Accuracy: 0.625\\n\",\n",
       " \"X and y train shapes: \\n(1895, 15)\\n(1895,)\\nX and y test shapes: \\n(126, 15)\\n(126,)\\ny_train class distribution: {'low stress': 948, 'high stress': 947}\\ny_test class distribution: {'low stress': 30, 'high stress': 96}\\nAUC Score: 0.4347222222222223\\nBalanced Accuracy: 0.5197916666666667\\ny_test (True): [0 0 0 1 1 1 1 1 1 1 1 1 1 1 1 1 1 1 1 1 1 1 1 1 1 1 1 1 1 1 1 1 1 1 1 1 1\\n 1 1 1 1 1 1 1 1 1 1 1 1 1 1 1 1 1 1 1 1 1 1 1 1 1 1 1 1 1 1 1 1 1 1 1 1 1\\n 1 0 0 0 1 1 1 1 0 0 0 1 1 1 1 1 1 1 1 1 1 1 0 0 0 0 0 0 0 0 0 0 1 1 1 0 0\\n 0 1 1 1 1 1 1 0 0 0 0 0 0 0 0]\\ny_predicted (Pred): [0 0 0 1 0 0 1 0 0 0 0 0 1 0 1 0 0 0 0 0 0 0 0 0 0 0 0 0 0 0 1 0 0 0 0 0 0\\n 0 0 0 0 0 0 0 0 0 0 0 0 1 0 0 0 0 0 0 0 0 0 0 0 0 0 1 0 0 0 0 0 0 0 0 0 0\\n 0 0 0 1 0 0 0 0 0 0 0 0 0 0 0 0 0 0 0 0 0 0 0 0 0 0 0 0 0 0 0 0 0 0 0 0 0\\n 0 0 0 0 0 0 0 0 0 0 0 0 0 0 0]\\nTraining Accuracy: 0.5277044854881267\\nTest Accuracy: 0.2857142857142857\\n\",\n",
       " \"X and y train shapes: \\n(2017, 15)\\n(2017,)\\nX and y test shapes: \\n(4, 15)\\n(4,)\\ny_train class distribution: {'low stress': 976, 'high stress': 1041}\\ny_test class distribution: {'low stress': 2, 'high stress': 2}\\nAUC Score: 1.0\\nBalanced Accuracy: 1.0\\ny_test (True): [0 0 1 1]\\ny_predicted (Pred): [0 0 1 1]\\nTraining Accuracy: 0.5334655428854734\\nTest Accuracy: 1.0\\n\",\n",
       " \"X and y train shapes: \\n(1973, 15)\\n(1973,)\\nX and y test shapes: \\n(48, 15)\\n(48,)\\ny_train class distribution: {'low stress': 935, 'high stress': 1038}\\ny_test class distribution: {'low stress': 43, 'high stress': 5}\\nAUC Score: 0.5488372093023256\\nBalanced Accuracy: 0.6418604651162791\\ny_test (True): [0 0 0 0 0 0 0 1 1 1 1 1 0 0 0 0 0 0 0 0 0 0 0 0 0 0 0 0 0 0 0 0 0 0 0 0 0\\n 0 0 0 0 0 0 0 0 0 0 0]\\ny_predicted (Pred): [0 0 0 0 0 0 1 1 0 0 1 0 0 0 0 0 0 0 0 0 0 0 1 0 0 0 0 0 0 0 0 0 0 0 0 1 0\\n 0 1 0 0 0 0 0 0 0 1 0]\\nTraining Accuracy: 0.5093765838824126\\nTest Accuracy: 0.8333333333333334\\n\",\n",
       " \"X and y train shapes: \\n(2000, 15)\\n(2000,)\\nX and y test shapes: \\n(21, 15)\\n(21,)\\ny_train class distribution: {'low stress': 961, 'high stress': 1039}\\ny_test class distribution: {'low stress': 17, 'high stress': 4}\\nAUC Score: 0.5735294117647058\\nBalanced Accuracy: 0.6397058823529411\\ny_test (True): [1 1 1 1 0 0 0 0 0 0 0 0 0 0 0 0 0 0 0 0 0]\\ny_predicted (Pred): [0 1 1 1 0 1 1 1 0 0 0 0 1 1 0 0 1 0 1 0 1]\\nTraining Accuracy: 0.5445\\nTest Accuracy: 0.5714285714285714\\n\",\n",
       " \"X and y train shapes: \\n(1987, 15)\\n(1987,)\\nX and y test shapes: \\n(34, 15)\\n(34,)\\ny_train class distribution: {'low stress': 971, 'high stress': 1016}\\ny_test class distribution: {'low stress': 7, 'high stress': 27}\\nAUC Score: 0.5211640211640212\\nBalanced Accuracy: 0.5952380952380952\\ny_test (True): [1 1 1 1 1 1 1 1 1 1 0 0 0 0 0 0 0 1 1 1 1 1 1 1 1 1 1 1 1 1 1 1 1 1]\\ny_predicted (Pred): [1 0 1 1 0 0 0 0 0 0 0 0 0 0 0 0 1 0 0 1 0 0 0 0 1 0 0 0 0 1 0 1 1 1]\\nTraining Accuracy: 0.5410166079516859\\nTest Accuracy: 0.4411764705882353\\n\",\n",
       " \"X and y train shapes: \\n(1991, 15)\\n(1991,)\\nX and y test shapes: \\n(30, 15)\\n(30,)\\ny_train class distribution: {'low stress': 958, 'high stress': 1033}\\ny_test class distribution: {'low stress': 20, 'high stress': 10}\\nAUC Score: 0.4575\\nBalanced Accuracy: 0.55\\ny_test (True): [0 0 0 0 0 0 0 0 1 1 1 1 0 0 0 0 0 0 1 1 0 0 0 0 1 1 1 1 0 0]\\ny_predicted (Pred): [1 0 1 1 1 1 1 1 1 1 1 1 0 1 1 1 1 1 1 1 1 1 1 1 1 1 1 1 1 1]\\nTraining Accuracy: 0.5233550979407333\\nTest Accuracy: 0.4\\n\",\n",
       " \"X and y train shapes: \\n(1989, 15)\\n(1989,)\\nX and y test shapes: \\n(32, 15)\\n(32,)\\ny_train class distribution: {'low stress': 972, 'high stress': 1017}\\ny_test class distribution: {'low stress': 6, 'high stress': 26}\\nAUC Score: 0.5833333333333334\\nBalanced Accuracy: 0.6282051282051282\\ny_test (True): [1 1 1 1 1 1 1 1 1 1 1 1 1 1 1 1 1 1 1 1 1 1 0 0 0 1 1 1 1 0 0 0]\\ny_predicted (Pred): [1 1 1 1 1 1 1 1 1 1 1 1 1 1 1 1 1 0 1 0 1 1 1 0 1 1 1 1 1 1 1 0]\\nTraining Accuracy: 0.5158371040723982\\nTest Accuracy: 0.8125\\n\",\n",
       " \"X and y train shapes: \\n(1986, 15)\\n(1986,)\\nX and y test shapes: \\n(35, 15)\\n(35,)\\ny_train class distribution: {'low stress': 973, 'high stress': 1013}\\ny_test class distribution: {'low stress': 5, 'high stress': 30}\\nAUC Score: 0.5966666666666667\\nBalanced Accuracy: 0.6166666666666667\\ny_test (True): [1 1 1 1 1 1 0 0 1 1 1 1 0 0 0 1 1 1 1 1 1 1 1 1 1 1 1 1 1 1 1 1 1 1 1]\\ny_predicted (Pred): [0 0 0 0 0 0 0 0 0 1 0 0 0 0 0 1 0 0 1 1 0 1 0 0 0 0 0 1 0 0 1 0 0 0 0]\\nTraining Accuracy: 0.5352467270896274\\nTest Accuracy: 0.34285714285714286\\n\",\n",
       " \"X and y train shapes: \\n(1999, 15)\\n(1999,)\\nX and y test shapes: \\n(22, 15)\\n(22,)\\ny_train class distribution: {'low stress': 960, 'high stress': 1039}\\ny_test class distribution: {'low stress': 18, 'high stress': 4}\\nAUC Score: 0.5347222222222222\\nBalanced Accuracy: 0.5833333333333334\\ny_test (True): [0 0 0 0 0 0 0 0 1 1 1 1 0 0 0 0 0 0 0 0 0 0]\\ny_predicted (Pred): [1 1 1 0 1 1 1 1 1 1 1 1 0 1 1 1 0 1 1 1 1 1]\\nTraining Accuracy: 0.5267633816908455\\nTest Accuracy: 0.3181818181818182\\n\",\n",
       " \"X and y train shapes: \\n(1974, 15)\\n(1974,)\\nX and y test shapes: \\n(47, 15)\\n(47,)\\ny_train class distribution: {'low stress': 931, 'high stress': 1043}\\ny_test class distribution: {'low stress': 47}\\n\",\n",
       " \"X and y train shapes: \\n(1934, 15)\\n(1934,)\\nX and y test shapes: \\n(87, 15)\\n(87,)\\ny_train class distribution: {'low stress': 940, 'high stress': 994}\\ny_test class distribution: {'low stress': 38, 'high stress': 49}\\nAUC Score: 0.5641783029001075\\nBalanced Accuracy: 0.5631041890440387\\ny_test (True): [0 0 0 0 0 0 1 1 1 1 1 1 1 1 1 0 0 0 0 0 0 0 0 0 0 0 0 0 0 0 0 0 0 0 0 0 0\\n 0 0 0 0 1 1 1 1 0 0 0 0 0 0 1 1 1 1 1 1 1 1 1 1 1 1 1 1 1 1 1 1 1 1 1 1 1\\n 1 1 1 1 1 1 1 1 1 1 1 1 1]\\ny_predicted (Pred): [0 1 1 0 0 1 1 1 1 1 1 1 1 1 1 1 1 0 1 1 0 1 1 0 1 1 1 1 1 1 0 0 1 1 1 0 0\\n 0 1 1 1 1 0 1 1 1 1 1 1 1 1 1 0 1 1 0 1 1 1 1 1 1 1 1 1 0 1 0 1 1 1 1 0 1\\n 1 0 1 1 0 1 1 1 1 1 1 1 1]\\nTraining Accuracy: 0.5310237849017581\\nTest Accuracy: 0.5977011494252874\\n\",\n",
       " \"X and y train shapes: \\n(2016, 15)\\n(2016,)\\nX and y test shapes: \\n(5, 15)\\n(5,)\\ny_train class distribution: {'low stress': 973, 'high stress': 1043}\\ny_test class distribution: {'low stress': 5}\\n\",\n",
       " \"X and y train shapes: \\n(1989, 15)\\n(1989,)\\nX and y test shapes: \\n(32, 15)\\n(32,)\\ny_train class distribution: {'low stress': 957, 'high stress': 1032}\\ny_test class distribution: {'low stress': 21, 'high stress': 11}\\nAUC Score: 0.7619047619047618\\nBalanced Accuracy: 0.699134199134199\\ny_test (True): [0 0 0 0 0 0 0 0 0 0 0 0 0 0 0 0 0 0 0 1 1 1 1 1 1 1 1 1 0 0 1 1]\\ny_predicted (Pred): [1 0 0 0 0 0 0 0 1 0 0 0 1 0 1 0 1 0 0 1 1 0 1 0 1 0 1 0 0 0 1 1]\\nTraining Accuracy: 0.526395173453997\\nTest Accuracy: 0.71875\\n\",\n",
       " \"X and y train shapes: \\n(1983, 15)\\n(1983,)\\nX and y test shapes: \\n(38, 15)\\n(38,)\\ny_train class distribution: {'low stress': 972, 'high stress': 1011}\\ny_test class distribution: {'low stress': 6, 'high stress': 32}\\nAUC Score: 0.2604166666666667\\nBalanced Accuracy: 0.515625\\ny_test (True): [1 1 1 1 1 1 1 1 1 1 1 1 1 1 1 1 1 1 1 1 1 1 1 1 1 1 1 1 1 1 1 1 0 0 0 0 0\\n 0]\\ny_predicted (Pred): [0 0 0 0 0 0 0 0 0 1 0 0 0 0 0 0 0 0 0 0 0 0 0 0 0 0 0 0 0 0 0 0 0 0 0 0 0\\n 0]\\nTraining Accuracy: 0.49319213313161875\\nTest Accuracy: 0.18421052631578946\\n\",\n",
       " \"X and y train shapes: \\n(2009, 15)\\n(2009,)\\nX and y test shapes: \\n(12, 15)\\n(12,)\\ny_train class distribution: {'low stress': 973, 'high stress': 1036}\\ny_test class distribution: {'low stress': 5, 'high stress': 7}\\nAUC Score: 0.5571428571428572\\nBalanced Accuracy: 0.6428571428571428\\ny_test (True): [0 0 0 1 1 0 0 1 1 1 1 1]\\ny_predicted (Pred): [0 0 0 0 1 0 0 0 0 0 1 0]\\nTraining Accuracy: 0.5136884021901443\\nTest Accuracy: 0.5833333333333334\\n\",\n",
       " \"X and y train shapes: \\n(1992, 15)\\n(1992,)\\nX and y test shapes: \\n(29, 15)\\n(29,)\\ny_train class distribution: {'low stress': 967, 'high stress': 1025}\\ny_test class distribution: {'low stress': 11, 'high stress': 18}\\nAUC Score: 0.6161616161616161\\nBalanced Accuracy: 0.648989898989899\\ny_test (True): [0 0 0 0 0 0 0 0 1 1 1 1 1 1 1 1 1 1 1 1 1 1 1 1 1 1 0 0 0]\\ny_predicted (Pred): [0 0 0 0 1 0 0 0 0 0 1 1 0 1 0 1 0 0 0 1 0 0 0 1 0 1 0 0 0]\\nTraining Accuracy: 0.5271084337349398\\nTest Accuracy: 0.5862068965517241\\n\",\n",
       " \"X and y train shapes: \\n(1967, 15)\\n(1967,)\\nX and y test shapes: \\n(54, 15)\\n(54,)\\ny_train class distribution: {'low stress': 946, 'high stress': 1021}\\ny_test class distribution: {'low stress': 32, 'high stress': 22}\\nAUC Score: 0.4453125\\nBalanced Accuracy: 0.5454545454545454\\ny_test (True): [0 0 0 0 0 0 0 0 0 0 0 0 0 0 1 1 1 1 1 1 1 0 0 0 1 1 1 0 0 0 1 1 1 1 1 1 1\\n 0 0 1 1 0 0 0 0 0 0 0 1 1 1 0 0 0]\\ny_predicted (Pred): [0 0 0 0 0 0 0 0 0 0 0 0 0 0 0 0 0 0 0 0 0 0 0 0 1 0 0 0 0 0 0 0 0 0 0 0 0\\n 0 0 0 0 0 0 0 0 0 0 0 0 1 0 0 0 0]\\nTraining Accuracy: 0.49110320284697506\\nTest Accuracy: 0.6296296296296297\\n\",\n",
       " \"X and y train shapes: \\n(1967, 15)\\n(1967,)\\nX and y test shapes: \\n(54, 15)\\n(54,)\\ny_train class distribution: {'low stress': 952, 'high stress': 1015}\\ny_test class distribution: {'low stress': 26, 'high stress': 28}\\nAUC Score: 0.43956043956043955\\nBalanced Accuracy: 0.5274725274725275\\ny_test (True): [0 0 0 0 0 0 0 0 1 1 1 0 0 0 1 1 0 0 0 0 0 0 0 0 0 0 0 0 0 0 0 1 1 1 1 1 1\\n 1 1 1 1 1 1 1 1 1 1 1 1 1 1 1 1 1]\\ny_predicted (Pred): [1 1 1 1 1 1 1 1 1 1 1 1 1 0 1 1 0 1 1 1 0 0 1 1 1 0 1 0 1 0 1 1 0 0 0 1 1\\n 1 1 0 1 1 1 1 1 1 1 1 1 0 1 1 0 1]\\nTraining Accuracy: 0.5526182003050331\\nTest Accuracy: 0.5370370370370371\\n\",\n",
       " \"X and y train shapes: \\n(1961, 15)\\n(1961,)\\nX and y test shapes: \\n(60, 15)\\n(60,)\\ny_train class distribution: {'low stress': 945, 'high stress': 1016}\\ny_test class distribution: {'low stress': 33, 'high stress': 27}\\nAUC Score: 0.5516273849607183\\nBalanced Accuracy: 0.5925925925925926\\ny_test (True): [0 0 0 0 0 0 0 0 0 0 0 0 0 0 1 1 1 1 0 0 0 0 0 0 1 1 1 1 0 0 0 1 1 1 1 1 1\\n 1 1 1 1 1 1 1 1 1 1 1 1 1 0 0 0 0 0 0 0 0 0 0]\\ny_predicted (Pred): [0 0 0 0 0 0 0 0 0 0 0 0 0 0 0 0 0 0 0 0 0 0 0 0 0 0 0 0 0 0 0 0 0 1 0 0 0\\n 0 1 0 0 0 1 0 0 0 0 0 1 1 0 0 0 0 0 0 0 0 0 0]\\nTraining Accuracy: 0.5140234574196838\\nTest Accuracy: 0.6333333333333333\\n\",\n",
       " \"X and y train shapes: \\n(2010, 15)\\n(2010,)\\nX and y test shapes: \\n(11, 15)\\n(11,)\\ny_train class distribution: {'low stress': 972, 'high stress': 1038}\\ny_test class distribution: {'low stress': 6, 'high stress': 5}\\nAUC Score: 0.7\\nBalanced Accuracy: 0.7166666666666667\\ny_test (True): [0 1 1 1 1 0 0 1 0 0 0]\\ny_predicted (Pred): [0 0 0 1 1 0 0 1 1 0 0]\\nTraining Accuracy: 0.5223880597014925\\nTest Accuracy: 0.7272727272727273\\n\",\n",
       " \"X and y train shapes: \\n(1910, 15)\\n(1910,)\\nX and y test shapes: \\n(111, 15)\\n(111,)\\ny_train class distribution: {'low stress': 938, 'high stress': 972}\\ny_test class distribution: {'low stress': 40, 'high stress': 71}\\nAUC Score: 0.44753521126760565\\nBalanced Accuracy: 0.5170774647887324\\ny_test (True): [1 1 1 1 1 1 1 1 1 1 1 1 1 1 1 1 1 1 1 1 1 1 1 1 1 1 0 0 0 0 1 1 1 1 0 0 0\\n 0 0 0 0 0 0 0 0 0 1 1 1 0 0 0 1 1 1 1 1 1 1 1 0 0 0 1 1 1 1 0 0 1 1 1 1 1\\n 1 1 1 1 1 1 1 1 1 0 0 0 0 0 0 0 0 1 1 1 1 0 0 0 0 1 1 1 1 0 0 0 0 1 1 1 1]\\ny_predicted (Pred): [1 0 1 0 1 1 1 1 1 0 1 1 1 0 1 1 1 1 1 1 1 1 1 1 1 1 1 1 0 1 1 1 1 0 1 1 0\\n 0 0 0 1 1 1 1 1 1 1 1 1 1 1 1 1 1 1 1 1 1 1 1 1 0 1 0 1 1 1 1 1 1 1 1 0 1\\n 0 1 1 1 1 1 1 1 1 1 1 1 1 1 1 1 1 1 1 1 1 1 0 1 1 0 1 1 1 1 1 1 1 1 0 1 1]\\nTraining Accuracy: 0.5308900523560209\\nTest Accuracy: 0.6126126126126126\\n\",\n",
       " \"X and y train shapes: \\n(1984, 15)\\n(1984,)\\nX and y test shapes: \\n(37, 15)\\n(37,)\\ny_train class distribution: {'low stress': 975, 'high stress': 1009}\\ny_test class distribution: {'low stress': 3, 'high stress': 34}\\nAUC Score: 0.676470588235294\\nBalanced Accuracy: 0.6862745098039216\\ny_test (True): [1 1 0 0 0 1 1 1 1 1 1 1 1 1 1 1 1 1 1 1 1 1 1 1 1 1 1 1 1 1 1 1 1 1 1 1 1]\\ny_predicted (Pred): [1 1 1 0 0 0 1 0 1 1 1 1 1 1 1 0 1 1 1 1 1 0 1 1 0 1 1 0 1 0 1 0 0 1 1 0 1]\\nTraining Accuracy: 0.5433467741935484\\nTest Accuracy: 0.7027027027027027\\n\",\n",
       " \"X and y train shapes: \\n(1953, 15)\\n(1953,)\\nX and y test shapes: \\n(68, 15)\\n(68,)\\ny_train class distribution: {'low stress': 950, 'high stress': 1003}\\ny_test class distribution: {'low stress': 28, 'high stress': 40}\\nAUC Score: 0.567857142857143\\nBalanced Accuracy: 0.5607142857142857\\ny_test (True): [1 1 1 1 1 1 0 0 0 0 0 0 0 0 1 1 1 1 1 1 1 1 1 0 0 0 0 0 0 0 0 0 0 0 1 1 1\\n 0 0 0 0 0 1 1 1 1 1 1 1 1 1 1 1 1 1 1 1 1 1 1 1 1 1 1 0 0 0 0]\\ny_predicted (Pred): [0 0 1 0 0 0 0 1 0 0 0 0 1 0 0 0 0 0 0 0 0 0 1 0 0 0 1 1 0 0 0 0 0 0 1 0 0\\n 0 0 1 0 0 0 0 0 0 0 1 0 0 0 0 0 1 1 1 0 0 1 1 1 1 0 1 0 0 0 0]\\nTraining Accuracy: 0.5243215565796211\\nTest Accuracy: 0.5147058823529411\\n\",\n",
       " \"X and y train shapes: \\n(1990, 15)\\n(1990,)\\nX and y test shapes: \\n(31, 15)\\n(31,)\\ny_train class distribution: {'low stress': 970, 'high stress': 1020}\\ny_test class distribution: {'low stress': 8, 'high stress': 23}\\nAUC Score: 0.47554347826086957\\nBalanced Accuracy: 0.5652173913043478\\ny_test (True): [1 1 1 1 1 0 0 0 0 1 1 1 1 1 1 1 1 1 1 1 0 0 0 0 1 1 1 1 1 1 1]\\ny_predicted (Pred): [0 0 0 0 0 0 0 0 0 0 0 0 1 0 0 0 1 0 0 0 0 0 0 0 0 0 0 0 0 1 0]\\nTraining Accuracy: 0.5130653266331658\\nTest Accuracy: 0.3548387096774194\\n\",\n",
       " \"X and y train shapes: \\n(1991, 15)\\n(1991,)\\nX and y test shapes: \\n(30, 15)\\n(30,)\\ny_train class distribution: {'low stress': 965, 'high stress': 1026}\\ny_test class distribution: {'low stress': 13, 'high stress': 17}\\nAUC Score: 0.5294117647058824\\nBalanced Accuracy: 0.6131221719457014\\ny_test (True): [1 1 1 1 1 1 0 0 0 1 1 1 1 0 0 0 0 0 0 0 0 1 1 1 1 1 1 1 0 0]\\ny_predicted (Pred): [0 1 1 1 1 0 1 0 1 1 1 1 1 1 0 0 1 0 1 0 1 0 1 1 0 1 1 1 0 1]\\nTraining Accuracy: 0.5424409844299347\\nTest Accuracy: 0.6333333333333333\\n\",\n",
       " \"X and y train shapes: \\n(1994, 15)\\n(1994,)\\nX and y test shapes: \\n(27, 15)\\n(27,)\\ny_train class distribution: {'low stress': 969, 'high stress': 1025}\\ny_test class distribution: {'low stress': 9, 'high stress': 18}\\nAUC Score: 0.5617283950617284\\nBalanced Accuracy: 0.6388888888888888\\ny_test (True): [0 0 0 1 1 1 1 1 1 1 1 1 1 1 0 0 1 1 1 0 1 1 1 0 0 0 1]\\ny_predicted (Pred): [1 0 0 0 1 1 0 1 1 1 1 1 1 1 0 1 1 1 1 1 1 1 0 1 1 0 1]\\nTraining Accuracy: 0.5436308926780341\\nTest Accuracy: 0.7037037037037037\\n\",\n",
       " \"X and y train shapes: \\n(1937, 15)\\n(1937,)\\nX and y test shapes: \\n(84, 15)\\n(84,)\\ny_train class distribution: {'low stress': 952, 'high stress': 985}\\ny_test class distribution: {'low stress': 26, 'high stress': 58}\\nAUC Score: 0.6259946949602122\\nBalanced Accuracy: 0.6180371352785146\\ny_test (True): [0 0 0 0 0 0 0 0 0 0 0 0 0 0 0 0 0 0 0 0 0 0 0 1 1 1 1 1 1 1 1 1 1 1 1 1 1\\n 1 1 1 1 1 1 1 1 1 1 1 1 1 1 1 1 1 1 1 1 1 1 1 1 1 1 1 1 1 1 1 1 1 1 1 1 1\\n 1 1 1 1 1 0 0 0 1 1]\\ny_predicted (Pred): [0 0 1 0 0 1 1 0 1 0 0 0 0 0 1 0 0 1 0 1 0 0 1 0 0 1 1 0 0 0 0 0 0 1 1 1 1\\n 1 1 1 0 1 1 1 0 1 1 1 1 1 0 0 1 1 1 0 1 0 1 1 1 0 1 1 0 1 1 0 0 1 0 0 1 1\\n 1 0 1 1 1 1 1 0 1 0]\\nTraining Accuracy: 0.5400103252452245\\nTest Accuracy: 0.6190476190476191\\n\",\n",
       " \"X and y train shapes: \\n(1939, 15)\\n(1939,)\\nX and y test shapes: \\n(82, 15)\\n(82,)\\ny_train class distribution: {'low stress': 961, 'high stress': 978}\\ny_test class distribution: {'low stress': 17, 'high stress': 65}\\nAUC Score: 0.5687782805429865\\nBalanced Accuracy: 0.579185520361991\\ny_test (True): [0 0 0 1 1 1 1 1 1 1 0 0 0 0 0 0 0 1 1 1 1 1 1 1 1 1 1 1 1 1 1 1 1 1 1 0 0\\n 1 1 1 0 0 1 1 1 1 1 1 1 1 1 1 1 1 1 1 1 1 1 1 1 1 1 0 0 0 1 1 1 1 1 1 1 1\\n 1 1 1 1 1 1 1 1]\\ny_predicted (Pred): [1 1 1 1 1 1 1 1 0 1 1 1 1 1 0 1 1 1 1 1 1 1 1 1 1 1 0 1 1 1 1 1 1 1 1 1 1\\n 0 1 1 0 1 1 1 1 1 1 1 1 1 1 1 1 1 1 1 1 1 1 1 1 1 1 1 0 0 1 1 1 1 1 1 1 0\\n 1 1 1 0 1 1 1 1]\\nTraining Accuracy: 0.5136668385765859\\nTest Accuracy: 0.7804878048780488\\n\",\n",
       " \"X and y train shapes: \\n(1869, 15)\\n(1869,)\\nX and y test shapes: \\n(152, 15)\\n(152,)\\ny_train class distribution: {'low stress': 858, 'high stress': 1011}\\ny_test class distribution: {'low stress': 120, 'high stress': 32}\\nAUC Score: 0.5636718749999999\\nBalanced Accuracy: 0.5927083333333334\\ny_test (True): [0 0 0 0 0 0 0 0 0 0 0 0 0 0 0 0 0 0 0 0 0 0 0 0 0 0 0 0 0 0 1 1 1 1 0 0 1\\n 1 1 0 0 0 0 0 0 0 0 0 0 0 0 0 0 0 0 0 1 1 1 1 0 0 0 0 0 0 0 0 0 1 1 1 1 0\\n 0 0 0 0 0 0 0 0 0 0 0 0 0 0 0 0 0 1 1 1 1 0 0 0 0 0 0 0 0 0 0 0 0 0 0 1 1\\n 0 0 0 1 1 1 1 0 0 0 0 0 0 0 0 0 0 0 0 0 0 0 0 0 0 0 0 0 1 1 1 1 1 1 1 0 0\\n 0 0 0 0]\\ny_predicted (Pred): [0 1 1 1 0 1 0 0 0 0 1 1 0 0 0 0 0 1 1 0 1 0 0 0 1 1 0 1 0 0 0 1 1 1 0 1 0\\n 1 1 0 0 0 0 1 1 0 0 1 1 1 0 0 1 0 1 0 1 1 1 0 0 1 1 0 1 1 0 1 1 1 1 1 0 1\\n 1 0 0 1 0 1 1 1 1 0 0 1 1 1 1 1 1 1 0 1 1 0 1 0 0 0 1 1 0 1 1 1 0 0 1 1 1\\n 0 0 1 0 1 0 1 0 1 0 1 1 0 1 1 1 1 0 0 0 0 1 1 0 1 1 0 1 0 1 1 1 0 1 1 1 0\\n 1 1 1 1]\\nTraining Accuracy: 0.521669341894061\\nTest Accuracy: 0.5197368421052632\\n\"]"
      ]
     },
     "execution_count": 18,
     "metadata": {},
     "output_type": "execute_result"
    }
   ],
   "source": [
    "output_list"
   ]
  },
  {
   "cell_type": "code",
   "execution_count": 19,
   "id": "67e5941f-add0-4dac-9d70-72ea1223596f",
   "metadata": {},
   "outputs": [],
   "source": [
    "df_output = pd.DataFrame({'Fold Results in PhoneLog Features': output_list})\n",
    "df_output.to_excel('studentlife_phonelog_prediction_analysis.xlsx', index=False)"
   ]
  },
  {
   "cell_type": "code",
   "execution_count": 20,
   "id": "aa94d59b-4175-43f6-857f-5cdf2488850c",
   "metadata": {},
   "outputs": [
    {
     "name": "stdout",
     "output_type": "stream",
     "text": [
      "Logistic Regression: \n",
      "Median, 25th Percentile, 75th Percentile: \n",
      "AUC Score - Median: 0.5637, 25th Percentile: 0.5189, 75th Percentile: 0.6056\n",
      "Balanced Accuracy - Median: 0.6120, 25th Percentile: 0.5597, 75th Percentile: 0.6408\n"
     ]
    }
   ],
   "source": [
    "print('Logistic Regression: ')\n",
    "print('Median, 25th Percentile, 75th Percentile: ')\n",
    "\n",
    "if auc_scores:\n",
    "    auc_scores_valid = [score for score in auc_scores if score is not None] \n",
    "\n",
    "    auc_median = np.median(auc_scores_valid)\n",
    "    auc_25_percentile = np.percentile(auc_scores_valid, 25)\n",
    "    auc_75_percentile = np.percentile(auc_scores_valid, 75)\n",
    "    print(f\"AUC Score - Median: {auc_median:.4f}, 25th Percentile: {auc_25_percentile:.4f}, 75th Percentile: {auc_75_percentile:.4f}\")\n",
    "\n",
    "balanced_accs_valid = [acc for acc in balanced_accs if acc is not None] \n",
    "\n",
    "balanced_acc_median = np.median(balanced_accs)\n",
    "balanced_acc_25_percentile = np.percentile(balanced_accs, 25)\n",
    "balanced_acc_75_percentile = np.percentile(balanced_accs, 75)\n",
    "\n",
    "print(f\"Balanced Accuracy - Median: {balanced_acc_median:.4f}, 25th Percentile: {balanced_acc_25_percentile:.4f}, 75th Percentile: {balanced_acc_75_percentile:.4f}\")"
   ]
  },
  {
   "cell_type": "code",
   "execution_count": null,
   "id": "b2c2c86d-c7a0-45e9-bb43-d3536e223db0",
   "metadata": {},
   "outputs": [],
   "source": []
  },
  {
   "cell_type": "code",
   "execution_count": null,
   "id": "7e6c607d-a15e-4098-9bd9-944dd7e63b42",
   "metadata": {},
   "outputs": [],
   "source": []
  }
 ],
 "metadata": {
  "kernelspec": {
   "display_name": "Python 3 (ipykernel)",
   "language": "python",
   "name": "python3"
  },
  "language_info": {
   "codemirror_mode": {
    "name": "ipython",
    "version": 3
   },
   "file_extension": ".py",
   "mimetype": "text/x-python",
   "name": "python",
   "nbconvert_exporter": "python",
   "pygments_lexer": "ipython3",
   "version": "3.10.8"
  }
 },
 "nbformat": 4,
 "nbformat_minor": 5
}
