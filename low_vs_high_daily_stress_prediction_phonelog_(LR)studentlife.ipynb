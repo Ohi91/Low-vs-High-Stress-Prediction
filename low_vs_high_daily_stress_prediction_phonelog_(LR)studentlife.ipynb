{
 "cells": [
  {
   "cell_type": "code",
   "execution_count": 1,
   "id": "d89fb590",
   "metadata": {},
   "outputs": [],
   "source": [
    "import numpy as np\n",
    "import pandas as pd\n",
    "from tqdm import tqdm\n",
    "import tensorflow as tf\n",
    "from sklearn.model_selection import train_test_split\n",
    "from sklearn.preprocessing import LabelEncoder\n",
    "from sklearn.preprocessing import StandardScaler\n",
    "from sklearn.preprocessing import MinMaxScaler\n",
    "from sklearn.linear_model import LogisticRegression\n",
    "from sklearn.feature_selection import RFE\n",
    "\n",
    "from sklearn.metrics import confusion_matrix\n",
    "from keras.layers import Dense, Activation, Dropout\n",
    "from sklearn.metrics import classification_report\n",
    "from keras.models import Sequential\n",
    "from keras.utils import to_categorical\n",
    "from sklearn.metrics import f1_score\n",
    "import matplotlib.pyplot as plt\n",
    "import seaborn as sns\n",
    "import random\n",
    "\n",
    "from imblearn.under_sampling import RandomUnderSampler\n",
    "from sklearn.utils.class_weight import compute_class_weight\n",
    "from sklearn.ensemble import RandomForestClassifier\n",
    "from sklearn.metrics import balanced_accuracy_score, roc_auc_score\n",
    "from imblearn.over_sampling import RandomOverSampler\n",
    "from sklearn.model_selection import GridSearchCV\n",
    "\n",
    "from tensorflow.keras import backend as K\n",
    "from tensorflow.keras.layers import Dense, Dropout\n",
    "from tensorflow.keras.optimizers import Adam\n",
    "from sklearn.metrics import balanced_accuracy_score, roc_auc_score\n",
    "from sklearn.model_selection import LeaveOneGroupOut\n",
    "from sklearn.utils.class_weight import compute_class_weight\n",
    "from itertools import combinations\n",
    "import joblib"
   ]
  },
  {
   "cell_type": "code",
   "execution_count": 2,
   "id": "a13de8f6",
   "metadata": {},
   "outputs": [],
   "source": [
    "df1 = pd.read_csv('/Users/ohidabinteamin/Documents/Stress Prediction Project Three Datasets/StudentLife/week 01/PhoneLog/raw_phonelog_features_studentlife.csv')\n",
    "df1 = df1.rename(columns={'Date': 'date'})\n",
    "df1 = df1.drop('Unnamed: 0', axis=1)\n",
    "df2 = pd.read_csv('/Users/ohidabinteamin/Documents/Stress Prediction Project Three Datasets/StudentLife/week 01/Stress/recreating_dailystress_features.csv')\n",
    "df2 = df2.drop('Unnamed: 0', axis=1)"
   ]
  },
  {
   "cell_type": "code",
   "execution_count": 3,
   "id": "8790dc02",
   "metadata": {},
   "outputs": [
    {
     "name": "stdout",
     "output_type": "stream",
     "text": [
      "Index(['date', 'uid', 'morning_phonecharge_duration',\n",
      "       'morning_phonecharge_frequency', 'morning_phonelock_duration',\n",
      "       'morning_phonelock_frequency', 'morning_dark_duration',\n",
      "       'afternoon_phonecharge_duration', 'afternoon_phonecharge_frequency',\n",
      "       'afternoon_phonelock_duration', 'afternoon_phonelock_frequency',\n",
      "       'afternoon_dark_duration', 'evening_phonecharge_duration',\n",
      "       'evening_phonecharge_frequency', 'evening_phonelock_duration',\n",
      "       'evening_phonelock_frequency', 'evening_dark_duration',\n",
      "       'night_phonecharge_duration', 'night_phonecharge_frequency',\n",
      "       'night_phonelock_duration', 'night_phonelock_frequency',\n",
      "       'night_dark_duration', 'stress_ratings'],\n",
      "      dtype='object')\n"
     ]
    }
   ],
   "source": [
    "df = pd.merge(df1, df2, on=['uid', 'date'])\n",
    "print(df.columns)\n",
    "\n",
    "df = df.sort_values(by='date')"
   ]
  },
  {
   "cell_type": "code",
   "execution_count": 4,
   "id": "88641721-82da-42c7-b187-a673a82f011c",
   "metadata": {},
   "outputs": [
    {
     "data": {
      "text/plain": [
       "date                                 0\n",
       "uid                                  0\n",
       "morning_phonecharge_duration       205\n",
       "morning_phonecharge_frequency      205\n",
       "morning_phonelock_duration           5\n",
       "morning_phonelock_frequency          5\n",
       "morning_dark_duration               47\n",
       "afternoon_phonecharge_duration       0\n",
       "afternoon_phonecharge_frequency      0\n",
       "afternoon_phonelock_duration         0\n",
       "afternoon_phonelock_frequency        0\n",
       "afternoon_dark_duration              0\n",
       "evening_phonecharge_duration         5\n",
       "evening_phonecharge_frequency        5\n",
       "evening_phonelock_duration           0\n",
       "evening_phonelock_frequency          0\n",
       "evening_dark_duration                0\n",
       "night_phonecharge_duration           5\n",
       "night_phonecharge_frequency          5\n",
       "night_phonelock_duration             0\n",
       "night_phonelock_frequency            0\n",
       "night_dark_duration                  0\n",
       "stress_ratings                       0\n",
       "dtype: int64"
      ]
     },
     "execution_count": 4,
     "metadata": {},
     "output_type": "execute_result"
    }
   ],
   "source": [
    "df.isnull().sum()"
   ]
  },
  {
   "cell_type": "code",
   "execution_count": 5,
   "id": "576bb6e1-ad0a-4d6c-9768-5a7a30b1dfa6",
   "metadata": {},
   "outputs": [
    {
     "name": "stdout",
     "output_type": "stream",
     "text": [
      "3349\n"
     ]
    }
   ],
   "source": [
    "df = df.dropna()\n",
    "print(len(df))"
   ]
  },
  {
   "cell_type": "code",
   "execution_count": 6,
   "id": "1b2f78a1-7383-4c8c-846c-06763e97ab60",
   "metadata": {},
   "outputs": [
    {
     "data": {
      "text/plain": [
       "Index(['date', 'uid', 'morning_phonecharge_duration',\n",
       "       'morning_phonecharge_frequency', 'morning_phonelock_duration',\n",
       "       'morning_phonelock_frequency', 'morning_dark_duration',\n",
       "       'afternoon_phonecharge_duration', 'afternoon_phonecharge_frequency',\n",
       "       'afternoon_phonelock_duration', 'afternoon_phonelock_frequency',\n",
       "       'afternoon_dark_duration', 'evening_phonecharge_duration',\n",
       "       'evening_phonecharge_frequency', 'evening_phonelock_duration',\n",
       "       'evening_phonelock_frequency', 'evening_dark_duration',\n",
       "       'night_phonecharge_duration', 'night_phonecharge_frequency',\n",
       "       'night_phonelock_duration', 'night_phonelock_frequency',\n",
       "       'night_dark_duration', 'stress_ratings'],\n",
       "      dtype='object')"
      ]
     },
     "execution_count": 6,
     "metadata": {},
     "output_type": "execute_result"
    }
   ],
   "source": [
    "df.columns"
   ]
  },
  {
   "cell_type": "code",
   "execution_count": 7,
   "id": "a5032380-a9b2-4dc8-b42d-3e3a5b632093",
   "metadata": {},
   "outputs": [
    {
     "data": {
      "text/plain": [
       "23"
      ]
     },
     "execution_count": 7,
     "metadata": {},
     "output_type": "execute_result"
    }
   ],
   "source": [
    "len(df.columns)"
   ]
  },
  {
   "cell_type": "code",
   "execution_count": 8,
   "id": "637f66c7-2809-40a4-abc0-702c72e594a1",
   "metadata": {},
   "outputs": [
    {
     "data": {
      "text/plain": [
       "stress_ratings\n",
       "medium stress    1328\n",
       "high stress      1043\n",
       "low stress        978\n",
       "Name: count, dtype: int64"
      ]
     },
     "execution_count": 8,
     "metadata": {},
     "output_type": "execute_result"
    }
   ],
   "source": [
    "df['stress_ratings'].value_counts()"
   ]
  },
  {
   "cell_type": "code",
   "execution_count": 9,
   "id": "05191acb-7624-4e48-9767-a3052e486aa0",
   "metadata": {},
   "outputs": [],
   "source": [
    "binary_lh_data = df[df['stress_ratings'].isin(['low stress', 'high stress'])]"
   ]
  },
  {
   "cell_type": "code",
   "execution_count": 10,
   "id": "6b6d94cc-584a-45ee-b3b8-3d3eaab2c6a5",
   "metadata": {},
   "outputs": [
    {
     "name": "stdout",
     "output_type": "stream",
     "text": [
      "43\n"
     ]
    },
    {
     "data": {
      "text/plain": [
       "uid\n",
       "u59    152\n",
       "u16    128\n",
       "u19    126\n",
       "u49    111\n",
       "u04     97\n",
       "u33     87\n",
       "u57     84\n",
       "u58     82\n",
       "u08     79\n",
       "u00     71\n",
       "u52     68\n",
       "u46     60\n",
       "u44     54\n",
       "u45     54\n",
       "u22     48\n",
       "u12     48\n",
       "u32     47\n",
       "u01     43\n",
       "u02     40\n",
       "u07     39\n",
       "u36     38\n",
       "u51     37\n",
       "u30     35\n",
       "u24     34\n",
       "u35     32\n",
       "u27     32\n",
       "u53     31\n",
       "u25     30\n",
       "u54     30\n",
       "u42     29\n",
       "u14     28\n",
       "u56     27\n",
       "u31     22\n",
       "u23     21\n",
       "u18     16\n",
       "u17     12\n",
       "u41     12\n",
       "u47     11\n",
       "u05      9\n",
       "u34      5\n",
       "u15      5\n",
       "u20      4\n",
       "u09      3\n",
       "Name: count, dtype: int64"
      ]
     },
     "execution_count": 10,
     "metadata": {},
     "output_type": "execute_result"
    }
   ],
   "source": [
    "print(len(binary_lh_data['uid'].unique()))\n",
    "binary_lh_data['uid'].value_counts()"
   ]
  },
  {
   "cell_type": "code",
   "execution_count": 11,
   "id": "373c5b85-dffb-4d9b-a342-65e2525f9b42",
   "metadata": {},
   "outputs": [],
   "source": [
    "# uid_counts = binary_lh_data['uid'].value_counts()\n",
    "# uids_to_keep = uid_counts[uid_counts >= 5].index\n",
    "# binary_lh_data = binary_lh_data[binary_lh_data['uid'].isin(uids_to_keep)]\n",
    "\n",
    "# print('Length of Data: ', len(binary_lh_data))\n",
    "# binary_lh_data = binary_lh_data.sort_values(by=['uid', 'date'])\n",
    "# print(binary_lh_data['uid'].unique())"
   ]
  },
  {
   "cell_type": "code",
   "execution_count": 12,
   "id": "9d3a31f1-a8e0-4bba-8ef1-d18f29836618",
   "metadata": {},
   "outputs": [],
   "source": [
    "X = binary_lh_data.drop(columns=['stress_ratings', 'uid', 'date'])\n",
    "y = binary_lh_data['stress_ratings']\n",
    "groups = binary_lh_data['uid']\n",
    "\n",
    "stress_map = {'low stress': 0, 'high stress': 1}\n",
    "y_encoded = y.map(stress_map).values "
   ]
  },
  {
   "cell_type": "code",
   "execution_count": 13,
   "id": "ab7a26eb-d08f-4420-ad6c-061e2e766686",
   "metadata": {},
   "outputs": [
    {
     "name": "stdout",
     "output_type": "stream",
     "text": [
      "Number of features in X: 20\n"
     ]
    }
   ],
   "source": [
    "print(f\"Number of features in X: {X.shape[1]}\")"
   ]
  },
  {
   "cell_type": "code",
   "execution_count": 14,
   "id": "d30d3ea7-b395-4fcf-ad12-0d03a5fecbba",
   "metadata": {},
   "outputs": [],
   "source": [
    "logo = LeaveOneGroupOut()\n",
    "\n",
    "best_thresholds = []\n",
    "balanced_accs = []\n",
    "auc_scores = []"
   ]
  },
  {
   "cell_type": "code",
   "execution_count": 15,
   "id": "561f903a-6aef-4e34-b406-93ca30bbd5e2",
   "metadata": {},
   "outputs": [],
   "source": [
    "seed_value = 42\n",
    "np.random.seed(seed_value)\n",
    "random.seed(seed_value)\n",
    "tf.random.set_seed(seed_value)"
   ]
  },
  {
   "cell_type": "code",
   "execution_count": 16,
   "id": "14e0b5eb-50c0-48f6-a1a7-eaa67bbfbf2d",
   "metadata": {},
   "outputs": [],
   "source": [
    "param_grid = [\n",
    "    {'C': [0.001, 0.01, 0.1, 1, 10, 100],\n",
    "     'penalty': ['l2'],\n",
    "     'solver': ['newton-cg', 'lbfgs', 'sag']},\n",
    "    {'C': [0.001, 0.01, 0.1, 1, 10, 100],\n",
    "     'penalty': ['l1', 'l2'],\n",
    "     'solver': ['liblinear']},\n",
    "    {'C': [0.001, 0.01, 0.1, 1, 10, 100],\n",
    "     'l1_ratio': [0.2, 0.5, 0.8],\n",
    "     'penalty': ['elasticnet'],\n",
    "     'solver': ['saga']}\n",
    "]"
   ]
  },
  {
   "cell_type": "code",
   "execution_count": 17,
   "id": "f2be34cb-e293-4beb-828f-71af3e289fb3",
   "metadata": {},
   "outputs": [
    {
     "name": "stdout",
     "output_type": "stream",
     "text": [
      "Selected Features: [ 2  3  5  6  7  8  9 10 11 12 13 14 15 16 18]\n",
      "43\n"
     ]
    },
    {
     "name": "stderr",
     "output_type": "stream",
     "text": [
      "LOSO CV Progress:   0%|                                    | 0/43 [00:00<?]   0%"
     ]
    },
    {
     "name": "stdout",
     "output_type": "stream",
     "text": [
      "X and y train shapes: \n",
      "(1950, 15)\n",
      "(1950,)\n",
      "X and y test shapes: \n",
      "(71, 15)\n",
      "(71,)\n",
      "Fitting 3 folds for each of 48 candidates, totalling 144 fits\n"
     ]
    },
    {
     "name": "stderr",
     "output_type": "stream",
     "text": [
      "LOSO CV Progress:   5%|█▍                              | 2/43 [00:01<00:18]   5%"
     ]
    },
    {
     "name": "stdout",
     "output_type": "stream",
     "text": [
      "AUC Score: 0.5166666666666666\n",
      "Balanced Accuracy: 0.5707317073170732\n",
      "X and y train shapes: \n",
      "(1978, 15)\n",
      "(1978,)\n",
      "X and y test shapes: \n",
      "(43, 15)\n",
      "(43,)\n",
      "Fitting 3 folds for each of 48 candidates, totalling 144 fits\n",
      "AUC Score: 0.5701357466063348\n",
      "Balanced Accuracy: 0.6119909502262444\n",
      "X and y train shapes: \n",
      "(1981, 15)\n",
      "(1981,)\n",
      "X and y test shapes: \n",
      "(40, 15)\n",
      "(40,)\n",
      "Fitting 3 folds for each of 48 candidates, totalling 144 fits\n"
     ]
    },
    {
     "name": "stderr",
     "output_type": "stream",
     "text": [
      "LOSO CV Progress:   9%|██▉                             | 4/43 [00:01<00:10]   9%"
     ]
    },
    {
     "name": "stdout",
     "output_type": "stream",
     "text": [
      "AUC Score: 0.5831202046035805\n",
      "Balanced Accuracy: 0.6214833759590792\n",
      "X and y train shapes: \n",
      "(1924, 15)\n",
      "(1924,)\n",
      "X and y test shapes: \n",
      "(97, 15)\n",
      "(97,)\n",
      "Fitting 3 folds for each of 48 candidates, totalling 144 fits\n",
      "AUC Score: 0.5358974358974359\n",
      "Balanced Accuracy: 0.5587606837606838\n",
      "X and y train shapes: \n",
      "(2012, 15)\n",
      "(2012,)\n",
      "X and y test shapes: \n",
      "(9, 15)\n",
      "(9,)\n",
      "Fitting 3 folds for each of 48 candidates, totalling 144 fits\n"
     ]
    },
    {
     "name": "stderr",
     "output_type": "stream",
     "text": [
      "LOSO CV Progress:  14%|████▎                           | 6/43 [00:01<00:07]  14%"
     ]
    },
    {
     "name": "stdout",
     "output_type": "stream",
     "text": [
      "AUC Score: 0.6111111111111112\n",
      "Balanced Accuracy: 0.6666666666666666\n",
      "X and y train shapes: \n",
      "(1982, 15)\n",
      "(1982,)\n",
      "X and y test shapes: \n",
      "(39, 15)\n",
      "(39,)\n",
      "Fitting 3 folds for each of 48 candidates, totalling 144 fits\n",
      "AUC Score: 0.4841269841269841\n",
      "Balanced Accuracy: 0.5476190476190476\n",
      "X and y train shapes: \n",
      "(1942, 15)\n",
      "(1942,)\n",
      "X and y test shapes: \n",
      "(79, 15)\n",
      "(79,)\n",
      "Fitting 3 folds for each of 48 candidates, totalling 144 fits\n"
     ]
    },
    {
     "name": "stderr",
     "output_type": "stream",
     "text": [
      "LOSO CV Progress:  16%|█████                           | 7/43 [00:01<00:06]  16%"
     ]
    },
    {
     "name": "stdout",
     "output_type": "stream",
     "text": [
      "AUC Score: 0.5416666666666666\n",
      "Balanced Accuracy: 0.5516381766381766\n",
      "X and y train shapes: \n",
      "(2018, 15)\n",
      "(2018,)\n",
      "X and y test shapes: \n",
      "(3, 15)\n",
      "(3,)\n",
      "Skipping this subject for having single class: y_train = [0 1], y_test = [1]\n",
      "X and y train shapes: \n",
      "(1973, 15)\n",
      "(1973,)\n",
      "X and y test shapes: \n",
      "(48, 15)\n",
      "(48,)\n",
      "Fitting 3 folds for each of 48 candidates, totalling 144 fits\n"
     ]
    },
    {
     "name": "stderr",
     "output_type": "stream",
     "text": [
      "LOSO CV Progress:  23%|██████▉                        | 10/43 [00:02<00:05]  23%"
     ]
    },
    {
     "name": "stdout",
     "output_type": "stream",
     "text": [
      "AUC Score: 0.6392857142857143\n",
      "Balanced Accuracy: 0.6178571428571429\n",
      "X and y train shapes: \n",
      "(1993, 15)\n",
      "(1993,)\n",
      "X and y test shapes: \n",
      "(28, 15)\n",
      "(28,)\n",
      "Fitting 3 folds for each of 48 candidates, totalling 144 fits\n",
      "AUC Score: 0.7846153846153847\n",
      "Balanced Accuracy: 0.7615384615384615\n",
      "X and y train shapes: \n",
      "(2016, 15)\n",
      "(2016,)\n",
      "X and y test shapes: \n",
      "(5, 15)\n",
      "(5,)\n",
      "Fitting 3 folds for each of 48 candidates, totalling 144 fits\n"
     ]
    },
    {
     "name": "stderr",
     "output_type": "stream",
     "text": [
      "LOSO CV Progress:  26%|███████▋                       | 11/43 [00:02<00:05]  26%"
     ]
    },
    {
     "name": "stdout",
     "output_type": "stream",
     "text": [
      "AUC Score: 0.6666666666666666\n",
      "Balanced Accuracy: 0.8333333333333333\n",
      "X and y train shapes: \n",
      "(1893, 15)\n",
      "(1893,)\n",
      "X and y test shapes: \n",
      "(128, 15)\n",
      "(128,)\n",
      "Fitting 3 folds for each of 48 candidates, totalling 144 fits\n"
     ]
    },
    {
     "name": "stderr",
     "output_type": "stream",
     "text": [
      "LOSO CV Progress:  28%|████████▎                      | 12/43 [00:02<00:06]  28%"
     ]
    },
    {
     "name": "stdout",
     "output_type": "stream",
     "text": [
      "AUC Score: 0.4528545595453371\n",
      "Balanced Accuracy: 0.5246706277447688\n",
      "X and y train shapes: \n",
      "(2009, 15)\n",
      "(2009,)\n",
      "X and y test shapes: \n",
      "(12, 15)\n",
      "(12,)\n",
      "Skipping this subject for having single class: y_train = [0 1], y_test = [0]\n",
      "X and y train shapes: \n",
      "(2005, 15)\n",
      "(2005,)\n",
      "X and y test shapes: \n",
      "(16, 15)\n",
      "(16,)\n",
      "Fitting 3 folds for each of 48 candidates, totalling 144 fits\n"
     ]
    },
    {
     "name": "stderr",
     "output_type": "stream",
     "text": [
      "LOSO CV Progress:  33%|█████████▊                     | 14/43 [00:03<00:05]  33%"
     ]
    },
    {
     "name": "stdout",
     "output_type": "stream",
     "text": [
      "AUC Score: 0.6000000000000001\n",
      "Balanced Accuracy: 0.6333333333333333\n",
      "X and y train shapes: \n",
      "(1895, 15)\n",
      "(1895,)\n",
      "X and y test shapes: \n",
      "(126, 15)\n",
      "(126,)\n",
      "Fitting 3 folds for each of 48 candidates, totalling 144 fits\n"
     ]
    },
    {
     "name": "stderr",
     "output_type": "stream",
     "text": [
      "LOSO CV Progress:  37%|███████████▏                   | 16/43 [00:03<00:05]  37%"
     ]
    },
    {
     "name": "stdout",
     "output_type": "stream",
     "text": [
      "AUC Score: 0.4347222222222223\n",
      "Balanced Accuracy: 0.5197916666666667\n",
      "X and y train shapes: \n",
      "(2017, 15)\n",
      "(2017,)\n",
      "X and y test shapes: \n",
      "(4, 15)\n",
      "(4,)\n",
      "Fitting 3 folds for each of 48 candidates, totalling 144 fits\n",
      "AUC Score: 1.0\n",
      "Balanced Accuracy: 1.0\n",
      "X and y train shapes: \n",
      "(1973, 15)\n",
      "(1973,)\n",
      "X and y test shapes: \n",
      "(48, 15)\n",
      "(48,)\n",
      "Fitting 3 folds for each of 48 candidates, totalling 144 fits\n"
     ]
    },
    {
     "name": "stderr",
     "output_type": "stream",
     "text": [
      "LOSO CV Progress:  42%|████████████▌                  | 18/43 [00:03<00:04]  42%"
     ]
    },
    {
     "name": "stdout",
     "output_type": "stream",
     "text": [
      "AUC Score: 0.5488372093023256\n",
      "Balanced Accuracy: 0.6418604651162791\n",
      "X and y train shapes: \n",
      "(2000, 15)\n",
      "(2000,)\n",
      "X and y test shapes: \n",
      "(21, 15)\n",
      "(21,)\n",
      "Fitting 3 folds for each of 48 candidates, totalling 144 fits\n",
      "AUC Score: 0.5735294117647058\n",
      "Balanced Accuracy: 0.6397058823529411\n",
      "X and y train shapes: \n",
      "(1987, 15)\n",
      "(1987,)\n",
      "X and y test shapes: \n",
      "(34, 15)\n",
      "(34,)\n",
      "Fitting 3 folds for each of 48 candidates, totalling 144 fits\n"
     ]
    },
    {
     "name": "stderr",
     "output_type": "stream",
     "text": [
      "LOSO CV Progress:  47%|█████████████▉                 | 20/43 [00:04<00:03]  47%"
     ]
    },
    {
     "name": "stdout",
     "output_type": "stream",
     "text": [
      "AUC Score: 0.5211640211640212\n",
      "Balanced Accuracy: 0.5952380952380952\n",
      "X and y train shapes: \n",
      "(1991, 15)\n",
      "(1991,)\n",
      "X and y test shapes: \n",
      "(30, 15)\n",
      "(30,)\n",
      "Fitting 3 folds for each of 48 candidates, totalling 144 fits\n",
      "AUC Score: 0.4575\n",
      "Balanced Accuracy: 0.55\n",
      "X and y train shapes: \n",
      "(1989, 15)\n",
      "(1989,)\n",
      "X and y test shapes: \n",
      "(32, 15)\n",
      "(32,)\n",
      "Fitting 3 folds for each of 48 candidates, totalling 144 fits\n"
     ]
    },
    {
     "name": "stderr",
     "output_type": "stream",
     "text": [
      "LOSO CV Progress:  51%|███████████████▎               | 22/43 [00:04<00:03]  51%"
     ]
    },
    {
     "name": "stdout",
     "output_type": "stream",
     "text": [
      "AUC Score: 0.5833333333333334\n",
      "Balanced Accuracy: 0.6282051282051282\n",
      "X and y train shapes: \n",
      "(1986, 15)\n",
      "(1986,)\n",
      "X and y test shapes: \n",
      "(35, 15)\n",
      "(35,)\n",
      "Fitting 3 folds for each of 48 candidates, totalling 144 fits\n",
      "AUC Score: 0.5966666666666667\n",
      "Balanced Accuracy: 0.6166666666666667\n",
      "X and y train shapes: \n",
      "(1999, 15)\n",
      "(1999,)\n",
      "X and y test shapes: \n",
      "(22, 15)\n",
      "(22,)\n",
      "Fitting 3 folds for each of 48 candidates, totalling 144 fits\n"
     ]
    },
    {
     "name": "stderr",
     "output_type": "stream",
     "text": [
      "LOSO CV Progress:  58%|█████████████████▍             | 25/43 [00:04<00:02]  58%"
     ]
    },
    {
     "name": "stdout",
     "output_type": "stream",
     "text": [
      "AUC Score: 0.5347222222222222\n",
      "Balanced Accuracy: 0.5833333333333334\n",
      "X and y train shapes: \n",
      "(1974, 15)\n",
      "(1974,)\n",
      "X and y test shapes: \n",
      "(47, 15)\n",
      "(47,)\n",
      "Skipping this subject for having single class: y_train = [0 1], y_test = [0]\n",
      "X and y train shapes: \n",
      "(1934, 15)\n",
      "(1934,)\n",
      "X and y test shapes: \n",
      "(87, 15)\n",
      "(87,)\n",
      "Fitting 3 folds for each of 48 candidates, totalling 144 fits\n",
      "AUC Score: 0.5641783029001075\n",
      "Balanced Accuracy: 0.5631041890440387\n",
      "X and y train shapes: \n",
      "(2016, 15)\n",
      "(2016,)\n",
      "X and y test shapes: \n",
      "(5, 15)\n",
      "(5,)\n",
      "Skipping this subject for having single class: y_train = [0 1], y_test = [0]\n",
      "X and y train shapes: \n",
      "(1989, 15)\n",
      "(1989,)\n",
      "X and y test shapes: \n",
      "(32, 15)\n",
      "(32,)\n",
      "Fitting 3 folds for each of 48 candidates, totalling 144 fits\n"
     ]
    },
    {
     "name": "stderr",
     "output_type": "stream",
     "text": [
      "LOSO CV Progress:  65%|███████████████████▌           | 28/43 [00:05<00:01]  65%"
     ]
    },
    {
     "name": "stdout",
     "output_type": "stream",
     "text": [
      "AUC Score: 0.7619047619047618\n",
      "Balanced Accuracy: 0.699134199134199\n",
      "X and y train shapes: \n",
      "(1983, 15)\n",
      "(1983,)\n",
      "X and y test shapes: \n",
      "(38, 15)\n",
      "(38,)\n",
      "Fitting 3 folds for each of 48 candidates, totalling 144 fits\n",
      "AUC Score: 0.2604166666666667\n",
      "Balanced Accuracy: 0.515625\n",
      "X and y train shapes: \n",
      "(2009, 15)\n",
      "(2009,)\n",
      "X and y test shapes: \n",
      "(12, 15)\n",
      "(12,)\n",
      "Fitting 3 folds for each of 48 candidates, totalling 144 fits\n"
     ]
    },
    {
     "name": "stderr",
     "output_type": "stream",
     "text": [
      "LOSO CV Progress:  70%|████████████████████▉          | 30/43 [00:05<00:02]  70%"
     ]
    },
    {
     "name": "stdout",
     "output_type": "stream",
     "text": [
      "AUC Score: 0.5571428571428572\n",
      "Balanced Accuracy: 0.6428571428571428\n",
      "X and y train shapes: \n",
      "(1992, 15)\n",
      "(1992,)\n",
      "X and y test shapes: \n",
      "(29, 15)\n",
      "(29,)\n",
      "Fitting 3 folds for each of 48 candidates, totalling 144 fits\n",
      "AUC Score: 0.6161616161616161\n",
      "Balanced Accuracy: 0.648989898989899\n",
      "X and y train shapes: \n",
      "(1967, 15)\n",
      "(1967,)\n",
      "X and y test shapes: \n",
      "(54, 15)\n",
      "(54,)\n",
      "Fitting 3 folds for each of 48 candidates, totalling 144 fits\n"
     ]
    },
    {
     "name": "stderr",
     "output_type": "stream",
     "text": [
      "LOSO CV Progress:  74%|██████████████████████▎        | 32/43 [00:06<00:01]  74%"
     ]
    },
    {
     "name": "stdout",
     "output_type": "stream",
     "text": [
      "AUC Score: 0.4453125\n",
      "Balanced Accuracy: 0.5454545454545454\n",
      "X and y train shapes: \n",
      "(1967, 15)\n",
      "(1967,)\n",
      "X and y test shapes: \n",
      "(54, 15)\n",
      "(54,)\n",
      "Fitting 3 folds for each of 48 candidates, totalling 144 fits\n",
      "AUC Score: 0.43956043956043955\n",
      "Balanced Accuracy: 0.5274725274725275\n",
      "X and y train shapes: \n",
      "(1961, 15)\n",
      "(1961,)\n",
      "X and y test shapes: \n",
      "(60, 15)\n",
      "(60,)\n",
      "Fitting 3 folds for each of 48 candidates, totalling 144 fits\n"
     ]
    },
    {
     "name": "stderr",
     "output_type": "stream",
     "text": [
      "LOSO CV Progress:  79%|███████████████████████▋       | 34/43 [00:06<00:01]  79%"
     ]
    },
    {
     "name": "stdout",
     "output_type": "stream",
     "text": [
      "AUC Score: 0.5516273849607183\n",
      "Balanced Accuracy: 0.5925925925925926\n",
      "X and y train shapes: \n",
      "(2010, 15)\n",
      "(2010,)\n",
      "X and y test shapes: \n",
      "(11, 15)\n",
      "(11,)\n",
      "Fitting 3 folds for each of 48 candidates, totalling 144 fits\n",
      "AUC Score: 0.7\n",
      "Balanced Accuracy: 0.7166666666666667\n",
      "X and y train shapes: \n",
      "(1910, 15)\n",
      "(1910,)\n",
      "X and y test shapes: \n",
      "(111, 15)\n",
      "(111,)\n",
      "Fitting 3 folds for each of 48 candidates, totalling 144 fits\n"
     ]
    },
    {
     "name": "stderr",
     "output_type": "stream",
     "text": [
      "LOSO CV Progress:  81%|████████████████████████▍      | 35/43 [00:06<00:01]  81%"
     ]
    },
    {
     "name": "stdout",
     "output_type": "stream",
     "text": [
      "AUC Score: 0.44753521126760565\n",
      "Balanced Accuracy: 0.5170774647887324\n",
      "X and y train shapes: \n",
      "(1984, 15)\n",
      "(1984,)\n",
      "X and y test shapes: \n",
      "(37, 15)\n",
      "(37,)\n",
      "Fitting 3 folds for each of 48 candidates, totalling 144 fits\n"
     ]
    },
    {
     "name": "stderr",
     "output_type": "stream",
     "text": [
      "LOSO CV Progress:  86%|█████████████████████████▊     | 37/43 [00:07<00:01]  86%"
     ]
    },
    {
     "name": "stdout",
     "output_type": "stream",
     "text": [
      "AUC Score: 0.676470588235294\n",
      "Balanced Accuracy: 0.6862745098039216\n",
      "X and y train shapes: \n",
      "(1953, 15)\n",
      "(1953,)\n",
      "X and y test shapes: \n",
      "(68, 15)\n",
      "(68,)\n",
      "Fitting 3 folds for each of 48 candidates, totalling 144 fits\n",
      "AUC Score: 0.567857142857143\n",
      "Balanced Accuracy: 0.5607142857142857\n",
      "X and y train shapes: \n",
      "(1990, 15)\n",
      "(1990,)\n",
      "X and y test shapes: \n",
      "(31, 15)\n",
      "(31,)\n",
      "Fitting 3 folds for each of 48 candidates, totalling 144 fits\n"
     ]
    },
    {
     "name": "stderr",
     "output_type": "stream",
     "text": [
      "LOSO CV Progress:  88%|██████████████████████████▌    | 38/43 [00:07<00:01]  88%"
     ]
    },
    {
     "name": "stdout",
     "output_type": "stream",
     "text": [
      "AUC Score: 0.47010869565217395\n",
      "Balanced Accuracy: 0.5652173913043478\n",
      "X and y train shapes: \n",
      "(1991, 15)\n",
      "(1991,)\n",
      "X and y test shapes: \n",
      "(30, 15)\n",
      "(30,)\n",
      "Fitting 3 folds for each of 48 candidates, totalling 144 fits\n"
     ]
    },
    {
     "name": "stderr",
     "output_type": "stream",
     "text": [
      "LOSO CV Progress:  93%|███████████████████████████▉   | 40/43 [00:07<00:00]  93%"
     ]
    },
    {
     "name": "stdout",
     "output_type": "stream",
     "text": [
      "AUC Score: 0.5294117647058824\n",
      "Balanced Accuracy: 0.6131221719457014\n",
      "X and y train shapes: \n",
      "(1994, 15)\n",
      "(1994,)\n",
      "X and y test shapes: \n",
      "(27, 15)\n",
      "(27,)\n",
      "Fitting 3 folds for each of 48 candidates, totalling 144 fits\n",
      "AUC Score: 0.5617283950617284\n",
      "Balanced Accuracy: 0.6388888888888888\n",
      "X and y train shapes: \n",
      "(1937, 15)\n",
      "(1937,)\n",
      "X and y test shapes: \n",
      "(84, 15)\n",
      "(84,)\n",
      "Fitting 3 folds for each of 48 candidates, totalling 144 fits\n"
     ]
    },
    {
     "name": "stderr",
     "output_type": "stream",
     "text": [
      "LOSO CV Progress:  98%|█████████████████████████████▎ | 42/43 [00:08<00:00]  98%"
     ]
    },
    {
     "name": "stdout",
     "output_type": "stream",
     "text": [
      "AUC Score: 0.6259946949602122\n",
      "Balanced Accuracy: 0.6180371352785146\n",
      "X and y train shapes: \n",
      "(1939, 15)\n",
      "(1939,)\n",
      "X and y test shapes: \n",
      "(82, 15)\n",
      "(82,)\n",
      "Fitting 3 folds for each of 48 candidates, totalling 144 fits\n",
      "AUC Score: 0.5687782805429865\n",
      "Balanced Accuracy: 0.579185520361991\n",
      "X and y train shapes: \n",
      "(1869, 15)\n",
      "(1869,)\n",
      "X and y test shapes: \n",
      "(152, 15)\n",
      "(152,)\n",
      "Fitting 3 folds for each of 48 candidates, totalling 144 fits\n"
     ]
    },
    {
     "name": "stderr",
     "output_type": "stream",
     "text": [
      "LOSO CV Progress: 100%|██████████████████████████████ | 43/43 [00:08<00:00] 100%"
     ]
    },
    {
     "name": "stdout",
     "output_type": "stream",
     "text": [
      "AUC Score: 0.5636718749999999\n",
      "Balanced Accuracy: 0.5927083333333334\n"
     ]
    },
    {
     "name": "stderr",
     "output_type": "stream",
     "text": [
      "\n"
     ]
    }
   ],
   "source": [
    "scaler = StandardScaler()\n",
    "model_logistic_rfe = LogisticRegression(max_iter=5000)\n",
    "\n",
    "rfe = RFE(model_logistic_rfe, n_features_to_select=15)  \n",
    "X_ = scaler.fit_transform(X)\n",
    "rfe.fit(X_, y_encoded) \n",
    "\n",
    "best_features = np.where(rfe.support_)[0]\n",
    "print(f\"Selected Features: {best_features}\")\n",
    "\n",
    "num_splits = len(np.unique(groups))\n",
    "print(num_splits)\n",
    "\n",
    "with tqdm(total=num_splits, desc=\"LOSO CV Progress\", unit=\"fold\", bar_format=\"{l_bar}{bar} | {n_fmt}/{total_fmt} [{elapsed}<{remaining}] {percentage:3.0f}%\") as pbar:\n",
    "    for train_idx, test_idx in logo.split(X, y_encoded, groups=groups):\n",
    "        X_train, X_test = X.iloc[train_idx, best_features], X.iloc[test_idx, best_features]\n",
    "        y_train, y_test = y_encoded[train_idx], y_encoded[test_idx]\n",
    "\n",
    "        print('X and y train shapes: ')\n",
    "        print(X_train.shape)\n",
    "        print(y_train.shape)\n",
    "\n",
    "        print('X and y test shapes: ')\n",
    "        print(X_test.shape)\n",
    "        print(y_test.shape)\n",
    "\n",
    "        scaler = StandardScaler()\n",
    "        X_train_normalized = scaler.fit_transform(X_train)\n",
    "        X_test_normalized = scaler.transform(X_test)\n",
    "        \n",
    "        model_logistic = GridSearchCV(LogisticRegression(max_iter=5000, class_weight='balanced'),\n",
    "                                      param_grid=param_grid, cv=3, verbose=True, n_jobs=-1, scoring='roc_auc')\n",
    "        if len(np.unique(y_train)) > 1 and len(np.unique(y_test)) > 1:\n",
    "            model_logistic.fit(X_train_normalized, y_train)\n",
    "    \n",
    "            y_test_pred_proba = model_logistic.predict_proba(X_test_normalized)[:, 1]\n",
    "            thresholds = np.arange(0.01, 1.0, 0.01)\n",
    "            best_threshold = 0.5\n",
    "            best_metric = 0.0\n",
    "    \n",
    "            for threshold in thresholds:\n",
    "                y_test_pred_binary = (y_test_pred_proba > threshold).astype(int)\n",
    "                metric_value = balanced_accuracy_score(y_test, y_test_pred_binary)\n",
    "                if metric_value > best_metric:\n",
    "                    best_metric = metric_value\n",
    "                    best_threshold = threshold\n",
    "            if len(np.unique(y_test)) > 1:\n",
    "                auc_score = roc_auc_score(y_test, y_test_pred_proba)\n",
    "                auc_scores.append(auc_score)\n",
    "                print(f\"AUC Score: {auc_score}\")\n",
    "            else:\n",
    "                auc_scores.append(None)\n",
    "                print(f\"Skipping AUC computation for this fold as y_test contains only one class: {np.unique(y_test)}\")\n",
    "    \n",
    "            y_test_pred_binary = (y_test_pred_proba > best_threshold).astype(int)\n",
    "            balanced_acc = balanced_accuracy_score(y_test, y_test_pred_binary)\n",
    "            balanced_accs.append(balanced_acc)\n",
    "        \n",
    "            print(f\"Balanced Accuracy: {balanced_acc}\")\n",
    "\n",
    "        else:\n",
    "            print(f\"Skipping this subject for having single class: y_train = {np.unique(y_train)}, y_test = {np.unique(y_test)}\")\n",
    "        \n",
    "        pbar.update(1)"
   ]
  },
  {
   "cell_type": "code",
   "execution_count": 18,
   "id": "aa94d59b-4175-43f6-857f-5cdf2488850c",
   "metadata": {},
   "outputs": [
    {
     "name": "stdout",
     "output_type": "stream",
     "text": [
      "Logistic Regression: \n",
      "Median, 25th Percentile, 75th Percentile: \n",
      "AUC Score - Median: 0.5637, 25th Percentile: 0.5189, 75th Percentile: 0.6056\n",
      "Balanced Accuracy - Median: 0.6120, 25th Percentile: 0.5597, 75th Percentile: 0.6408\n"
     ]
    }
   ],
   "source": [
    "print('Logistic Regression: ')\n",
    "print('Median, 25th Percentile, 75th Percentile: ')\n",
    "\n",
    "if auc_scores:\n",
    "    auc_scores_valid = [score for score in auc_scores if score is not None] \n",
    "\n",
    "    auc_median = np.median(auc_scores_valid)\n",
    "    auc_25_percentile = np.percentile(auc_scores_valid, 25)\n",
    "    auc_75_percentile = np.percentile(auc_scores_valid, 75)\n",
    "    print(f\"AUC Score - Median: {auc_median:.4f}, 25th Percentile: {auc_25_percentile:.4f}, 75th Percentile: {auc_75_percentile:.4f}\")\n",
    "\n",
    "balanced_accs_valid = [acc for acc in balanced_accs if acc is not None] \n",
    "\n",
    "balanced_acc_median = np.median(balanced_accs)\n",
    "balanced_acc_25_percentile = np.percentile(balanced_accs, 25)\n",
    "balanced_acc_75_percentile = np.percentile(balanced_accs, 75)\n",
    "\n",
    "print(f\"Balanced Accuracy - Median: {balanced_acc_median:.4f}, 25th Percentile: {balanced_acc_25_percentile:.4f}, 75th Percentile: {balanced_acc_75_percentile:.4f}\")"
   ]
  },
  {
   "cell_type": "code",
   "execution_count": null,
   "id": "b2c2c86d-c7a0-45e9-bb43-d3536e223db0",
   "metadata": {},
   "outputs": [],
   "source": []
  }
 ],
 "metadata": {
  "kernelspec": {
   "display_name": "Python 3 (ipykernel)",
   "language": "python",
   "name": "python3"
  },
  "language_info": {
   "codemirror_mode": {
    "name": "ipython",
    "version": 3
   },
   "file_extension": ".py",
   "mimetype": "text/x-python",
   "name": "python",
   "nbconvert_exporter": "python",
   "pygments_lexer": "ipython3",
   "version": "3.10.8"
  }
 },
 "nbformat": 4,
 "nbformat_minor": 5
}
