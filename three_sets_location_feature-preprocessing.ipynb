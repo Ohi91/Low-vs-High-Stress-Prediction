{
 "cells": [
  {
   "cell_type": "code",
   "execution_count": 1,
   "id": "e68680be",
   "metadata": {},
   "outputs": [],
   "source": [
    "import pandas as pd"
   ]
  },
  {
   "cell_type": "code",
   "execution_count": 2,
   "id": "f480723f",
   "metadata": {},
   "outputs": [],
   "source": [
    "df_1 = pd.read_csv('location_features_studentlife_first_half.csv')\n",
    "df_2 = pd.read_csv('location_features_studentlife_second_half.csv')\n",
    "df_3 = pd.read_csv('location_features_studentlife_last.csv')"
   ]
  },
  {
   "cell_type": "code",
   "execution_count": 3,
   "id": "eda36899",
   "metadata": {},
   "outputs": [
    {
     "name": "stdout",
     "output_type": "stream",
     "text": [
      "2824\n",
      "2824\n",
      "2824\n"
     ]
    }
   ],
   "source": [
    "print(len(df_1))\n",
    "print(len(df_2))\n",
    "print(len(df_3))"
   ]
  },
  {
   "cell_type": "code",
   "execution_count": 4,
   "id": "5870dbe6",
   "metadata": {},
   "outputs": [],
   "source": [
    "df = pd.merge(df_1, df_2, on=['uid', 'date'])\n",
    "df = pd.merge(df, df_3, on=['uid', 'date'])\n",
    "df.to_csv('raw_location_features_studentlife.csv')"
   ]
  },
  {
   "cell_type": "code",
   "execution_count": 5,
   "id": "f99e19cb",
   "metadata": {},
   "outputs": [
    {
     "name": "stdout",
     "output_type": "stream",
     "text": [
      "2824\n"
     ]
    }
   ],
   "source": [
    "print(len(df))"
   ]
  },
  {
   "cell_type": "code",
   "execution_count": null,
   "id": "a57dd92d",
   "metadata": {},
   "outputs": [],
   "source": []
  }
 ],
 "metadata": {
  "kernelspec": {
   "display_name": "Python 3 (ipykernel)",
   "language": "python",
   "name": "python3"
  },
  "language_info": {
   "codemirror_mode": {
    "name": "ipython",
    "version": 3
   },
   "file_extension": ".py",
   "mimetype": "text/x-python",
   "name": "python",
   "nbconvert_exporter": "python",
   "pygments_lexer": "ipython3",
   "version": "3.9.17"
  }
 },
 "nbformat": 4,
 "nbformat_minor": 5
}
