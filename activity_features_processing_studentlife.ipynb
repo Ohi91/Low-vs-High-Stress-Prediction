{
 "cells": [
  {
   "cell_type": "code",
   "execution_count": 1,
   "id": "66e182dc",
   "metadata": {},
   "outputs": [],
   "source": [
    "import pymongo\n",
    "import json\n",
    "import pandas as pd\n",
    "from datetime import datetime, timedelta\n",
    "from pandas import DataFrame\n",
    "import matplotlib.pyplot as plt\n",
    "from datetime import time\n",
    "from tqdm import tqdm\n",
    "\n",
    "myclient = pymongo.MongoClient(\"mongodb://localhost:27017/\")\n",
    "mydb = myclient[\"studentlife\"]\n",
    "collection = mydb[\"activity\"]"
   ]
  },
  {
   "cell_type": "code",
   "execution_count": 2,
   "id": "7c3d7aec",
   "metadata": {},
   "outputs": [
    {
     "name": "stdout",
     "output_type": "stream",
     "text": [
      "                               _id   timestamp activity inference  uid\n",
      "0         63645d123ece7167ec10cb74  1364410490                  0  u44\n",
      "1         63645d123ece7167ec10cb75  1364410498                  0  u44\n",
      "2         63645d123ece7167ec10cb76  1364410501                  0  u44\n",
      "3         63645d123ece7167ec10cb77  1364410503                  0  u44\n",
      "4         63645d123ece7167ec10cb78  1364410506                  0  u44\n",
      "...                            ...         ...                ...  ...\n",
      "22711687  63648c673ece7167ec6d56be  1370059187                  0  u49\n",
      "22711688  63648c673ece7167ec6d56bf  1370059189                  0  u49\n",
      "22711689  63648c673ece7167ec6d56c0  1370059192                  0  u49\n",
      "22711690  63648c673ece7167ec6d56c1  1370059195                  0  u49\n",
      "22711691  63648c673ece7167ec6d56c2  1370059197                  0  u49\n",
      "\n",
      "[22711692 rows x 4 columns]\n"
     ]
    }
   ],
   "source": [
    "cursor = collection.find()\n",
    "documents_list = list(cursor)\n",
    "\n",
    "\n",
    "df_activity = pd.DataFrame(documents_list)\n",
    "print(df_activity)"
   ]
  },
  {
   "cell_type": "code",
   "execution_count": 3,
   "id": "0e027d44",
   "metadata": {},
   "outputs": [
    {
     "data": {
      "text/html": [
       "<div>\n",
       "<style scoped>\n",
       "    .dataframe tbody tr th:only-of-type {\n",
       "        vertical-align: middle;\n",
       "    }\n",
       "\n",
       "    .dataframe tbody tr th {\n",
       "        vertical-align: top;\n",
       "    }\n",
       "\n",
       "    .dataframe thead th {\n",
       "        text-align: right;\n",
       "    }\n",
       "</style>\n",
       "<table border=\"1\" class=\"dataframe\">\n",
       "  <thead>\n",
       "    <tr style=\"text-align: right;\">\n",
       "      <th></th>\n",
       "      <th>_id</th>\n",
       "      <th>timestamp</th>\n",
       "      <th>activity inference</th>\n",
       "      <th>uid</th>\n",
       "    </tr>\n",
       "  </thead>\n",
       "  <tbody>\n",
       "    <tr>\n",
       "      <th>0</th>\n",
       "      <td>63645d123ece7167ec10cb74</td>\n",
       "      <td>1364410490</td>\n",
       "      <td>0</td>\n",
       "      <td>u44</td>\n",
       "    </tr>\n",
       "    <tr>\n",
       "      <th>1</th>\n",
       "      <td>63645d123ece7167ec10cb75</td>\n",
       "      <td>1364410498</td>\n",
       "      <td>0</td>\n",
       "      <td>u44</td>\n",
       "    </tr>\n",
       "    <tr>\n",
       "      <th>2</th>\n",
       "      <td>63645d123ece7167ec10cb76</td>\n",
       "      <td>1364410501</td>\n",
       "      <td>0</td>\n",
       "      <td>u44</td>\n",
       "    </tr>\n",
       "  </tbody>\n",
       "</table>\n",
       "</div>"
      ],
      "text/plain": [
       "                        _id   timestamp activity inference  uid\n",
       "0  63645d123ece7167ec10cb74  1364410490                  0  u44\n",
       "1  63645d123ece7167ec10cb75  1364410498                  0  u44\n",
       "2  63645d123ece7167ec10cb76  1364410501                  0  u44"
      ]
     },
     "execution_count": 3,
     "metadata": {},
     "output_type": "execute_result"
    }
   ],
   "source": [
    "df_activity.head(3)"
   ]
  },
  {
   "cell_type": "code",
   "execution_count": 4,
   "id": "14343afe-7845-41ff-8287-228de081b046",
   "metadata": {},
   "outputs": [],
   "source": [
    "morning_start_time = time(6, 0, 0)     # 6:00 AM\n",
    "afternoon_start_time = time(12, 0, 0)  # 12:00 PM\n",
    "evening_start_time = time(18, 0, 0)    # 6:00 PM\n",
    "night_start_time = time(0, 0, 0)       # 12:00 AM (midnight)"
   ]
  },
  {
   "cell_type": "code",
   "execution_count": 5,
   "id": "c4c97a41",
   "metadata": {},
   "outputs": [],
   "source": [
    "def categorize_time_interval(timestamp):\n",
    "    current_time = timestamp.time()\n",
    "    \n",
    "    if morning_start_time <= current_time < afternoon_start_time:\n",
    "        return \"morning\"\n",
    "    elif afternoon_start_time <= current_time < evening_start_time:\n",
    "        return \"afternoon\"\n",
    "    elif evening_start_time <= current_time <= time(23, 59, 59):\n",
    "        return \"evening\"\n",
    "    else:\n",
    "        return \"night\""
   ]
  },
  {
   "cell_type": "code",
   "execution_count": 6,
   "id": "061b5cb6",
   "metadata": {},
   "outputs": [],
   "source": [
    "df_activity = df_activity.drop(\"_id\", axis=1)"
   ]
  },
  {
   "cell_type": "code",
   "execution_count": 7,
   "id": "c4008431",
   "metadata": {},
   "outputs": [
    {
     "data": {
      "text/html": [
       "<div>\n",
       "<style scoped>\n",
       "    .dataframe tbody tr th:only-of-type {\n",
       "        vertical-align: middle;\n",
       "    }\n",
       "\n",
       "    .dataframe tbody tr th {\n",
       "        vertical-align: top;\n",
       "    }\n",
       "\n",
       "    .dataframe thead th {\n",
       "        text-align: right;\n",
       "    }\n",
       "</style>\n",
       "<table border=\"1\" class=\"dataframe\">\n",
       "  <thead>\n",
       "    <tr style=\"text-align: right;\">\n",
       "      <th></th>\n",
       "      <th>timestamp</th>\n",
       "      <th>activity inference</th>\n",
       "      <th>uid</th>\n",
       "    </tr>\n",
       "  </thead>\n",
       "  <tbody>\n",
       "    <tr>\n",
       "      <th>0</th>\n",
       "      <td>1364410490</td>\n",
       "      <td>0</td>\n",
       "      <td>u44</td>\n",
       "    </tr>\n",
       "    <tr>\n",
       "      <th>1</th>\n",
       "      <td>1364410498</td>\n",
       "      <td>0</td>\n",
       "      <td>u44</td>\n",
       "    </tr>\n",
       "    <tr>\n",
       "      <th>2</th>\n",
       "      <td>1364410501</td>\n",
       "      <td>0</td>\n",
       "      <td>u44</td>\n",
       "    </tr>\n",
       "  </tbody>\n",
       "</table>\n",
       "</div>"
      ],
      "text/plain": [
       "    timestamp activity inference  uid\n",
       "0  1364410490                  0  u44\n",
       "1  1364410498                  0  u44\n",
       "2  1364410501                  0  u44"
      ]
     },
     "execution_count": 7,
     "metadata": {},
     "output_type": "execute_result"
    }
   ],
   "source": [
    "df_activity.head(3)"
   ]
  },
  {
   "cell_type": "code",
   "execution_count": 8,
   "id": "34497c95",
   "metadata": {},
   "outputs": [],
   "source": [
    "df_activity['timestamp'] = pd.to_datetime(df_activity['timestamp'], unit='s')\n",
    "df_activity['date'] = df_activity['timestamp'].dt.strftime('%Y-%m-%d')"
   ]
  },
  {
   "cell_type": "code",
   "execution_count": 9,
   "id": "af377feb",
   "metadata": {},
   "outputs": [],
   "source": [
    "df_activity['time_interval'] = df_activity['timestamp'].apply(categorize_time_interval)\n",
    "df_activity = df_activity.sort_values(by=['uid', 'timestamp'])"
   ]
  },
  {
   "cell_type": "code",
   "execution_count": 10,
   "id": "7066077c-da56-44dd-819c-2b9344bbd044",
   "metadata": {},
   "outputs": [
    {
     "data": {
      "text/html": [
       "<div>\n",
       "<style scoped>\n",
       "    .dataframe tbody tr th:only-of-type {\n",
       "        vertical-align: middle;\n",
       "    }\n",
       "\n",
       "    .dataframe tbody tr th {\n",
       "        vertical-align: top;\n",
       "    }\n",
       "\n",
       "    .dataframe thead th {\n",
       "        text-align: right;\n",
       "    }\n",
       "</style>\n",
       "<table border=\"1\" class=\"dataframe\">\n",
       "  <thead>\n",
       "    <tr style=\"text-align: right;\">\n",
       "      <th></th>\n",
       "      <th>timestamp</th>\n",
       "      <th>activity inference</th>\n",
       "      <th>uid</th>\n",
       "      <th>date</th>\n",
       "      <th>time_interval</th>\n",
       "    </tr>\n",
       "  </thead>\n",
       "  <tbody>\n",
       "    <tr>\n",
       "      <th>16525102</th>\n",
       "      <td>2013-03-27 04:00:01</td>\n",
       "      <td>0</td>\n",
       "      <td>u00</td>\n",
       "      <td>2013-03-27</td>\n",
       "      <td>night</td>\n",
       "    </tr>\n",
       "    <tr>\n",
       "      <th>16525103</th>\n",
       "      <td>2013-03-27 04:00:04</td>\n",
       "      <td>0</td>\n",
       "      <td>u00</td>\n",
       "      <td>2013-03-27</td>\n",
       "      <td>night</td>\n",
       "    </tr>\n",
       "    <tr>\n",
       "      <th>16525104</th>\n",
       "      <td>2013-03-27 04:00:07</td>\n",
       "      <td>0</td>\n",
       "      <td>u00</td>\n",
       "      <td>2013-03-27</td>\n",
       "      <td>night</td>\n",
       "    </tr>\n",
       "  </tbody>\n",
       "</table>\n",
       "</div>"
      ],
      "text/plain": [
       "                   timestamp activity inference  uid        date time_interval\n",
       "16525102 2013-03-27 04:00:01                  0  u00  2013-03-27         night\n",
       "16525103 2013-03-27 04:00:04                  0  u00  2013-03-27         night\n",
       "16525104 2013-03-27 04:00:07                  0  u00  2013-03-27         night"
      ]
     },
     "execution_count": 10,
     "metadata": {},
     "output_type": "execute_result"
    }
   ],
   "source": [
    "df_activity.head(3)"
   ]
  },
  {
   "cell_type": "code",
   "execution_count": 11,
   "id": "2d1e8243",
   "metadata": {},
   "outputs": [],
   "source": [
    "df_data = DataFrame()"
   ]
  },
  {
   "cell_type": "code",
   "execution_count": 12,
   "id": "091f6cfc",
   "metadata": {},
   "outputs": [],
   "source": [
    "activity_uid = ['u00', 'u01', 'u02', 'u03', 'u04', 'u05', 'u07', 'u08', 'u09', 'u10', 'u12', 'u13', 'u14', 'u15', 'u16',\n",
    "                'u17', 'u18', 'u19', 'u20', 'u22', 'u23', 'u24', 'u25', 'u27', 'u30', 'u31', 'u32', 'u33', 'u34', 'u35',\n",
    "                'u36', 'u39', 'u41', 'u42', 'u43', 'u44', 'u45', 'u46', 'u47', 'u49', 'u50', 'u51', 'u52', 'u53', 'u54',\n",
    "                'u56', 'u57', 'u58', 'u59']"
   ]
  },
  {
   "cell_type": "code",
   "execution_count": 13,
   "id": "97dd0157",
   "metadata": {},
   "outputs": [],
   "source": [
    "def classify_activity(activity_inference):\n",
    "    if activity_inference == \"0\":\n",
    "        return \"stationary\"\n",
    "    elif activity_inference == \"1\":\n",
    "        return \"walking\"\n",
    "    elif activity_inference == \"2\":\n",
    "        return \"running\"\n",
    "    elif activity_inference == \"3\":\n",
    "        return \"unknown\""
   ]
  },
  {
   "cell_type": "code",
   "execution_count": 14,
   "id": "20858041",
   "metadata": {},
   "outputs": [
    {
     "data": {
      "text/html": [
       "<div>\n",
       "<style scoped>\n",
       "    .dataframe tbody tr th:only-of-type {\n",
       "        vertical-align: middle;\n",
       "    }\n",
       "\n",
       "    .dataframe tbody tr th {\n",
       "        vertical-align: top;\n",
       "    }\n",
       "\n",
       "    .dataframe thead th {\n",
       "        text-align: right;\n",
       "    }\n",
       "</style>\n",
       "<table border=\"1\" class=\"dataframe\">\n",
       "  <thead>\n",
       "    <tr style=\"text-align: right;\">\n",
       "      <th></th>\n",
       "      <th>timestamp</th>\n",
       "      <th>uid</th>\n",
       "      <th>date</th>\n",
       "      <th>time_interval</th>\n",
       "      <th>activity</th>\n",
       "    </tr>\n",
       "  </thead>\n",
       "  <tbody>\n",
       "    <tr>\n",
       "      <th>16525102</th>\n",
       "      <td>2013-03-27 04:00:01</td>\n",
       "      <td>u00</td>\n",
       "      <td>2013-03-27</td>\n",
       "      <td>night</td>\n",
       "      <td>stationary</td>\n",
       "    </tr>\n",
       "    <tr>\n",
       "      <th>16525103</th>\n",
       "      <td>2013-03-27 04:00:04</td>\n",
       "      <td>u00</td>\n",
       "      <td>2013-03-27</td>\n",
       "      <td>night</td>\n",
       "      <td>stationary</td>\n",
       "    </tr>\n",
       "    <tr>\n",
       "      <th>16525104</th>\n",
       "      <td>2013-03-27 04:00:07</td>\n",
       "      <td>u00</td>\n",
       "      <td>2013-03-27</td>\n",
       "      <td>night</td>\n",
       "      <td>stationary</td>\n",
       "    </tr>\n",
       "  </tbody>\n",
       "</table>\n",
       "</div>"
      ],
      "text/plain": [
       "                   timestamp  uid        date time_interval    activity\n",
       "16525102 2013-03-27 04:00:01  u00  2013-03-27         night  stationary\n",
       "16525103 2013-03-27 04:00:04  u00  2013-03-27         night  stationary\n",
       "16525104 2013-03-27 04:00:07  u00  2013-03-27         night  stationary"
      ]
     },
     "execution_count": 14,
     "metadata": {},
     "output_type": "execute_result"
    }
   ],
   "source": [
    "df_activity['activity'] = df_activity['activity inference'].apply(classify_activity)\n",
    "df_activity = df_activity.drop(\"activity inference\", axis=1)\n",
    "df_activity.head(3)"
   ]
  },
  {
   "cell_type": "code",
   "execution_count": 15,
   "id": "33ae7ad6",
   "metadata": {},
   "outputs": [
    {
     "data": {
      "text/plain": [
       "activity\n",
       "stationary    20912307\n",
       "walking         969136\n",
       "unknown         592360\n",
       "running         237889\n",
       "Name: count, dtype: int64"
      ]
     },
     "execution_count": 15,
     "metadata": {},
     "output_type": "execute_result"
    }
   ],
   "source": [
    "df_activity['activity'].value_counts()"
   ]
  },
  {
   "cell_type": "code",
   "execution_count": 16,
   "id": "638640d1",
   "metadata": {},
   "outputs": [
    {
     "data": {
      "text/html": [
       "<div>\n",
       "<style scoped>\n",
       "    .dataframe tbody tr th:only-of-type {\n",
       "        vertical-align: middle;\n",
       "    }\n",
       "\n",
       "    .dataframe tbody tr th {\n",
       "        vertical-align: top;\n",
       "    }\n",
       "\n",
       "    .dataframe thead th {\n",
       "        text-align: right;\n",
       "    }\n",
       "</style>\n",
       "<table border=\"1\" class=\"dataframe\">\n",
       "  <thead>\n",
       "    <tr style=\"text-align: right;\">\n",
       "      <th></th>\n",
       "      <th>timestamp</th>\n",
       "      <th>uid</th>\n",
       "      <th>date</th>\n",
       "      <th>time_interval</th>\n",
       "      <th>activity</th>\n",
       "    </tr>\n",
       "  </thead>\n",
       "  <tbody>\n",
       "    <tr>\n",
       "      <th>16525102</th>\n",
       "      <td>2013-03-27 04:00:01</td>\n",
       "      <td>u00</td>\n",
       "      <td>2013-03-27</td>\n",
       "      <td>night</td>\n",
       "      <td>stationary</td>\n",
       "    </tr>\n",
       "    <tr>\n",
       "      <th>16525103</th>\n",
       "      <td>2013-03-27 04:00:04</td>\n",
       "      <td>u00</td>\n",
       "      <td>2013-03-27</td>\n",
       "      <td>night</td>\n",
       "      <td>stationary</td>\n",
       "    </tr>\n",
       "    <tr>\n",
       "      <th>16525104</th>\n",
       "      <td>2013-03-27 04:00:07</td>\n",
       "      <td>u00</td>\n",
       "      <td>2013-03-27</td>\n",
       "      <td>night</td>\n",
       "      <td>stationary</td>\n",
       "    </tr>\n",
       "    <tr>\n",
       "      <th>16525105</th>\n",
       "      <td>2013-03-27 04:00:09</td>\n",
       "      <td>u00</td>\n",
       "      <td>2013-03-27</td>\n",
       "      <td>night</td>\n",
       "      <td>stationary</td>\n",
       "    </tr>\n",
       "    <tr>\n",
       "      <th>16525106</th>\n",
       "      <td>2013-03-27 04:03:12</td>\n",
       "      <td>u00</td>\n",
       "      <td>2013-03-27</td>\n",
       "      <td>night</td>\n",
       "      <td>stationary</td>\n",
       "    </tr>\n",
       "  </tbody>\n",
       "</table>\n",
       "</div>"
      ],
      "text/plain": [
       "                   timestamp  uid        date time_interval    activity\n",
       "16525102 2013-03-27 04:00:01  u00  2013-03-27         night  stationary\n",
       "16525103 2013-03-27 04:00:04  u00  2013-03-27         night  stationary\n",
       "16525104 2013-03-27 04:00:07  u00  2013-03-27         night  stationary\n",
       "16525105 2013-03-27 04:00:09  u00  2013-03-27         night  stationary\n",
       "16525106 2013-03-27 04:03:12  u00  2013-03-27         night  stationary"
      ]
     },
     "execution_count": 16,
     "metadata": {},
     "output_type": "execute_result"
    }
   ],
   "source": [
    "df_activity.head(5)"
   ]
  },
  {
   "cell_type": "code",
   "execution_count": 17,
   "id": "40b361db-4add-4972-aa97-211c7050092b",
   "metadata": {},
   "outputs": [
    {
     "data": {
      "text/plain": [
       "time_interval\n",
       "night        5713604\n",
       "evening      5705619\n",
       "morning      5698534\n",
       "afternoon    5593935\n",
       "Name: count, dtype: int64"
      ]
     },
     "execution_count": 17,
     "metadata": {},
     "output_type": "execute_result"
    }
   ],
   "source": [
    "df_activity['time_interval'].value_counts()"
   ]
  },
  {
   "cell_type": "code",
   "execution_count": 18,
   "id": "ac050afc",
   "metadata": {},
   "outputs": [],
   "source": [
    "def process_activity_data_for_uid(uid, df_activity):\n",
    "    columns = ['uid', 'date',\n",
    "               'stationary_duration_morning', 'walking_duration_morning', 'running_duration_morning', 'unknown_duration_morning',\n",
    "               'stationary_duration_afternoon', 'walking_duration_afternoon', 'running_duration_afternoon', 'unknown_duration_afternoon',\n",
    "               'stationary_duration_evening', 'walking_duration_evening', 'running_duration_evening', 'unknown_duration_evening',\n",
    "               'stationary_duration_night', 'walking_duration_night', 'running_duration_night', 'unknown_duration_night']\n",
    "    result_df = pd.DataFrame(columns=columns)\n",
    "    user_df = df_activity[df_activity['uid'] == uid]\n",
    "\n",
    "    for date in user_df['date'].unique():\n",
    "        date_df = user_df[user_df['date'] == date]\n",
    "\n",
    "        activities = {\n",
    "            'stationary_morning': 0, 'walking_morning': 0, 'running_morning': 0, 'unknown_morning': 0,\n",
    "            'stationary_afternoon': 0, 'walking_afternoon': 0, 'running_afternoon': 0, 'unknown_afternoon': 0,\n",
    "            'stationary_evening': 0, 'walking_evening': 0, 'running_evening': 0, 'unknown_evening': 0,\n",
    "            'stationary_night': 0, 'walking_night': 0, 'running_night': 0, 'unknown_night': 0\n",
    "        }\n",
    "\n",
    "        grouped_by_interval = date_df.groupby('time_interval')\n",
    "\n",
    "        for interval, interval_df in grouped_by_interval:\n",
    "            start_time = None\n",
    "            previous_activity = None\n",
    "\n",
    "            first_record = pd.to_datetime(interval_df.iloc[0]['timestamp'])\n",
    "            init_missing_duration = None\n",
    "\n",
    "            if interval == \"morning\":\n",
    "                manual_start_morning = pd.to_datetime(f\"{date} 06:00:00\")\n",
    "                init_missing_duration = (first_record - manual_start_morning).total_seconds()\n",
    "            elif interval == \"afternoon\":\n",
    "                manual_start_afternoon = pd.to_datetime(f\"{date} 12:00:00\")\n",
    "                init_missing_duration = (first_record - manual_start_afternoon).total_seconds()\n",
    "            elif interval == \"evening\":\n",
    "                manual_start_evening = pd.to_datetime(f\"{date} 18:00:00\")\n",
    "                init_missing_duration = (first_record - manual_start_evening).total_seconds()\n",
    "            elif interval == \"night\":\n",
    "                manual_start_night = pd.to_datetime(f\"{date} 00:00:00\")\n",
    "                init_missing_duration = (first_record - manual_start_night).total_seconds()\n",
    "\n",
    "            duration_hours = init_missing_duration / 3600\n",
    "            update_variable = f\"unknown_{interval}\"\n",
    "            activities[update_variable] += duration_hours\n",
    "\n",
    "            for index, row in interval_df.iterrows():\n",
    "                current_activity = row['activity']\n",
    "                current_time = pd.to_datetime(row['timestamp'])\n",
    "\n",
    "                if current_activity == previous_activity:\n",
    "                    if start_time is not None:\n",
    "                        duration_seconds = (current_time - start_time).seconds\n",
    "                        duration_hours = duration_seconds / 3600.0\n",
    "\n",
    "                        update_variable = f\"{previous_activity}_{interval}\"\n",
    "                        activities[update_variable] += duration_hours\n",
    "                    start_time = current_time\n",
    "                else:\n",
    "                    if start_time is not None:\n",
    "                        duration_seconds = (current_time - start_time).seconds\n",
    "                        duration_hours = duration_seconds / 3600.0\n",
    "                        update_variable = f\"unknown_{interval}\"\n",
    "                        activities[update_variable] += duration_hours\n",
    "                    start_time = current_time\n",
    "\n",
    "                previous_activity = current_activity\n",
    "\n",
    "            last_record = pd.to_datetime(interval_df.iloc[-1]['timestamp'])\n",
    "            init_missing_duration = None\n",
    "\n",
    "            if interval == \"morning\":\n",
    "                manual_end_morning = pd.to_datetime(f\"{date} 12:00:00\")\n",
    "                init_missing_duration = (manual_end_morning - last_record).total_seconds()\n",
    "            elif interval == \"afternoon\":\n",
    "                manual_end_afternoon = pd.to_datetime(f\"{date} 18:00:00\")\n",
    "                init_missing_duration = (manual_end_afternoon - last_record).total_seconds()\n",
    "            elif interval == \"evening\":\n",
    "                manual_end_evening = pd.to_datetime(f\"{date} 23:59:59\")\n",
    "                init_missing_duration = (manual_end_evening - last_record).total_seconds()\n",
    "            elif interval == \"night\":\n",
    "                manual_end_night = pd.to_datetime(f\"{date} 06:00:00\")\n",
    "                init_missing_duration = (manual_end_night - last_record).total_seconds()\n",
    "\n",
    "            duration_hours = init_missing_duration / 3600\n",
    "            update_variable = f\"unknown_{interval}\"\n",
    "            activities[update_variable] += duration_hours\n",
    "        \n",
    "        result_df = pd.concat([result_df, pd.DataFrame([{\n",
    "            'uid': uid,\n",
    "            'date': date,\n",
    "            'stationary_duration_morning': activities['stationary_morning'],\n",
    "            'walking_duration_morning': activities['walking_morning'],\n",
    "            'running_duration_morning': activities['running_morning'],\n",
    "            'unknown_duration_morning': activities['unknown_morning'],\n",
    "            'stationary_duration_afternoon': activities['stationary_afternoon'],\n",
    "            'walking_duration_afternoon': activities['walking_afternoon'],\n",
    "            'running_duration_afternoon': activities['running_afternoon'],\n",
    "            'unknown_duration_afternoon': activities['unknown_afternoon'],\n",
    "            'stationary_duration_evening': activities['stationary_evening'],\n",
    "            'walking_duration_evening': activities['walking_evening'],\n",
    "            'running_duration_evening': activities['running_evening'],\n",
    "            'unknown_duration_evening': activities['unknown_evening'],\n",
    "            'stationary_duration_night': activities['stationary_night'],\n",
    "            'walking_duration_night': activities['walking_night'],\n",
    "            'running_duration_night': activities['running_night'],\n",
    "            'unknown_duration_night': activities['unknown_night'],\n",
    "        }])], ignore_index=True)\n",
    "\n",
    "\n",
    "    return result_df"
   ]
  },
  {
   "cell_type": "code",
   "execution_count": 19,
   "id": "c9179ebd",
   "metadata": {},
   "outputs": [
    {
     "name": "stderr",
     "output_type": "stream",
     "text": [
      "  0%|                                                    | 0/49 [00:00<?, ?it/s]"
     ]
    },
    {
     "name": "stdout",
     "output_type": "stream",
     "text": [
      "u00\n"
     ]
    },
    {
     "name": "stderr",
     "output_type": "stream",
     "text": [
      "/var/folders/k8/745_jm4x0n35zzr1p5chpdfh0000gn/T/ipykernel_4443/3350858182.py:88: FutureWarning: The behavior of DataFrame concatenation with empty or all-NA entries is deprecated. In a future version, this will no longer exclude empty or all-NA columns when determining the result dtypes. To retain the old behavior, exclude the relevant entries before the concat operation.\n",
      "  result_df = pd.concat([result_df, pd.DataFrame([{\n",
      "  2%|▉                                           | 1/49 [00:11<09:32, 11.92s/it]"
     ]
    },
    {
     "name": "stdout",
     "output_type": "stream",
     "text": [
      "u01\n"
     ]
    },
    {
     "name": "stderr",
     "output_type": "stream",
     "text": [
      "/var/folders/k8/745_jm4x0n35zzr1p5chpdfh0000gn/T/ipykernel_4443/3350858182.py:88: FutureWarning: The behavior of DataFrame concatenation with empty or all-NA entries is deprecated. In a future version, this will no longer exclude empty or all-NA columns when determining the result dtypes. To retain the old behavior, exclude the relevant entries before the concat operation.\n",
      "  result_df = pd.concat([result_df, pd.DataFrame([{\n",
      "  4%|█▊                                          | 2/49 [00:22<08:42, 11.12s/it]"
     ]
    },
    {
     "name": "stdout",
     "output_type": "stream",
     "text": [
      "u02\n"
     ]
    },
    {
     "name": "stderr",
     "output_type": "stream",
     "text": [
      "/var/folders/k8/745_jm4x0n35zzr1p5chpdfh0000gn/T/ipykernel_4443/3350858182.py:88: FutureWarning: The behavior of DataFrame concatenation with empty or all-NA entries is deprecated. In a future version, this will no longer exclude empty or all-NA columns when determining the result dtypes. To retain the old behavior, exclude the relevant entries before the concat operation.\n",
      "  result_df = pd.concat([result_df, pd.DataFrame([{\n",
      "  6%|██▋                                         | 3/49 [00:34<08:54, 11.63s/it]"
     ]
    },
    {
     "name": "stdout",
     "output_type": "stream",
     "text": [
      "u03\n"
     ]
    },
    {
     "name": "stderr",
     "output_type": "stream",
     "text": [
      "/var/folders/k8/745_jm4x0n35zzr1p5chpdfh0000gn/T/ipykernel_4443/3350858182.py:88: FutureWarning: The behavior of DataFrame concatenation with empty or all-NA entries is deprecated. In a future version, this will no longer exclude empty or all-NA columns when determining the result dtypes. To retain the old behavior, exclude the relevant entries before the concat operation.\n",
      "  result_df = pd.concat([result_df, pd.DataFrame([{\n",
      "  8%|███▌                                        | 4/49 [00:44<08:07, 10.84s/it]"
     ]
    },
    {
     "name": "stdout",
     "output_type": "stream",
     "text": [
      "u04\n"
     ]
    },
    {
     "name": "stderr",
     "output_type": "stream",
     "text": [
      "/var/folders/k8/745_jm4x0n35zzr1p5chpdfh0000gn/T/ipykernel_4443/3350858182.py:88: FutureWarning: The behavior of DataFrame concatenation with empty or all-NA entries is deprecated. In a future version, this will no longer exclude empty or all-NA columns when determining the result dtypes. To retain the old behavior, exclude the relevant entries before the concat operation.\n",
      "  result_df = pd.concat([result_df, pd.DataFrame([{\n",
      " 10%|████▍                                       | 5/49 [00:54<07:53, 10.77s/it]"
     ]
    },
    {
     "name": "stdout",
     "output_type": "stream",
     "text": [
      "u05\n"
     ]
    },
    {
     "name": "stderr",
     "output_type": "stream",
     "text": [
      "/var/folders/k8/745_jm4x0n35zzr1p5chpdfh0000gn/T/ipykernel_4443/3350858182.py:88: FutureWarning: The behavior of DataFrame concatenation with empty or all-NA entries is deprecated. In a future version, this will no longer exclude empty or all-NA columns when determining the result dtypes. To retain the old behavior, exclude the relevant entries before the concat operation.\n",
      "  result_df = pd.concat([result_df, pd.DataFrame([{\n",
      " 12%|█████▍                                      | 6/49 [01:05<07:42, 10.75s/it]"
     ]
    },
    {
     "name": "stdout",
     "output_type": "stream",
     "text": [
      "u07\n"
     ]
    },
    {
     "name": "stderr",
     "output_type": "stream",
     "text": [
      "/var/folders/k8/745_jm4x0n35zzr1p5chpdfh0000gn/T/ipykernel_4443/3350858182.py:88: FutureWarning: The behavior of DataFrame concatenation with empty or all-NA entries is deprecated. In a future version, this will no longer exclude empty or all-NA columns when determining the result dtypes. To retain the old behavior, exclude the relevant entries before the concat operation.\n",
      "  result_df = pd.concat([result_df, pd.DataFrame([{\n",
      " 14%|██████▎                                     | 7/49 [01:14<07:05, 10.12s/it]"
     ]
    },
    {
     "name": "stdout",
     "output_type": "stream",
     "text": [
      "u08\n"
     ]
    },
    {
     "name": "stderr",
     "output_type": "stream",
     "text": [
      "/var/folders/k8/745_jm4x0n35zzr1p5chpdfh0000gn/T/ipykernel_4443/3350858182.py:88: FutureWarning: The behavior of DataFrame concatenation with empty or all-NA entries is deprecated. In a future version, this will no longer exclude empty or all-NA columns when determining the result dtypes. To retain the old behavior, exclude the relevant entries before the concat operation.\n",
      "  result_df = pd.concat([result_df, pd.DataFrame([{\n",
      " 16%|███████▏                                    | 8/49 [01:25<07:10, 10.49s/it]"
     ]
    },
    {
     "name": "stdout",
     "output_type": "stream",
     "text": [
      "u09\n"
     ]
    },
    {
     "name": "stderr",
     "output_type": "stream",
     "text": [
      "/var/folders/k8/745_jm4x0n35zzr1p5chpdfh0000gn/T/ipykernel_4443/3350858182.py:88: FutureWarning: The behavior of DataFrame concatenation with empty or all-NA entries is deprecated. In a future version, this will no longer exclude empty or all-NA columns when determining the result dtypes. To retain the old behavior, exclude the relevant entries before the concat operation.\n",
      "  result_df = pd.concat([result_df, pd.DataFrame([{\n",
      " 18%|████████                                    | 9/49 [01:36<07:06, 10.67s/it]"
     ]
    },
    {
     "name": "stdout",
     "output_type": "stream",
     "text": [
      "u10\n"
     ]
    },
    {
     "name": "stderr",
     "output_type": "stream",
     "text": [
      "/var/folders/k8/745_jm4x0n35zzr1p5chpdfh0000gn/T/ipykernel_4443/3350858182.py:88: FutureWarning: The behavior of DataFrame concatenation with empty or all-NA entries is deprecated. In a future version, this will no longer exclude empty or all-NA columns when determining the result dtypes. To retain the old behavior, exclude the relevant entries before the concat operation.\n",
      "  result_df = pd.concat([result_df, pd.DataFrame([{\n",
      " 20%|████████▊                                  | 10/49 [01:48<07:11, 11.07s/it]"
     ]
    },
    {
     "name": "stdout",
     "output_type": "stream",
     "text": [
      "u12\n"
     ]
    },
    {
     "name": "stderr",
     "output_type": "stream",
     "text": [
      "/var/folders/k8/745_jm4x0n35zzr1p5chpdfh0000gn/T/ipykernel_4443/3350858182.py:88: FutureWarning: The behavior of DataFrame concatenation with empty or all-NA entries is deprecated. In a future version, this will no longer exclude empty or all-NA columns when determining the result dtypes. To retain the old behavior, exclude the relevant entries before the concat operation.\n",
      "  result_df = pd.concat([result_df, pd.DataFrame([{\n",
      " 22%|█████████▋                                 | 11/49 [02:00<07:09, 11.31s/it]"
     ]
    },
    {
     "name": "stdout",
     "output_type": "stream",
     "text": [
      "u13\n"
     ]
    },
    {
     "name": "stderr",
     "output_type": "stream",
     "text": [
      "/var/folders/k8/745_jm4x0n35zzr1p5chpdfh0000gn/T/ipykernel_4443/3350858182.py:88: FutureWarning: The behavior of DataFrame concatenation with empty or all-NA entries is deprecated. In a future version, this will no longer exclude empty or all-NA columns when determining the result dtypes. To retain the old behavior, exclude the relevant entries before the concat operation.\n",
      "  result_df = pd.concat([result_df, pd.DataFrame([{\n",
      " 24%|██████████▌                                | 12/49 [02:10<06:44, 10.93s/it]"
     ]
    },
    {
     "name": "stdout",
     "output_type": "stream",
     "text": [
      "u14\n"
     ]
    },
    {
     "name": "stderr",
     "output_type": "stream",
     "text": [
      "/var/folders/k8/745_jm4x0n35zzr1p5chpdfh0000gn/T/ipykernel_4443/3350858182.py:88: FutureWarning: The behavior of DataFrame concatenation with empty or all-NA entries is deprecated. In a future version, this will no longer exclude empty or all-NA columns when determining the result dtypes. To retain the old behavior, exclude the relevant entries before the concat operation.\n",
      "  result_df = pd.concat([result_df, pd.DataFrame([{\n",
      " 27%|███████████▍                               | 13/49 [02:20<06:25, 10.72s/it]"
     ]
    },
    {
     "name": "stdout",
     "output_type": "stream",
     "text": [
      "u15\n"
     ]
    },
    {
     "name": "stderr",
     "output_type": "stream",
     "text": [
      "/var/folders/k8/745_jm4x0n35zzr1p5chpdfh0000gn/T/ipykernel_4443/3350858182.py:88: FutureWarning: The behavior of DataFrame concatenation with empty or all-NA entries is deprecated. In a future version, this will no longer exclude empty or all-NA columns when determining the result dtypes. To retain the old behavior, exclude the relevant entries before the concat operation.\n",
      "  result_df = pd.concat([result_df, pd.DataFrame([{\n",
      " 29%|████████████▎                              | 14/49 [02:27<05:28,  9.39s/it]"
     ]
    },
    {
     "name": "stdout",
     "output_type": "stream",
     "text": [
      "u16\n"
     ]
    },
    {
     "name": "stderr",
     "output_type": "stream",
     "text": [
      "/var/folders/k8/745_jm4x0n35zzr1p5chpdfh0000gn/T/ipykernel_4443/3350858182.py:88: FutureWarning: The behavior of DataFrame concatenation with empty or all-NA entries is deprecated. In a future version, this will no longer exclude empty or all-NA columns when determining the result dtypes. To retain the old behavior, exclude the relevant entries before the concat operation.\n",
      "  result_df = pd.concat([result_df, pd.DataFrame([{\n",
      " 31%|█████████████▏                             | 15/49 [02:38<05:37,  9.91s/it]"
     ]
    },
    {
     "name": "stdout",
     "output_type": "stream",
     "text": [
      "u17\n"
     ]
    },
    {
     "name": "stderr",
     "output_type": "stream",
     "text": [
      "/var/folders/k8/745_jm4x0n35zzr1p5chpdfh0000gn/T/ipykernel_4443/3350858182.py:88: FutureWarning: The behavior of DataFrame concatenation with empty or all-NA entries is deprecated. In a future version, this will no longer exclude empty or all-NA columns when determining the result dtypes. To retain the old behavior, exclude the relevant entries before the concat operation.\n",
      "  result_df = pd.concat([result_df, pd.DataFrame([{\n",
      " 33%|██████████████                             | 16/49 [02:51<05:55, 10.77s/it]"
     ]
    },
    {
     "name": "stdout",
     "output_type": "stream",
     "text": [
      "u18\n"
     ]
    },
    {
     "name": "stderr",
     "output_type": "stream",
     "text": [
      "/var/folders/k8/745_jm4x0n35zzr1p5chpdfh0000gn/T/ipykernel_4443/3350858182.py:88: FutureWarning: The behavior of DataFrame concatenation with empty or all-NA entries is deprecated. In a future version, this will no longer exclude empty or all-NA columns when determining the result dtypes. To retain the old behavior, exclude the relevant entries before the concat operation.\n",
      "  result_df = pd.concat([result_df, pd.DataFrame([{\n",
      " 35%|██████████████▉                            | 17/49 [03:02<05:50, 10.94s/it]"
     ]
    },
    {
     "name": "stdout",
     "output_type": "stream",
     "text": [
      "u19\n"
     ]
    },
    {
     "name": "stderr",
     "output_type": "stream",
     "text": [
      "/var/folders/k8/745_jm4x0n35zzr1p5chpdfh0000gn/T/ipykernel_4443/3350858182.py:88: FutureWarning: The behavior of DataFrame concatenation with empty or all-NA entries is deprecated. In a future version, this will no longer exclude empty or all-NA columns when determining the result dtypes. To retain the old behavior, exclude the relevant entries before the concat operation.\n",
      "  result_df = pd.concat([result_df, pd.DataFrame([{\n",
      " 37%|███████████████▊                           | 18/49 [03:14<05:48, 11.24s/it]"
     ]
    },
    {
     "name": "stdout",
     "output_type": "stream",
     "text": [
      "u20\n"
     ]
    },
    {
     "name": "stderr",
     "output_type": "stream",
     "text": [
      "/var/folders/k8/745_jm4x0n35zzr1p5chpdfh0000gn/T/ipykernel_4443/3350858182.py:88: FutureWarning: The behavior of DataFrame concatenation with empty or all-NA entries is deprecated. In a future version, this will no longer exclude empty or all-NA columns when determining the result dtypes. To retain the old behavior, exclude the relevant entries before the concat operation.\n",
      "  result_df = pd.concat([result_df, pd.DataFrame([{\n",
      " 39%|████████████████▋                          | 19/49 [03:23<05:13, 10.47s/it]"
     ]
    },
    {
     "name": "stdout",
     "output_type": "stream",
     "text": [
      "u22\n"
     ]
    },
    {
     "name": "stderr",
     "output_type": "stream",
     "text": [
      "/var/folders/k8/745_jm4x0n35zzr1p5chpdfh0000gn/T/ipykernel_4443/3350858182.py:88: FutureWarning: The behavior of DataFrame concatenation with empty or all-NA entries is deprecated. In a future version, this will no longer exclude empty or all-NA columns when determining the result dtypes. To retain the old behavior, exclude the relevant entries before the concat operation.\n",
      "  result_df = pd.concat([result_df, pd.DataFrame([{\n",
      " 41%|█████████████████▌                         | 20/49 [03:34<05:11, 10.74s/it]"
     ]
    },
    {
     "name": "stdout",
     "output_type": "stream",
     "text": [
      "u23\n"
     ]
    },
    {
     "name": "stderr",
     "output_type": "stream",
     "text": [
      "/var/folders/k8/745_jm4x0n35zzr1p5chpdfh0000gn/T/ipykernel_4443/3350858182.py:88: FutureWarning: The behavior of DataFrame concatenation with empty or all-NA entries is deprecated. In a future version, this will no longer exclude empty or all-NA columns when determining the result dtypes. To retain the old behavior, exclude the relevant entries before the concat operation.\n",
      "  result_df = pd.concat([result_df, pd.DataFrame([{\n",
      " 43%|██████████████████▍                        | 21/49 [03:46<05:09, 11.04s/it]"
     ]
    },
    {
     "name": "stdout",
     "output_type": "stream",
     "text": [
      "u24\n"
     ]
    },
    {
     "name": "stderr",
     "output_type": "stream",
     "text": [
      "/var/folders/k8/745_jm4x0n35zzr1p5chpdfh0000gn/T/ipykernel_4443/3350858182.py:88: FutureWarning: The behavior of DataFrame concatenation with empty or all-NA entries is deprecated. In a future version, this will no longer exclude empty or all-NA columns when determining the result dtypes. To retain the old behavior, exclude the relevant entries before the concat operation.\n",
      "  result_df = pd.concat([result_df, pd.DataFrame([{\n",
      " 45%|███████████████████▎                       | 22/49 [03:52<04:19,  9.62s/it]"
     ]
    },
    {
     "name": "stdout",
     "output_type": "stream",
     "text": [
      "u25\n"
     ]
    },
    {
     "name": "stderr",
     "output_type": "stream",
     "text": [
      "/var/folders/k8/745_jm4x0n35zzr1p5chpdfh0000gn/T/ipykernel_4443/3350858182.py:88: FutureWarning: The behavior of DataFrame concatenation with empty or all-NA entries is deprecated. In a future version, this will no longer exclude empty or all-NA columns when determining the result dtypes. To retain the old behavior, exclude the relevant entries before the concat operation.\n",
      "  result_df = pd.concat([result_df, pd.DataFrame([{\n",
      " 47%|████████████████████▏                      | 23/49 [03:58<03:44,  8.64s/it]"
     ]
    },
    {
     "name": "stdout",
     "output_type": "stream",
     "text": [
      "u27\n"
     ]
    },
    {
     "name": "stderr",
     "output_type": "stream",
     "text": [
      "/var/folders/k8/745_jm4x0n35zzr1p5chpdfh0000gn/T/ipykernel_4443/3350858182.py:88: FutureWarning: The behavior of DataFrame concatenation with empty or all-NA entries is deprecated. In a future version, this will no longer exclude empty or all-NA columns when determining the result dtypes. To retain the old behavior, exclude the relevant entries before the concat operation.\n",
      "  result_df = pd.concat([result_df, pd.DataFrame([{\n",
      " 49%|█████████████████████                      | 24/49 [04:12<04:09,  9.98s/it]"
     ]
    },
    {
     "name": "stdout",
     "output_type": "stream",
     "text": [
      "u30\n"
     ]
    },
    {
     "name": "stderr",
     "output_type": "stream",
     "text": [
      "/var/folders/k8/745_jm4x0n35zzr1p5chpdfh0000gn/T/ipykernel_4443/3350858182.py:88: FutureWarning: The behavior of DataFrame concatenation with empty or all-NA entries is deprecated. In a future version, this will no longer exclude empty or all-NA columns when determining the result dtypes. To retain the old behavior, exclude the relevant entries before the concat operation.\n",
      "  result_df = pd.concat([result_df, pd.DataFrame([{\n",
      " 51%|█████████████████████▉                     | 25/49 [04:24<04:19, 10.80s/it]"
     ]
    },
    {
     "name": "stdout",
     "output_type": "stream",
     "text": [
      "u31\n"
     ]
    },
    {
     "name": "stderr",
     "output_type": "stream",
     "text": [
      "/var/folders/k8/745_jm4x0n35zzr1p5chpdfh0000gn/T/ipykernel_4443/3350858182.py:88: FutureWarning: The behavior of DataFrame concatenation with empty or all-NA entries is deprecated. In a future version, this will no longer exclude empty or all-NA columns when determining the result dtypes. To retain the old behavior, exclude the relevant entries before the concat operation.\n",
      "  result_df = pd.concat([result_df, pd.DataFrame([{\n",
      " 53%|██████████████████████▊                    | 26/49 [04:37<04:20, 11.33s/it]"
     ]
    },
    {
     "name": "stdout",
     "output_type": "stream",
     "text": [
      "u32\n"
     ]
    },
    {
     "name": "stderr",
     "output_type": "stream",
     "text": [
      "/var/folders/k8/745_jm4x0n35zzr1p5chpdfh0000gn/T/ipykernel_4443/3350858182.py:88: FutureWarning: The behavior of DataFrame concatenation with empty or all-NA entries is deprecated. In a future version, this will no longer exclude empty or all-NA columns when determining the result dtypes. To retain the old behavior, exclude the relevant entries before the concat operation.\n",
      "  result_df = pd.concat([result_df, pd.DataFrame([{\n",
      " 55%|███████████████████████▋                   | 27/49 [04:48<04:10, 11.38s/it]"
     ]
    },
    {
     "name": "stdout",
     "output_type": "stream",
     "text": [
      "u33\n"
     ]
    },
    {
     "name": "stderr",
     "output_type": "stream",
     "text": [
      "/var/folders/k8/745_jm4x0n35zzr1p5chpdfh0000gn/T/ipykernel_4443/3350858182.py:88: FutureWarning: The behavior of DataFrame concatenation with empty or all-NA entries is deprecated. In a future version, this will no longer exclude empty or all-NA columns when determining the result dtypes. To retain the old behavior, exclude the relevant entries before the concat operation.\n",
      "  result_df = pd.concat([result_df, pd.DataFrame([{\n",
      " 57%|████████████████████████▌                  | 28/49 [04:58<03:47, 10.85s/it]"
     ]
    },
    {
     "name": "stdout",
     "output_type": "stream",
     "text": [
      "u34\n"
     ]
    },
    {
     "name": "stderr",
     "output_type": "stream",
     "text": [
      "/var/folders/k8/745_jm4x0n35zzr1p5chpdfh0000gn/T/ipykernel_4443/3350858182.py:88: FutureWarning: The behavior of DataFrame concatenation with empty or all-NA entries is deprecated. In a future version, this will no longer exclude empty or all-NA columns when determining the result dtypes. To retain the old behavior, exclude the relevant entries before the concat operation.\n",
      "  result_df = pd.concat([result_df, pd.DataFrame([{\n",
      " 59%|█████████████████████████▍                 | 29/49 [05:06<03:23, 10.15s/it]"
     ]
    },
    {
     "name": "stdout",
     "output_type": "stream",
     "text": [
      "u35\n"
     ]
    },
    {
     "name": "stderr",
     "output_type": "stream",
     "text": [
      "/var/folders/k8/745_jm4x0n35zzr1p5chpdfh0000gn/T/ipykernel_4443/3350858182.py:88: FutureWarning: The behavior of DataFrame concatenation with empty or all-NA entries is deprecated. In a future version, this will no longer exclude empty or all-NA columns when determining the result dtypes. To retain the old behavior, exclude the relevant entries before the concat operation.\n",
      "  result_df = pd.concat([result_df, pd.DataFrame([{\n",
      " 61%|██████████████████████████▎                | 30/49 [05:19<03:24, 10.75s/it]"
     ]
    },
    {
     "name": "stdout",
     "output_type": "stream",
     "text": [
      "u36\n"
     ]
    },
    {
     "name": "stderr",
     "output_type": "stream",
     "text": [
      "/var/folders/k8/745_jm4x0n35zzr1p5chpdfh0000gn/T/ipykernel_4443/3350858182.py:88: FutureWarning: The behavior of DataFrame concatenation with empty or all-NA entries is deprecated. In a future version, this will no longer exclude empty or all-NA columns when determining the result dtypes. To retain the old behavior, exclude the relevant entries before the concat operation.\n",
      "  result_df = pd.concat([result_df, pd.DataFrame([{\n",
      " 63%|███████████████████████████▏               | 31/49 [05:31<03:21, 11.20s/it]"
     ]
    },
    {
     "name": "stdout",
     "output_type": "stream",
     "text": [
      "u39\n"
     ]
    },
    {
     "name": "stderr",
     "output_type": "stream",
     "text": [
      "/var/folders/k8/745_jm4x0n35zzr1p5chpdfh0000gn/T/ipykernel_4443/3350858182.py:88: FutureWarning: The behavior of DataFrame concatenation with empty or all-NA entries is deprecated. In a future version, this will no longer exclude empty or all-NA columns when determining the result dtypes. To retain the old behavior, exclude the relevant entries before the concat operation.\n",
      "  result_df = pd.concat([result_df, pd.DataFrame([{\n",
      " 65%|████████████████████████████               | 32/49 [05:59<04:37, 16.31s/it]"
     ]
    },
    {
     "name": "stdout",
     "output_type": "stream",
     "text": [
      "u41\n"
     ]
    },
    {
     "name": "stderr",
     "output_type": "stream",
     "text": [
      "/var/folders/k8/745_jm4x0n35zzr1p5chpdfh0000gn/T/ipykernel_4443/3350858182.py:88: FutureWarning: The behavior of DataFrame concatenation with empty or all-NA entries is deprecated. In a future version, this will no longer exclude empty or all-NA columns when determining the result dtypes. To retain the old behavior, exclude the relevant entries before the concat operation.\n",
      "  result_df = pd.concat([result_df, pd.DataFrame([{\n",
      " 67%|████████████████████████████▉              | 33/49 [06:08<03:44, 14.04s/it]"
     ]
    },
    {
     "name": "stdout",
     "output_type": "stream",
     "text": [
      "u42\n"
     ]
    },
    {
     "name": "stderr",
     "output_type": "stream",
     "text": [
      "/var/folders/k8/745_jm4x0n35zzr1p5chpdfh0000gn/T/ipykernel_4443/3350858182.py:88: FutureWarning: The behavior of DataFrame concatenation with empty or all-NA entries is deprecated. In a future version, this will no longer exclude empty or all-NA columns when determining the result dtypes. To retain the old behavior, exclude the relevant entries before the concat operation.\n",
      "  result_df = pd.concat([result_df, pd.DataFrame([{\n",
      " 69%|█████████████████████████████▊             | 34/49 [06:16<03:06, 12.41s/it]"
     ]
    },
    {
     "name": "stdout",
     "output_type": "stream",
     "text": [
      "u43\n"
     ]
    },
    {
     "name": "stderr",
     "output_type": "stream",
     "text": [
      "/var/folders/k8/745_jm4x0n35zzr1p5chpdfh0000gn/T/ipykernel_4443/3350858182.py:88: FutureWarning: The behavior of DataFrame concatenation with empty or all-NA entries is deprecated. In a future version, this will no longer exclude empty or all-NA columns when determining the result dtypes. To retain the old behavior, exclude the relevant entries before the concat operation.\n",
      "  result_df = pd.concat([result_df, pd.DataFrame([{\n",
      " 71%|██████████████████████████████▋            | 35/49 [06:26<02:40, 11.50s/it]"
     ]
    },
    {
     "name": "stdout",
     "output_type": "stream",
     "text": [
      "u44\n"
     ]
    },
    {
     "name": "stderr",
     "output_type": "stream",
     "text": [
      "/var/folders/k8/745_jm4x0n35zzr1p5chpdfh0000gn/T/ipykernel_4443/3350858182.py:88: FutureWarning: The behavior of DataFrame concatenation with empty or all-NA entries is deprecated. In a future version, this will no longer exclude empty or all-NA columns when determining the result dtypes. To retain the old behavior, exclude the relevant entries before the concat operation.\n",
      "  result_df = pd.concat([result_df, pd.DataFrame([{\n",
      " 73%|███████████████████████████████▌           | 36/49 [06:37<02:27, 11.37s/it]"
     ]
    },
    {
     "name": "stdout",
     "output_type": "stream",
     "text": [
      "u45\n"
     ]
    },
    {
     "name": "stderr",
     "output_type": "stream",
     "text": [
      "/var/folders/k8/745_jm4x0n35zzr1p5chpdfh0000gn/T/ipykernel_4443/3350858182.py:88: FutureWarning: The behavior of DataFrame concatenation with empty or all-NA entries is deprecated. In a future version, this will no longer exclude empty or all-NA columns when determining the result dtypes. To retain the old behavior, exclude the relevant entries before the concat operation.\n",
      "  result_df = pd.concat([result_df, pd.DataFrame([{\n",
      " 76%|████████████████████████████████▍          | 37/49 [06:45<02:06, 10.51s/it]"
     ]
    },
    {
     "name": "stdout",
     "output_type": "stream",
     "text": [
      "u46\n"
     ]
    },
    {
     "name": "stderr",
     "output_type": "stream",
     "text": [
      "/var/folders/k8/745_jm4x0n35zzr1p5chpdfh0000gn/T/ipykernel_4443/3350858182.py:88: FutureWarning: The behavior of DataFrame concatenation with empty or all-NA entries is deprecated. In a future version, this will no longer exclude empty or all-NA columns when determining the result dtypes. To retain the old behavior, exclude the relevant entries before the concat operation.\n",
      "  result_df = pd.concat([result_df, pd.DataFrame([{\n",
      " 78%|█████████████████████████████████▎         | 38/49 [06:55<01:54, 10.41s/it]"
     ]
    },
    {
     "name": "stdout",
     "output_type": "stream",
     "text": [
      "u47\n"
     ]
    },
    {
     "name": "stderr",
     "output_type": "stream",
     "text": [
      "/var/folders/k8/745_jm4x0n35zzr1p5chpdfh0000gn/T/ipykernel_4443/3350858182.py:88: FutureWarning: The behavior of DataFrame concatenation with empty or all-NA entries is deprecated. In a future version, this will no longer exclude empty or all-NA columns when determining the result dtypes. To retain the old behavior, exclude the relevant entries before the concat operation.\n",
      "  result_df = pd.concat([result_df, pd.DataFrame([{\n",
      " 80%|██████████████████████████████████▏        | 39/49 [07:05<01:41, 10.11s/it]"
     ]
    },
    {
     "name": "stdout",
     "output_type": "stream",
     "text": [
      "u49\n"
     ]
    },
    {
     "name": "stderr",
     "output_type": "stream",
     "text": [
      "/var/folders/k8/745_jm4x0n35zzr1p5chpdfh0000gn/T/ipykernel_4443/3350858182.py:88: FutureWarning: The behavior of DataFrame concatenation with empty or all-NA entries is deprecated. In a future version, this will no longer exclude empty or all-NA columns when determining the result dtypes. To retain the old behavior, exclude the relevant entries before the concat operation.\n",
      "  result_df = pd.concat([result_df, pd.DataFrame([{\n",
      " 82%|███████████████████████████████████        | 40/49 [07:19<01:40, 11.19s/it]"
     ]
    },
    {
     "name": "stdout",
     "output_type": "stream",
     "text": [
      "u50\n"
     ]
    },
    {
     "name": "stderr",
     "output_type": "stream",
     "text": [
      "/var/folders/k8/745_jm4x0n35zzr1p5chpdfh0000gn/T/ipykernel_4443/3350858182.py:88: FutureWarning: The behavior of DataFrame concatenation with empty or all-NA entries is deprecated. In a future version, this will no longer exclude empty or all-NA columns when determining the result dtypes. To retain the old behavior, exclude the relevant entries before the concat operation.\n",
      "  result_df = pd.concat([result_df, pd.DataFrame([{\n",
      " 84%|███████████████████████████████████▉       | 41/49 [07:26<01:19, 10.00s/it]"
     ]
    },
    {
     "name": "stdout",
     "output_type": "stream",
     "text": [
      "u51\n"
     ]
    },
    {
     "name": "stderr",
     "output_type": "stream",
     "text": [
      "/var/folders/k8/745_jm4x0n35zzr1p5chpdfh0000gn/T/ipykernel_4443/3350858182.py:88: FutureWarning: The behavior of DataFrame concatenation with empty or all-NA entries is deprecated. In a future version, this will no longer exclude empty or all-NA columns when determining the result dtypes. To retain the old behavior, exclude the relevant entries before the concat operation.\n",
      "  result_df = pd.concat([result_df, pd.DataFrame([{\n",
      " 86%|████████████████████████████████████▊      | 42/49 [07:39<01:15, 10.80s/it]"
     ]
    },
    {
     "name": "stdout",
     "output_type": "stream",
     "text": [
      "u52\n"
     ]
    },
    {
     "name": "stderr",
     "output_type": "stream",
     "text": [
      "/var/folders/k8/745_jm4x0n35zzr1p5chpdfh0000gn/T/ipykernel_4443/3350858182.py:88: FutureWarning: The behavior of DataFrame concatenation with empty or all-NA entries is deprecated. In a future version, this will no longer exclude empty or all-NA columns when determining the result dtypes. To retain the old behavior, exclude the relevant entries before the concat operation.\n",
      "  result_df = pd.concat([result_df, pd.DataFrame([{\n",
      " 88%|█████████████████████████████████████▋     | 43/49 [07:45<00:57,  9.56s/it]"
     ]
    },
    {
     "name": "stdout",
     "output_type": "stream",
     "text": [
      "u53\n"
     ]
    },
    {
     "name": "stderr",
     "output_type": "stream",
     "text": [
      "/var/folders/k8/745_jm4x0n35zzr1p5chpdfh0000gn/T/ipykernel_4443/3350858182.py:88: FutureWarning: The behavior of DataFrame concatenation with empty or all-NA entries is deprecated. In a future version, this will no longer exclude empty or all-NA columns when determining the result dtypes. To retain the old behavior, exclude the relevant entries before the concat operation.\n",
      "  result_df = pd.concat([result_df, pd.DataFrame([{\n",
      " 90%|██████████████████████████████████████▌    | 44/49 [07:57<00:50, 10.11s/it]"
     ]
    },
    {
     "name": "stdout",
     "output_type": "stream",
     "text": [
      "u54\n"
     ]
    },
    {
     "name": "stderr",
     "output_type": "stream",
     "text": [
      "/var/folders/k8/745_jm4x0n35zzr1p5chpdfh0000gn/T/ipykernel_4443/3350858182.py:88: FutureWarning: The behavior of DataFrame concatenation with empty or all-NA entries is deprecated. In a future version, this will no longer exclude empty or all-NA columns when determining the result dtypes. To retain the old behavior, exclude the relevant entries before the concat operation.\n",
      "  result_df = pd.concat([result_df, pd.DataFrame([{\n",
      " 92%|███████████████████████████████████████▍   | 45/49 [08:05<00:37,  9.47s/it]"
     ]
    },
    {
     "name": "stdout",
     "output_type": "stream",
     "text": [
      "u56\n"
     ]
    },
    {
     "name": "stderr",
     "output_type": "stream",
     "text": [
      "/var/folders/k8/745_jm4x0n35zzr1p5chpdfh0000gn/T/ipykernel_4443/3350858182.py:88: FutureWarning: The behavior of DataFrame concatenation with empty or all-NA entries is deprecated. In a future version, this will no longer exclude empty or all-NA columns when determining the result dtypes. To retain the old behavior, exclude the relevant entries before the concat operation.\n",
      "  result_df = pd.concat([result_df, pd.DataFrame([{\n",
      " 94%|████████████████████████████████████████▎  | 46/49 [08:16<00:30, 10.05s/it]"
     ]
    },
    {
     "name": "stdout",
     "output_type": "stream",
     "text": [
      "u57\n"
     ]
    },
    {
     "name": "stderr",
     "output_type": "stream",
     "text": [
      "/var/folders/k8/745_jm4x0n35zzr1p5chpdfh0000gn/T/ipykernel_4443/3350858182.py:88: FutureWarning: The behavior of DataFrame concatenation with empty or all-NA entries is deprecated. In a future version, this will no longer exclude empty or all-NA columns when determining the result dtypes. To retain the old behavior, exclude the relevant entries before the concat operation.\n",
      "  result_df = pd.concat([result_df, pd.DataFrame([{\n",
      " 96%|█████████████████████████████████████████▏ | 47/49 [08:28<00:21, 10.63s/it]"
     ]
    },
    {
     "name": "stdout",
     "output_type": "stream",
     "text": [
      "u58\n"
     ]
    },
    {
     "name": "stderr",
     "output_type": "stream",
     "text": [
      "/var/folders/k8/745_jm4x0n35zzr1p5chpdfh0000gn/T/ipykernel_4443/3350858182.py:88: FutureWarning: The behavior of DataFrame concatenation with empty or all-NA entries is deprecated. In a future version, this will no longer exclude empty or all-NA columns when determining the result dtypes. To retain the old behavior, exclude the relevant entries before the concat operation.\n",
      "  result_df = pd.concat([result_df, pd.DataFrame([{\n",
      " 98%|██████████████████████████████████████████ | 48/49 [08:40<00:11, 11.07s/it]"
     ]
    },
    {
     "name": "stdout",
     "output_type": "stream",
     "text": [
      "u59\n"
     ]
    },
    {
     "name": "stderr",
     "output_type": "stream",
     "text": [
      "/var/folders/k8/745_jm4x0n35zzr1p5chpdfh0000gn/T/ipykernel_4443/3350858182.py:88: FutureWarning: The behavior of DataFrame concatenation with empty or all-NA entries is deprecated. In a future version, this will no longer exclude empty or all-NA columns when determining the result dtypes. To retain the old behavior, exclude the relevant entries before the concat operation.\n",
      "  result_df = pd.concat([result_df, pd.DataFrame([{\n",
      "100%|███████████████████████████████████████████| 49/49 [09:20<00:00, 11.45s/it]\n"
     ]
    }
   ],
   "source": [
    "for uid in tqdm(activity_uid):\n",
    "    print(uid)\n",
    "    df = process_activity_data_for_uid(str(uid), df_activity)\n",
    "    frames = [df_data, df]\n",
    "    df_data = pd.concat(frames, ignore_index=True)"
   ]
  },
  {
   "cell_type": "code",
   "execution_count": 20,
   "id": "b0b23e00",
   "metadata": {},
   "outputs": [
    {
     "data": {
      "text/plain": [
       "Index(['uid', 'date', 'stationary_duration_morning',\n",
       "       'walking_duration_morning', 'running_duration_morning',\n",
       "       'unknown_duration_morning', 'stationary_duration_afternoon',\n",
       "       'walking_duration_afternoon', 'running_duration_afternoon',\n",
       "       'unknown_duration_afternoon', 'stationary_duration_evening',\n",
       "       'walking_duration_evening', 'running_duration_evening',\n",
       "       'unknown_duration_evening', 'stationary_duration_night',\n",
       "       'walking_duration_night', 'running_duration_night',\n",
       "       'unknown_duration_night'],\n",
       "      dtype='object')"
      ]
     },
     "execution_count": 20,
     "metadata": {},
     "output_type": "execute_result"
    }
   ],
   "source": [
    "df_data.columns"
   ]
  },
  {
   "cell_type": "code",
   "execution_count": 21,
   "id": "6181f341",
   "metadata": {},
   "outputs": [
    {
     "data": {
      "text/plain": [
       "uid                              0\n",
       "date                             0\n",
       "stationary_duration_morning      0\n",
       "walking_duration_morning         0\n",
       "running_duration_morning         0\n",
       "unknown_duration_morning         0\n",
       "stationary_duration_afternoon    0\n",
       "walking_duration_afternoon       0\n",
       "running_duration_afternoon       0\n",
       "unknown_duration_afternoon       0\n",
       "stationary_duration_evening      0\n",
       "walking_duration_evening         0\n",
       "running_duration_evening         0\n",
       "unknown_duration_evening         0\n",
       "stationary_duration_night        0\n",
       "walking_duration_night           0\n",
       "running_duration_night           0\n",
       "unknown_duration_night           0\n",
       "dtype: int64"
      ]
     },
     "execution_count": 21,
     "metadata": {},
     "output_type": "execute_result"
    }
   ],
   "source": [
    "df_data.isnull().sum()"
   ]
  },
  {
   "cell_type": "code",
   "execution_count": 22,
   "id": "afac4787",
   "metadata": {},
   "outputs": [
    {
     "data": {
      "text/plain": [
       "2883"
      ]
     },
     "execution_count": 22,
     "metadata": {},
     "output_type": "execute_result"
    }
   ],
   "source": [
    "len(df_data)"
   ]
  },
  {
   "cell_type": "code",
   "execution_count": 23,
   "id": "6c8e1520",
   "metadata": {},
   "outputs": [
    {
     "data": {
      "text/html": [
       "<div>\n",
       "<style scoped>\n",
       "    .dataframe tbody tr th:only-of-type {\n",
       "        vertical-align: middle;\n",
       "    }\n",
       "\n",
       "    .dataframe tbody tr th {\n",
       "        vertical-align: top;\n",
       "    }\n",
       "\n",
       "    .dataframe thead th {\n",
       "        text-align: right;\n",
       "    }\n",
       "</style>\n",
       "<table border=\"1\" class=\"dataframe\">\n",
       "  <thead>\n",
       "    <tr style=\"text-align: right;\">\n",
       "      <th></th>\n",
       "      <th>uid</th>\n",
       "      <th>date</th>\n",
       "      <th>stationary_duration_morning</th>\n",
       "      <th>walking_duration_morning</th>\n",
       "      <th>running_duration_morning</th>\n",
       "      <th>unknown_duration_morning</th>\n",
       "      <th>stationary_duration_afternoon</th>\n",
       "      <th>walking_duration_afternoon</th>\n",
       "      <th>running_duration_afternoon</th>\n",
       "      <th>unknown_duration_afternoon</th>\n",
       "      <th>stationary_duration_evening</th>\n",
       "      <th>walking_duration_evening</th>\n",
       "      <th>running_duration_evening</th>\n",
       "      <th>unknown_duration_evening</th>\n",
       "      <th>stationary_duration_night</th>\n",
       "      <th>walking_duration_night</th>\n",
       "      <th>running_duration_night</th>\n",
       "      <th>unknown_duration_night</th>\n",
       "    </tr>\n",
       "  </thead>\n",
       "  <tbody>\n",
       "    <tr>\n",
       "      <th>0</th>\n",
       "      <td>u00</td>\n",
       "      <td>2013-03-27</td>\n",
       "      <td>5.704444</td>\n",
       "      <td>0.199167</td>\n",
       "      <td>0</td>\n",
       "      <td>0.096389</td>\n",
       "      <td>4.4475</td>\n",
       "      <td>0.981389</td>\n",
       "      <td>0.061667</td>\n",
       "      <td>0.509444</td>\n",
       "      <td>3.984722</td>\n",
       "      <td>0.921944</td>\n",
       "      <td>0.870833</td>\n",
       "      <td>0.222222</td>\n",
       "      <td>1.999167</td>\n",
       "      <td>0</td>\n",
       "      <td>0</td>\n",
       "      <td>4.000833</td>\n",
       "    </tr>\n",
       "    <tr>\n",
       "      <th>1</th>\n",
       "      <td>u00</td>\n",
       "      <td>2013-03-28</td>\n",
       "      <td>5.632778</td>\n",
       "      <td>0.129722</td>\n",
       "      <td>0</td>\n",
       "      <td>0.2375</td>\n",
       "      <td>4.8925</td>\n",
       "      <td>0.548611</td>\n",
       "      <td>0.195</td>\n",
       "      <td>0.363889</td>\n",
       "      <td>4.976111</td>\n",
       "      <td>0.470556</td>\n",
       "      <td>0.233333</td>\n",
       "      <td>0.319722</td>\n",
       "      <td>5.68</td>\n",
       "      <td>0.058611</td>\n",
       "      <td>0.192222</td>\n",
       "      <td>0.069167</td>\n",
       "    </tr>\n",
       "    <tr>\n",
       "      <th>2</th>\n",
       "      <td>u00</td>\n",
       "      <td>2013-03-29</td>\n",
       "      <td>5.505</td>\n",
       "      <td>0.087222</td>\n",
       "      <td>0.053056</td>\n",
       "      <td>0.354722</td>\n",
       "      <td>4.36</td>\n",
       "      <td>0.958889</td>\n",
       "      <td>0.193889</td>\n",
       "      <td>0.487222</td>\n",
       "      <td>3.996667</td>\n",
       "      <td>1.172778</td>\n",
       "      <td>0.028333</td>\n",
       "      <td>0.801944</td>\n",
       "      <td>5.102778</td>\n",
       "      <td>0.335833</td>\n",
       "      <td>0.053056</td>\n",
       "      <td>0.508333</td>\n",
       "    </tr>\n",
       "  </tbody>\n",
       "</table>\n",
       "</div>"
      ],
      "text/plain": [
       "   uid        date stationary_duration_morning walking_duration_morning  \\\n",
       "0  u00  2013-03-27                    5.704444                 0.199167   \n",
       "1  u00  2013-03-28                    5.632778                 0.129722   \n",
       "2  u00  2013-03-29                       5.505                 0.087222   \n",
       "\n",
       "  running_duration_morning unknown_duration_morning  \\\n",
       "0                        0                 0.096389   \n",
       "1                        0                   0.2375   \n",
       "2                 0.053056                 0.354722   \n",
       "\n",
       "  stationary_duration_afternoon walking_duration_afternoon  \\\n",
       "0                        4.4475                   0.981389   \n",
       "1                        4.8925                   0.548611   \n",
       "2                          4.36                   0.958889   \n",
       "\n",
       "  running_duration_afternoon unknown_duration_afternoon  \\\n",
       "0                   0.061667                   0.509444   \n",
       "1                      0.195                   0.363889   \n",
       "2                   0.193889                   0.487222   \n",
       "\n",
       "   stationary_duration_evening walking_duration_evening  \\\n",
       "0                     3.984722                 0.921944   \n",
       "1                     4.976111                 0.470556   \n",
       "2                     3.996667                 1.172778   \n",
       "\n",
       "  running_duration_evening  unknown_duration_evening  \\\n",
       "0                 0.870833                  0.222222   \n",
       "1                 0.233333                  0.319722   \n",
       "2                 0.028333                  0.801944   \n",
       "\n",
       "  stationary_duration_night walking_duration_night running_duration_night  \\\n",
       "0                  1.999167                      0                      0   \n",
       "1                      5.68               0.058611               0.192222   \n",
       "2                  5.102778               0.335833               0.053056   \n",
       "\n",
       "  unknown_duration_night  \n",
       "0               4.000833  \n",
       "1               0.069167  \n",
       "2               0.508333  "
      ]
     },
     "execution_count": 23,
     "metadata": {},
     "output_type": "execute_result"
    }
   ],
   "source": [
    "df_data.head(3)"
   ]
  },
  {
   "cell_type": "code",
   "execution_count": 24,
   "id": "afb64958",
   "metadata": {},
   "outputs": [],
   "source": [
    "df_data.to_csv('raw_activity_features_studentlife.csv')"
   ]
  },
  {
   "cell_type": "code",
   "execution_count": 25,
   "id": "15ef66fb",
   "metadata": {},
   "outputs": [
    {
     "data": {
      "text/plain": [
       "49"
      ]
     },
     "execution_count": 25,
     "metadata": {},
     "output_type": "execute_result"
    }
   ],
   "source": [
    "len(df_data['uid'].unique())"
   ]
  },
  {
   "cell_type": "code",
   "execution_count": null,
   "id": "c1588456",
   "metadata": {},
   "outputs": [],
   "source": []
  },
  {
   "cell_type": "code",
   "execution_count": null,
   "id": "63b8230c-a491-4f51-84a1-6a831de44365",
   "metadata": {},
   "outputs": [],
   "source": []
  }
 ],
 "metadata": {
  "kernelspec": {
   "display_name": "Python 3 (ipykernel)",
   "language": "python",
   "name": "python3"
  },
  "language_info": {
   "codemirror_mode": {
    "name": "ipython",
    "version": 3
   },
   "file_extension": ".py",
   "mimetype": "text/x-python",
   "name": "python",
   "nbconvert_exporter": "python",
   "pygments_lexer": "ipython3",
   "version": "3.10.8"
  }
 },
 "nbformat": 4,
 "nbformat_minor": 5
}
