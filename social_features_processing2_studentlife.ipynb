{
 "cells": [
  {
   "cell_type": "code",
   "execution_count": 1,
   "id": "7c50cc28",
   "metadata": {},
   "outputs": [],
   "source": [
    "import json\n",
    "import pandas as pd\n",
    "from datetime import datetime, timedelta\n",
    "from pandas import DataFrame\n",
    "import matplotlib.pyplot as plt\n",
    "from datetime import time\n",
    "from tqdm import tqdm\n",
    "import os"
   ]
  },
  {
   "cell_type": "code",
   "execution_count": 2,
   "id": "15c8ec48",
   "metadata": {},
   "outputs": [],
   "source": [
    "student_uid = ['u00', 'u01', 'u02', 'u03', 'u04', 'u05', 'u07', 'u08', 'u09', 'u10', 'u12', 'u13', 'u14', 'u15', 'u16',\n",
    "                'u17', 'u18', 'u19', 'u20', 'u22', 'u23', 'u24', 'u25', 'u27', 'u30', 'u31', 'u32', 'u33', 'u34', 'u35',\n",
    "                'u36', 'u39', 'u41', 'u42', 'u43', 'u44', 'u45', 'u46', 'u47', 'u49', 'u50', 'u51', 'u52', 'u53', 'u54',\n",
    "                'u56', 'u57', 'u58', 'u59']"
   ]
  },
  {
   "cell_type": "code",
   "execution_count": 3,
   "id": "5ff1f2f7",
   "metadata": {},
   "outputs": [],
   "source": [
    "path = '/Users/ohidabinteamin/Documents/Depression_Project/dataset/app_usage'"
   ]
  },
  {
   "cell_type": "code",
   "execution_count": 4,
   "id": "12433422",
   "metadata": {},
   "outputs": [
    {
     "name": "stdout",
     "output_type": "stream",
     "text": [
      "                                              id  \\\n",
      "0        5426a149-25fb-4688-b3eb-5d707f8b76bb-19   \n",
      "1        5426a149-25fb-4688-b3eb-5d707f8b76bb-19   \n",
      "2        5426a149-25fb-4688-b3eb-5d707f8b76bb-19   \n",
      "3        5426a149-25fb-4688-b3eb-5d707f8b76bb-19   \n",
      "4        5426a149-25fb-4688-b3eb-5d707f8b76bb-19   \n",
      "...                                          ...   \n",
      "1990505  2f579853-cee1-4b34-a0c7-d6e8e8033e2b-24   \n",
      "1990506  2f579853-cee1-4b34-a0c7-d6e8e8033e2b-24   \n",
      "1990507  2f579853-cee1-4b34-a0c7-d6e8e8033e2b-24   \n",
      "1990508  2f579853-cee1-4b34-a0c7-d6e8e8033e2b-24   \n",
      "1990509  2f579853-cee1-4b34-a0c7-d6e8e8033e2b-24   \n",
      "\n",
      "                                       device   timestamp  \\\n",
      "0        2de1b6fd-f0e6-43e2-b63f-83458da3bf6e  1364102090   \n",
      "1        2de1b6fd-f0e6-43e2-b63f-83458da3bf6e  1364102090   \n",
      "2        2de1b6fd-f0e6-43e2-b63f-83458da3bf6e  1364102090   \n",
      "3        2de1b6fd-f0e6-43e2-b63f-83458da3bf6e  1364102090   \n",
      "4        2de1b6fd-f0e6-43e2-b63f-83458da3bf6e  1364102090   \n",
      "...                                       ...         ...   \n",
      "1990505  bacb0599-f9cb-4956-8ef7-9a6af9635a68  1371479195   \n",
      "1990506  bacb0599-f9cb-4956-8ef7-9a6af9635a68  1371479195   \n",
      "1990507  bacb0599-f9cb-4956-8ef7-9a6af9635a68  1371479195   \n",
      "1990508  bacb0599-f9cb-4956-8ef7-9a6af9635a68  1371479195   \n",
      "1990509  bacb0599-f9cb-4956-8ef7-9a6af9635a68  1371479195   \n",
      "\n",
      "                         RUNNING_TASKS_baseActivity_mClass  \\\n",
      "0                          org.bewellapp.dashBoardActivity   \n",
      "1        com.google.android.gm.ConversationListActivity...   \n",
      "2                           com.android.launcher2.Launcher   \n",
      "3                            com.android.settings.Settings   \n",
      "4        com.google.android.setupwizard.SetupWizardActi...   \n",
      "...                                                    ...   \n",
      "1990505    com.google.android.apps.plus.phone.HomeActivity   \n",
      "1990506  com.android.email.activity.setup.AccountSetupB...   \n",
      "1990507  com.google.android.gm.ConversationListActivity...   \n",
      "1990508                  com.android.camera.CameraLauncher   \n",
      "1990509                com.google.android.apps.chrome.Main   \n",
      "\n",
      "        RUNNING_TASKS_baseActivity_mPackage  RUNNING_TASKS_id  \\\n",
      "0                             org.bewellapp                 8   \n",
      "1                     com.google.android.gm                 5   \n",
      "2                      com.android.launcher                 3   \n",
      "3                      com.android.settings                 4   \n",
      "4            com.google.android.setupwizard                 2   \n",
      "...                                     ...               ...   \n",
      "1990505        com.google.android.apps.plus              2068   \n",
      "1990506            com.google.android.email              2067   \n",
      "1990507               com.google.android.gm               948   \n",
      "1990508        com.google.android.gallery3d                 3   \n",
      "1990509                  com.android.chrome               949   \n",
      "\n",
      "         RUNNING_TASKS_numActivities  RUNNING_TASKS_numRunning  \\\n",
      "0                                  1                         1   \n",
      "1                                  2                         2   \n",
      "2                                  1                         1   \n",
      "3                                  3                         3   \n",
      "4                                  1                         0   \n",
      "...                              ...                       ...   \n",
      "1990505                            1                         1   \n",
      "1990506                            1                         1   \n",
      "1990507                            1                         1   \n",
      "1990508                            1                         1   \n",
      "1990509                            1                         1   \n",
      "\n",
      "                          RUNNING_TASKS_topActivity_mClass  \\\n",
      "0                          org.bewellapp.dashBoardActivity   \n",
      "1          com.android.packageinstaller.InstallAppProgress   \n",
      "2                           com.android.launcher2.Launcher   \n",
      "3                   com.android.settings.deviceinfo.Status   \n",
      "4        com.google.android.setupwizard.SetupWizardActi...   \n",
      "...                                                    ...   \n",
      "1990505    com.google.android.apps.plus.phone.HomeActivity   \n",
      "1990506  com.android.email.activity.setup.AccountSetupB...   \n",
      "1990507  com.google.android.gm.ConversationListActivity...   \n",
      "1990508                  com.android.camera.CameraLauncher   \n",
      "1990509                com.google.android.apps.chrome.Main   \n",
      "\n",
      "        RUNNING_TASKS_topActivity_mPackage  uid  \n",
      "0                            org.bewellapp  u44  \n",
      "1             com.android.packageinstaller  u44  \n",
      "2                     com.android.launcher  u44  \n",
      "3                     com.android.settings  u44  \n",
      "4           com.google.android.setupwizard  u44  \n",
      "...                                    ...  ...  \n",
      "1990505       com.google.android.apps.plus  u49  \n",
      "1990506           com.google.android.email  u49  \n",
      "1990507              com.google.android.gm  u49  \n",
      "1990508       com.google.android.gallery3d  u49  \n",
      "1990509                 com.android.chrome  u49  \n",
      "\n",
      "[1990510 rows x 11 columns]\n"
     ]
    }
   ],
   "source": [
    "combined_df = pd.DataFrame()\n",
    "\n",
    "for filename in os.listdir(path):\n",
    "    if filename.endswith('.csv'):\n",
    "        uid = filename.split('_')[2].split('.')[0]\n",
    "\n",
    "        file_path = os.path.join(path, filename)\n",
    "        df = pd.read_csv(file_path)\n",
    "\n",
    "        df['uid'] = uid\n",
    "\n",
    "        combined_df = pd.concat([combined_df, df])\n",
    "\n",
    "combined_df.reset_index(drop=True, inplace=True)\n",
    "print(combined_df)"
   ]
  },
  {
   "cell_type": "code",
   "execution_count": 5,
   "id": "6feae69e",
   "metadata": {},
   "outputs": [
    {
     "data": {
      "text/plain": [
       "array(['u44', 'u50', 'u51', 'u45', 'u53', 'u47', 'u46', 'u52', 'u56',\n",
       "       'u42', 'u43', 'u57', 'u41', 'u54', 'u27', 'u33', 'u32', 'u30',\n",
       "       'u24', 'u18', 'u19', 'u25', 'u31', 'u09', 'u35', 'u20', 'u34',\n",
       "       'u08', 'u22', 'u36', 'u23', 'u12', 'u13', 'u07', 'u05', 'u39',\n",
       "       'u04', 'u10', 'u14', 'u00', 'u01', 'u15', 'u03', 'u17', 'u16',\n",
       "       'u02', 'u59', 'u58', 'u49'], dtype=object)"
      ]
     },
     "execution_count": 5,
     "metadata": {},
     "output_type": "execute_result"
    }
   ],
   "source": [
    "combined_df['uid'].unique()"
   ]
  },
  {
   "cell_type": "code",
   "execution_count": 6,
   "id": "dbffc0c5",
   "metadata": {},
   "outputs": [
    {
     "data": {
      "text/html": [
       "<div>\n",
       "<style scoped>\n",
       "    .dataframe tbody tr th:only-of-type {\n",
       "        vertical-align: middle;\n",
       "    }\n",
       "\n",
       "    .dataframe tbody tr th {\n",
       "        vertical-align: top;\n",
       "    }\n",
       "\n",
       "    .dataframe thead th {\n",
       "        text-align: right;\n",
       "    }\n",
       "</style>\n",
       "<table border=\"1\" class=\"dataframe\">\n",
       "  <thead>\n",
       "    <tr style=\"text-align: right;\">\n",
       "      <th></th>\n",
       "      <th>id</th>\n",
       "      <th>device</th>\n",
       "      <th>timestamp</th>\n",
       "      <th>RUNNING_TASKS_baseActivity_mClass</th>\n",
       "      <th>RUNNING_TASKS_baseActivity_mPackage</th>\n",
       "      <th>RUNNING_TASKS_id</th>\n",
       "      <th>RUNNING_TASKS_numActivities</th>\n",
       "      <th>RUNNING_TASKS_numRunning</th>\n",
       "      <th>RUNNING_TASKS_topActivity_mClass</th>\n",
       "      <th>RUNNING_TASKS_topActivity_mPackage</th>\n",
       "      <th>uid</th>\n",
       "    </tr>\n",
       "  </thead>\n",
       "  <tbody>\n",
       "    <tr>\n",
       "      <th>0</th>\n",
       "      <td>5426a149-25fb-4688-b3eb-5d707f8b76bb-19</td>\n",
       "      <td>2de1b6fd-f0e6-43e2-b63f-83458da3bf6e</td>\n",
       "      <td>1364102090</td>\n",
       "      <td>org.bewellapp.dashBoardActivity</td>\n",
       "      <td>org.bewellapp</td>\n",
       "      <td>8</td>\n",
       "      <td>1</td>\n",
       "      <td>1</td>\n",
       "      <td>org.bewellapp.dashBoardActivity</td>\n",
       "      <td>org.bewellapp</td>\n",
       "      <td>u44</td>\n",
       "    </tr>\n",
       "    <tr>\n",
       "      <th>1</th>\n",
       "      <td>5426a149-25fb-4688-b3eb-5d707f8b76bb-19</td>\n",
       "      <td>2de1b6fd-f0e6-43e2-b63f-83458da3bf6e</td>\n",
       "      <td>1364102090</td>\n",
       "      <td>com.google.android.gm.ConversationListActivity...</td>\n",
       "      <td>com.google.android.gm</td>\n",
       "      <td>5</td>\n",
       "      <td>2</td>\n",
       "      <td>2</td>\n",
       "      <td>com.android.packageinstaller.InstallAppProgress</td>\n",
       "      <td>com.android.packageinstaller</td>\n",
       "      <td>u44</td>\n",
       "    </tr>\n",
       "    <tr>\n",
       "      <th>2</th>\n",
       "      <td>5426a149-25fb-4688-b3eb-5d707f8b76bb-19</td>\n",
       "      <td>2de1b6fd-f0e6-43e2-b63f-83458da3bf6e</td>\n",
       "      <td>1364102090</td>\n",
       "      <td>com.android.launcher2.Launcher</td>\n",
       "      <td>com.android.launcher</td>\n",
       "      <td>3</td>\n",
       "      <td>1</td>\n",
       "      <td>1</td>\n",
       "      <td>com.android.launcher2.Launcher</td>\n",
       "      <td>com.android.launcher</td>\n",
       "      <td>u44</td>\n",
       "    </tr>\n",
       "  </tbody>\n",
       "</table>\n",
       "</div>"
      ],
      "text/plain": [
       "                                        id  \\\n",
       "0  5426a149-25fb-4688-b3eb-5d707f8b76bb-19   \n",
       "1  5426a149-25fb-4688-b3eb-5d707f8b76bb-19   \n",
       "2  5426a149-25fb-4688-b3eb-5d707f8b76bb-19   \n",
       "\n",
       "                                 device   timestamp  \\\n",
       "0  2de1b6fd-f0e6-43e2-b63f-83458da3bf6e  1364102090   \n",
       "1  2de1b6fd-f0e6-43e2-b63f-83458da3bf6e  1364102090   \n",
       "2  2de1b6fd-f0e6-43e2-b63f-83458da3bf6e  1364102090   \n",
       "\n",
       "                   RUNNING_TASKS_baseActivity_mClass  \\\n",
       "0                    org.bewellapp.dashBoardActivity   \n",
       "1  com.google.android.gm.ConversationListActivity...   \n",
       "2                     com.android.launcher2.Launcher   \n",
       "\n",
       "  RUNNING_TASKS_baseActivity_mPackage  RUNNING_TASKS_id  \\\n",
       "0                       org.bewellapp                 8   \n",
       "1               com.google.android.gm                 5   \n",
       "2                com.android.launcher                 3   \n",
       "\n",
       "   RUNNING_TASKS_numActivities  RUNNING_TASKS_numRunning  \\\n",
       "0                            1                         1   \n",
       "1                            2                         2   \n",
       "2                            1                         1   \n",
       "\n",
       "                  RUNNING_TASKS_topActivity_mClass  \\\n",
       "0                  org.bewellapp.dashBoardActivity   \n",
       "1  com.android.packageinstaller.InstallAppProgress   \n",
       "2                   com.android.launcher2.Launcher   \n",
       "\n",
       "  RUNNING_TASKS_topActivity_mPackage  uid  \n",
       "0                      org.bewellapp  u44  \n",
       "1       com.android.packageinstaller  u44  \n",
       "2               com.android.launcher  u44  "
      ]
     },
     "execution_count": 6,
     "metadata": {},
     "output_type": "execute_result"
    }
   ],
   "source": [
    "combined_df.head(3)"
   ]
  },
  {
   "cell_type": "code",
   "execution_count": 7,
   "id": "d6e8da42",
   "metadata": {},
   "outputs": [],
   "source": [
    "combined_df['timestamp'] = pd.to_datetime(combined_df['timestamp'], unit='s')\n",
    "combined_df['date'] = combined_df['timestamp'].dt.strftime('%Y-%m-%d')\n",
    "combined_df['timestamp'] = combined_df['timestamp'].dt.strftime('%Y-%m-%d %H:%M:%S')"
   ]
  },
  {
   "cell_type": "code",
   "execution_count": 8,
   "id": "35a12147",
   "metadata": {},
   "outputs": [
    {
     "data": {
      "text/html": [
       "<div>\n",
       "<style scoped>\n",
       "    .dataframe tbody tr th:only-of-type {\n",
       "        vertical-align: middle;\n",
       "    }\n",
       "\n",
       "    .dataframe tbody tr th {\n",
       "        vertical-align: top;\n",
       "    }\n",
       "\n",
       "    .dataframe thead th {\n",
       "        text-align: right;\n",
       "    }\n",
       "</style>\n",
       "<table border=\"1\" class=\"dataframe\">\n",
       "  <thead>\n",
       "    <tr style=\"text-align: right;\">\n",
       "      <th></th>\n",
       "      <th>id</th>\n",
       "      <th>device</th>\n",
       "      <th>timestamp</th>\n",
       "      <th>RUNNING_TASKS_baseActivity_mClass</th>\n",
       "      <th>RUNNING_TASKS_baseActivity_mPackage</th>\n",
       "      <th>RUNNING_TASKS_id</th>\n",
       "      <th>RUNNING_TASKS_numActivities</th>\n",
       "      <th>RUNNING_TASKS_numRunning</th>\n",
       "      <th>RUNNING_TASKS_topActivity_mClass</th>\n",
       "      <th>RUNNING_TASKS_topActivity_mPackage</th>\n",
       "      <th>uid</th>\n",
       "      <th>date</th>\n",
       "      <th>time_interval</th>\n",
       "    </tr>\n",
       "  </thead>\n",
       "  <tbody>\n",
       "    <tr>\n",
       "      <th>0</th>\n",
       "      <td>5426a149-25fb-4688-b3eb-5d707f8b76bb-19</td>\n",
       "      <td>2de1b6fd-f0e6-43e2-b63f-83458da3bf6e</td>\n",
       "      <td>2013-03-24 05:14:50</td>\n",
       "      <td>org.bewellapp.dashBoardActivity</td>\n",
       "      <td>org.bewellapp</td>\n",
       "      <td>8</td>\n",
       "      <td>1</td>\n",
       "      <td>1</td>\n",
       "      <td>org.bewellapp.dashBoardActivity</td>\n",
       "      <td>org.bewellapp</td>\n",
       "      <td>u44</td>\n",
       "      <td>2013-03-24</td>\n",
       "      <td>night</td>\n",
       "    </tr>\n",
       "    <tr>\n",
       "      <th>1</th>\n",
       "      <td>5426a149-25fb-4688-b3eb-5d707f8b76bb-19</td>\n",
       "      <td>2de1b6fd-f0e6-43e2-b63f-83458da3bf6e</td>\n",
       "      <td>2013-03-24 05:14:50</td>\n",
       "      <td>com.google.android.gm.ConversationListActivity...</td>\n",
       "      <td>com.google.android.gm</td>\n",
       "      <td>5</td>\n",
       "      <td>2</td>\n",
       "      <td>2</td>\n",
       "      <td>com.android.packageinstaller.InstallAppProgress</td>\n",
       "      <td>com.android.packageinstaller</td>\n",
       "      <td>u44</td>\n",
       "      <td>2013-03-24</td>\n",
       "      <td>night</td>\n",
       "    </tr>\n",
       "    <tr>\n",
       "      <th>2</th>\n",
       "      <td>5426a149-25fb-4688-b3eb-5d707f8b76bb-19</td>\n",
       "      <td>2de1b6fd-f0e6-43e2-b63f-83458da3bf6e</td>\n",
       "      <td>2013-03-24 05:14:50</td>\n",
       "      <td>com.android.launcher2.Launcher</td>\n",
       "      <td>com.android.launcher</td>\n",
       "      <td>3</td>\n",
       "      <td>1</td>\n",
       "      <td>1</td>\n",
       "      <td>com.android.launcher2.Launcher</td>\n",
       "      <td>com.android.launcher</td>\n",
       "      <td>u44</td>\n",
       "      <td>2013-03-24</td>\n",
       "      <td>night</td>\n",
       "    </tr>\n",
       "  </tbody>\n",
       "</table>\n",
       "</div>"
      ],
      "text/plain": [
       "                                        id  \\\n",
       "0  5426a149-25fb-4688-b3eb-5d707f8b76bb-19   \n",
       "1  5426a149-25fb-4688-b3eb-5d707f8b76bb-19   \n",
       "2  5426a149-25fb-4688-b3eb-5d707f8b76bb-19   \n",
       "\n",
       "                                 device           timestamp  \\\n",
       "0  2de1b6fd-f0e6-43e2-b63f-83458da3bf6e 2013-03-24 05:14:50   \n",
       "1  2de1b6fd-f0e6-43e2-b63f-83458da3bf6e 2013-03-24 05:14:50   \n",
       "2  2de1b6fd-f0e6-43e2-b63f-83458da3bf6e 2013-03-24 05:14:50   \n",
       "\n",
       "                   RUNNING_TASKS_baseActivity_mClass  \\\n",
       "0                    org.bewellapp.dashBoardActivity   \n",
       "1  com.google.android.gm.ConversationListActivity...   \n",
       "2                     com.android.launcher2.Launcher   \n",
       "\n",
       "  RUNNING_TASKS_baseActivity_mPackage  RUNNING_TASKS_id  \\\n",
       "0                       org.bewellapp                 8   \n",
       "1               com.google.android.gm                 5   \n",
       "2                com.android.launcher                 3   \n",
       "\n",
       "   RUNNING_TASKS_numActivities  RUNNING_TASKS_numRunning  \\\n",
       "0                            1                         1   \n",
       "1                            2                         2   \n",
       "2                            1                         1   \n",
       "\n",
       "                  RUNNING_TASKS_topActivity_mClass  \\\n",
       "0                  org.bewellapp.dashBoardActivity   \n",
       "1  com.android.packageinstaller.InstallAppProgress   \n",
       "2                   com.android.launcher2.Launcher   \n",
       "\n",
       "  RUNNING_TASKS_topActivity_mPackage  uid        date time_interval  \n",
       "0                      org.bewellapp  u44  2013-03-24         night  \n",
       "1       com.android.packageinstaller  u44  2013-03-24         night  \n",
       "2               com.android.launcher  u44  2013-03-24         night  "
      ]
     },
     "execution_count": 8,
     "metadata": {},
     "output_type": "execute_result"
    }
   ],
   "source": [
    "morning_start_time = time(6, 0, 0)     # 6:00 AM\n",
    "afternoon_start_time = time(12, 0, 0)  # 12:00 PM\n",
    "evening_start_time = time(18, 0, 0)    # 6:00 PM\n",
    "night_start_time = time(0, 0, 0)       # 12:00 AM (midnight)\n",
    "\n",
    "combined_df['timestamp'] = pd.to_datetime(combined_df['timestamp'])\n",
    "combined_df['time'] = combined_df['timestamp'].dt.time\n",
    "\n",
    "def categorize_time_interval(timestamp):\n",
    "    current_time = timestamp.time()\n",
    "    \n",
    "    if morning_start_time <= current_time < afternoon_start_time:\n",
    "        return \"morning\"\n",
    "    elif afternoon_start_time <= current_time < evening_start_time:\n",
    "        return \"afternoon\"\n",
    "    elif evening_start_time <= current_time <= time(23, 59, 59):\n",
    "        return \"evening\"\n",
    "    else:\n",
    "        return \"night\"\n",
    "\n",
    "combined_df['time_interval'] = combined_df['timestamp'].apply(categorize_time_interval)\n",
    "combined_df = combined_df.drop(\"time\", axis=1)\n",
    "combined_df.head(3)"
   ]
  },
  {
   "cell_type": "code",
   "execution_count": 9,
   "id": "98e6e55f",
   "metadata": {},
   "outputs": [
    {
     "data": {
      "text/plain": [
       "id                                     0\n",
       "device                                 0\n",
       "timestamp                              0\n",
       "RUNNING_TASKS_baseActivity_mClass      0\n",
       "RUNNING_TASKS_baseActivity_mPackage    0\n",
       "RUNNING_TASKS_id                       0\n",
       "RUNNING_TASKS_numActivities            0\n",
       "RUNNING_TASKS_numRunning               0\n",
       "RUNNING_TASKS_topActivity_mClass       0\n",
       "RUNNING_TASKS_topActivity_mPackage     0\n",
       "uid                                    0\n",
       "date                                   0\n",
       "time_interval                          0\n",
       "dtype: int64"
      ]
     },
     "execution_count": 9,
     "metadata": {},
     "output_type": "execute_result"
    }
   ],
   "source": [
    "combined_df.isnull().sum()"
   ]
  },
  {
   "cell_type": "code",
   "execution_count": 10,
   "id": "3ccca6c9",
   "metadata": {},
   "outputs": [],
   "source": [
    "def calculate_app_information(uid, combined_df):\n",
    "    user_data = combined_df[combined_df['uid'] == uid]\n",
    "    \n",
    "    app_info = []\n",
    "    \n",
    "    grouped_by_date = user_data.groupby('date')\n",
    "    \n",
    "    for date, group in grouped_by_date:\n",
    "        sum_app_morning = 0\n",
    "        sum_app_afternoon = 0\n",
    "        sum_app_evening = 0\n",
    "        sum_app_night = 0\n",
    "        \n",
    "        grouped_by_time_interval = group.groupby('time_interval')\n",
    "        \n",
    "        for time_interval, time_interval_group in grouped_by_time_interval:\n",
    "            sum_app_interval = time_interval_group['RUNNING_TASKS_id'].nunique()\n",
    "            \n",
    "            if time_interval == 'morning':\n",
    "                sum_app_morning = sum_app_interval\n",
    "            elif time_interval == 'afternoon':\n",
    "                sum_app_afternoon = sum_app_interval\n",
    "            elif time_interval == 'evening':\n",
    "                sum_app_evening = sum_app_interval\n",
    "            elif time_interval == 'night':\n",
    "                sum_app_night = sum_app_interval\n",
    "        \n",
    "        app_info.append([uid, date, sum_app_morning, sum_app_afternoon, sum_app_evening, sum_app_night])\n",
    "    \n",
    "    columns = ['uid', 'date', 'app usage in morning', 'app usage in afternoon', 'app usage in evening', 'app usage in night']\n",
    "    result_df = pd.DataFrame(app_info, columns=columns)\n",
    "    \n",
    "    return result_df\n"
   ]
  },
  {
   "cell_type": "code",
   "execution_count": 11,
   "id": "be97b7d1",
   "metadata": {},
   "outputs": [],
   "source": [
    "df_data_app = DataFrame()"
   ]
  },
  {
   "cell_type": "code",
   "execution_count": 12,
   "id": "4ac6f707",
   "metadata": {},
   "outputs": [
    {
     "name": "stderr",
     "output_type": "stream",
     "text": [
      "  2%|▉                                           | 1/49 [00:00<00:05,  9.01it/s]"
     ]
    },
    {
     "name": "stdout",
     "output_type": "stream",
     "text": [
      "u00\n",
      "u01\n",
      "u02\n"
     ]
    },
    {
     "name": "stderr",
     "output_type": "stream",
     "text": [
      " 10%|████▍                                       | 5/49 [00:00<00:03, 11.14it/s]"
     ]
    },
    {
     "name": "stdout",
     "output_type": "stream",
     "text": [
      "u03\n",
      "u04\n",
      "u05\n",
      "u07\n"
     ]
    },
    {
     "name": "stderr",
     "output_type": "stream",
     "text": [
      " 18%|████████                                    | 9/49 [00:00<00:03, 11.12it/s]"
     ]
    },
    {
     "name": "stdout",
     "output_type": "stream",
     "text": [
      "u08\n",
      "u09\n",
      "u10\n"
     ]
    },
    {
     "name": "stderr",
     "output_type": "stream",
     "text": [
      " 22%|█████████▋                                 | 11/49 [00:01<00:03, 10.90it/s]"
     ]
    },
    {
     "name": "stdout",
     "output_type": "stream",
     "text": [
      "u12\n",
      "u13\n",
      "u14\n"
     ]
    },
    {
     "name": "stderr",
     "output_type": "stream",
     "text": [
      " 31%|█████████████▏                             | 15/49 [00:01<00:02, 11.39it/s]"
     ]
    },
    {
     "name": "stdout",
     "output_type": "stream",
     "text": [
      "u15\n",
      "u16\n",
      "u17\n",
      "u18\n"
     ]
    },
    {
     "name": "stderr",
     "output_type": "stream",
     "text": [
      " 39%|████████████████▋                          | 19/49 [00:01<00:02, 11.15it/s]"
     ]
    },
    {
     "name": "stdout",
     "output_type": "stream",
     "text": [
      "u19\n",
      "u20\n",
      "u22\n"
     ]
    },
    {
     "name": "stderr",
     "output_type": "stream",
     "text": [
      " 47%|████████████████████▏                      | 23/49 [00:02<00:02, 11.86it/s]"
     ]
    },
    {
     "name": "stdout",
     "output_type": "stream",
     "text": [
      "u23\n",
      "u24\n",
      "u25\n",
      "u27\n"
     ]
    },
    {
     "name": "stderr",
     "output_type": "stream",
     "text": [
      " 51%|█████████████████████▉                     | 25/49 [00:02<00:02, 11.67it/s]"
     ]
    },
    {
     "name": "stdout",
     "output_type": "stream",
     "text": [
      "u30\n",
      "u31\n",
      "u32\n"
     ]
    },
    {
     "name": "stderr",
     "output_type": "stream",
     "text": [
      " 59%|█████████████████████████▍                 | 29/49 [00:02<00:01, 11.40it/s]"
     ]
    },
    {
     "name": "stdout",
     "output_type": "stream",
     "text": [
      "u33\n",
      "u34\n",
      "u35\n"
     ]
    },
    {
     "name": "stderr",
     "output_type": "stream",
     "text": [
      " 67%|████████████████████████████▉              | 33/49 [00:02<00:01, 11.92it/s]"
     ]
    },
    {
     "name": "stdout",
     "output_type": "stream",
     "text": [
      "u36\n",
      "u39\n",
      "u41\n",
      "u42\n"
     ]
    },
    {
     "name": "stderr",
     "output_type": "stream",
     "text": [
      " 76%|████████████████████████████████▍          | 37/49 [00:03<00:00, 12.05it/s]"
     ]
    },
    {
     "name": "stdout",
     "output_type": "stream",
     "text": [
      "u43\n",
      "u44\n",
      "u45\n",
      "u46\n"
     ]
    },
    {
     "name": "stderr",
     "output_type": "stream",
     "text": [
      " 84%|███████████████████████████████████▉       | 41/49 [00:03<00:00, 12.05it/s]"
     ]
    },
    {
     "name": "stdout",
     "output_type": "stream",
     "text": [
      "u47\n",
      "u49\n",
      "u50\n",
      "u51\n"
     ]
    },
    {
     "name": "stderr",
     "output_type": "stream",
     "text": [
      " 88%|█████████████████████████████████████▋     | 43/49 [00:03<00:00, 11.83it/s]"
     ]
    },
    {
     "name": "stdout",
     "output_type": "stream",
     "text": [
      "u52\n",
      "u53\n",
      "u54\n"
     ]
    },
    {
     "name": "stderr",
     "output_type": "stream",
     "text": [
      " 96%|█████████████████████████████████████████▏ | 47/49 [00:04<00:00, 11.65it/s]"
     ]
    },
    {
     "name": "stdout",
     "output_type": "stream",
     "text": [
      "u56\n",
      "u57\n",
      "u58\n",
      "u59\n"
     ]
    },
    {
     "name": "stderr",
     "output_type": "stream",
     "text": [
      "100%|███████████████████████████████████████████| 49/49 [00:04<00:00, 11.51it/s]\n"
     ]
    }
   ],
   "source": [
    "for uid in tqdm(student_uid):\n",
    "    print(uid)\n",
    "    df = calculate_app_information(uid, combined_df)\n",
    "    frames = [df_data_app, df]\n",
    "    df_data_app = pd.concat(frames, ignore_index=True)"
   ]
  },
  {
   "cell_type": "code",
   "execution_count": 13,
   "id": "10755ca4",
   "metadata": {},
   "outputs": [],
   "source": [
    "df_data_app.to_csv('recreaing_social_appusage_features.csv')"
   ]
  },
  {
   "cell_type": "code",
   "execution_count": null,
   "id": "94e8f1f0",
   "metadata": {},
   "outputs": [],
   "source": []
  }
 ],
 "metadata": {
  "kernelspec": {
   "display_name": "Python 3 (ipykernel)",
   "language": "python",
   "name": "python3"
  },
  "language_info": {
   "codemirror_mode": {
    "name": "ipython",
    "version": 3
   },
   "file_extension": ".py",
   "mimetype": "text/x-python",
   "name": "python",
   "nbconvert_exporter": "python",
   "pygments_lexer": "ipython3",
   "version": "3.10.8"
  }
 },
 "nbformat": 4,
 "nbformat_minor": 5
}
