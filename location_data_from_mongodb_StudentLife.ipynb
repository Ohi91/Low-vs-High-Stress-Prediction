{
 "cells": [
  {
   "cell_type": "code",
   "execution_count": 1,
   "id": "ac57d5cd",
   "metadata": {},
   "outputs": [
    {
     "name": "stderr",
     "output_type": "stream",
     "text": [
      "/opt/anaconda3/envs/finding_insights_data/lib/python3.9/site-packages/scipy/__init__.py:146: UserWarning: A NumPy version >=1.16.5 and <1.23.0 is required for this version of SciPy (detected version 1.23.5\n",
      "  warnings.warn(f\"A NumPy version >={np_minversion} and <{np_maxversion}\"\n"
     ]
    },
    {
     "name": "stdout",
     "output_type": "stream",
     "text": [
      "['/Users/ohidabinteamin/Documents/Stress Prediction Project Three Datasets/StudentLife/week 01/Location', '/opt/anaconda3/envs/finding_insights_data/lib/python39.zip', '/opt/anaconda3/envs/finding_insights_data/lib/python3.9', '/opt/anaconda3/envs/finding_insights_data/lib/python3.9/lib-dynload', '', '/opt/anaconda3/envs/finding_insights_data/lib/python3.9/site-packages']\n",
      "['/Users/ohidabinteamin/Documents/Stress Prediction Project Three Datasets/StudentLife/week 01/Location', '/opt/anaconda3/envs/finding_insights_data/lib/python39.zip', '/opt/anaconda3/envs/finding_insights_data/lib/python3.9', '/opt/anaconda3/envs/finding_insights_data/lib/python3.9/lib-dynload', '', '/opt/anaconda3/envs/finding_insights_data/lib/python3.9/site-packages']\n"
     ]
    }
   ],
   "source": [
    "import pandas as pd\n",
    "from sklearn.neighbors import NearestNeighbors\n",
    "import numpy as np\n",
    "from math import *\n",
    "from shapely.geometry import Point, Polygon\n",
    "import geopandas as gpd\n",
    "import sys\n",
    "print(sys.path)\n",
    "import math\n",
    "from tqdm import tqdm\n",
    "from pandas import DataFrame\n",
    "import matplotlib.pyplot as plt\n",
    "from scipy.signal import find_peaks\n",
    "from kneed import KneeLocator\n",
    "from sklearn.neighbors import NearestNeighbors, KDTree\n",
    "from sklearn.cluster import DBSCAN\n",
    "import matplotlib.pyplot as plt\n",
    "from threadpoolctl import threadpool_limits\n",
    "\n",
    "import pymongo\n",
    "import json\n",
    "import pandas as pd\n",
    "from datetime import datetime, timedelta\n",
    "from pandas import DataFrame\n",
    "import matplotlib.pyplot as plt\n",
    "from datetime import time\n",
    "from tqdm import tqdm\n",
    "\n",
    "from math import *\n",
    "from shapely.geometry import Point, Polygon\n",
    "import geopandas as gpd\n",
    "import sys\n",
    "print(sys.path)\n",
    "import math\n",
    "from pandas import DataFrame\n",
    "import matplotlib.pyplot as plt\n",
    "from scipy.signal import find_peaks\n",
    "from kneed import KneeLocator\n",
    "from sklearn.neighbors import KDTree\n",
    "from sklearn.cluster import DBSCAN"
   ]
  },
  {
   "cell_type": "code",
   "execution_count": 2,
   "id": "a1ef2261",
   "metadata": {},
   "outputs": [],
   "source": [
    "myclient = pymongo.MongoClient(\"mongodb://localhost:27017/\")\n",
    "mydb = myclient[\"studentlife\"]"
   ]
  },
  {
   "cell_type": "code",
   "execution_count": 3,
   "id": "c535780a",
   "metadata": {},
   "outputs": [
    {
     "name": "stdout",
     "output_type": "stream",
     "text": [
      "49\n"
     ]
    }
   ],
   "source": [
    "student_uids = ['u00', 'u01', 'u02', 'u03', 'u04', 'u05', 'u07', 'u08', 'u09', 'u10', 'u12', 'u13', 'u14', 'u15', 'u16',\n",
    "                'u17', 'u18', 'u19', 'u20', 'u22', 'u23', 'u24', 'u25', 'u27', 'u30', 'u31', 'u32', 'u33', 'u34', 'u35',\n",
    "                'u36', 'u39', 'u41', 'u42', 'u43', 'u44', 'u45', 'u46', 'u47', 'u49', 'u50', 'u51', 'u52', 'u53', 'u54',\n",
    "                'u56', 'u57', 'u58', 'u59']\n",
    "print(len(student_uids))"
   ]
  },
  {
   "cell_type": "code",
   "execution_count": 4,
   "id": "d4f104e6",
   "metadata": {},
   "outputs": [],
   "source": [
    "df_gps = mydb.gps\n",
    "df_gps = DataFrame(list(df_gps.find()))\n",
    "df_gps = df_gps.drop(\"_id\", axis=1)\n",
    "\n",
    "df_gps = df_gps[[\"uid\", \"timestamp\", \"latitude\", \"longitude\"]]"
   ]
  },
  {
   "cell_type": "code",
   "execution_count": 5,
   "id": "aee7e002",
   "metadata": {},
   "outputs": [
    {
     "data": {
      "text/html": [
       "<div>\n",
       "<style scoped>\n",
       "    .dataframe tbody tr th:only-of-type {\n",
       "        vertical-align: middle;\n",
       "    }\n",
       "\n",
       "    .dataframe tbody tr th {\n",
       "        vertical-align: top;\n",
       "    }\n",
       "\n",
       "    .dataframe thead th {\n",
       "        text-align: right;\n",
       "    }\n",
       "</style>\n",
       "<table border=\"1\" class=\"dataframe\">\n",
       "  <thead>\n",
       "    <tr style=\"text-align: right;\">\n",
       "      <th></th>\n",
       "      <th>uid</th>\n",
       "      <th>timestamp</th>\n",
       "      <th>latitude</th>\n",
       "      <th>longitude</th>\n",
       "    </tr>\n",
       "  </thead>\n",
       "  <tbody>\n",
       "    <tr>\n",
       "      <th>0</th>\n",
       "      <td>u45</td>\n",
       "      <td>1364410654</td>\n",
       "      <td>43.7066051</td>\n",
       "      <td>-72.2870424</td>\n",
       "    </tr>\n",
       "    <tr>\n",
       "      <th>1</th>\n",
       "      <td>u45</td>\n",
       "      <td>1364411866</td>\n",
       "      <td>43.7065982</td>\n",
       "      <td>-72.2870054</td>\n",
       "    </tr>\n",
       "    <tr>\n",
       "      <th>2</th>\n",
       "      <td>u45</td>\n",
       "      <td>1364852743</td>\n",
       "      <td>43.706614</td>\n",
       "      <td>-72.2870392</td>\n",
       "    </tr>\n",
       "  </tbody>\n",
       "</table>\n",
       "</div>"
      ],
      "text/plain": [
       "   uid   timestamp    latitude    longitude\n",
       "0  u45  1364410654  43.7066051  -72.2870424\n",
       "1  u45  1364411866  43.7065982  -72.2870054\n",
       "2  u45  1364852743   43.706614  -72.2870392"
      ]
     },
     "execution_count": 5,
     "metadata": {},
     "output_type": "execute_result"
    }
   ],
   "source": [
    "df_gps.head(3)"
   ]
  },
  {
   "cell_type": "code",
   "execution_count": 6,
   "id": "413e6825",
   "metadata": {},
   "outputs": [],
   "source": [
    "# morning (6 am - 12 pm) \n",
    "# afternoon (12 pm - 6 pm) \n",
    "# evening (6 pm - 12 am) \n",
    "# night (12 am - 6 am) "
   ]
  },
  {
   "cell_type": "code",
   "execution_count": 7,
   "id": "4d5e987d",
   "metadata": {},
   "outputs": [],
   "source": [
    "df_gps['timestamp'] = pd.to_datetime(df_gps['timestamp'], unit='s')\n",
    "df_gps['date'] = df_gps['timestamp'].dt.strftime('%Y-%m-%d')\n",
    "df_gps['timestamp'] = df_gps['timestamp'].dt.strftime('%Y-%m-%d %H:%M:%S')"
   ]
  },
  {
   "cell_type": "code",
   "execution_count": 8,
   "id": "0239e5e4",
   "metadata": {},
   "outputs": [
    {
     "data": {
      "text/html": [
       "<div>\n",
       "<style scoped>\n",
       "    .dataframe tbody tr th:only-of-type {\n",
       "        vertical-align: middle;\n",
       "    }\n",
       "\n",
       "    .dataframe tbody tr th {\n",
       "        vertical-align: top;\n",
       "    }\n",
       "\n",
       "    .dataframe thead th {\n",
       "        text-align: right;\n",
       "    }\n",
       "</style>\n",
       "<table border=\"1\" class=\"dataframe\">\n",
       "  <thead>\n",
       "    <tr style=\"text-align: right;\">\n",
       "      <th></th>\n",
       "      <th>uid</th>\n",
       "      <th>timestamp</th>\n",
       "      <th>latitude</th>\n",
       "      <th>longitude</th>\n",
       "      <th>date</th>\n",
       "      <th>time_interval</th>\n",
       "    </tr>\n",
       "  </thead>\n",
       "  <tbody>\n",
       "    <tr>\n",
       "      <th>0</th>\n",
       "      <td>u45</td>\n",
       "      <td>2013-03-27 18:57:34</td>\n",
       "      <td>43.7066051</td>\n",
       "      <td>-72.2870424</td>\n",
       "      <td>2013-03-27</td>\n",
       "      <td>evening</td>\n",
       "    </tr>\n",
       "    <tr>\n",
       "      <th>1</th>\n",
       "      <td>u45</td>\n",
       "      <td>2013-03-27 19:17:46</td>\n",
       "      <td>43.7065982</td>\n",
       "      <td>-72.2870054</td>\n",
       "      <td>2013-03-27</td>\n",
       "      <td>evening</td>\n",
       "    </tr>\n",
       "    <tr>\n",
       "      <th>2</th>\n",
       "      <td>u45</td>\n",
       "      <td>2013-04-01 21:45:43</td>\n",
       "      <td>43.706614</td>\n",
       "      <td>-72.2870392</td>\n",
       "      <td>2013-04-01</td>\n",
       "      <td>evening</td>\n",
       "    </tr>\n",
       "  </tbody>\n",
       "</table>\n",
       "</div>"
      ],
      "text/plain": [
       "   uid           timestamp    latitude    longitude        date time_interval\n",
       "0  u45 2013-03-27 18:57:34  43.7066051  -72.2870424  2013-03-27       evening\n",
       "1  u45 2013-03-27 19:17:46  43.7065982  -72.2870054  2013-03-27       evening\n",
       "2  u45 2013-04-01 21:45:43   43.706614  -72.2870392  2013-04-01       evening"
      ]
     },
     "execution_count": 8,
     "metadata": {},
     "output_type": "execute_result"
    }
   ],
   "source": [
    "morning_start_time = time(6, 0, 0)     # 6:00 AM\n",
    "afternoon_start_time = time(12, 0, 0)  # 12:00 PM\n",
    "evening_start_time = time(18, 0, 0)    # 6:00 PM\n",
    "night_start_time = time(0, 0, 0)       # 12:00 AM (midnight)\n",
    "\n",
    "df_gps['timestamp'] = pd.to_datetime(df_gps['timestamp'])\n",
    "df_gps['time'] = df_gps['timestamp'].dt.time\n",
    "\n",
    "def categorize_time_interval(timestamp):\n",
    "    current_time = timestamp.time()\n",
    "    \n",
    "    if morning_start_time <= current_time < afternoon_start_time:\n",
    "        return \"morning\"\n",
    "    elif afternoon_start_time <= current_time < evening_start_time:\n",
    "        return \"afternoon\"\n",
    "    elif evening_start_time <= current_time <= time(23, 59, 59):\n",
    "        return \"evening\"\n",
    "    else:\n",
    "        return \"night\"\n",
    "\n",
    "df_gps['time_interval'] = df_gps['timestamp'].apply(categorize_time_interval)\n",
    "df_gps = df_gps.drop(\"time\", axis=1)\n",
    "df_gps.head(3)"
   ]
  },
  {
   "cell_type": "code",
   "execution_count": 9,
   "id": "b3707a4b",
   "metadata": {},
   "outputs": [
    {
     "name": "stdout",
     "output_type": "stream",
     "text": [
      "49\n"
     ]
    },
    {
     "data": {
      "text/plain": [
       "morning      51198\n",
       "night        51182\n",
       "afternoon    50305\n",
       "evening      50192\n",
       "Name: time_interval, dtype: int64"
      ]
     },
     "execution_count": 9,
     "metadata": {},
     "output_type": "execute_result"
    }
   ],
   "source": [
    "print(len(df_gps['uid'].unique()))\n",
    "df_gps['time_interval'].value_counts()"
   ]
  },
  {
   "cell_type": "code",
   "execution_count": 10,
   "id": "48eae22a",
   "metadata": {},
   "outputs": [],
   "source": [
    "df_gps.isnull().sum()\n",
    "df_gps.to_csv('StudentLife_location_data.csv')"
   ]
  },
  {
   "cell_type": "code",
   "execution_count": 11,
   "id": "ed9b9cb0",
   "metadata": {},
   "outputs": [],
   "source": [
    "# number of different locations visited\n",
    "# variance in time spent at different locations "
   ]
  },
  {
   "cell_type": "code",
   "execution_count": 12,
   "id": "229943c5",
   "metadata": {},
   "outputs": [],
   "source": [
    "# def count_places_visited(df, eps=0.5, min_samples=3):\n",
    "#     results = []\n",
    "#     unique_dates = df['date'].unique()\n",
    "\n",
    "#     for date in unique_dates:\n",
    "#         places_count = {\n",
    "#             'number_places_morning': 0,\n",
    "#             'number_places_afternoon': 0,\n",
    "#             'number_places_evening': 0,\n",
    "#             'number_places_night': 0,\n",
    "#             'time_spent_morning': [],\n",
    "#             'time_spent_afternoon': [],\n",
    "#             'time_spent_evening': [],\n",
    "#             'time_spent_night': [],\n",
    "#             'variance_time_spent_morning': 0,\n",
    "#             'variance_time_spent_afternoon': 0,\n",
    "#             'variance_time_spent_evening': 0,\n",
    "#             'variance_time_spent_night': 0\n",
    "#         }\n",
    "        \n",
    "#         for time_interval in ['morning', 'afternoon', 'evening', 'night']:\n",
    "#             subset = df[(df['date'] == date) & \n",
    "#                         (df['time_interval'] == time_interval)].copy()\n",
    "            \n",
    "#             if not subset.empty:\n",
    "#                 coords = subset[['latitude', 'longitude']].values\n",
    "#                 db = DBSCAN(eps=eps, min_samples=min_samples).fit(coords)\n",
    "#                 labels = db.labels_\n",
    "#                 unique_labels = set(labels)\n",
    "                \n",
    "#                 num_places = len(unique_labels) - (1 if -1 in unique_labels else 0)\n",
    "#                 places_count[f'number_places_{time_interval}'] = num_places\n",
    "\n",
    "#                 # time spent at each location\n",
    "#                 for label in unique_labels:\n",
    "#                     if label != -1:\n",
    "#                         location_subset = subset[labels == label].sort_values(by='timestamp')\n",
    "#                         time_spent = 0\n",
    "                        \n",
    "#                         for i in range(len(location_subset) - 1):\n",
    "#                             if labels[i] == labels[i + 1]:\n",
    "#                                 time_spent += (location_subset['timestamp'].iloc[i + 1] - \n",
    "#                                                location_subset['timestamp'].iloc[i]).total_seconds()\n",
    "#                             else:\n",
    "#                                 time_spent += 1\n",
    "\n",
    "#                         time_spent /= 3600  # convert to hours\n",
    "#                         places_count[f'time_spent_{time_interval}'].append(time_spent)\n",
    "\n",
    "#                 # variance in time spent at different locations\n",
    "#                 if places_count[f'time_spent_{time_interval}']:\n",
    "#                     places_count[f'variance_time_spent_{time_interval}'] = np.var(places_count[f'time_spent_{time_interval}'])\n",
    "#             else:\n",
    "#                 places_count[f'number_places_{time_interval}'] = 0\n",
    "#                 places_count[f'variance_time_spent_{time_interval}'] = 0\n",
    "        \n",
    "#         results.append({\n",
    "#             'uid': df['uid'].iloc[0],\n",
    "#             'date': date,\n",
    "#             **places_count\n",
    "#         })\n",
    "        \n",
    "#     results_df = pd.DataFrame(results)\n",
    "#     del results_df['time_spent_morning']\n",
    "#     del results_df['time_spent_afternoon']\n",
    "#     del results_df['time_spent_evening']\n",
    "#     del results_df['time_spent_night']\n",
    "    \n",
    "#     return results_df"
   ]
  },
  {
   "cell_type": "code",
   "execution_count": 13,
   "id": "05de8f35",
   "metadata": {},
   "outputs": [],
   "source": [
    "# result_1 = DataFrame()\n",
    "\n",
    "# for uid in tqdm(student_uids):\n",
    "#     print(uid)\n",
    "#     df_ = df_gps[df_gps['uid'] == uid]\n",
    "#     df__ = count_places_visited(df_)\n",
    "#     frames = [result_1, df__]\n",
    "#     result_1 = pd.concat(frames, ignore_index=True)"
   ]
  },
  {
   "cell_type": "code",
   "execution_count": null,
   "id": "5e0b1287",
   "metadata": {},
   "outputs": [],
   "source": []
  }
 ],
 "metadata": {
  "kernelspec": {
   "display_name": "Python 3 (ipykernel)",
   "language": "python",
   "name": "python3"
  },
  "language_info": {
   "codemirror_mode": {
    "name": "ipython",
    "version": 3
   },
   "file_extension": ".py",
   "mimetype": "text/x-python",
   "name": "python",
   "nbconvert_exporter": "python",
   "pygments_lexer": "ipython3",
   "version": "3.9.17"
  }
 },
 "nbformat": 4,
 "nbformat_minor": 5
}
