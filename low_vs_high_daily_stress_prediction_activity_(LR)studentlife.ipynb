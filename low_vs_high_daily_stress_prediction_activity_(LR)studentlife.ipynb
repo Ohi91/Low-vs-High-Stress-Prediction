{
 "cells": [
  {
   "cell_type": "code",
   "execution_count": 1,
   "id": "d89fb590",
   "metadata": {},
   "outputs": [],
   "source": [
    "import numpy as np\n",
    "import pandas as pd\n",
    "from tqdm import tqdm\n",
    "import tensorflow as tf\n",
    "from sklearn.model_selection import train_test_split\n",
    "from sklearn.preprocessing import LabelEncoder\n",
    "from sklearn.preprocessing import StandardScaler\n",
    "from sklearn.preprocessing import MinMaxScaler\n",
    "from sklearn.linear_model import LogisticRegression\n",
    "from sklearn.feature_selection import RFE\n",
    "\n",
    "from sklearn.metrics import confusion_matrix\n",
    "from keras.layers import Dense, Activation, Dropout\n",
    "from sklearn.metrics import classification_report\n",
    "from keras.models import Sequential\n",
    "from keras.utils import to_categorical\n",
    "from sklearn.metrics import f1_score\n",
    "import matplotlib.pyplot as plt\n",
    "import seaborn as sns\n",
    "import random\n",
    "\n",
    "from imblearn.under_sampling import RandomUnderSampler\n",
    "from sklearn.utils.class_weight import compute_class_weight\n",
    "from sklearn.ensemble import RandomForestClassifier\n",
    "from sklearn.metrics import balanced_accuracy_score, roc_auc_score\n",
    "from imblearn.over_sampling import RandomOverSampler\n",
    "from sklearn.model_selection import GridSearchCV\n",
    "\n",
    "from tensorflow.keras import backend as K\n",
    "from tensorflow.keras.layers import Dense, Dropout\n",
    "from tensorflow.keras.optimizers import Adam\n",
    "from sklearn.metrics import balanced_accuracy_score, roc_auc_score\n",
    "from sklearn.model_selection import LeaveOneGroupOut\n",
    "from sklearn.utils.class_weight import compute_class_weight\n",
    "from itertools import combinations\n",
    "import joblib"
   ]
  },
  {
   "cell_type": "code",
   "execution_count": 2,
   "id": "a13de8f6",
   "metadata": {},
   "outputs": [],
   "source": [
    "df1 = pd.read_csv('/Users/ohidabinteamin/Documents/Stress Prediction Project Three Datasets/StudentLife/week 01/Android_Activity/raw_activity_features_studentlife.csv')\n",
    "df1 = df1.rename(columns={'Date': 'date'})\n",
    "df1 = df1.drop('Unnamed: 0', axis=1)\n",
    "df2 = pd.read_csv('/Users/ohidabinteamin/Documents/Stress Prediction Project Three Datasets/StudentLife/week 01/Stress/recreating_dailystress_features.csv')\n",
    "df2 = df2.drop('Unnamed: 0', axis=1)"
   ]
  },
  {
   "cell_type": "code",
   "execution_count": 3,
   "id": "8790dc02",
   "metadata": {},
   "outputs": [
    {
     "name": "stdout",
     "output_type": "stream",
     "text": [
      "Index(['uid', 'date', 'stationary_duration_morning',\n",
      "       'walking_duration_morning', 'running_duration_morning',\n",
      "       'unknown_duration_morning', 'stationary_duration_afternoon',\n",
      "       'walking_duration_afternoon', 'running_duration_afternoon',\n",
      "       'unknown_duration_afternoon', 'stationary_duration_evening',\n",
      "       'walking_duration_evening', 'running_duration_evening',\n",
      "       'unknown_duration_evening', 'stationary_duration_night',\n",
      "       'walking_duration_night', 'running_duration_night',\n",
      "       'unknown_duration_night', 'stress_ratings'],\n",
      "      dtype='object')\n"
     ]
    }
   ],
   "source": [
    "df = pd.merge(df1, df2, on=['uid', 'date'])\n",
    "print(df.columns)\n",
    "\n",
    "df = df.sort_values(by='date')"
   ]
  },
  {
   "cell_type": "code",
   "execution_count": 4,
   "id": "88641721-82da-42c7-b187-a673a82f011c",
   "metadata": {},
   "outputs": [
    {
     "data": {
      "text/plain": [
       "uid                              0\n",
       "date                             0\n",
       "stationary_duration_morning      0\n",
       "walking_duration_morning         0\n",
       "running_duration_morning         0\n",
       "unknown_duration_morning         0\n",
       "stationary_duration_afternoon    0\n",
       "walking_duration_afternoon       0\n",
       "running_duration_afternoon       0\n",
       "unknown_duration_afternoon       0\n",
       "stationary_duration_evening      0\n",
       "walking_duration_evening         0\n",
       "running_duration_evening         0\n",
       "unknown_duration_evening         0\n",
       "stationary_duration_night        0\n",
       "walking_duration_night           0\n",
       "running_duration_night           0\n",
       "unknown_duration_night           0\n",
       "stress_ratings                   0\n",
       "dtype: int64"
      ]
     },
     "execution_count": 4,
     "metadata": {},
     "output_type": "execute_result"
    }
   ],
   "source": [
    "df.isnull().sum()"
   ]
  },
  {
   "cell_type": "code",
   "execution_count": 5,
   "id": "576bb6e1-ad0a-4d6c-9768-5a7a30b1dfa6",
   "metadata": {},
   "outputs": [
    {
     "name": "stdout",
     "output_type": "stream",
     "text": [
      "1216\n"
     ]
    }
   ],
   "source": [
    "df = df.dropna()\n",
    "print(len(df))"
   ]
  },
  {
   "cell_type": "code",
   "execution_count": 6,
   "id": "1b2f78a1-7383-4c8c-846c-06763e97ab60",
   "metadata": {},
   "outputs": [
    {
     "data": {
      "text/plain": [
       "Index(['uid', 'date', 'stationary_duration_morning',\n",
       "       'walking_duration_morning', 'running_duration_morning',\n",
       "       'unknown_duration_morning', 'stationary_duration_afternoon',\n",
       "       'walking_duration_afternoon', 'running_duration_afternoon',\n",
       "       'unknown_duration_afternoon', 'stationary_duration_evening',\n",
       "       'walking_duration_evening', 'running_duration_evening',\n",
       "       'unknown_duration_evening', 'stationary_duration_night',\n",
       "       'walking_duration_night', 'running_duration_night',\n",
       "       'unknown_duration_night', 'stress_ratings'],\n",
       "      dtype='object')"
      ]
     },
     "execution_count": 6,
     "metadata": {},
     "output_type": "execute_result"
    }
   ],
   "source": [
    "df.columns"
   ]
  },
  {
   "cell_type": "code",
   "execution_count": 7,
   "id": "a5032380-a9b2-4dc8-b42d-3e3a5b632093",
   "metadata": {},
   "outputs": [
    {
     "data": {
      "text/plain": [
       "19"
      ]
     },
     "execution_count": 7,
     "metadata": {},
     "output_type": "execute_result"
    }
   ],
   "source": [
    "len(df.columns)"
   ]
  },
  {
   "cell_type": "code",
   "execution_count": 8,
   "id": "637f66c7-2809-40a4-abc0-702c72e594a1",
   "metadata": {},
   "outputs": [
    {
     "data": {
      "text/plain": [
       "stress_ratings\n",
       "medium stress    484\n",
       "low stress       366\n",
       "high stress      366\n",
       "Name: count, dtype: int64"
      ]
     },
     "execution_count": 8,
     "metadata": {},
     "output_type": "execute_result"
    }
   ],
   "source": [
    "df['stress_ratings'].value_counts()"
   ]
  },
  {
   "cell_type": "code",
   "execution_count": 9,
   "id": "05191acb-7624-4e48-9767-a3052e486aa0",
   "metadata": {},
   "outputs": [],
   "source": [
    "binary_lh_data = df[df['stress_ratings'].isin(['low stress', 'high stress'])]"
   ]
  },
  {
   "cell_type": "code",
   "execution_count": 10,
   "id": "6b6d94cc-584a-45ee-b3b8-3d3eaab2c6a5",
   "metadata": {},
   "outputs": [
    {
     "name": "stdout",
     "output_type": "stream",
     "text": [
      "46\n"
     ]
    },
    {
     "data": {
      "text/plain": [
       "uid\n",
       "u59    54\n",
       "u16    47\n",
       "u19    41\n",
       "u49    33\n",
       "u10    29\n",
       "u33    29\n",
       "u04    27\n",
       "u58    26\n",
       "u00    25\n",
       "u57    24\n",
       "u08    23\n",
       "u44    20\n",
       "u43    20\n",
       "u52    20\n",
       "u46    18\n",
       "u32    18\n",
       "u22    17\n",
       "u45    17\n",
       "u35    16\n",
       "u01    14\n",
       "u12    14\n",
       "u51    13\n",
       "u02    13\n",
       "u56    13\n",
       "u36    12\n",
       "u25    12\n",
       "u03    12\n",
       "u07    12\n",
       "u24    11\n",
       "u53    11\n",
       "u30    11\n",
       "u27    10\n",
       "u42    10\n",
       "u14     9\n",
       "u54     9\n",
       "u41     6\n",
       "u31     6\n",
       "u23     6\n",
       "u47     5\n",
       "u18     5\n",
       "u17     4\n",
       "u05     3\n",
       "u34     2\n",
       "u20     2\n",
       "u15     2\n",
       "u09     1\n",
       "Name: count, dtype: int64"
      ]
     },
     "execution_count": 10,
     "metadata": {},
     "output_type": "execute_result"
    }
   ],
   "source": [
    "print(len(binary_lh_data['uid'].unique()))\n",
    "binary_lh_data['uid'].value_counts()"
   ]
  },
  {
   "cell_type": "code",
   "execution_count": 11,
   "id": "373c5b85-dffb-4d9b-a342-65e2525f9b42",
   "metadata": {},
   "outputs": [],
   "source": [
    "# uid_counts = binary_lh_data['uid'].value_counts()\n",
    "# uids_to_keep = uid_counts[uid_counts >= 5].index\n",
    "# binary_lh_data = binary_lh_data[binary_lh_data['uid'].isin(uids_to_keep)]\n",
    "\n",
    "# print('Length of Data: ', len(binary_lh_data))\n",
    "# binary_lh_data = binary_lh_data.sort_values(by=['uid', 'date'])\n",
    "# print(binary_lh_data['uid'].unique())"
   ]
  },
  {
   "cell_type": "code",
   "execution_count": 12,
   "id": "9d3a31f1-a8e0-4bba-8ef1-d18f29836618",
   "metadata": {},
   "outputs": [],
   "source": [
    "X = binary_lh_data.drop(columns=['stress_ratings', 'uid', 'date'])\n",
    "y = binary_lh_data['stress_ratings']\n",
    "groups = binary_lh_data['uid']\n",
    "\n",
    "stress_map = {'low stress': 0, 'high stress': 1}\n",
    "y_encoded = y.map(stress_map).values "
   ]
  },
  {
   "cell_type": "code",
   "execution_count": 13,
   "id": "ab7a26eb-d08f-4420-ad6c-061e2e766686",
   "metadata": {},
   "outputs": [
    {
     "name": "stdout",
     "output_type": "stream",
     "text": [
      "Number of features in X: 16\n"
     ]
    }
   ],
   "source": [
    "print(f\"Number of features in X: {X.shape[1]}\")"
   ]
  },
  {
   "cell_type": "code",
   "execution_count": 14,
   "id": "d30d3ea7-b395-4fcf-ad12-0d03a5fecbba",
   "metadata": {},
   "outputs": [],
   "source": [
    "logo = LeaveOneGroupOut()\n",
    "\n",
    "best_thresholds = []\n",
    "balanced_accs = []\n",
    "auc_scores = []"
   ]
  },
  {
   "cell_type": "code",
   "execution_count": 15,
   "id": "561f903a-6aef-4e34-b406-93ca30bbd5e2",
   "metadata": {},
   "outputs": [],
   "source": [
    "seed_value = 42\n",
    "np.random.seed(seed_value)\n",
    "random.seed(seed_value)\n",
    "tf.random.set_seed(seed_value)"
   ]
  },
  {
   "cell_type": "code",
   "execution_count": 16,
   "id": "14e0b5eb-50c0-48f6-a1a7-eaa67bbfbf2d",
   "metadata": {},
   "outputs": [],
   "source": [
    "param_grid = [\n",
    "    {'C': [0.001, 0.01, 0.1, 1, 10, 100],\n",
    "     'penalty': ['l2'],\n",
    "     'solver': ['newton-cg', 'lbfgs', 'sag']},\n",
    "    {'C': [0.001, 0.01, 0.1, 1, 10, 100],\n",
    "     'penalty': ['l1', 'l2'],\n",
    "     'solver': ['liblinear']},\n",
    "    {'C': [0.001, 0.01, 0.1, 1, 10, 100],\n",
    "     'l1_ratio': [0.2, 0.5, 0.8],\n",
    "     'penalty': ['elasticnet'],\n",
    "     'solver': ['saga']}\n",
    "]"
   ]
  },
  {
   "cell_type": "code",
   "execution_count": 17,
   "id": "f2be34cb-e293-4beb-828f-71af3e289fb3",
   "metadata": {},
   "outputs": [
    {
     "name": "stdout",
     "output_type": "stream",
     "text": [
      "Selected Features: [ 0  1  2  3  5  6  7  8  9 10 11 12 13 14 15]\n",
      "46\n"
     ]
    },
    {
     "name": "stderr",
     "output_type": "stream",
     "text": [
      "LOSO CV Progress:   0%|                                    | 0/46 [00:00<?]   0%"
     ]
    },
    {
     "name": "stdout",
     "output_type": "stream",
     "text": [
      "X and y train shapes: \n",
      "(707, 15)\n",
      "(707,)\n",
      "X and y test shapes: \n",
      "(25, 15)\n",
      "(25,)\n",
      "Fitting 3 folds for each of 48 candidates, totalling 144 fits\n"
     ]
    },
    {
     "name": "stderr",
     "output_type": "stream",
     "text": [
      "LOSO CV Progress:   2%|▋                               | 1/46 [00:02<01:31]   2%"
     ]
    },
    {
     "name": "stdout",
     "output_type": "stream",
     "text": [
      "AUC Score: 0.6730769230769231\n",
      "Balanced Accuracy: 0.7147435897435898\n",
      "X and y train shapes: \n",
      "(718, 15)\n",
      "(718,)\n",
      "X and y test shapes: \n",
      "(14, 15)\n",
      "(14,)\n",
      "Fitting 3 folds for each of 48 candidates, totalling 144 fits\n"
     ]
    },
    {
     "name": "stderr",
     "output_type": "stream",
     "text": [
      "LOSO CV Progress:   4%|█▎                              | 2/46 [00:03<01:05]   4%"
     ]
    },
    {
     "name": "stdout",
     "output_type": "stream",
     "text": [
      "AUC Score: 0.8\n",
      "Balanced Accuracy: 0.7444444444444445\n",
      "X and y train shapes: \n",
      "(719, 15)\n",
      "(719,)\n",
      "X and y test shapes: \n",
      "(13, 15)\n",
      "(13,)\n",
      "Fitting 3 folds for each of 48 candidates, totalling 144 fits\n"
     ]
    },
    {
     "name": "stderr",
     "output_type": "stream",
     "text": [
      "LOSO CV Progress:   7%|██                              | 3/46 [00:04<01:00]   7%"
     ]
    },
    {
     "name": "stdout",
     "output_type": "stream",
     "text": [
      "AUC Score: 0.925\n",
      "Balanced Accuracy: 0.8125\n",
      "X and y train shapes: \n",
      "(720, 15)\n",
      "(720,)\n",
      "X and y test shapes: \n",
      "(12, 15)\n",
      "(12,)\n",
      "Fitting 3 folds for each of 48 candidates, totalling 144 fits\n"
     ]
    },
    {
     "name": "stderr",
     "output_type": "stream",
     "text": [
      "LOSO CV Progress:   9%|██▋                             | 4/46 [00:05<00:54]   9%"
     ]
    },
    {
     "name": "stdout",
     "output_type": "stream",
     "text": [
      "AUC Score: 0.4285714285714286\n",
      "Balanced Accuracy: 0.7142857142857143\n",
      "X and y train shapes: \n",
      "(705, 15)\n",
      "(705,)\n",
      "X and y test shapes: \n",
      "(27, 15)\n",
      "(27,)\n",
      "Fitting 3 folds for each of 48 candidates, totalling 144 fits\n"
     ]
    },
    {
     "name": "stderr",
     "output_type": "stream",
     "text": [
      "/opt/homebrew/Caskroom/miniforge/base/envs/models_run/lib/python3.10/site-packages/sklearn/linear_model/_sag.py:349: ConvergenceWarning: The max_iter was reached which means the coef_ did not converge\n",
      "  warnings.warn(\n",
      "/opt/homebrew/Caskroom/miniforge/base/envs/models_run/lib/python3.10/site-packages/sklearn/linear_model/_sag.py:349: ConvergenceWarning: The max_iter was reached which means the coef_ did not converge\n",
      "  warnings.warn(\n",
      "/opt/homebrew/Caskroom/miniforge/base/envs/models_run/lib/python3.10/site-packages/sklearn/linear_model/_sag.py:349: ConvergenceWarning: The max_iter was reached which means the coef_ did not converge\n",
      "  warnings.warn(\n",
      "LOSO CV Progress:  11%|███▎                            | 5/46 [00:07<00:54]  11%"
     ]
    },
    {
     "name": "stdout",
     "output_type": "stream",
     "text": [
      "AUC Score: 0.5824175824175825\n",
      "Balanced Accuracy: 0.6043956043956045\n",
      "X and y train shapes: \n",
      "(729, 15)\n",
      "(729,)\n",
      "X and y test shapes: \n",
      "(3, 15)\n",
      "(3,)\n",
      "Fitting 3 folds for each of 48 candidates, totalling 144 fits\n"
     ]
    },
    {
     "name": "stderr",
     "output_type": "stream",
     "text": [
      "LOSO CV Progress:  13%|████                            | 6/46 [00:08<00:53]  13%"
     ]
    },
    {
     "name": "stdout",
     "output_type": "stream",
     "text": [
      "AUC Score: 1.0\n",
      "Balanced Accuracy: 1.0\n",
      "X and y train shapes: \n",
      "(720, 15)\n",
      "(720,)\n",
      "X and y test shapes: \n",
      "(12, 15)\n",
      "(12,)\n",
      "Fitting 3 folds for each of 48 candidates, totalling 144 fits\n"
     ]
    },
    {
     "name": "stderr",
     "output_type": "stream",
     "text": [
      "LOSO CV Progress:  15%|████▋                           | 7/46 [00:09<00:49]  15%"
     ]
    },
    {
     "name": "stdout",
     "output_type": "stream",
     "text": [
      "AUC Score: 0.4285714285714285\n",
      "Balanced Accuracy: 0.5285714285714286\n",
      "X and y train shapes: \n",
      "(709, 15)\n",
      "(709,)\n",
      "X and y test shapes: \n",
      "(23, 15)\n",
      "(23,)\n",
      "Fitting 3 folds for each of 48 candidates, totalling 144 fits\n"
     ]
    },
    {
     "name": "stderr",
     "output_type": "stream",
     "text": [
      "LOSO CV Progress:  17%|█████▍                          | 8/46 [00:10<00:47]  17%"
     ]
    },
    {
     "name": "stdout",
     "output_type": "stream",
     "text": [
      "AUC Score: 0.5666666666666667\n",
      "Balanced Accuracy: 0.6041666666666666\n",
      "X and y train shapes: \n",
      "(731, 15)\n",
      "(731,)\n",
      "X and y test shapes: \n",
      "(1, 15)\n",
      "(1,)\n",
      "Skipping this subject for having single class: y_train = [0 1], y_test = [1]\n",
      "X and y train shapes: \n",
      "(703, 15)\n",
      "(703,)\n",
      "X and y test shapes: \n",
      "(29, 15)\n",
      "(29,)\n",
      "Fitting 3 folds for each of 48 candidates, totalling 144 fits\n"
     ]
    },
    {
     "name": "stderr",
     "output_type": "stream",
     "text": [
      "LOSO CV Progress:  22%|██████▌                        | 10/46 [00:11<00:33]  22%"
     ]
    },
    {
     "name": "stdout",
     "output_type": "stream",
     "text": [
      "AUC Score: 0.6363636363636364\n",
      "Balanced Accuracy: 0.5649350649350648\n",
      "X and y train shapes: \n",
      "(718, 15)\n",
      "(718,)\n",
      "X and y test shapes: \n",
      "(14, 15)\n",
      "(14,)\n",
      "Fitting 3 folds for each of 48 candidates, totalling 144 fits\n"
     ]
    },
    {
     "name": "stderr",
     "output_type": "stream",
     "text": [
      "LOSO CV Progress:  24%|███████▏                       | 11/46 [00:12<00:34]  24%"
     ]
    },
    {
     "name": "stdout",
     "output_type": "stream",
     "text": [
      "AUC Score: 0.7708333333333333\n",
      "Balanced Accuracy: 0.6875\n",
      "X and y train shapes: \n",
      "(723, 15)\n",
      "(723,)\n",
      "X and y test shapes: \n",
      "(9, 15)\n",
      "(9,)\n",
      "Fitting 3 folds for each of 48 candidates, totalling 144 fits\n"
     ]
    },
    {
     "name": "stderr",
     "output_type": "stream",
     "text": [
      "LOSO CV Progress:  26%|███████▊                       | 12/46 [00:14<00:36]  26%"
     ]
    },
    {
     "name": "stdout",
     "output_type": "stream",
     "text": [
      "AUC Score: 1.0\n",
      "Balanced Accuracy: 1.0\n",
      "X and y train shapes: \n",
      "(730, 15)\n",
      "(730,)\n",
      "X and y test shapes: \n",
      "(2, 15)\n",
      "(2,)\n",
      "Fitting 3 folds for each of 48 candidates, totalling 144 fits\n"
     ]
    },
    {
     "name": "stderr",
     "output_type": "stream",
     "text": [
      "LOSO CV Progress:  28%|████████▍                      | 13/46 [00:15<00:35]  28%"
     ]
    },
    {
     "name": "stdout",
     "output_type": "stream",
     "text": [
      "AUC Score: 1.0\n",
      "Balanced Accuracy: 1.0\n",
      "X and y train shapes: \n",
      "(685, 15)\n",
      "(685,)\n",
      "X and y test shapes: \n",
      "(47, 15)\n",
      "(47,)\n",
      "Fitting 3 folds for each of 48 candidates, totalling 144 fits\n"
     ]
    },
    {
     "name": "stderr",
     "output_type": "stream",
     "text": [
      "LOSO CV Progress:  30%|█████████▏                     | 14/46 [00:16<00:34]  30%"
     ]
    },
    {
     "name": "stdout",
     "output_type": "stream",
     "text": [
      "AUC Score: 0.7196078431372549\n",
      "Balanced Accuracy: 0.6323529411764706\n",
      "X and y train shapes: \n",
      "(728, 15)\n",
      "(728,)\n",
      "X and y test shapes: \n",
      "(4, 15)\n",
      "(4,)\n",
      "Skipping this subject for having single class: y_train = [0 1], y_test = [0]\n",
      "X and y train shapes: \n",
      "(727, 15)\n",
      "(727,)\n",
      "X and y test shapes: \n",
      "(5, 15)\n",
      "(5,)\n",
      "Fitting 3 folds for each of 48 candidates, totalling 144 fits\n"
     ]
    },
    {
     "name": "stderr",
     "output_type": "stream",
     "text": [
      "LOSO CV Progress:  35%|██████████▍                    | 16/46 [00:17<00:26]  35%"
     ]
    },
    {
     "name": "stdout",
     "output_type": "stream",
     "text": [
      "AUC Score: 0.6666666666666666\n",
      "Balanced Accuracy: 0.75\n",
      "X and y train shapes: \n",
      "(691, 15)\n",
      "(691,)\n",
      "X and y test shapes: \n",
      "(41, 15)\n",
      "(41,)\n",
      "Fitting 3 folds for each of 48 candidates, totalling 144 fits\n"
     ]
    },
    {
     "name": "stderr",
     "output_type": "stream",
     "text": [
      "LOSO CV Progress:  37%|███████████                    | 17/46 [00:18<00:27]  37%"
     ]
    },
    {
     "name": "stdout",
     "output_type": "stream",
     "text": [
      "AUC Score: 0.5193548387096774\n",
      "Balanced Accuracy: 0.5838709677419355\n",
      "X and y train shapes: \n",
      "(730, 15)\n",
      "(730,)\n",
      "X and y test shapes: \n",
      "(2, 15)\n",
      "(2,)\n",
      "Fitting 3 folds for each of 48 candidates, totalling 144 fits\n"
     ]
    },
    {
     "name": "stderr",
     "output_type": "stream",
     "text": [
      "LOSO CV Progress:  39%|███████████▋                   | 18/46 [00:20<00:29]  39%"
     ]
    },
    {
     "name": "stdout",
     "output_type": "stream",
     "text": [
      "AUC Score: 1.0\n",
      "Balanced Accuracy: 1.0\n",
      "X and y train shapes: \n",
      "(715, 15)\n",
      "(715,)\n",
      "X and y test shapes: \n",
      "(17, 15)\n",
      "(17,)\n",
      "Fitting 3 folds for each of 48 candidates, totalling 144 fits\n"
     ]
    },
    {
     "name": "stderr",
     "output_type": "stream",
     "text": [
      "LOSO CV Progress:  41%|████████████▍                  | 19/46 [00:21<00:29]  41%"
     ]
    },
    {
     "name": "stdout",
     "output_type": "stream",
     "text": [
      "AUC Score: 0.8\n",
      "Balanced Accuracy: 0.75\n",
      "X and y train shapes: \n",
      "(726, 15)\n",
      "(726,)\n",
      "X and y test shapes: \n",
      "(6, 15)\n",
      "(6,)\n",
      "Fitting 3 folds for each of 48 candidates, totalling 144 fits\n"
     ]
    },
    {
     "name": "stderr",
     "output_type": "stream",
     "text": [
      "LOSO CV Progress:  43%|█████████████                  | 20/46 [00:22<00:29]  43%"
     ]
    },
    {
     "name": "stdout",
     "output_type": "stream",
     "text": [
      "AUC Score: 0.0\n",
      "Balanced Accuracy: 0.5\n",
      "X and y train shapes: \n",
      "(721, 15)\n",
      "(721,)\n",
      "X and y test shapes: \n",
      "(11, 15)\n",
      "(11,)\n",
      "Fitting 3 folds for each of 48 candidates, totalling 144 fits\n"
     ]
    },
    {
     "name": "stderr",
     "output_type": "stream",
     "text": [
      "LOSO CV Progress:  46%|█████████████▋                 | 21/46 [00:23<00:28]  46%"
     ]
    },
    {
     "name": "stdout",
     "output_type": "stream",
     "text": [
      "AUC Score: 0.1111111111111111\n",
      "Balanced Accuracy: 0.5\n",
      "X and y train shapes: \n",
      "(720, 15)\n",
      "(720,)\n",
      "X and y test shapes: \n",
      "(12, 15)\n",
      "(12,)\n",
      "Fitting 3 folds for each of 48 candidates, totalling 144 fits\n"
     ]
    },
    {
     "name": "stderr",
     "output_type": "stream",
     "text": [
      "LOSO CV Progress:  48%|██████████████▎                | 22/46 [00:24<00:27]  48%"
     ]
    },
    {
     "name": "stdout",
     "output_type": "stream",
     "text": [
      "AUC Score: 0.4375\n",
      "Balanced Accuracy: 0.6875\n",
      "X and y train shapes: \n",
      "(722, 15)\n",
      "(722,)\n",
      "X and y test shapes: \n",
      "(10, 15)\n",
      "(10,)\n",
      "Fitting 3 folds for each of 48 candidates, totalling 144 fits\n"
     ]
    },
    {
     "name": "stderr",
     "output_type": "stream",
     "text": [
      "LOSO CV Progress:  50%|███████████████                | 23/46 [00:26<00:26]  50%"
     ]
    },
    {
     "name": "stdout",
     "output_type": "stream",
     "text": [
      "AUC Score: 0.5\n",
      "Balanced Accuracy: 0.625\n",
      "X and y train shapes: \n",
      "(721, 15)\n",
      "(721,)\n",
      "X and y test shapes: \n",
      "(11, 15)\n",
      "(11,)\n",
      "Fitting 3 folds for each of 48 candidates, totalling 144 fits\n"
     ]
    },
    {
     "name": "stderr",
     "output_type": "stream",
     "text": [
      "LOSO CV Progress:  52%|███████████████▋               | 24/46 [00:27<00:25]  52%"
     ]
    },
    {
     "name": "stdout",
     "output_type": "stream",
     "text": [
      "AUC Score: 0.7777777777777778\n",
      "Balanced Accuracy: 0.75\n",
      "X and y train shapes: \n",
      "(726, 15)\n",
      "(726,)\n",
      "X and y test shapes: \n",
      "(6, 15)\n",
      "(6,)\n",
      "Fitting 3 folds for each of 48 candidates, totalling 144 fits\n"
     ]
    },
    {
     "name": "stderr",
     "output_type": "stream",
     "text": [
      "LOSO CV Progress:  54%|████████████████▎              | 25/46 [00:28<00:25]  54%"
     ]
    },
    {
     "name": "stdout",
     "output_type": "stream",
     "text": [
      "AUC Score: 0.8\n",
      "Balanced Accuracy: 0.8\n",
      "X and y train shapes: \n",
      "(714, 15)\n",
      "(714,)\n",
      "X and y test shapes: \n",
      "(18, 15)\n",
      "(18,)\n",
      "Skipping this subject for having single class: y_train = [0 1], y_test = [0]\n",
      "X and y train shapes: \n",
      "(703, 15)\n",
      "(703,)\n",
      "X and y test shapes: \n",
      "(29, 15)\n",
      "(29,)\n",
      "Fitting 3 folds for each of 48 candidates, totalling 144 fits\n"
     ]
    },
    {
     "name": "stderr",
     "output_type": "stream",
     "text": [
      "LOSO CV Progress:  59%|█████████████████▌             | 27/46 [00:29<00:17]  59%"
     ]
    },
    {
     "name": "stdout",
     "output_type": "stream",
     "text": [
      "AUC Score: 0.3317307692307692\n",
      "Balanced Accuracy: 0.5\n",
      "X and y train shapes: \n",
      "(730, 15)\n",
      "(730,)\n",
      "X and y test shapes: \n",
      "(2, 15)\n",
      "(2,)\n",
      "Skipping this subject for having single class: y_train = [0 1], y_test = [0]\n",
      "X and y train shapes: \n",
      "(716, 15)\n",
      "(716,)\n",
      "X and y test shapes: \n",
      "(16, 15)\n",
      "(16,)\n",
      "Fitting 3 folds for each of 48 candidates, totalling 144 fits\n"
     ]
    },
    {
     "name": "stderr",
     "output_type": "stream",
     "text": [
      "LOSO CV Progress:  63%|██████████████████▉            | 29/46 [00:31<00:13]  63%"
     ]
    },
    {
     "name": "stdout",
     "output_type": "stream",
     "text": [
      "AUC Score: 0.23636363636363633\n",
      "Balanced Accuracy: 0.5909090909090909\n",
      "X and y train shapes: \n",
      "(720, 15)\n",
      "(720,)\n",
      "X and y test shapes: \n",
      "(12, 15)\n",
      "(12,)\n",
      "Fitting 3 folds for each of 48 candidates, totalling 144 fits\n"
     ]
    },
    {
     "name": "stderr",
     "output_type": "stream",
     "text": [
      "LOSO CV Progress:  65%|███████████████████▌           | 30/46 [00:32<00:14]  65%"
     ]
    },
    {
     "name": "stdout",
     "output_type": "stream",
     "text": [
      "AUC Score: 0.4\n",
      "Balanced Accuracy: 0.5\n",
      "X and y train shapes: \n",
      "(726, 15)\n",
      "(726,)\n",
      "X and y test shapes: \n",
      "(6, 15)\n",
      "(6,)\n",
      "Fitting 3 folds for each of 48 candidates, totalling 144 fits\n"
     ]
    },
    {
     "name": "stderr",
     "output_type": "stream",
     "text": [
      "LOSO CV Progress:  67%|████████████████████▏          | 31/46 [00:33<00:14]  67%"
     ]
    },
    {
     "name": "stdout",
     "output_type": "stream",
     "text": [
      "AUC Score: 0.4444444444444444\n",
      "Balanced Accuracy: 0.5\n",
      "X and y train shapes: \n",
      "(722, 15)\n",
      "(722,)\n",
      "X and y test shapes: \n",
      "(10, 15)\n",
      "(10,)\n",
      "Fitting 3 folds for each of 48 candidates, totalling 144 fits\n"
     ]
    },
    {
     "name": "stderr",
     "output_type": "stream",
     "text": [
      "LOSO CV Progress:  70%|████████████████████▊          | 32/46 [00:34<00:14]  70%"
     ]
    },
    {
     "name": "stdout",
     "output_type": "stream",
     "text": [
      "AUC Score: 0.9047619047619048\n",
      "Balanced Accuracy: 0.8571428571428572\n",
      "X and y train shapes: \n",
      "(712, 15)\n",
      "(712,)\n",
      "X and y test shapes: \n",
      "(20, 15)\n",
      "(20,)\n",
      "Fitting 3 folds for each of 48 candidates, totalling 144 fits\n"
     ]
    },
    {
     "name": "stderr",
     "output_type": "stream",
     "text": [
      "LOSO CV Progress:  72%|█████████████████████▌         | 33/46 [00:36<00:14]  72%"
     ]
    },
    {
     "name": "stdout",
     "output_type": "stream",
     "text": [
      "AUC Score: 0.5098039215686274\n",
      "Balanced Accuracy: 0.7058823529411764\n",
      "X and y train shapes: \n",
      "(712, 15)\n",
      "(712,)\n",
      "X and y test shapes: \n",
      "(20, 15)\n",
      "(20,)\n",
      "Fitting 3 folds for each of 48 candidates, totalling 144 fits\n"
     ]
    },
    {
     "name": "stderr",
     "output_type": "stream",
     "text": [
      "LOSO CV Progress:  74%|██████████████████████▏        | 34/46 [00:37<00:13]  74%"
     ]
    },
    {
     "name": "stdout",
     "output_type": "stream",
     "text": [
      "AUC Score: 0.5104166666666667\n",
      "Balanced Accuracy: 0.5208333333333333\n",
      "X and y train shapes: \n",
      "(715, 15)\n",
      "(715,)\n",
      "X and y test shapes: \n",
      "(17, 15)\n",
      "(17,)\n",
      "Fitting 3 folds for each of 48 candidates, totalling 144 fits\n"
     ]
    },
    {
     "name": "stderr",
     "output_type": "stream",
     "text": [
      "LOSO CV Progress:  76%|██████████████████████▊        | 35/46 [00:38<00:12]  76%"
     ]
    },
    {
     "name": "stdout",
     "output_type": "stream",
     "text": [
      "AUC Score: 0.5694444444444444\n",
      "Balanced Accuracy: 0.6041666666666666\n",
      "X and y train shapes: \n",
      "(714, 15)\n",
      "(714,)\n",
      "X and y test shapes: \n",
      "(18, 15)\n",
      "(18,)\n",
      "Fitting 3 folds for each of 48 candidates, totalling 144 fits\n"
     ]
    },
    {
     "name": "stderr",
     "output_type": "stream",
     "text": [
      "LOSO CV Progress:  78%|███████████████████████▍       | 36/46 [00:39<00:12]  78%"
     ]
    },
    {
     "name": "stdout",
     "output_type": "stream",
     "text": [
      "AUC Score: 0.44999999999999996\n",
      "Balanced Accuracy: 0.55\n",
      "X and y train shapes: \n",
      "(727, 15)\n",
      "(727,)\n",
      "X and y test shapes: \n",
      "(5, 15)\n",
      "(5,)\n",
      "Fitting 3 folds for each of 48 candidates, totalling 144 fits\n"
     ]
    },
    {
     "name": "stderr",
     "output_type": "stream",
     "text": [
      "LOSO CV Progress:  80%|████████████████████████▏      | 37/46 [00:40<00:10]  80%"
     ]
    },
    {
     "name": "stdout",
     "output_type": "stream",
     "text": [
      "AUC Score: 0.5\n",
      "Balanced Accuracy: 0.5\n",
      "X and y train shapes: \n",
      "(699, 15)\n",
      "(699,)\n",
      "X and y test shapes: \n",
      "(33, 15)\n",
      "(33,)\n",
      "Fitting 3 folds for each of 48 candidates, totalling 144 fits\n"
     ]
    },
    {
     "name": "stderr",
     "output_type": "stream",
     "text": [
      "LOSO CV Progress:  83%|████████████████████████▊      | 38/46 [00:42<00:09]  83%"
     ]
    },
    {
     "name": "stdout",
     "output_type": "stream",
     "text": [
      "AUC Score: 0.5082644628099173\n",
      "Balanced Accuracy: 0.5909090909090909\n",
      "X and y train shapes: \n",
      "(719, 15)\n",
      "(719,)\n",
      "X and y test shapes: \n",
      "(13, 15)\n",
      "(13,)\n",
      "Fitting 3 folds for each of 48 candidates, totalling 144 fits\n"
     ]
    },
    {
     "name": "stderr",
     "output_type": "stream",
     "text": [
      "LOSO CV Progress:  87%|██████████████████████████     | 40/46 [00:43<00:05]  87%"
     ]
    },
    {
     "name": "stdout",
     "output_type": "stream",
     "text": [
      "AUC Score: 1.0\n",
      "Balanced Accuracy: 1.0\n",
      "X and y train shapes: \n",
      "(712, 15)\n",
      "(712,)\n",
      "X and y test shapes: \n",
      "(20, 15)\n",
      "(20,)\n",
      "Fitting 3 folds for each of 48 candidates, totalling 144 fits\n",
      "AUC Score: 0.5104166666666666\n",
      "Balanced Accuracy: 0.6875\n",
      "X and y train shapes: \n",
      "(721, 15)\n",
      "(721,)\n",
      "X and y test shapes: \n",
      "(11, 15)\n",
      "(11,)\n",
      "Fitting 3 folds for each of 48 candidates, totalling 144 fits\n"
     ]
    },
    {
     "name": "stderr",
     "output_type": "stream",
     "text": [
      "LOSO CV Progress:  89%|██████████████████████████▋    | 41/46 [00:44<00:04]  89%"
     ]
    },
    {
     "name": "stdout",
     "output_type": "stream",
     "text": [
      "AUC Score: 0.3333333333333333\n",
      "Balanced Accuracy: 0.6666666666666666\n",
      "X and y train shapes: \n",
      "(723, 15)\n",
      "(723,)\n",
      "X and y test shapes: \n",
      "(9, 15)\n",
      "(9,)\n",
      "Fitting 3 folds for each of 48 candidates, totalling 144 fits\n"
     ]
    },
    {
     "name": "stderr",
     "output_type": "stream",
     "text": [
      "LOSO CV Progress:  91%|███████████████████████████▍   | 42/46 [00:46<00:04]  91%"
     ]
    },
    {
     "name": "stdout",
     "output_type": "stream",
     "text": [
      "AUC Score: 0.7\n",
      "Balanced Accuracy: 0.75\n",
      "X and y train shapes: \n",
      "(719, 15)\n",
      "(719,)\n",
      "X and y test shapes: \n",
      "(13, 15)\n",
      "(13,)\n",
      "Fitting 3 folds for each of 48 candidates, totalling 144 fits\n"
     ]
    },
    {
     "name": "stderr",
     "output_type": "stream",
     "text": [
      "LOSO CV Progress:  93%|████████████████████████████   | 43/46 [00:47<00:03]  93%"
     ]
    },
    {
     "name": "stdout",
     "output_type": "stream",
     "text": [
      "AUC Score: 0.6666666666666666\n",
      "Balanced Accuracy: 0.6904761904761905\n",
      "X and y train shapes: \n",
      "(708, 15)\n",
      "(708,)\n",
      "X and y test shapes: \n",
      "(24, 15)\n",
      "(24,)\n",
      "Fitting 3 folds for each of 48 candidates, totalling 144 fits\n"
     ]
    },
    {
     "name": "stderr",
     "output_type": "stream",
     "text": [
      "LOSO CV Progress:  96%|████████████████████████████▋  | 44/46 [00:48<00:02]  96%"
     ]
    },
    {
     "name": "stdout",
     "output_type": "stream",
     "text": [
      "AUC Score: 0.7226890756302521\n",
      "Balanced Accuracy: 0.680672268907563\n",
      "X and y train shapes: \n",
      "(706, 15)\n",
      "(706,)\n",
      "X and y test shapes: \n",
      "(26, 15)\n",
      "(26,)\n",
      "Fitting 3 folds for each of 48 candidates, totalling 144 fits\n"
     ]
    },
    {
     "name": "stderr",
     "output_type": "stream",
     "text": [
      "LOSO CV Progress:  98%|█████████████████████████████▎ | 45/46 [00:49<00:01]  98%"
     ]
    },
    {
     "name": "stdout",
     "output_type": "stream",
     "text": [
      "AUC Score: 0.36666666666666664\n",
      "Balanced Accuracy: 0.5416666666666667\n",
      "X and y train shapes: \n",
      "(678, 15)\n",
      "(678,)\n",
      "X and y test shapes: \n",
      "(54, 15)\n",
      "(54,)\n",
      "Fitting 3 folds for each of 48 candidates, totalling 144 fits\n"
     ]
    },
    {
     "name": "stderr",
     "output_type": "stream",
     "text": [
      "LOSO CV Progress: 100%|██████████████████████████████ | 46/46 [00:51<00:00] 100%"
     ]
    },
    {
     "name": "stdout",
     "output_type": "stream",
     "text": [
      "AUC Score: 0.6849894291754757\n",
      "Balanced Accuracy: 0.7135306553911205\n"
     ]
    },
    {
     "name": "stderr",
     "output_type": "stream",
     "text": [
      "\n"
     ]
    }
   ],
   "source": [
    "scaler = StandardScaler()\n",
    "model_logistic_rfe = LogisticRegression(max_iter=5000)\n",
    "\n",
    "rfe = RFE(model_logistic_rfe, n_features_to_select=15)  \n",
    "X_ = scaler.fit_transform(X)\n",
    "rfe.fit(X_, y_encoded) \n",
    "\n",
    "best_features = np.where(rfe.support_)[0]\n",
    "print(f\"Selected Features: {best_features}\")\n",
    "\n",
    "num_splits = len(np.unique(groups))\n",
    "print(num_splits)\n",
    "\n",
    "with tqdm(total=num_splits, desc=\"LOSO CV Progress\", unit=\"fold\", bar_format=\"{l_bar}{bar} | {n_fmt}/{total_fmt} [{elapsed}<{remaining}] {percentage:3.0f}%\") as pbar:\n",
    "    for train_idx, test_idx in logo.split(X, y_encoded, groups=groups):\n",
    "        X_train, X_test = X.iloc[train_idx, best_features], X.iloc[test_idx, best_features]\n",
    "        y_train, y_test = y_encoded[train_idx], y_encoded[test_idx]\n",
    "\n",
    "        print('X and y train shapes: ')\n",
    "        print(X_train.shape)\n",
    "        print(y_train.shape)\n",
    "\n",
    "        print('X and y test shapes: ')\n",
    "        print(X_test.shape)\n",
    "        print(y_test.shape)\n",
    "\n",
    "        scaler = StandardScaler()\n",
    "        X_train_normalized = scaler.fit_transform(X_train)\n",
    "        X_test_normalized = scaler.transform(X_test)\n",
    "        \n",
    "        model_logistic = GridSearchCV(LogisticRegression(max_iter=5000, class_weight='balanced'),\n",
    "                                      param_grid=param_grid, cv=3, verbose=True, n_jobs=-1, scoring='roc_auc')\n",
    "        if len(np.unique(y_train)) > 1 and len(np.unique(y_test)) > 1:\n",
    "            model_logistic.fit(X_train_normalized, y_train)\n",
    "    \n",
    "            y_test_pred_proba = model_logistic.predict_proba(X_test_normalized)[:, 1]\n",
    "            thresholds = np.arange(0.01, 1.0, 0.01)\n",
    "            best_threshold = 0.5\n",
    "            best_metric = 0.0\n",
    "    \n",
    "            for threshold in thresholds:\n",
    "                y_test_pred_binary = (y_test_pred_proba > threshold).astype(int)\n",
    "                metric_value = balanced_accuracy_score(y_test, y_test_pred_binary)\n",
    "                if metric_value > best_metric:\n",
    "                    best_metric = metric_value\n",
    "                    best_threshold = threshold\n",
    "            if len(np.unique(y_test)) > 1:\n",
    "                auc_score = roc_auc_score(y_test, y_test_pred_proba)\n",
    "                auc_scores.append(auc_score)\n",
    "                print(f\"AUC Score: {auc_score}\")\n",
    "            else:\n",
    "                auc_scores.append(None)\n",
    "                print(f\"Skipping AUC computation for this fold as y_test contains only one class: {np.unique(y_test)}\")\n",
    "    \n",
    "            y_test_pred_binary = (y_test_pred_proba > best_threshold).astype(int)\n",
    "            balanced_acc = balanced_accuracy_score(y_test, y_test_pred_binary)\n",
    "            balanced_accs.append(balanced_acc)\n",
    "        \n",
    "            print(f\"Balanced Accuracy: {balanced_acc}\")\n",
    "\n",
    "        else:\n",
    "            print(f\"Skipping this subject for having single class: y_train = {np.unique(y_train)}, y_test = {np.unique(y_test)}\")\n",
    "        \n",
    "        pbar.update(1)"
   ]
  },
  {
   "cell_type": "code",
   "execution_count": 18,
   "id": "aa94d59b-4175-43f6-857f-5cdf2488850c",
   "metadata": {},
   "outputs": [
    {
     "name": "stdout",
     "output_type": "stream",
     "text": [
      "Logistic Regression: \n",
      "Median, 25th Percentile, 75th Percentile: \n",
      "AUC Score - Median: 0.5759, 25th Percentile: 0.4458, 75th Percentile: 0.7760\n",
      "Balanced Accuracy - Median: 0.6841, 25th Percentile: 0.5697, 75th Percentile: 0.7500\n"
     ]
    }
   ],
   "source": [
    "print('Logistic Regression: ')\n",
    "print('Median, 25th Percentile, 75th Percentile: ')\n",
    "\n",
    "if auc_scores:\n",
    "    auc_scores_valid = [score for score in auc_scores if score is not None] \n",
    "\n",
    "    auc_median = np.median(auc_scores_valid)\n",
    "    auc_25_percentile = np.percentile(auc_scores_valid, 25)\n",
    "    auc_75_percentile = np.percentile(auc_scores_valid, 75)\n",
    "    print(f\"AUC Score - Median: {auc_median:.4f}, 25th Percentile: {auc_25_percentile:.4f}, 75th Percentile: {auc_75_percentile:.4f}\")\n",
    "\n",
    "balanced_accs_valid = [acc for acc in balanced_accs if acc is not None] \n",
    "\n",
    "balanced_acc_median = np.median(balanced_accs)\n",
    "balanced_acc_25_percentile = np.percentile(balanced_accs, 25)\n",
    "balanced_acc_75_percentile = np.percentile(balanced_accs, 75)\n",
    "\n",
    "print(f\"Balanced Accuracy - Median: {balanced_acc_median:.4f}, 25th Percentile: {balanced_acc_25_percentile:.4f}, 75th Percentile: {balanced_acc_75_percentile:.4f}\")"
   ]
  },
  {
   "cell_type": "code",
   "execution_count": null,
   "id": "b2c2c86d-c7a0-45e9-bb43-d3536e223db0",
   "metadata": {},
   "outputs": [],
   "source": []
  }
 ],
 "metadata": {
  "kernelspec": {
   "display_name": "Python 3 (ipykernel)",
   "language": "python",
   "name": "python3"
  },
  "language_info": {
   "codemirror_mode": {
    "name": "ipython",
    "version": 3
   },
   "file_extension": ".py",
   "mimetype": "text/x-python",
   "name": "python",
   "nbconvert_exporter": "python",
   "pygments_lexer": "ipython3",
   "version": "3.9.17"
  }
 },
 "nbformat": 4,
 "nbformat_minor": 5
}
