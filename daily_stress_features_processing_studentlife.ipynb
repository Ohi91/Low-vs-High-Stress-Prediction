{
 "cells": [
  {
   "cell_type": "code",
   "execution_count": 1,
   "id": "c87d46a8",
   "metadata": {},
   "outputs": [],
   "source": [
    "import pymongo\n",
    "import json\n",
    "import pandas as pd\n",
    "from pandas import DataFrame\n",
    "import matplotlib.pyplot as plt\n",
    "from datetime import time\n",
    "from tqdm import tqdm\n",
    "import datetime\n",
    "import statistics\n",
    "\n",
    "myclient = pymongo.MongoClient(\"mongodb://localhost:27017/\")\n",
    "mydb = myclient[\"studentlife\"]"
   ]
  },
  {
   "cell_type": "code",
   "execution_count": 2,
   "id": "38893d8b",
   "metadata": {},
   "outputs": [],
   "source": [
    "collection_stress = mydb[\"ema_Stress\"]"
   ]
  },
  {
   "cell_type": "code",
   "execution_count": 3,
   "id": "4950624b",
   "metadata": {},
   "outputs": [],
   "source": [
    "df_data = DataFrame()"
   ]
  },
  {
   "cell_type": "code",
   "execution_count": 4,
   "id": "d09941f9",
   "metadata": {},
   "outputs": [],
   "source": [
    "student_uid = ['u00', 'u01', 'u02', 'u03', 'u04', 'u05', 'u07', 'u08', 'u09', 'u10', 'u12', 'u13', 'u14', 'u15', 'u16',\n",
    "                'u17', 'u18', 'u19', 'u20', 'u22', 'u23', 'u24', 'u25', 'u27', 'u30', 'u31', 'u32', 'u33', 'u34', 'u35',\n",
    "                'u36', 'u39', 'u41', 'u42', 'u43', 'u44', 'u45', 'u46', 'u47', 'u49', 'u50', 'u51', 'u52', 'u53', 'u54',\n",
    "                'u56', 'u57', 'u58', 'u59']"
   ]
  },
  {
   "cell_type": "code",
   "execution_count": 5,
   "id": "b00e7b94",
   "metadata": {},
   "outputs": [],
   "source": [
    "morning_start_time = time(6, 0, 0)    # 6:00 AM\n",
    "afternoon_start_time = time(12, 0, 0) # 12:00 PM\n",
    "evening_start_time = time(18, 0, 0)   # 6:00 PM\n",
    "night_start_time = time(0, 0, 0)      # 12:00 AM (midnight)"
   ]
  },
  {
   "cell_type": "code",
   "execution_count": 6,
   "id": "7c0dd016",
   "metadata": {},
   "outputs": [],
   "source": [
    "def classify_stress(mean_stress, median_stress):\n",
    "    if mean_stress < median_stress:\n",
    "        return \"low stress\"\n",
    "    elif mean_stress > median_stress:\n",
    "        return \"high stress\"\n",
    "    elif mean_stress == median_stress:\n",
    "        return \"medium stress\""
   ]
  },
  {
   "cell_type": "code",
   "execution_count": 7,
   "id": "392497d8",
   "metadata": {},
   "outputs": [
    {
     "name": "stdout",
     "output_type": "stream",
     "text": [
      "{'u00': 3.0, 'u01': 3.0, 'u02': 3.0, 'u03': 3, 'u04': 3.5, 'u05': 2.0, 'u07': 2, 'u08': 4, 'u09': 2, 'u10': 3.0, 'u12': 3.0, 'u14': 4, 'u15': 3.0, 'u16': 4, 'u17': 5.0, 'u18': 3.0, 'u19': 3, 'u20': 3, 'u22': 3, 'u23': 3.0, 'u24': 3, 'u25': 3.0, 'u27': 3, 'u30': 2.0, 'u31': 3.0, 'u32': 3.0, 'u33': 3.0, 'u34': 3.0, 'u35': 3, 'u36': 3.0, 'u39': 3.0, 'u41': 4, 'u42': 2, 'u43': 3, 'u44': 3, 'u45': 2, 'u46': 4, 'u47': 3, 'u49': 2, 'u50': 4.0, 'u51': 3.0, 'u52': 3, 'u53': 3.0, 'u54': 3.0, 'u56': 2, 'u57': 3, 'u58': 3, 'u59': 3}\n"
     ]
    }
   ],
   "source": [
    "median_levels = {}\n",
    "\n",
    "for uid in student_uid:\n",
    "    level_values = []\n",
    "    for document in collection_stress.find({\"uid\": uid}, {\"_id\": 0, \"level\": 1}):\n",
    "        level = document.get(\"level\") \n",
    "        if level is not None:\n",
    "            level = int(level) \n",
    "            if level == 5:\n",
    "                level_values.append(1)\n",
    "            elif level == 4:\n",
    "                level_values.append(2)\n",
    "            elif level == 1:\n",
    "                level_values.append(3)\n",
    "            elif level == 2:\n",
    "                level_values.append(4)\n",
    "            elif level == 3:\n",
    "                level_values.append(5)\n",
    "    \n",
    "    if level_values:\n",
    "        median_level = statistics.median(level_values)\n",
    "        median_levels[uid] = median_level\n",
    "\n",
    "print(median_levels)"
   ]
  },
  {
   "cell_type": "code",
   "execution_count": 8,
   "id": "51ba35d6",
   "metadata": {},
   "outputs": [],
   "source": [
    "def process_stress_data_for_uid(uid):\n",
    "    df_result = pd.DataFrame(columns=[\"uid\", \"date\", \"stress_ratings\"])\n",
    "    daily_stress_data = {}\n",
    "\n",
    "    for doc in collection_stress.find({\"uid\": uid}):\n",
    "        if \"timestamp\" in doc and \"level\" in doc:\n",
    "            timestamp = int(doc[\"timestamp\"])\n",
    "            level = int(doc[\"level\"])\n",
    "\n",
    "            if level == 5:\n",
    "                level = 1\n",
    "            elif level == 4:\n",
    "                level = 2\n",
    "            elif level == 1:\n",
    "                level = 3\n",
    "            elif level == 2:\n",
    "                level = 4\n",
    "            elif level == 3:\n",
    "                level = 5\n",
    "\n",
    "            current_date = datetime.datetime.utcfromtimestamp(timestamp).strftime(\"%Y-%m-%d\")\n",
    "\n",
    "            if current_date not in daily_stress_data:\n",
    "                daily_stress_data[current_date] = []\n",
    "            daily_stress_data[current_date].append(level)\n",
    "\n",
    "    for date, stress_levels in daily_stress_data.items(): \n",
    "        mean_stress = statistics.mean(stress_levels)\n",
    "        uid_median = median_levels.get(uid, 0)  \n",
    "\n",
    "        stress_category = classify_stress(mean_stress, uid_median)\n",
    "        df_result = pd.concat([df_result, pd.DataFrame({\n",
    "            \"uid\": uid,\n",
    "            \"date\": date,\n",
    "            \"stress_ratings\": stress_category\n",
    "        }, index=[0])], ignore_index=True)\n",
    "\n",
    "    return df_result"
   ]
  },
  {
   "cell_type": "code",
   "execution_count": 9,
   "id": "6fc9b410",
   "metadata": {},
   "outputs": [
    {
     "name": "stderr",
     "output_type": "stream",
     "text": [
      " 55%|███████████████████████▏                  | 27/49 [00:00<00:00, 267.88it/s]"
     ]
    },
    {
     "name": "stdout",
     "output_type": "stream",
     "text": [
      "u00\n",
      "u01\n",
      "u02\n",
      "u03\n",
      "u04\n",
      "u05\n",
      "u07\n",
      "u08\n",
      "u09\n",
      "u10\n",
      "u12\n",
      "u13\n",
      "u14\n",
      "u15\n",
      "u16\n",
      "u17\n",
      "u18\n",
      "u19\n",
      "u20\n",
      "u22\n",
      "u23\n",
      "u24\n",
      "u25\n",
      "u27\n",
      "u30\n",
      "u31\n",
      "u32\n",
      "u33\n",
      "u34\n",
      "u35\n",
      "u36\n",
      "u39\n",
      "u41\n",
      "u42\n",
      "u43\n",
      "u44\n",
      "u45\n",
      "u46\n",
      "u47\n",
      "u49\n",
      "u50\n",
      "u51\n",
      "u52\n",
      "u53\n",
      "u54\n",
      "u56\n",
      "u57\n",
      "u58\n",
      "u59\n"
     ]
    },
    {
     "name": "stderr",
     "output_type": "stream",
     "text": [
      "100%|██████████████████████████████████████████| 49/49 [00:00<00:00, 261.05it/s]\n"
     ]
    }
   ],
   "source": [
    "df = DataFrame()\n",
    "for uid in tqdm(student_uid):\n",
    "    print(uid)\n",
    "    df = process_stress_data_for_uid(str(uid))\n",
    "    frames = [df_data, df]\n",
    "    df_data = pd.concat(frames, ignore_index=True)"
   ]
  },
  {
   "cell_type": "code",
   "execution_count": 10,
   "id": "7d734d5d",
   "metadata": {},
   "outputs": [
    {
     "data": {
      "text/plain": [
       "Index(['uid', 'date', 'stress_ratings'], dtype='object')"
      ]
     },
     "execution_count": 10,
     "metadata": {},
     "output_type": "execute_result"
    }
   ],
   "source": [
    "df_data.columns"
   ]
  },
  {
   "cell_type": "code",
   "execution_count": 11,
   "id": "447a8dbb",
   "metadata": {},
   "outputs": [
    {
     "data": {
      "text/html": [
       "<div>\n",
       "<style scoped>\n",
       "    .dataframe tbody tr th:only-of-type {\n",
       "        vertical-align: middle;\n",
       "    }\n",
       "\n",
       "    .dataframe tbody tr th {\n",
       "        vertical-align: top;\n",
       "    }\n",
       "\n",
       "    .dataframe thead th {\n",
       "        text-align: right;\n",
       "    }\n",
       "</style>\n",
       "<table border=\"1\" class=\"dataframe\">\n",
       "  <thead>\n",
       "    <tr style=\"text-align: right;\">\n",
       "      <th></th>\n",
       "      <th>uid</th>\n",
       "      <th>date</th>\n",
       "      <th>stress_ratings</th>\n",
       "    </tr>\n",
       "  </thead>\n",
       "  <tbody>\n",
       "    <tr>\n",
       "      <th>0</th>\n",
       "      <td>u00</td>\n",
       "      <td>2013-03-25</td>\n",
       "      <td>high stress</td>\n",
       "    </tr>\n",
       "    <tr>\n",
       "      <th>1</th>\n",
       "      <td>u00</td>\n",
       "      <td>2013-03-26</td>\n",
       "      <td>high stress</td>\n",
       "    </tr>\n",
       "    <tr>\n",
       "      <th>2</th>\n",
       "      <td>u00</td>\n",
       "      <td>2013-03-27</td>\n",
       "      <td>medium stress</td>\n",
       "    </tr>\n",
       "    <tr>\n",
       "      <th>3</th>\n",
       "      <td>u00</td>\n",
       "      <td>2013-03-28</td>\n",
       "      <td>high stress</td>\n",
       "    </tr>\n",
       "    <tr>\n",
       "      <th>4</th>\n",
       "      <td>u00</td>\n",
       "      <td>2013-03-29</td>\n",
       "      <td>low stress</td>\n",
       "    </tr>\n",
       "    <tr>\n",
       "      <th>...</th>\n",
       "      <td>...</td>\n",
       "      <td>...</td>\n",
       "      <td>...</td>\n",
       "    </tr>\n",
       "    <tr>\n",
       "      <th>1239</th>\n",
       "      <td>u59</td>\n",
       "      <td>2013-06-03</td>\n",
       "      <td>low stress</td>\n",
       "    </tr>\n",
       "    <tr>\n",
       "      <th>1240</th>\n",
       "      <td>u59</td>\n",
       "      <td>2013-06-04</td>\n",
       "      <td>low stress</td>\n",
       "    </tr>\n",
       "    <tr>\n",
       "      <th>1241</th>\n",
       "      <td>u59</td>\n",
       "      <td>2013-06-05</td>\n",
       "      <td>low stress</td>\n",
       "    </tr>\n",
       "    <tr>\n",
       "      <th>1242</th>\n",
       "      <td>u59</td>\n",
       "      <td>2013-06-06</td>\n",
       "      <td>low stress</td>\n",
       "    </tr>\n",
       "    <tr>\n",
       "      <th>1243</th>\n",
       "      <td>u59</td>\n",
       "      <td>2013-06-07</td>\n",
       "      <td>low stress</td>\n",
       "    </tr>\n",
       "  </tbody>\n",
       "</table>\n",
       "<p>1244 rows × 3 columns</p>\n",
       "</div>"
      ],
      "text/plain": [
       "      uid        date stress_ratings\n",
       "0     u00  2013-03-25    high stress\n",
       "1     u00  2013-03-26    high stress\n",
       "2     u00  2013-03-27  medium stress\n",
       "3     u00  2013-03-28    high stress\n",
       "4     u00  2013-03-29     low stress\n",
       "...   ...         ...            ...\n",
       "1239  u59  2013-06-03     low stress\n",
       "1240  u59  2013-06-04     low stress\n",
       "1241  u59  2013-06-05     low stress\n",
       "1242  u59  2013-06-06     low stress\n",
       "1243  u59  2013-06-07     low stress\n",
       "\n",
       "[1244 rows x 3 columns]"
      ]
     },
     "execution_count": 11,
     "metadata": {},
     "output_type": "execute_result"
    }
   ],
   "source": [
    "df_data"
   ]
  },
  {
   "cell_type": "code",
   "execution_count": 12,
   "id": "5601115a",
   "metadata": {},
   "outputs": [],
   "source": [
    "df_data.to_csv('recreating_dailystress_features.csv')"
   ]
  },
  {
   "cell_type": "code",
   "execution_count": 13,
   "id": "4a8cd0c4",
   "metadata": {},
   "outputs": [
    {
     "data": {
      "text/plain": [
       "uid               0\n",
       "date              0\n",
       "stress_ratings    0\n",
       "dtype: int64"
      ]
     },
     "execution_count": 13,
     "metadata": {},
     "output_type": "execute_result"
    }
   ],
   "source": [
    "df_data.isnull().sum()"
   ]
  },
  {
   "cell_type": "code",
   "execution_count": 14,
   "id": "9320f894",
   "metadata": {},
   "outputs": [
    {
     "data": {
      "text/plain": [
       "1244"
      ]
     },
     "execution_count": 14,
     "metadata": {},
     "output_type": "execute_result"
    }
   ],
   "source": [
    "len(df_data)"
   ]
  },
  {
   "cell_type": "code",
   "execution_count": 15,
   "id": "b6328ca1",
   "metadata": {},
   "outputs": [
    {
     "data": {
      "text/plain": [
       "stress_ratings\n",
       "medium stress    493\n",
       "high stress      378\n",
       "low stress       373\n",
       "Name: count, dtype: int64"
      ]
     },
     "execution_count": 15,
     "metadata": {},
     "output_type": "execute_result"
    }
   ],
   "source": [
    "df_data['stress_ratings'].value_counts()"
   ]
  },
  {
   "cell_type": "code",
   "execution_count": 16,
   "id": "a8205acf",
   "metadata": {},
   "outputs": [
    {
     "data": {
      "text/html": [
       "<div>\n",
       "<style scoped>\n",
       "    .dataframe tbody tr th:only-of-type {\n",
       "        vertical-align: middle;\n",
       "    }\n",
       "\n",
       "    .dataframe tbody tr th {\n",
       "        vertical-align: top;\n",
       "    }\n",
       "\n",
       "    .dataframe thead th {\n",
       "        text-align: right;\n",
       "    }\n",
       "</style>\n",
       "<table border=\"1\" class=\"dataframe\">\n",
       "  <thead>\n",
       "    <tr style=\"text-align: right;\">\n",
       "      <th></th>\n",
       "      <th>uid</th>\n",
       "      <th>date</th>\n",
       "      <th>stress_ratings</th>\n",
       "    </tr>\n",
       "  </thead>\n",
       "  <tbody>\n",
       "    <tr>\n",
       "      <th>0</th>\n",
       "      <td>u00</td>\n",
       "      <td>2013-03-25</td>\n",
       "      <td>high stress</td>\n",
       "    </tr>\n",
       "    <tr>\n",
       "      <th>1</th>\n",
       "      <td>u00</td>\n",
       "      <td>2013-03-26</td>\n",
       "      <td>high stress</td>\n",
       "    </tr>\n",
       "    <tr>\n",
       "      <th>2</th>\n",
       "      <td>u00</td>\n",
       "      <td>2013-03-27</td>\n",
       "      <td>medium stress</td>\n",
       "    </tr>\n",
       "  </tbody>\n",
       "</table>\n",
       "</div>"
      ],
      "text/plain": [
       "   uid        date stress_ratings\n",
       "0  u00  2013-03-25    high stress\n",
       "1  u00  2013-03-26    high stress\n",
       "2  u00  2013-03-27  medium stress"
      ]
     },
     "execution_count": 16,
     "metadata": {},
     "output_type": "execute_result"
    }
   ],
   "source": [
    "df_data.head(3)"
   ]
  },
  {
   "cell_type": "code",
   "execution_count": 17,
   "id": "2ee7875e",
   "metadata": {},
   "outputs": [
    {
     "name": "stdout",
     "output_type": "stream",
     "text": [
      "48\n"
     ]
    },
    {
     "data": {
      "text/plain": [
       "uid\n",
       "u59    70\n",
       "u19    55\n",
       "u16    54\n",
       "u44    47\n",
       "u00    46\n",
       "u57    45\n",
       "u49    44\n",
       "u58    40\n",
       "u10    40\n",
       "u08    39\n",
       "u36    36\n",
       "u32    36\n",
       "u33    35\n",
       "u17    35\n",
       "u43    34\n",
       "u51    32\n",
       "u22    31\n",
       "u52    30\n",
       "u35    29\n",
       "u53    28\n",
       "u04    27\n",
       "u14    27\n",
       "u02    27\n",
       "u01    26\n",
       "u23    24\n",
       "u24    23\n",
       "u12    22\n",
       "u46    21\n",
       "u45    20\n",
       "u07    19\n",
       "u30    19\n",
       "u42    19\n",
       "u03    19\n",
       "u27    17\n",
       "u54    16\n",
       "u56    16\n",
       "u25    14\n",
       "u18    13\n",
       "u31    12\n",
       "u47    11\n",
       "u41    10\n",
       "u20     8\n",
       "u15     7\n",
       "u39     6\n",
       "u34     5\n",
       "u05     4\n",
       "u50     3\n",
       "u09     3\n",
       "Name: count, dtype: int64"
      ]
     },
     "execution_count": 17,
     "metadata": {},
     "output_type": "execute_result"
    }
   ],
   "source": [
    "print(len(df_data['uid'].unique()))\n",
    "df_data['uid'].value_counts()"
   ]
  }
 ],
 "metadata": {
  "kernelspec": {
   "display_name": "Python 3 (ipykernel)",
   "language": "python",
   "name": "python3"
  },
  "language_info": {
   "codemirror_mode": {
    "name": "ipython",
    "version": 3
   },
   "file_extension": ".py",
   "mimetype": "text/x-python",
   "name": "python",
   "nbconvert_exporter": "python",
   "pygments_lexer": "ipython3",
   "version": "3.10.8"
  }
 },
 "nbformat": 4,
 "nbformat_minor": 5
}
