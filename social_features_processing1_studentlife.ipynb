{
 "cells": [
  {
   "cell_type": "code",
   "execution_count": 1,
   "id": "2bd32c3c-6d69-4057-9006-cd9f3d82c5af",
   "metadata": {},
   "outputs": [],
   "source": [
    "import pymongo\n",
    "import json\n",
    "import pandas as pd\n",
    "from datetime import datetime, timedelta\n",
    "from pandas import DataFrame\n",
    "import matplotlib.pyplot as plt\n",
    "from datetime import time\n",
    "from tqdm import tqdm"
   ]
  },
  {
   "cell_type": "code",
   "execution_count": 2,
   "id": "267baa5a-637c-4f52-b82c-bb9152017dff",
   "metadata": {},
   "outputs": [],
   "source": [
    "myclient = pymongo.MongoClient(\"mongodb://localhost:27017/\")\n",
    "mydb = myclient[\"studentlife\"]"
   ]
  },
  {
   "cell_type": "code",
   "execution_count": 3,
   "id": "3e1afe82-e9cd-481e-ab6a-0d401e401c0f",
   "metadata": {},
   "outputs": [],
   "source": [
    "student_uid = ['u00', 'u01', 'u02', 'u03', 'u04', 'u05', 'u07', 'u08', 'u09', 'u10', 'u12', 'u13', 'u14', 'u15', 'u16',\n",
    "                'u17', 'u18', 'u19', 'u20', 'u22', 'u23', 'u24', 'u25', 'u27', 'u30', 'u31', 'u32', 'u33', 'u34', 'u35',\n",
    "                'u36', 'u39', 'u41', 'u42', 'u43', 'u44', 'u45', 'u46', 'u47', 'u49', 'u50', 'u51', 'u52', 'u53', 'u54',\n",
    "                'u56', 'u57', 'u58', 'u59']"
   ]
  },
  {
   "cell_type": "code",
   "execution_count": 4,
   "id": "0af00e3e-c2f6-483a-93c5-2f3e773a472c",
   "metadata": {},
   "outputs": [],
   "source": [
    "# number of sms"
   ]
  },
  {
   "cell_type": "code",
   "execution_count": 5,
   "id": "f74d2d74-030b-4b68-8dc5-47bbe9940375",
   "metadata": {},
   "outputs": [
    {
     "name": "stdout",
     "output_type": "stream",
     "text": [
      "                                       ﻿id  \\\n",
      "0  c715f4c2-1e91-47eb-8aa4-977bb5e8b715-31   \n",
      "1  649eb75d-33e7-4c56-88d0-2eec88e95e71-35   \n",
      "2  649eb75d-33e7-4c56-88d0-2eec88e95e71-35   \n",
      "\n",
      "                                 device            timestamp  \\\n",
      "0  027c6245-b07f-4492-94e8-036454303f9c  2013-03-27 02:21:29   \n",
      "1  027c6245-b07f-4492-94e8-036454303f9c  2013-03-22 15:47:51   \n",
      "2  027c6245-b07f-4492-94e8-036454303f9c  2013-03-22 15:47:51   \n",
      "\n",
      "                                    MESSAGES_address  \\\n",
      "0                                                      \n",
      "1  {\"ONE_WAY_HASH\":\"953084ee813526fb5a363b8379450...   \n",
      "2  {\"ONE_WAY_HASH\":\"953084ee813526fb5a363b8379450...   \n",
      "\n",
      "                                       MESSAGES_body  MESSAGES_date  \\\n",
      "0                                                                     \n",
      "1  {\"ONE_WAY_HASH\":\"77552e4c9cb80635bf3c8968f6d08...  1363967271656   \n",
      "2  {\"ONE_WAY_HASH\":\"f839bab8a85546d6e17881dcbf26d...  1363967249753   \n",
      "\n",
      "  MESSAGES_locked                                    MESSAGES_person  \\\n",
      "0                                                                      \n",
      "1           False                                                      \n",
      "2           False  {\"ONE_WAY_HASH\":\"7c8d848f32fa1c53815556ee08aa8...   \n",
      "\n",
      "  MESSAGES_protocol MESSAGES_read MESSAGES_reply_path_present  \\\n",
      "0                                                               \n",
      "1                 0          True                       False   \n",
      "2                 0          True                       False   \n",
      "\n",
      "  MESSAGES_service_center MESSAGES_status MESSAGES_subject MESSAGES_thread_id  \\\n",
      "0                                                                               \n",
      "1                                       0                                  10   \n",
      "2            +12063130024              -1                                  10   \n",
      "\n",
      "  MESSAGES_type  uid        date  \n",
      "0                u58  2013-03-27  \n",
      "1             2  u58  2013-03-22  \n",
      "2             1  u58  2013-03-22  \n"
     ]
    }
   ],
   "source": [
    "df_sms = mydb.sms\n",
    "df_sms = DataFrame(list(df_sms.find()))\n",
    "df_sms = df_sms.drop(\"_id\", axis=1)\n",
    "\n",
    "df_sms['timestamp'] = pd.to_datetime(df_sms['timestamp'], unit='s')\n",
    "df_sms['date'] = df_sms['timestamp'].dt.strftime('%Y-%m-%d')\n",
    "df_sms['timestamp'] = df_sms['timestamp'].dt.strftime('%Y-%m-%d %H:%M:%S')\n",
    "\n",
    "print(df_sms.head(3))"
   ]
  },
  {
   "cell_type": "code",
   "execution_count": 6,
   "id": "9e716992-7350-4be4-b4ee-845239f44d27",
   "metadata": {},
   "outputs": [
    {
     "data": {
      "text/html": [
       "<div>\n",
       "<style scoped>\n",
       "    .dataframe tbody tr th:only-of-type {\n",
       "        vertical-align: middle;\n",
       "    }\n",
       "\n",
       "    .dataframe tbody tr th {\n",
       "        vertical-align: top;\n",
       "    }\n",
       "\n",
       "    .dataframe thead th {\n",
       "        text-align: right;\n",
       "    }\n",
       "</style>\n",
       "<table border=\"1\" class=\"dataframe\">\n",
       "  <thead>\n",
       "    <tr style=\"text-align: right;\">\n",
       "      <th></th>\n",
       "      <th>﻿id</th>\n",
       "      <th>device</th>\n",
       "      <th>timestamp</th>\n",
       "      <th>MESSAGES_address</th>\n",
       "      <th>MESSAGES_body</th>\n",
       "      <th>MESSAGES_date</th>\n",
       "      <th>MESSAGES_locked</th>\n",
       "      <th>MESSAGES_person</th>\n",
       "      <th>MESSAGES_protocol</th>\n",
       "      <th>MESSAGES_read</th>\n",
       "      <th>MESSAGES_reply_path_present</th>\n",
       "      <th>MESSAGES_service_center</th>\n",
       "      <th>MESSAGES_status</th>\n",
       "      <th>MESSAGES_subject</th>\n",
       "      <th>MESSAGES_thread_id</th>\n",
       "      <th>MESSAGES_type</th>\n",
       "      <th>uid</th>\n",
       "      <th>date</th>\n",
       "      <th>time_interval</th>\n",
       "    </tr>\n",
       "  </thead>\n",
       "  <tbody>\n",
       "    <tr>\n",
       "      <th>0</th>\n",
       "      <td>c715f4c2-1e91-47eb-8aa4-977bb5e8b715-31</td>\n",
       "      <td>027c6245-b07f-4492-94e8-036454303f9c</td>\n",
       "      <td>2013-03-27 02:21:29</td>\n",
       "      <td></td>\n",
       "      <td></td>\n",
       "      <td></td>\n",
       "      <td></td>\n",
       "      <td></td>\n",
       "      <td></td>\n",
       "      <td></td>\n",
       "      <td></td>\n",
       "      <td></td>\n",
       "      <td></td>\n",
       "      <td></td>\n",
       "      <td></td>\n",
       "      <td></td>\n",
       "      <td>u58</td>\n",
       "      <td>2013-03-27</td>\n",
       "      <td>night</td>\n",
       "    </tr>\n",
       "    <tr>\n",
       "      <th>1</th>\n",
       "      <td>649eb75d-33e7-4c56-88d0-2eec88e95e71-35</td>\n",
       "      <td>027c6245-b07f-4492-94e8-036454303f9c</td>\n",
       "      <td>2013-03-22 15:47:51</td>\n",
       "      <td>{\"ONE_WAY_HASH\":\"953084ee813526fb5a363b8379450...</td>\n",
       "      <td>{\"ONE_WAY_HASH\":\"77552e4c9cb80635bf3c8968f6d08...</td>\n",
       "      <td>1363967271656</td>\n",
       "      <td>False</td>\n",
       "      <td></td>\n",
       "      <td>0</td>\n",
       "      <td>True</td>\n",
       "      <td>False</td>\n",
       "      <td></td>\n",
       "      <td>0</td>\n",
       "      <td></td>\n",
       "      <td>10</td>\n",
       "      <td>2</td>\n",
       "      <td>u58</td>\n",
       "      <td>2013-03-22</td>\n",
       "      <td>afternoon</td>\n",
       "    </tr>\n",
       "    <tr>\n",
       "      <th>2</th>\n",
       "      <td>649eb75d-33e7-4c56-88d0-2eec88e95e71-35</td>\n",
       "      <td>027c6245-b07f-4492-94e8-036454303f9c</td>\n",
       "      <td>2013-03-22 15:47:51</td>\n",
       "      <td>{\"ONE_WAY_HASH\":\"953084ee813526fb5a363b8379450...</td>\n",
       "      <td>{\"ONE_WAY_HASH\":\"f839bab8a85546d6e17881dcbf26d...</td>\n",
       "      <td>1363967249753</td>\n",
       "      <td>False</td>\n",
       "      <td>{\"ONE_WAY_HASH\":\"7c8d848f32fa1c53815556ee08aa8...</td>\n",
       "      <td>0</td>\n",
       "      <td>True</td>\n",
       "      <td>False</td>\n",
       "      <td>+12063130024</td>\n",
       "      <td>-1</td>\n",
       "      <td></td>\n",
       "      <td>10</td>\n",
       "      <td>1</td>\n",
       "      <td>u58</td>\n",
       "      <td>2013-03-22</td>\n",
       "      <td>afternoon</td>\n",
       "    </tr>\n",
       "  </tbody>\n",
       "</table>\n",
       "</div>"
      ],
      "text/plain": [
       "                                       ﻿id  \\\n",
       "0  c715f4c2-1e91-47eb-8aa4-977bb5e8b715-31   \n",
       "1  649eb75d-33e7-4c56-88d0-2eec88e95e71-35   \n",
       "2  649eb75d-33e7-4c56-88d0-2eec88e95e71-35   \n",
       "\n",
       "                                 device           timestamp  \\\n",
       "0  027c6245-b07f-4492-94e8-036454303f9c 2013-03-27 02:21:29   \n",
       "1  027c6245-b07f-4492-94e8-036454303f9c 2013-03-22 15:47:51   \n",
       "2  027c6245-b07f-4492-94e8-036454303f9c 2013-03-22 15:47:51   \n",
       "\n",
       "                                    MESSAGES_address  \\\n",
       "0                                                      \n",
       "1  {\"ONE_WAY_HASH\":\"953084ee813526fb5a363b8379450...   \n",
       "2  {\"ONE_WAY_HASH\":\"953084ee813526fb5a363b8379450...   \n",
       "\n",
       "                                       MESSAGES_body  MESSAGES_date  \\\n",
       "0                                                                     \n",
       "1  {\"ONE_WAY_HASH\":\"77552e4c9cb80635bf3c8968f6d08...  1363967271656   \n",
       "2  {\"ONE_WAY_HASH\":\"f839bab8a85546d6e17881dcbf26d...  1363967249753   \n",
       "\n",
       "  MESSAGES_locked                                    MESSAGES_person  \\\n",
       "0                                                                      \n",
       "1           False                                                      \n",
       "2           False  {\"ONE_WAY_HASH\":\"7c8d848f32fa1c53815556ee08aa8...   \n",
       "\n",
       "  MESSAGES_protocol MESSAGES_read MESSAGES_reply_path_present  \\\n",
       "0                                                               \n",
       "1                 0          True                       False   \n",
       "2                 0          True                       False   \n",
       "\n",
       "  MESSAGES_service_center MESSAGES_status MESSAGES_subject MESSAGES_thread_id  \\\n",
       "0                                                                               \n",
       "1                                       0                                  10   \n",
       "2            +12063130024              -1                                  10   \n",
       "\n",
       "  MESSAGES_type  uid        date time_interval  \n",
       "0                u58  2013-03-27         night  \n",
       "1             2  u58  2013-03-22     afternoon  \n",
       "2             1  u58  2013-03-22     afternoon  "
      ]
     },
     "execution_count": 6,
     "metadata": {},
     "output_type": "execute_result"
    }
   ],
   "source": [
    "morning_start_time = time(6, 0, 0)     # 6:00 AM\n",
    "afternoon_start_time = time(12, 0, 0)  # 12:00 PM\n",
    "evening_start_time = time(18, 0, 0)    # 6:00 PM\n",
    "night_start_time = time(0, 0, 0)       # 12:00 AM (midnight)\n",
    "\n",
    "df_sms['timestamp'] = pd.to_datetime(df_sms['timestamp'])\n",
    "df_sms['time'] = df_sms['timestamp'].dt.time\n",
    "\n",
    "def categorize_time_interval(timestamp):\n",
    "    current_time = timestamp.time()\n",
    "    \n",
    "    if morning_start_time <= current_time < afternoon_start_time:\n",
    "        return \"morning\"\n",
    "    elif afternoon_start_time <= current_time < evening_start_time:\n",
    "        return \"afternoon\"\n",
    "    elif evening_start_time <= current_time <= time(23, 59, 59):\n",
    "        return \"evening\"\n",
    "    else:\n",
    "        return \"night\"\n",
    "\n",
    "df_sms['time_interval'] = df_sms['timestamp'].apply(categorize_time_interval)\n",
    "df_sms = df_sms.drop(\"time\", axis=1)\n",
    "df_sms.head(3)"
   ]
  },
  {
   "cell_type": "code",
   "execution_count": 7,
   "id": "c943e2cb-1a65-479b-9a2e-d3424216318f",
   "metadata": {},
   "outputs": [
    {
     "name": "stdout",
     "output_type": "stream",
     "text": [
      "92584\n",
      "36880\n"
     ]
    },
    {
     "data": {
      "text/plain": [
       "Index(['﻿id', 'device', 'timestamp', 'MESSAGES_address', 'MESSAGES_body',\n",
       "       'MESSAGES_date', 'MESSAGES_locked', 'MESSAGES_person',\n",
       "       'MESSAGES_protocol', 'MESSAGES_read', 'MESSAGES_reply_path_present',\n",
       "       'MESSAGES_service_center', 'MESSAGES_status', 'MESSAGES_subject',\n",
       "       'MESSAGES_thread_id', 'MESSAGES_type', 'uid', 'date', 'time_interval'],\n",
       "      dtype='object')"
      ]
     },
     "execution_count": 7,
     "metadata": {},
     "output_type": "execute_result"
    }
   ],
   "source": [
    "print(len(df_sms))\n",
    "df_sms = df_sms.dropna()\n",
    "print(len(df_sms))\n",
    "df_sms.columns"
   ]
  },
  {
   "cell_type": "code",
   "execution_count": 8,
   "id": "d484a49a-906b-4cec-8d35-01cf7b7a7af8",
   "metadata": {},
   "outputs": [],
   "source": [
    "len(df_sms['MESSAGES_address'].unique())\n",
    "df_data_sms = DataFrame()"
   ]
  },
  {
   "cell_type": "code",
   "execution_count": 9,
   "id": "3439fb5f-7d46-43d0-8604-7f15e9fde21d",
   "metadata": {},
   "outputs": [],
   "source": [
    "def calculate_sms_information(uid, df_sms):\n",
    "    user_data = df_sms[df_sms['uid'] == uid]\n",
    "    \n",
    "    sms_info = []\n",
    "    \n",
    "    grouped_by_date = user_data.groupby('date')\n",
    "    \n",
    "    for date, group in grouped_by_date:\n",
    "        unique_sms_morning = 0\n",
    "        unique_sms_afternoon = 0\n",
    "        unique_sms_evening = 0\n",
    "        unique_sms_night = 0\n",
    "        \n",
    "        grouped_by_time_interval = group.groupby('time_interval')\n",
    "        \n",
    "        for time_interval, time_interval_group in grouped_by_time_interval:\n",
    "            unique_sms_interval = time_interval_group['MESSAGES_address'].nunique()\n",
    "            \n",
    "            if time_interval == 'morning':\n",
    "                unique_sms_morning = unique_sms_interval\n",
    "            elif time_interval == 'afternoon':\n",
    "                unique_sms_afternoon = unique_sms_interval\n",
    "            elif time_interval == 'evening':\n",
    "                unique_sms_evening = unique_sms_interval\n",
    "            elif time_interval == 'night':\n",
    "                unique_sms_night = unique_sms_interval\n",
    "        sms_info.append([uid, date, unique_sms_morning, unique_sms_afternoon, unique_sms_evening, unique_sms_night])\n",
    "    \n",
    "    columns = ['uid', 'date', 'number of sms in morning', 'number of sms in afternoon', 'number of sms in evening', 'number of sms in night']\n",
    "    result_df = pd.DataFrame(sms_info, columns=columns)\n",
    "    \n",
    "    return result_df"
   ]
  },
  {
   "cell_type": "code",
   "execution_count": 10,
   "id": "89c7b37e-e776-43c1-8c62-0c0ee2edb7d6",
   "metadata": {},
   "outputs": [
    {
     "name": "stderr",
     "output_type": "stream",
     "text": [
      " 22%|█████████▋                                 | 11/49 [00:00<00:00, 97.04it/s]"
     ]
    },
    {
     "name": "stdout",
     "output_type": "stream",
     "text": [
      "u00\n",
      "u01\n",
      "u02\n",
      "u03\n",
      "u04\n",
      "u05\n",
      "u07\n",
      "u08\n",
      "u09\n",
      "u10\n",
      "u12\n",
      "u13\n",
      "u14\n",
      "u15\n",
      "u16\n",
      "u17\n",
      "u18\n",
      "u19\n",
      "u20\n",
      "u22\n",
      "u23\n",
      "u24\n",
      "u25\n",
      "u27\n",
      "u30\n",
      "u31\n",
      "u32\n",
      "u33\n",
      "u34\n",
      "u35\n",
      "u36\n"
     ]
    },
    {
     "name": "stderr",
     "output_type": "stream",
     "text": [
      "100%|██████████████████████████████████████████| 49/49 [00:00<00:00, 130.12it/s]"
     ]
    },
    {
     "name": "stdout",
     "output_type": "stream",
     "text": [
      "u39\n",
      "u41\n",
      "u42\n",
      "u43\n",
      "u44\n",
      "u45\n",
      "u46\n",
      "u47\n",
      "u49\n",
      "u50\n",
      "u51\n",
      "u52\n",
      "u53\n",
      "u54\n",
      "u56\n",
      "u57\n",
      "u58\n",
      "u59\n"
     ]
    },
    {
     "name": "stderr",
     "output_type": "stream",
     "text": [
      "\n"
     ]
    }
   ],
   "source": [
    "for uid in tqdm(student_uid):\n",
    "    print(uid)\n",
    "    df = calculate_sms_information(uid, df_sms)\n",
    "    frames = [df_data_sms, df]\n",
    "    df_data_sms = pd.concat(frames, ignore_index=True)"
   ]
  },
  {
   "cell_type": "code",
   "execution_count": 11,
   "id": "2bcad821-957d-43c9-ae01-b77d63de1873",
   "metadata": {},
   "outputs": [
    {
     "data": {
      "text/plain": [
       "974"
      ]
     },
     "execution_count": 11,
     "metadata": {},
     "output_type": "execute_result"
    }
   ],
   "source": [
    "len(df_data_sms)"
   ]
  },
  {
   "cell_type": "code",
   "execution_count": 12,
   "id": "d600d424-361e-43b5-b8e8-c10231c9b83c",
   "metadata": {},
   "outputs": [],
   "source": [
    "# number of calls"
   ]
  },
  {
   "cell_type": "code",
   "execution_count": 13,
   "id": "30ca623a-aa82-45f0-ba66-df90e0a4823f",
   "metadata": {},
   "outputs": [],
   "source": [
    "df_call = mydb.call_log\n",
    "df_call = DataFrame(list(df_call.find()))\n",
    "df_call = df_call.drop(\"_id\", axis=1)"
   ]
  },
  {
   "cell_type": "code",
   "execution_count": 14,
   "id": "752db492-7a6c-4b35-b4b7-875f3bffac4a",
   "metadata": {},
   "outputs": [],
   "source": [
    "df_call['timestamp'] = pd.to_datetime(df_call['timestamp'], unit='s')\n",
    "df_call['date'] = df_call['timestamp'].dt.strftime('%Y-%m-%d')\n",
    "df_call['timestamp'] = df_call['timestamp'].dt.strftime('%Y-%m-%d %H:%M:%S')"
   ]
  },
  {
   "cell_type": "code",
   "execution_count": 15,
   "id": "321f875a-ec28-4bf1-8901-45de6caa59ca",
   "metadata": {},
   "outputs": [
    {
     "data": {
      "text/html": [
       "<div>\n",
       "<style scoped>\n",
       "    .dataframe tbody tr th:only-of-type {\n",
       "        vertical-align: middle;\n",
       "    }\n",
       "\n",
       "    .dataframe tbody tr th {\n",
       "        vertical-align: top;\n",
       "    }\n",
       "\n",
       "    .dataframe thead th {\n",
       "        text-align: right;\n",
       "    }\n",
       "</style>\n",
       "<table border=\"1\" class=\"dataframe\">\n",
       "  <thead>\n",
       "    <tr style=\"text-align: right;\">\n",
       "      <th></th>\n",
       "      <th>﻿id</th>\n",
       "      <th>device</th>\n",
       "      <th>timestamp</th>\n",
       "      <th>CALLS__id</th>\n",
       "      <th>CALLS_date</th>\n",
       "      <th>CALLS_duration</th>\n",
       "      <th>CALLS_name</th>\n",
       "      <th>CALLS_number</th>\n",
       "      <th>CALLS_numberlabel</th>\n",
       "      <th>CALLS_numbertype</th>\n",
       "      <th>CALLS_type</th>\n",
       "      <th>uid</th>\n",
       "      <th>date</th>\n",
       "      <th>time_interval</th>\n",
       "    </tr>\n",
       "  </thead>\n",
       "  <tbody>\n",
       "    <tr>\n",
       "      <th>0</th>\n",
       "      <td>4ab7e35d-026c-487f-ab00-5acf91bce8c3-40</td>\n",
       "      <td>661f40c2-3f4a-412b-9d04-cf49dd4bfe93</td>\n",
       "      <td>2013-03-27 01:48:55</td>\n",
       "      <td></td>\n",
       "      <td></td>\n",
       "      <td></td>\n",
       "      <td></td>\n",
       "      <td></td>\n",
       "      <td></td>\n",
       "      <td></td>\n",
       "      <td></td>\n",
       "      <td>u57</td>\n",
       "      <td>2013-03-27</td>\n",
       "      <td>night</td>\n",
       "    </tr>\n",
       "    <tr>\n",
       "      <th>1</th>\n",
       "      <td>2c8deb53-7d0a-453d-94cc-b4af9ee5fd05-22</td>\n",
       "      <td>661f40c2-3f4a-412b-9d04-cf49dd4bfe93</td>\n",
       "      <td>2013-03-24 19:38:05</td>\n",
       "      <td>23908</td>\n",
       "      <td>1364153885796</td>\n",
       "      <td>33</td>\n",
       "      <td>{\"ONE_WAY_HASH\":\"efac29c054f9ce222c9fa485441fe...</td>\n",
       "      <td>{\"ONE_WAY_HASH\":\"ebcea50db44772a5a7287160c2589...</td>\n",
       "      <td></td>\n",
       "      <td>{\"ONE_WAY_HASH\":\"da4b9237bacccdf19c0760cab7aec...</td>\n",
       "      <td>1</td>\n",
       "      <td>u57</td>\n",
       "      <td>2013-03-24</td>\n",
       "      <td>evening</td>\n",
       "    </tr>\n",
       "    <tr>\n",
       "      <th>2</th>\n",
       "      <td>ebf1cb59-e1bb-445d-ae70-b19758165f77-138</td>\n",
       "      <td>661f40c2-3f4a-412b-9d04-cf49dd4bfe93</td>\n",
       "      <td>2013-03-27 02:48:55</td>\n",
       "      <td></td>\n",
       "      <td></td>\n",
       "      <td></td>\n",
       "      <td></td>\n",
       "      <td></td>\n",
       "      <td></td>\n",
       "      <td></td>\n",
       "      <td></td>\n",
       "      <td>u57</td>\n",
       "      <td>2013-03-27</td>\n",
       "      <td>night</td>\n",
       "    </tr>\n",
       "  </tbody>\n",
       "</table>\n",
       "</div>"
      ],
      "text/plain": [
       "                                        ﻿id  \\\n",
       "0   4ab7e35d-026c-487f-ab00-5acf91bce8c3-40   \n",
       "1   2c8deb53-7d0a-453d-94cc-b4af9ee5fd05-22   \n",
       "2  ebf1cb59-e1bb-445d-ae70-b19758165f77-138   \n",
       "\n",
       "                                 device           timestamp CALLS__id  \\\n",
       "0  661f40c2-3f4a-412b-9d04-cf49dd4bfe93 2013-03-27 01:48:55             \n",
       "1  661f40c2-3f4a-412b-9d04-cf49dd4bfe93 2013-03-24 19:38:05     23908   \n",
       "2  661f40c2-3f4a-412b-9d04-cf49dd4bfe93 2013-03-27 02:48:55             \n",
       "\n",
       "      CALLS_date CALLS_duration  \\\n",
       "0                                 \n",
       "1  1364153885796             33   \n",
       "2                                 \n",
       "\n",
       "                                          CALLS_name  \\\n",
       "0                                                      \n",
       "1  {\"ONE_WAY_HASH\":\"efac29c054f9ce222c9fa485441fe...   \n",
       "2                                                      \n",
       "\n",
       "                                        CALLS_number CALLS_numberlabel  \\\n",
       "0                                                                        \n",
       "1  {\"ONE_WAY_HASH\":\"ebcea50db44772a5a7287160c2589...                     \n",
       "2                                                                        \n",
       "\n",
       "                                    CALLS_numbertype CALLS_type  uid  \\\n",
       "0                                                                u57   \n",
       "1  {\"ONE_WAY_HASH\":\"da4b9237bacccdf19c0760cab7aec...          1  u57   \n",
       "2                                                                u57   \n",
       "\n",
       "         date time_interval  \n",
       "0  2013-03-27         night  \n",
       "1  2013-03-24       evening  \n",
       "2  2013-03-27         night  "
      ]
     },
     "execution_count": 15,
     "metadata": {},
     "output_type": "execute_result"
    }
   ],
   "source": [
    "morning_start_time = time(6, 0, 0)     # 6:00 AM\n",
    "afternoon_start_time = time(12, 0, 0)  # 12:00 PM\n",
    "evening_start_time = time(18, 0, 0)    # 6:00 PM\n",
    "night_start_time = time(0, 0, 0)       # 12:00 AM (midnight)\n",
    "\n",
    "df_call['timestamp'] = pd.to_datetime(df_call['timestamp'])\n",
    "df_call['time'] = df_call['timestamp'].dt.time\n",
    "\n",
    "def categorize_time_interval(timestamp):\n",
    "    current_time = timestamp.time()\n",
    "    \n",
    "    if morning_start_time <= current_time < afternoon_start_time:\n",
    "        return \"morning\"\n",
    "    elif afternoon_start_time <= current_time < evening_start_time:\n",
    "        return \"afternoon\"\n",
    "    elif evening_start_time <= current_time <= time(23, 59, 59):\n",
    "        return \"evening\"\n",
    "    else:\n",
    "        return \"night\"\n",
    "\n",
    "df_call['time_interval'] = df_call['timestamp'].apply(categorize_time_interval)\n",
    "df_call = df_call.drop(\"time\", axis=1)\n",
    "df_call.head(3)"
   ]
  },
  {
   "cell_type": "code",
   "execution_count": 16,
   "id": "fdf70ff4-2c6f-4217-86c8-085d8eab13c4",
   "metadata": {},
   "outputs": [
    {
     "name": "stdout",
     "output_type": "stream",
     "text": [
      "67173\n"
     ]
    },
    {
     "data": {
      "text/plain": [
       "﻿id                      0\n",
       "device                   0\n",
       "timestamp                0\n",
       "CALLS__id            37550\n",
       "CALLS_date           37550\n",
       "CALLS_duration       37550\n",
       "CALLS_name           37550\n",
       "CALLS_number         37550\n",
       "CALLS_numberlabel    37550\n",
       "CALLS_numbertype     37550\n",
       "CALLS_type           37550\n",
       "uid                      0\n",
       "date                     0\n",
       "time_interval            0\n",
       "dtype: int64"
      ]
     },
     "execution_count": 16,
     "metadata": {},
     "output_type": "execute_result"
    }
   ],
   "source": [
    "print(len(df_call))\n",
    "df_call.isnull().sum()"
   ]
  },
  {
   "cell_type": "code",
   "execution_count": 17,
   "id": "62aa1e05-9b9a-4b64-9cb2-990058ca44c7",
   "metadata": {},
   "outputs": [
    {
     "name": "stdout",
     "output_type": "stream",
     "text": [
      "29623\n"
     ]
    },
    {
     "data": {
      "text/plain": [
       "Index(['﻿id', 'device', 'timestamp', 'CALLS__id', 'CALLS_date',\n",
       "       'CALLS_duration', 'CALLS_name', 'CALLS_number', 'CALLS_numberlabel',\n",
       "       'CALLS_numbertype', 'CALLS_type', 'uid', 'date', 'time_interval'],\n",
       "      dtype='object')"
      ]
     },
     "execution_count": 17,
     "metadata": {},
     "output_type": "execute_result"
    }
   ],
   "source": [
    "df_call = df_call.dropna()\n",
    "print(len(df_call))\n",
    "df_call.columns"
   ]
  },
  {
   "cell_type": "code",
   "execution_count": 18,
   "id": "0fe8b289-2110-4a66-8a7c-9ad222cfb35d",
   "metadata": {},
   "outputs": [],
   "source": [
    "len(df_call['CALLS__id'].unique())\n",
    "df_data_call = DataFrame()"
   ]
  },
  {
   "cell_type": "code",
   "execution_count": 19,
   "id": "e9c4f23f-ba11-4a9d-b850-829fea426152",
   "metadata": {},
   "outputs": [],
   "source": [
    "def calculate_call_information(uid, df_call):\n",
    "    user_data = df_call[df_call['uid'] == uid]\n",
    "    \n",
    "    call_info = []\n",
    "    \n",
    "    grouped_by_date = user_data.groupby('date')\n",
    "    \n",
    "    for date, group in grouped_by_date:\n",
    "        unique_call_morning = 0\n",
    "        unique_call_afternoon = 0\n",
    "        unique_call_evening = 0\n",
    "        unique_call_night = 0\n",
    "        \n",
    "        grouped_by_time_interval = group.groupby('time_interval')\n",
    "        \n",
    "        for time_interval, time_interval_group in grouped_by_time_interval:\n",
    "            unique_call_interval = time_interval_group['CALLS__id'].nunique()\n",
    "            \n",
    "            if time_interval == 'morning':\n",
    "                unique_call_morning = unique_call_interval\n",
    "            elif time_interval == 'afternoon':\n",
    "                unique_call_afternoon = unique_call_interval\n",
    "            elif time_interval == 'evening':\n",
    "                unique_call_evening = unique_call_interval\n",
    "            elif time_interval == 'night':\n",
    "                unique_call_night = unique_call_interval\n",
    "        \n",
    "        call_info.append([uid, date, unique_call_morning, unique_call_afternoon, unique_call_evening, unique_call_night])\n",
    "    \n",
    "    columns = ['uid', 'date', 'number of call in morning', 'number of call in afternoon', 'number of call in evening', 'number of call in night']\n",
    "    result_df = pd.DataFrame(call_info, columns=columns)\n",
    "    \n",
    "    return result_df"
   ]
  },
  {
   "cell_type": "code",
   "execution_count": 20,
   "id": "a2bf2037-e868-49ad-9672-ecd3eecace42",
   "metadata": {},
   "outputs": [
    {
     "name": "stderr",
     "output_type": "stream",
     "text": [
      " 24%|██████████▎                               | 12/49 [00:00<00:00, 102.15it/s]"
     ]
    },
    {
     "name": "stdout",
     "output_type": "stream",
     "text": [
      "u00\n",
      "u01\n",
      "u02\n",
      "u03\n",
      "u04\n",
      "u05\n",
      "u07\n",
      "u08\n",
      "u09\n",
      "u10\n",
      "u12\n",
      "u13\n",
      "u14\n",
      "u15\n",
      "u16\n",
      "u17\n",
      "u18\n",
      "u19\n",
      "u20\n",
      "u22\n",
      "u23\n",
      "u24\n",
      "u25\n",
      "u27\n",
      "u30\n",
      "u31\n",
      "u32\n",
      "u33\n",
      "u34\n",
      "u35\n",
      "u36\n",
      "u39\n",
      "u41\n",
      "u42\n",
      "u43\n",
      "u44\n",
      "u45\n",
      "u46\n"
     ]
    },
    {
     "name": "stderr",
     "output_type": "stream",
     "text": [
      " 78%|████████████████████████████████▌         | 38/49 [00:00<00:00, 183.17it/s]"
     ]
    },
    {
     "name": "stdout",
     "output_type": "stream",
     "text": [
      "u47\n",
      "u49\n",
      "u50\n",
      "u51\n",
      "u52\n",
      "u53\n",
      "u54\n",
      "u56\n",
      "u57\n",
      "u58\n",
      "u59\n"
     ]
    },
    {
     "name": "stderr",
     "output_type": "stream",
     "text": [
      "100%|██████████████████████████████████████████| 49/49 [00:00<00:00, 111.89it/s]\n"
     ]
    }
   ],
   "source": [
    "for uid in tqdm(student_uid):\n",
    "    print(uid)\n",
    "    df = calculate_call_information(uid, df_call)\n",
    "    frames = [df_data_call, df]\n",
    "    df_data_call = pd.concat(frames, ignore_index=True)"
   ]
  },
  {
   "cell_type": "code",
   "execution_count": 21,
   "id": "29180d91-a2ba-49c8-9266-a9aec7645e3b",
   "metadata": {},
   "outputs": [
    {
     "name": "stdout",
     "output_type": "stream",
     "text": [
      "1331\n"
     ]
    },
    {
     "data": {
      "text/html": [
       "<div>\n",
       "<style scoped>\n",
       "    .dataframe tbody tr th:only-of-type {\n",
       "        vertical-align: middle;\n",
       "    }\n",
       "\n",
       "    .dataframe tbody tr th {\n",
       "        vertical-align: top;\n",
       "    }\n",
       "\n",
       "    .dataframe thead th {\n",
       "        text-align: right;\n",
       "    }\n",
       "</style>\n",
       "<table border=\"1\" class=\"dataframe\">\n",
       "  <thead>\n",
       "    <tr style=\"text-align: right;\">\n",
       "      <th></th>\n",
       "      <th>uid</th>\n",
       "      <th>date</th>\n",
       "      <th>number of call in morning</th>\n",
       "      <th>number of call in afternoon</th>\n",
       "      <th>number of call in evening</th>\n",
       "      <th>number of call in night</th>\n",
       "    </tr>\n",
       "  </thead>\n",
       "  <tbody>\n",
       "    <tr>\n",
       "      <th>0</th>\n",
       "      <td>u00</td>\n",
       "      <td>2013-03-23</td>\n",
       "      <td>0</td>\n",
       "      <td>0</td>\n",
       "      <td>1</td>\n",
       "      <td>0</td>\n",
       "    </tr>\n",
       "    <tr>\n",
       "      <th>1</th>\n",
       "      <td>u00</td>\n",
       "      <td>2013-03-24</td>\n",
       "      <td>1</td>\n",
       "      <td>1</td>\n",
       "      <td>2</td>\n",
       "      <td>1</td>\n",
       "    </tr>\n",
       "    <tr>\n",
       "      <th>2</th>\n",
       "      <td>u00</td>\n",
       "      <td>2013-03-25</td>\n",
       "      <td>1</td>\n",
       "      <td>2</td>\n",
       "      <td>2</td>\n",
       "      <td>1</td>\n",
       "    </tr>\n",
       "  </tbody>\n",
       "</table>\n",
       "</div>"
      ],
      "text/plain": [
       "   uid        date number of call in morning number of call in afternoon  \\\n",
       "0  u00  2013-03-23                         0                           0   \n",
       "1  u00  2013-03-24                         1                           1   \n",
       "2  u00  2013-03-25                         1                           2   \n",
       "\n",
       "  number of call in evening number of call in night  \n",
       "0                         1                       0  \n",
       "1                         2                       1  \n",
       "2                         2                       1  "
      ]
     },
     "execution_count": 21,
     "metadata": {},
     "output_type": "execute_result"
    }
   ],
   "source": [
    "print(len(df_data_call))\n",
    "df_data_call.head(3)"
   ]
  },
  {
   "cell_type": "code",
   "execution_count": 22,
   "id": "5040dd55-377e-44a8-812d-da0c4eeaff95",
   "metadata": {},
   "outputs": [
    {
     "name": "stdout",
     "output_type": "stream",
     "text": [
      "1331\n",
      "1331\n"
     ]
    }
   ],
   "source": [
    "print(len(df_data_call))\n",
    "df_data_call = df_data_call.dropna()\n",
    "print(len(df_data_call))"
   ]
  },
  {
   "cell_type": "code",
   "execution_count": 23,
   "id": "c4ffaf49-8f45-480e-93d4-1d282dc245ce",
   "metadata": {},
   "outputs": [],
   "source": [
    "# number of Bluetooth contacts"
   ]
  },
  {
   "cell_type": "code",
   "execution_count": 24,
   "id": "f5bb8a7f-8826-475c-9a75-c3bf99930510",
   "metadata": {},
   "outputs": [],
   "source": [
    "df_blue = mydb.bluetooth\n",
    "df_blue = DataFrame(list(df_blue.find()))\n",
    "df_blue = df_blue.drop(\"_id\", axis=1)\n",
    "\n",
    "df_blue['timestamp'] = pd.to_datetime(df_blue['timestamp'], unit='s')\n",
    "df_blue['date'] = df_blue['timestamp'].dt.strftime('%Y-%m-%d')\n",
    "df_blue['timestamp'] = df_blue['timestamp'].dt.strftime('%Y-%m-%d %H:%M:%S')"
   ]
  },
  {
   "cell_type": "code",
   "execution_count": 25,
   "id": "1407d15d-ed6c-4919-a566-5d4ca1fd94a0",
   "metadata": {},
   "outputs": [
    {
     "data": {
      "text/html": [
       "<div>\n",
       "<style scoped>\n",
       "    .dataframe tbody tr th:only-of-type {\n",
       "        vertical-align: middle;\n",
       "    }\n",
       "\n",
       "    .dataframe tbody tr th {\n",
       "        vertical-align: top;\n",
       "    }\n",
       "\n",
       "    .dataframe thead th {\n",
       "        text-align: right;\n",
       "    }\n",
       "</style>\n",
       "<table border=\"1\" class=\"dataframe\">\n",
       "  <thead>\n",
       "    <tr style=\"text-align: right;\">\n",
       "      <th></th>\n",
       "      <th>MAC</th>\n",
       "      <th>class_id</th>\n",
       "      <th>level</th>\n",
       "      <th>uid</th>\n",
       "      <th>timestamp</th>\n",
       "      <th>date</th>\n",
       "      <th>time_interval</th>\n",
       "    </tr>\n",
       "  </thead>\n",
       "  <tbody>\n",
       "    <tr>\n",
       "      <th>0</th>\n",
       "      <td>00:1E:C2:8F:C8:E1</td>\n",
       "      <td>3670276</td>\n",
       "      <td>-84</td>\n",
       "      <td>u45</td>\n",
       "      <td>2013-03-27 18:57:49</td>\n",
       "      <td>2013-03-27</td>\n",
       "      <td>evening</td>\n",
       "    </tr>\n",
       "    <tr>\n",
       "      <th>1</th>\n",
       "      <td>00:1E:C2:8F:C8:E1</td>\n",
       "      <td>3670276</td>\n",
       "      <td>-72</td>\n",
       "      <td>u45</td>\n",
       "      <td>2013-03-27 19:18:10</td>\n",
       "      <td>2013-03-27</td>\n",
       "      <td>evening</td>\n",
       "    </tr>\n",
       "    <tr>\n",
       "      <th>2</th>\n",
       "      <td>00:1E:C2:8F:C8:E1</td>\n",
       "      <td>3670276</td>\n",
       "      <td>-77</td>\n",
       "      <td>u45</td>\n",
       "      <td>2013-04-01 21:45:55</td>\n",
       "      <td>2013-04-01</td>\n",
       "      <td>evening</td>\n",
       "    </tr>\n",
       "  </tbody>\n",
       "</table>\n",
       "</div>"
      ],
      "text/plain": [
       "                 MAC class_id level  uid           timestamp        date  \\\n",
       "0  00:1E:C2:8F:C8:E1  3670276   -84  u45 2013-03-27 18:57:49  2013-03-27   \n",
       "1  00:1E:C2:8F:C8:E1  3670276   -72  u45 2013-03-27 19:18:10  2013-03-27   \n",
       "2  00:1E:C2:8F:C8:E1  3670276   -77  u45 2013-04-01 21:45:55  2013-04-01   \n",
       "\n",
       "  time_interval  \n",
       "0       evening  \n",
       "1       evening  \n",
       "2       evening  "
      ]
     },
     "execution_count": 25,
     "metadata": {},
     "output_type": "execute_result"
    }
   ],
   "source": [
    "morning_start_time = time(6, 0, 0)     # 6:00 AM\n",
    "afternoon_start_time = time(12, 0, 0)  # 12:00 PM\n",
    "evening_start_time = time(18, 0, 0)    # 6:00 PM\n",
    "night_start_time = time(0, 0, 0)       # 12:00 AM (midnight)\n",
    "\n",
    "df_blue['timestamp'] = pd.to_datetime(df_blue['timestamp'])\n",
    "df_blue['time'] = df_blue['timestamp'].dt.time\n",
    "\n",
    "def categorize_time_interval(timestamp):\n",
    "    current_time = timestamp.time()\n",
    "    \n",
    "    if morning_start_time <= current_time < afternoon_start_time:\n",
    "        return \"morning\"\n",
    "    elif afternoon_start_time <= current_time < evening_start_time:\n",
    "        return \"afternoon\"\n",
    "    elif evening_start_time <= current_time <= time(23, 59, 59):\n",
    "        return \"evening\"\n",
    "    else:\n",
    "        return \"night\"\n",
    "\n",
    "df_blue['time_interval'] = df_blue['timestamp'].apply(categorize_time_interval)\n",
    "df_blue = df_blue.drop(\"time\", axis=1)\n",
    "df_blue.head(3)"
   ]
  },
  {
   "cell_type": "code",
   "execution_count": 26,
   "id": "ec234884-5aeb-422a-8087-1fe8bee7cef3",
   "metadata": {},
   "outputs": [
    {
     "name": "stdout",
     "output_type": "stream",
     "text": [
      "250695\n"
     ]
    },
    {
     "data": {
      "text/plain": [
       "MAC              0\n",
       "class_id         0\n",
       "level            0\n",
       "uid              0\n",
       "timestamp        0\n",
       "date             0\n",
       "time_interval    0\n",
       "dtype: int64"
      ]
     },
     "execution_count": 26,
     "metadata": {},
     "output_type": "execute_result"
    }
   ],
   "source": [
    "print(len(df_blue))\n",
    "df_blue.isnull().sum()"
   ]
  },
  {
   "cell_type": "code",
   "execution_count": 27,
   "id": "7140d9f5-82ff-49bd-a1e2-fb6c25ebe7eb",
   "metadata": {},
   "outputs": [],
   "source": [
    "def calculate_bluetooth_information(uid, df_blue):\n",
    "    user_data = df_blue[df_blue['uid'] == uid]\n",
    "    \n",
    "    blue_info = []\n",
    "    \n",
    "    grouped_by_date = user_data.groupby('date')\n",
    "    \n",
    "    for date, group in grouped_by_date:\n",
    "        unique_bluetooth_morning = 0\n",
    "        unique_bluetooth_afternoon = 0\n",
    "        unique_bluetooth_evening = 0\n",
    "        unique_bluetooth_night = 0\n",
    "        \n",
    "        grouped_by_time_interval = group.groupby('time_interval')\n",
    "        \n",
    "        for time_interval, time_interval_group in grouped_by_time_interval:\n",
    "            unique_bluetooth_contacts_interval = time_interval_group['MAC'].nunique()\n",
    "            \n",
    "            if time_interval == 'morning':\n",
    "                unique_bluetooth_morning = unique_bluetooth_contacts_interval\n",
    "            if time_interval == 'afternoon':\n",
    "                unique_bluetooth_afternoon = unique_bluetooth_contacts_interval\n",
    "            elif time_interval == 'evening':\n",
    "                unique_bluetooth_evening = unique_bluetooth_contacts_interval\n",
    "            elif time_interval == 'night':\n",
    "                unique_bluetooth_night = unique_bluetooth_contacts_interval\n",
    "        \n",
    "        blue_info.append([uid, date, unique_bluetooth_morning, unique_bluetooth_afternoon, unique_bluetooth_evening, unique_bluetooth_night])\n",
    "    \n",
    "    columns = ['uid', 'date', 'number of Bluetooth contacts morning', 'number of Bluetooth contacts afternoon', 'number of Bluetooth contacts evening', 'number of Bluetooth contacts night']\n",
    "    result_df = pd.DataFrame(blue_info, columns=columns)\n",
    "    \n",
    "    return result_df"
   ]
  },
  {
   "cell_type": "code",
   "execution_count": 28,
   "id": "860f57f0-2139-4996-a711-86b7edd4523b",
   "metadata": {},
   "outputs": [
    {
     "name": "stdout",
     "output_type": "stream",
     "text": [
      "250695\n"
     ]
    }
   ],
   "source": [
    "print(len(df_blue))\n",
    "df_data_bluetooth = DataFrame()"
   ]
  },
  {
   "cell_type": "code",
   "execution_count": 29,
   "id": "7a5e7ff4-c31d-47df-831c-9975b5f57f0e",
   "metadata": {},
   "outputs": [
    {
     "name": "stderr",
     "output_type": "stream",
     "text": [
      "  6%|██▋                                         | 3/49 [00:00<00:01, 27.05it/s]"
     ]
    },
    {
     "name": "stdout",
     "output_type": "stream",
     "text": [
      "u00\n",
      "u01\n",
      "u02\n",
      "u03\n",
      "u04\n",
      "u05\n"
     ]
    },
    {
     "name": "stderr",
     "output_type": "stream",
     "text": [
      " 12%|█████▍                                      | 6/49 [00:00<00:01, 27.66it/s]"
     ]
    },
    {
     "name": "stdout",
     "output_type": "stream",
     "text": [
      "u07\n"
     ]
    },
    {
     "name": "stderr",
     "output_type": "stream",
     "text": [
      " 18%|████████                                    | 9/49 [00:00<00:01, 27.83it/s]"
     ]
    },
    {
     "name": "stdout",
     "output_type": "stream",
     "text": [
      "u08\n",
      "u09\n",
      "u10\n",
      "u12\n",
      "u13\n"
     ]
    },
    {
     "name": "stderr",
     "output_type": "stream",
     "text": [
      " 24%|██████████▌                                | 12/49 [00:00<00:01, 27.32it/s]"
     ]
    },
    {
     "name": "stdout",
     "output_type": "stream",
     "text": [
      "u14\n",
      "u15\n"
     ]
    },
    {
     "name": "stderr",
     "output_type": "stream",
     "text": [
      " 37%|███████████████▊                           | 18/49 [00:00<00:01, 28.46it/s]"
     ]
    },
    {
     "name": "stdout",
     "output_type": "stream",
     "text": [
      "u16\n",
      "u17\n",
      "u18\n",
      "u19\n",
      "u20\n",
      "u22\n",
      "u23\n"
     ]
    },
    {
     "name": "stderr",
     "output_type": "stream",
     "text": [
      " 51%|█████████████████████▉                     | 25/49 [00:00<00:00, 29.27it/s]"
     ]
    },
    {
     "name": "stdout",
     "output_type": "stream",
     "text": [
      "u24\n",
      "u25\n",
      "u27\n",
      "u30\n",
      "u31\n",
      "u32\n",
      "u33\n"
     ]
    },
    {
     "name": "stderr",
     "output_type": "stream",
     "text": [
      " 63%|███████████████████████████▏               | 31/49 [00:01<00:00, 28.20it/s]"
     ]
    },
    {
     "name": "stdout",
     "output_type": "stream",
     "text": [
      "u34\n",
      "u35\n",
      "u36\n",
      "u39\n",
      "u41\n",
      "u42\n",
      "u43\n"
     ]
    },
    {
     "name": "stderr",
     "output_type": "stream",
     "text": [
      " 80%|██████████████████████████████████▏        | 39/49 [00:01<00:00, 30.07it/s]"
     ]
    },
    {
     "name": "stdout",
     "output_type": "stream",
     "text": [
      "u44\n",
      "u45\n",
      "u46\n",
      "u47\n",
      "u49\n",
      "u50\n",
      "u51\n"
     ]
    },
    {
     "name": "stderr",
     "output_type": "stream",
     "text": [
      " 92%|███████████████████████████████████████▍   | 45/49 [00:01<00:00, 28.82it/s]"
     ]
    },
    {
     "name": "stdout",
     "output_type": "stream",
     "text": [
      "u52\n",
      "u53\n",
      "u54\n",
      "u56\n",
      "u57\n"
     ]
    },
    {
     "name": "stderr",
     "output_type": "stream",
     "text": [
      " 98%|██████████████████████████████████████████ | 48/49 [00:01<00:00, 28.40it/s]"
     ]
    },
    {
     "name": "stdout",
     "output_type": "stream",
     "text": [
      "u58\n",
      "u59\n"
     ]
    },
    {
     "name": "stderr",
     "output_type": "stream",
     "text": [
      "100%|███████████████████████████████████████████| 49/49 [00:01<00:00, 28.57it/s]\n"
     ]
    }
   ],
   "source": [
    "for uid in tqdm(student_uid):\n",
    "    print(uid)\n",
    "    df = calculate_bluetooth_information(uid, df_blue)\n",
    "    frames = [df_data_bluetooth, df]\n",
    "    df_data_bluetooth = pd.concat(frames, ignore_index=True)"
   ]
  },
  {
   "cell_type": "code",
   "execution_count": 30,
   "id": "65307912-6720-4d97-9fec-76cd58773227",
   "metadata": {},
   "outputs": [
    {
     "name": "stdout",
     "output_type": "stream",
     "text": [
      "2728\n"
     ]
    },
    {
     "data": {
      "text/html": [
       "<div>\n",
       "<style scoped>\n",
       "    .dataframe tbody tr th:only-of-type {\n",
       "        vertical-align: middle;\n",
       "    }\n",
       "\n",
       "    .dataframe tbody tr th {\n",
       "        vertical-align: top;\n",
       "    }\n",
       "\n",
       "    .dataframe thead th {\n",
       "        text-align: right;\n",
       "    }\n",
       "</style>\n",
       "<table border=\"1\" class=\"dataframe\">\n",
       "  <thead>\n",
       "    <tr style=\"text-align: right;\">\n",
       "      <th></th>\n",
       "      <th>uid</th>\n",
       "      <th>date</th>\n",
       "      <th>number of Bluetooth contacts morning</th>\n",
       "      <th>number of Bluetooth contacts afternoon</th>\n",
       "      <th>number of Bluetooth contacts evening</th>\n",
       "      <th>number of Bluetooth contacts night</th>\n",
       "    </tr>\n",
       "  </thead>\n",
       "  <tbody>\n",
       "    <tr>\n",
       "      <th>0</th>\n",
       "      <td>u00</td>\n",
       "      <td>2013-03-27</td>\n",
       "      <td>0</td>\n",
       "      <td>8</td>\n",
       "      <td>6</td>\n",
       "      <td>0</td>\n",
       "    </tr>\n",
       "    <tr>\n",
       "      <th>1</th>\n",
       "      <td>u00</td>\n",
       "      <td>2013-03-28</td>\n",
       "      <td>0</td>\n",
       "      <td>3</td>\n",
       "      <td>7</td>\n",
       "      <td>0</td>\n",
       "    </tr>\n",
       "    <tr>\n",
       "      <th>2</th>\n",
       "      <td>u00</td>\n",
       "      <td>2013-03-29</td>\n",
       "      <td>0</td>\n",
       "      <td>10</td>\n",
       "      <td>7</td>\n",
       "      <td>2</td>\n",
       "    </tr>\n",
       "  </tbody>\n",
       "</table>\n",
       "</div>"
      ],
      "text/plain": [
       "   uid        date  number of Bluetooth contacts morning  \\\n",
       "0  u00  2013-03-27                                     0   \n",
       "1  u00  2013-03-28                                     0   \n",
       "2  u00  2013-03-29                                     0   \n",
       "\n",
       "   number of Bluetooth contacts afternoon  \\\n",
       "0                                       8   \n",
       "1                                       3   \n",
       "2                                      10   \n",
       "\n",
       "   number of Bluetooth contacts evening  number of Bluetooth contacts night  \n",
       "0                                     6                                   0  \n",
       "1                                     7                                   0  \n",
       "2                                     7                                   2  "
      ]
     },
     "execution_count": 30,
     "metadata": {},
     "output_type": "execute_result"
    }
   ],
   "source": [
    "print(len(df_data_bluetooth))\n",
    "df_data_bluetooth.head(3)"
   ]
  },
  {
   "cell_type": "code",
   "execution_count": 31,
   "id": "b92b0036-691d-4d98-bd5d-5bbd759c1741",
   "metadata": {},
   "outputs": [],
   "source": [
    "# total time in phone conversation"
   ]
  },
  {
   "cell_type": "code",
   "execution_count": 32,
   "id": "3cb144d5-f7f4-4440-88a0-b1dbff7c9ca8",
   "metadata": {},
   "outputs": [],
   "source": [
    "df_con = mydb.conversation\n",
    "df_con = DataFrame(list(df_con.find()))\n",
    "df_con = df_con.drop(\"_id\", axis=1)\n",
    "\n",
    "df_con['conversation duration'] = (df_con['end_timestamp'] - df_con['timestamp']) / 60\n",
    "\n",
    "df_con['timestamp'] = pd.to_datetime(df_con['timestamp'], unit='s')\n",
    "df_con['date'] = df_con['timestamp'].dt.strftime('%Y-%m-%d')\n",
    "df_con['timestamp'] = df_con['timestamp'].dt.strftime('%Y-%m-%d %H:%M:%S')"
   ]
  },
  {
   "cell_type": "code",
   "execution_count": 33,
   "id": "8c2ce14d-5be4-412b-99c2-8a298d20ac04",
   "metadata": {},
   "outputs": [
    {
     "data": {
      "text/html": [
       "<div>\n",
       "<style scoped>\n",
       "    .dataframe tbody tr th:only-of-type {\n",
       "        vertical-align: middle;\n",
       "    }\n",
       "\n",
       "    .dataframe tbody tr th {\n",
       "        vertical-align: top;\n",
       "    }\n",
       "\n",
       "    .dataframe thead th {\n",
       "        text-align: right;\n",
       "    }\n",
       "</style>\n",
       "<table border=\"1\" class=\"dataframe\">\n",
       "  <thead>\n",
       "    <tr style=\"text-align: right;\">\n",
       "      <th></th>\n",
       "      <th>uid</th>\n",
       "      <th>timestamp</th>\n",
       "      <th>end_timestamp</th>\n",
       "      <th>conversation duration</th>\n",
       "      <th>date</th>\n",
       "      <th>time_interval</th>\n",
       "    </tr>\n",
       "  </thead>\n",
       "  <tbody>\n",
       "    <tr>\n",
       "      <th>0</th>\n",
       "      <td>u10</td>\n",
       "      <td>2013-03-27 04:42:41</td>\n",
       "      <td>1364359583</td>\n",
       "      <td>3.700000</td>\n",
       "      <td>2013-03-27</td>\n",
       "      <td>night</td>\n",
       "    </tr>\n",
       "    <tr>\n",
       "      <th>1</th>\n",
       "      <td>u10</td>\n",
       "      <td>2013-03-27 04:50:14</td>\n",
       "      <td>1364359894</td>\n",
       "      <td>1.333333</td>\n",
       "      <td>2013-03-27</td>\n",
       "      <td>night</td>\n",
       "    </tr>\n",
       "    <tr>\n",
       "      <th>2</th>\n",
       "      <td>u10</td>\n",
       "      <td>2013-03-27 13:32:32</td>\n",
       "      <td>1364391404</td>\n",
       "      <td>4.200000</td>\n",
       "      <td>2013-03-27</td>\n",
       "      <td>afternoon</td>\n",
       "    </tr>\n",
       "  </tbody>\n",
       "</table>\n",
       "</div>"
      ],
      "text/plain": [
       "   uid           timestamp  end_timestamp  conversation duration        date  \\\n",
       "0  u10 2013-03-27 04:42:41     1364359583               3.700000  2013-03-27   \n",
       "1  u10 2013-03-27 04:50:14     1364359894               1.333333  2013-03-27   \n",
       "2  u10 2013-03-27 13:32:32     1364391404               4.200000  2013-03-27   \n",
       "\n",
       "  time_interval  \n",
       "0         night  \n",
       "1         night  \n",
       "2     afternoon  "
      ]
     },
     "execution_count": 33,
     "metadata": {},
     "output_type": "execute_result"
    }
   ],
   "source": [
    "morning_start_time = time(6, 0, 0)     # 6:00 AM\n",
    "afternoon_start_time = time(12, 0, 0)  # 12:00 PM\n",
    "evening_start_time = time(18, 0, 0)    # 6:00 PM\n",
    "night_start_time = time(0, 0, 0)       # 12:00 AM (midnight)\n",
    "\n",
    "df_con['timestamp'] = pd.to_datetime(df_con['timestamp'])\n",
    "df_con['time'] = df_con['timestamp'].dt.time\n",
    "\n",
    "def categorize_time_interval(timestamp):\n",
    "    current_time = timestamp.time()\n",
    "    \n",
    "    if morning_start_time <= current_time < afternoon_start_time:\n",
    "        return \"morning\"\n",
    "    elif afternoon_start_time <= current_time < evening_start_time:\n",
    "        return \"afternoon\"\n",
    "    elif evening_start_time <= current_time <= time(23, 59, 59):\n",
    "        return \"evening\"\n",
    "    else:\n",
    "        return \"night\"\n",
    "\n",
    "df_con['time_interval'] = df_con['timestamp'].apply(categorize_time_interval)\n",
    "df_con = df_con.drop(\"time\", axis=1)\n",
    "df_con.head(3)"
   ]
  },
  {
   "cell_type": "code",
   "execution_count": 34,
   "id": "1e548f25-8164-468c-9247-50cb337347c1",
   "metadata": {},
   "outputs": [
    {
     "data": {
      "text/plain": [
       "uid                      0\n",
       "timestamp                0\n",
       "end_timestamp            0\n",
       "conversation duration    0\n",
       "date                     0\n",
       "time_interval            0\n",
       "dtype: int64"
      ]
     },
     "execution_count": 34,
     "metadata": {},
     "output_type": "execute_result"
    }
   ],
   "source": [
    "df_con.isnull().sum()"
   ]
  },
  {
   "cell_type": "code",
   "execution_count": 35,
   "id": "ee4fb28b-1610-4960-a117-68054853a53e",
   "metadata": {},
   "outputs": [],
   "source": [
    "def calculate_conversation_information(uid, df_con):\n",
    "    user_data = df_con[df_con['uid'] == uid]\n",
    "    \n",
    "    con_info = []\n",
    "    \n",
    "    grouped_by_date = user_data.groupby('date')\n",
    "    \n",
    "    for date, group in grouped_by_date:\n",
    "        mean_con_morning = 0\n",
    "        mean_con_afternoon = 0\n",
    "        mean_con_evening = 0\n",
    "        mean_con_night = 0\n",
    "        \n",
    "        grouped_by_time_interval = group.groupby('time_interval')\n",
    "        \n",
    "        for time_interval, time_interval_group in grouped_by_time_interval:\n",
    "            mean_con_interval = time_interval_group['conversation duration'].mean()\n",
    "            \n",
    "            if time_interval == 'morning':\n",
    "                mean_con_morning = mean_con_interval\n",
    "            elif time_interval == 'afternoon':\n",
    "                mean_con_afternoon = mean_con_interval\n",
    "            elif time_interval == 'evening':\n",
    "                mean_con_evening = mean_con_interval\n",
    "            elif time_interval == 'night':\n",
    "                mean_con_night = mean_con_interval\n",
    "        \n",
    "        con_info.append([uid, date, mean_con_morning, mean_con_afternoon, mean_con_evening, mean_con_night])\n",
    "    \n",
    "    columns = ['uid', 'date', 'conversation in morning', 'conversation in afternoon', 'conversation in evening', 'conversation in night']\n",
    "    result_df = pd.DataFrame(con_info, columns=columns)\n",
    "    \n",
    "    return result_df"
   ]
  },
  {
   "cell_type": "code",
   "execution_count": 36,
   "id": "c3043713-4fe6-4234-883f-a8cfaf3b8ed1",
   "metadata": {},
   "outputs": [
    {
     "name": "stdout",
     "output_type": "stream",
     "text": [
      "79023\n"
     ]
    }
   ],
   "source": [
    "print(len(df_con))\n",
    "df_data_conversation = DataFrame()"
   ]
  },
  {
   "cell_type": "code",
   "execution_count": 37,
   "id": "fbbb22de-7281-4a24-bdd0-85ff9c989730",
   "metadata": {},
   "outputs": [
    {
     "name": "stderr",
     "output_type": "stream",
     "text": [
      " 10%|████▍                                       | 5/49 [00:00<00:00, 47.02it/s]"
     ]
    },
    {
     "name": "stdout",
     "output_type": "stream",
     "text": [
      "u00\n",
      "u01\n",
      "u02\n",
      "u03\n",
      "u04\n",
      "u05\n",
      "u07\n",
      "u08\n",
      "u09\n",
      "u10\n",
      "u12\n"
     ]
    },
    {
     "name": "stderr",
     "output_type": "stream",
     "text": [
      " 35%|██████████████▉                            | 17/49 [00:00<00:00, 51.98it/s]"
     ]
    },
    {
     "name": "stdout",
     "output_type": "stream",
     "text": [
      "u13\n",
      "u14\n",
      "u15\n",
      "u16\n",
      "u17\n",
      "u18\n",
      "u19\n",
      "u20\n",
      "u22\n",
      "u23\n",
      "u24\n",
      "u25\n",
      "u27\n"
     ]
    },
    {
     "name": "stderr",
     "output_type": "stream",
     "text": [
      " 61%|██████████████████████████▎                | 30/49 [00:00<00:00, 56.23it/s]"
     ]
    },
    {
     "name": "stdout",
     "output_type": "stream",
     "text": [
      "u30\n",
      "u31\n",
      "u32\n",
      "u33\n",
      "u34\n",
      "u35\n",
      "u36\n",
      "u39\n",
      "u41\n",
      "u42\n",
      "u43\n",
      "u44\n",
      "u45\n"
     ]
    },
    {
     "name": "stderr",
     "output_type": "stream",
     "text": [
      " 88%|█████████████████████████████████████▋     | 43/49 [00:00<00:00, 58.16it/s]"
     ]
    },
    {
     "name": "stdout",
     "output_type": "stream",
     "text": [
      "u46\n",
      "u47\n",
      "u49\n",
      "u50\n",
      "u51\n",
      "u52\n",
      "u53\n",
      "u54\n",
      "u56\n",
      "u57\n",
      "u58\n",
      "u59\n"
     ]
    },
    {
     "name": "stderr",
     "output_type": "stream",
     "text": [
      "100%|███████████████████████████████████████████| 49/49 [00:00<00:00, 55.80it/s]\n"
     ]
    }
   ],
   "source": [
    "for uid in tqdm(student_uid):\n",
    "    print(uid)\n",
    "    df = calculate_conversation_information(uid, df_con)\n",
    "    frames = [df_data_conversation, df]\n",
    "    df_data_conversation = pd.concat(frames, ignore_index=True)"
   ]
  },
  {
   "cell_type": "code",
   "execution_count": 38,
   "id": "0603821f-f074-491f-a575-d0e2c554929a",
   "metadata": {},
   "outputs": [],
   "source": [
    "# app_usage"
   ]
  },
  {
   "cell_type": "code",
   "execution_count": 39,
   "id": "ffcd6850-8417-41dd-acbb-7e12882ac761",
   "metadata": {},
   "outputs": [
    {
     "name": "stdout",
     "output_type": "stream",
     "text": [
      "3083\n"
     ]
    }
   ],
   "source": [
    "df_data_app = pd.read_csv('recreaing_social_appusage_features.csv')\n",
    "print(len(df_data_app))"
   ]
  },
  {
   "cell_type": "code",
   "execution_count": 40,
   "id": "a9526a76-dd27-4359-b719-d6a064516fbb",
   "metadata": {},
   "outputs": [
    {
     "name": "stdout",
     "output_type": "stream",
     "text": [
      "3083\n",
      "974\n",
      "1331\n",
      "2728\n",
      "2732\n"
     ]
    }
   ],
   "source": [
    "print(len(df_data_app))\n",
    "print(len(df_data_sms))\n",
    "print(len(df_data_call))\n",
    "print(len(df_data_bluetooth))\n",
    "print(len(df_data_conversation))"
   ]
  },
  {
   "cell_type": "code",
   "execution_count": 41,
   "id": "77f29db5-2b4b-4f99-a498-3bef33f96355",
   "metadata": {},
   "outputs": [],
   "source": [
    "# merged_df = pd.merge(df_data_app, df_data_sms, on=['uid', 'date'], how='inner')\n",
    "\n",
    "# merged_df = pd.merge(merged_df, df_data_call, on=['uid', 'date'], how='inner')\n",
    "\n",
    "merged_df = pd.merge(df_data_app, df_data_call, on=['uid', 'date'], how='inner')\n",
    "\n",
    "merged_df = pd.merge(merged_df, df_data_bluetooth, on=['uid', 'date'], how='inner')\n",
    "\n",
    "df = pd.merge(merged_df, df_data_conversation, on=['uid', 'date'], how='inner')"
   ]
  },
  {
   "cell_type": "code",
   "execution_count": 42,
   "id": "b37213ce-a48c-4c37-87b9-1f56eb596332",
   "metadata": {},
   "outputs": [
    {
     "name": "stdout",
     "output_type": "stream",
     "text": [
      "['u00' 'u02' 'u08' 'u12' 'u13' 'u24' 'u31' 'u36' 'u46' 'u47' 'u49' 'u50'\n",
      " 'u51' 'u52' 'u53' 'u54' 'u56' 'u57' 'u58' 'u59']\n"
     ]
    },
    {
     "data": {
      "text/plain": [
       "1119"
      ]
     },
     "execution_count": 42,
     "metadata": {},
     "output_type": "execute_result"
    }
   ],
   "source": [
    "print(df['uid'].unique())\n",
    "len(df)"
   ]
  },
  {
   "cell_type": "code",
   "execution_count": 43,
   "id": "74ffdcde-0734-4287-b9fc-1e0926771586",
   "metadata": {},
   "outputs": [],
   "source": [
    "df.to_csv('recreating_social_features_studentlife.csv')"
   ]
  }
 ],
 "metadata": {
  "kernelspec": {
   "display_name": "Python 3 (ipykernel)",
   "language": "python",
   "name": "python3"
  },
  "language_info": {
   "codemirror_mode": {
    "name": "ipython",
    "version": 3
   },
   "file_extension": ".py",
   "mimetype": "text/x-python",
   "name": "python",
   "nbconvert_exporter": "python",
   "pygments_lexer": "ipython3",
   "version": "3.10.8"
  }
 },
 "nbformat": 4,
 "nbformat_minor": 5
}
